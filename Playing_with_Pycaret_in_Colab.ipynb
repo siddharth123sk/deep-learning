{
  "nbformat": 4,
  "nbformat_minor": 0,
  "metadata": {
    "colab": {
      "name": "Playing with Pycaret in Colab",
      "provenance": [],
      "collapsed_sections": [],
      "authorship_tag": "ABX9TyOz7vxxkoUesqQ42ZfuzVsI",
      "include_colab_link": true
    },
    "kernelspec": {
      "name": "python3",
      "display_name": "Python 3"
    },
    "widgets": {
      "application/vnd.jupyter.widget-state+json": {
        "ea61b2af32f14188880c15d47b5ab504": {
          "model_module": "@jupyter-widgets/controls",
          "model_name": "IntProgressModel",
          "state": {
            "_view_name": "ProgressView",
            "style": "IPY_MODEL_cc46e0e19ed64fadbbd9a656be917fe4",
            "_dom_classes": [],
            "description": "Processing: ",
            "_model_name": "IntProgressModel",
            "bar_style": "",
            "max": 25,
            "_view_module": "@jupyter-widgets/controls",
            "_model_module_version": "1.5.0",
            "value": 24,
            "_view_count": null,
            "_view_module_version": "1.5.0",
            "orientation": "horizontal",
            "min": 0,
            "description_tooltip": null,
            "_model_module": "@jupyter-widgets/controls",
            "layout": "IPY_MODEL_ebdab7a1c2a6449a9cdb57fb11e76284"
          }
        },
        "cc46e0e19ed64fadbbd9a656be917fe4": {
          "model_module": "@jupyter-widgets/controls",
          "model_name": "ProgressStyleModel",
          "state": {
            "_view_name": "StyleView",
            "_model_name": "ProgressStyleModel",
            "description_width": "",
            "_view_module": "@jupyter-widgets/base",
            "_model_module_version": "1.5.0",
            "_view_count": null,
            "_view_module_version": "1.2.0",
            "bar_color": null,
            "_model_module": "@jupyter-widgets/controls"
          }
        },
        "ebdab7a1c2a6449a9cdb57fb11e76284": {
          "model_module": "@jupyter-widgets/base",
          "model_name": "LayoutModel",
          "state": {
            "_view_name": "LayoutView",
            "grid_template_rows": null,
            "right": null,
            "justify_content": null,
            "_view_module": "@jupyter-widgets/base",
            "overflow": null,
            "_model_module_version": "1.2.0",
            "_view_count": null,
            "flex_flow": null,
            "width": null,
            "min_width": null,
            "border": null,
            "align_items": null,
            "bottom": null,
            "_model_module": "@jupyter-widgets/base",
            "top": null,
            "grid_column": null,
            "overflow_y": null,
            "overflow_x": null,
            "grid_auto_flow": null,
            "grid_area": null,
            "grid_template_columns": null,
            "flex": null,
            "_model_name": "LayoutModel",
            "justify_items": null,
            "grid_row": null,
            "max_height": null,
            "align_content": null,
            "visibility": null,
            "align_self": null,
            "height": null,
            "min_height": null,
            "padding": null,
            "grid_auto_rows": null,
            "grid_gap": null,
            "max_width": null,
            "order": null,
            "_view_module_version": "1.2.0",
            "grid_template_areas": null,
            "object_position": null,
            "object_fit": null,
            "grid_auto_columns": null,
            "margin": null,
            "display": null,
            "left": null
          }
        },
        "4fc868c120894b5c90bea1f680770a7a": {
          "model_module": "@jupyter-widgets/output",
          "model_name": "OutputModel",
          "state": {
            "_view_name": "OutputView",
            "msg_id": "",
            "_dom_classes": [],
            "_model_name": "OutputModel",
            "outputs": [],
            "_view_module": "@jupyter-widgets/output",
            "_model_module_version": "1.0.0",
            "_view_count": null,
            "_view_module_version": "1.0.0",
            "layout": "IPY_MODEL_138587082206471680eb6d8d34926aa7",
            "_model_module": "@jupyter-widgets/output"
          }
        },
        "138587082206471680eb6d8d34926aa7": {
          "model_module": "@jupyter-widgets/base",
          "model_name": "LayoutModel",
          "state": {
            "_view_name": "LayoutView",
            "grid_template_rows": null,
            "right": null,
            "justify_content": null,
            "_view_module": "@jupyter-widgets/base",
            "overflow": null,
            "_model_module_version": "1.2.0",
            "_view_count": null,
            "flex_flow": null,
            "width": null,
            "min_width": null,
            "border": null,
            "align_items": null,
            "bottom": null,
            "_model_module": "@jupyter-widgets/base",
            "top": null,
            "grid_column": null,
            "overflow_y": null,
            "overflow_x": null,
            "grid_auto_flow": null,
            "grid_area": null,
            "grid_template_columns": null,
            "flex": null,
            "_model_name": "LayoutModel",
            "justify_items": null,
            "grid_row": null,
            "max_height": null,
            "align_content": null,
            "visibility": null,
            "align_self": null,
            "height": null,
            "min_height": null,
            "padding": null,
            "grid_auto_rows": null,
            "grid_gap": null,
            "max_width": null,
            "order": null,
            "_view_module_version": "1.2.0",
            "grid_template_areas": null,
            "object_position": null,
            "object_fit": null,
            "grid_auto_columns": null,
            "margin": null,
            "display": null,
            "left": null
          }
        }
      }
    }
  },
  "cells": [
    {
      "cell_type": "markdown",
      "metadata": {
        "id": "view-in-github",
        "colab_type": "text"
      },
      "source": [
        "<a href=\"https://colab.research.google.com/github/siddharth123sk/deep-learning/blob/master/Playing_with_Pycaret_in_Colab.ipynb\" target=\"_parent\"><img src=\"https://colab.research.google.com/assets/colab-badge.svg\" alt=\"Open In Colab\"/></a>"
      ]
    },
    {
      "cell_type": "markdown",
      "metadata": {
        "id": "9d4miEXbDwAU",
        "colab_type": "text"
      },
      "source": [
        "Playing with Pycaret in *Colab*"
      ]
    },
    {
      "cell_type": "code",
      "metadata": {
        "id": "rqza7zsbD5vp",
        "colab_type": "code",
        "outputId": "7cefe066-5f4a-4215-a1ee-8fc93d0357e6",
        "colab": {
          "base_uri": "https://localhost:8080/",
          "height": 318
        }
      },
      "source": [
        "from pycaret.datasets import get_data\n",
        "data = get_data('juice')"
      ],
      "execution_count": 0,
      "outputs": [
        {
          "output_type": "error",
          "ename": "ModuleNotFoundError",
          "evalue": "ignored",
          "traceback": [
            "\u001b[0;31m---------------------------------------------------------------------------\u001b[0m",
            "\u001b[0;31mModuleNotFoundError\u001b[0m                       Traceback (most recent call last)",
            "\u001b[0;32m<ipython-input-2-6be9563e8dfa>\u001b[0m in \u001b[0;36m<module>\u001b[0;34m()\u001b[0m\n\u001b[0;32m----> 1\u001b[0;31m \u001b[0;32mfrom\u001b[0m \u001b[0mpycaret\u001b[0m\u001b[0;34m.\u001b[0m\u001b[0mdatasets\u001b[0m \u001b[0;32mimport\u001b[0m \u001b[0mget_data\u001b[0m\u001b[0;34m\u001b[0m\u001b[0;34m\u001b[0m\u001b[0m\n\u001b[0m\u001b[1;32m      2\u001b[0m \u001b[0mdata\u001b[0m \u001b[0;34m=\u001b[0m \u001b[0mget_data\u001b[0m\u001b[0;34m(\u001b[0m\u001b[0;34m'juice'\u001b[0m\u001b[0;34m)\u001b[0m\u001b[0;34m\u001b[0m\u001b[0;34m\u001b[0m\u001b[0m\n",
            "\u001b[0;31mModuleNotFoundError\u001b[0m: No module named 'pycaret'",
            "",
            "\u001b[0;31m---------------------------------------------------------------------------\u001b[0;32m\nNOTE: If your import is failing due to a missing package, you can\nmanually install dependencies using either !pip or !apt.\n\nTo view examples of installing some common dependencies, click the\n\"Open Examples\" button below.\n\u001b[0;31m---------------------------------------------------------------------------\u001b[0m\n"
          ]
        }
      ]
    },
    {
      "cell_type": "code",
      "metadata": {
        "id": "93hYBz7ED_Z4",
        "colab_type": "code",
        "outputId": "dec5d2c6-1ed4-4afc-c206-2d33a50719ae",
        "colab": {
          "base_uri": "https://localhost:8080/",
          "height": 1000
        }
      },
      "source": [
        "! pip install pycaret"
      ],
      "execution_count": 0,
      "outputs": [
        {
          "output_type": "stream",
          "text": [
            "Collecting pycaret\n",
            "\u001b[?25l  Downloading https://files.pythonhosted.org/packages/c7/41/f7fa05b6ce3cb3096a35fb5ac6dc0f2bb23e8304f068618fb2501be0a562/pycaret-1.0.0-py3-none-any.whl (188kB)\n",
            "\u001b[K     |████████████████████████████████| 194kB 2.9MB/s \n",
            "\u001b[?25hRequirement already satisfied: matplotlib in /usr/local/lib/python3.6/dist-packages (from pycaret) (3.2.1)\n",
            "Requirement already satisfied: textblob in /usr/local/lib/python3.6/dist-packages (from pycaret) (0.15.3)\n",
            "Requirement already satisfied: wordcloud in /usr/local/lib/python3.6/dist-packages (from pycaret) (1.5.0)\n",
            "Requirement already satisfied: gensim in /usr/local/lib/python3.6/dist-packages (from pycaret) (3.6.0)\n",
            "Collecting pyod\n",
            "\u001b[?25l  Downloading https://files.pythonhosted.org/packages/7e/7d/0f00ff0e939317bdf00446e517d4ce161de06824f7e0e47544ecf6019516/pyod-0.7.8.2.tar.gz (92kB)\n",
            "\u001b[K     |████████████████████████████████| 102kB 12.6MB/s \n",
            "\u001b[?25hCollecting kmodes==0.10.1\n",
            "  Downloading https://files.pythonhosted.org/packages/79/c0/f7d8a0eb41ac6f302b4bc100f91b6e0f2558425ccfefaa0ec0430f77ee97/kmodes-0.10.1-py2.py3-none-any.whl\n",
            "Requirement already satisfied: numpy in /usr/local/lib/python3.6/dist-packages (from pycaret) (1.18.2)\n",
            "Collecting pyLDAvis\n",
            "\u001b[?25l  Downloading https://files.pythonhosted.org/packages/a5/3a/af82e070a8a96e13217c8f362f9a73e82d61ac8fff3a2561946a97f96266/pyLDAvis-2.1.2.tar.gz (1.6MB)\n",
            "\u001b[K     |████████████████████████████████| 1.6MB 50.4MB/s \n",
            "\u001b[?25hRequirement already satisfied: pandas in /usr/local/lib/python3.6/dist-packages (from pycaret) (1.0.3)\n",
            "Requirement already satisfied: ipywidgets in /usr/local/lib/python3.6/dist-packages (from pycaret) (7.5.1)\n",
            "Requirement already satisfied: spacy in /usr/local/lib/python3.6/dist-packages (from pycaret) (2.2.4)\n",
            "Requirement already satisfied: joblib in /usr/local/lib/python3.6/dist-packages (from pycaret) (0.14.1)\n",
            "Collecting awscli\n",
            "\u001b[?25l  Downloading https://files.pythonhosted.org/packages/21/0d/8ad4ea046fc16719f49243bbd1058f0528e26d0037ac69626e1a181ec52a/awscli-1.18.39-py2.py3-none-any.whl (3.0MB)\n",
            "\u001b[K     |████████████████████████████████| 3.0MB 40.2MB/s \n",
            "\u001b[?25hRequirement already satisfied: seaborn in /usr/local/lib/python3.6/dist-packages (from pycaret) (0.10.0)\n",
            "Requirement already satisfied: xgboost==0.90 in /usr/local/lib/python3.6/dist-packages (from pycaret) (0.90)\n",
            "Collecting DateTime==4.3\n",
            "\u001b[?25l  Downloading https://files.pythonhosted.org/packages/73/22/a5297f3a1f92468cc737f8ce7ba6e5f245fcfafeae810ba37bd1039ea01c/DateTime-4.3-py2.py3-none-any.whl (60kB)\n",
            "\u001b[K     |████████████████████████████████| 61kB 8.0MB/s \n",
            "\u001b[?25hCollecting shap==0.32.1\n",
            "\u001b[?25l  Downloading https://files.pythonhosted.org/packages/57/43/08f152a59a1d60f0328b476bdd58c791498989981ab9c6d595ec5448a86a/shap-0.32.1.tar.gz (259kB)\n",
            "\u001b[K     |████████████████████████████████| 266kB 51.9MB/s \n",
            "\u001b[?25hCollecting lightgbm==2.3.1\n",
            "\u001b[?25l  Downloading https://files.pythonhosted.org/packages/0b/9d/ddcb2f43aca194987f1a99e27edf41cf9bc39ea750c3371c2a62698c509a/lightgbm-2.3.1-py2.py3-none-manylinux1_x86_64.whl (1.2MB)\n",
            "\u001b[K     |████████████████████████████████| 1.2MB 41.7MB/s \n",
            "\u001b[?25hCollecting scikit-learn==0.22\n",
            "\u001b[?25l  Downloading https://files.pythonhosted.org/packages/2e/d0/860c4f6a7027e00acff373d9f5327f4ae3ed5872234b3cbdd7bcb52e5eff/scikit_learn-0.22-cp36-cp36m-manylinux1_x86_64.whl (7.0MB)\n",
            "\u001b[K     |████████████████████████████████| 7.0MB 41.3MB/s \n",
            "\u001b[?25hCollecting datefinder==0.7.0\n",
            "  Downloading https://files.pythonhosted.org/packages/16/2b/af8efaee30c0ba4238cb4d0645a07100d33d11d20a8783c443ed8b813eb9/datefinder-0.7.0-py2.py3-none-any.whl\n",
            "Requirement already satisfied: umap-learn in /usr/local/lib/python3.6/dist-packages (from pycaret) (0.4.0)\n",
            "Collecting yellowbrick==1.0.1\n",
            "\u001b[?25l  Downloading https://files.pythonhosted.org/packages/d1/cf/6d6ab47c0759d246262f9bdb53e89be3814bf1774bc51fffff995f5859f9/yellowbrick-1.0.1-py3-none-any.whl (378kB)\n",
            "\u001b[K     |████████████████████████████████| 389kB 50.4MB/s \n",
            "\u001b[?25hRequirement already satisfied: IPython in /usr/local/lib/python3.6/dist-packages (from pycaret) (5.5.0)\n",
            "Requirement already satisfied: mlxtend in /usr/local/lib/python3.6/dist-packages (from pycaret) (0.14.0)\n",
            "Requirement already satisfied: plotly==4.4.1 in /usr/local/lib/python3.6/dist-packages (from pycaret) (4.4.1)\n",
            "Collecting cufflinks==0.17.0\n",
            "\u001b[?25l  Downloading https://files.pythonhosted.org/packages/e3/79/1b8673b2723e02919307d558896dbcedcb46807c4e29acd25cfe43a36c8b/cufflinks-0.17.0.tar.gz (81kB)\n",
            "\u001b[K     |████████████████████████████████| 81kB 9.7MB/s \n",
            "\u001b[?25hCollecting catboost==0.20.2\n",
            "\u001b[?25l  Downloading https://files.pythonhosted.org/packages/97/c4/586923de4634f88a31fd1b4966e15707a912b98b6f4566651b5ef58f36b5/catboost-0.20.2-cp36-none-manylinux1_x86_64.whl (63.9MB)\n",
            "\u001b[K     |████████████████████████████████| 63.9MB 58kB/s \n",
            "\u001b[?25hRequirement already satisfied: nltk in /usr/local/lib/python3.6/dist-packages (from pycaret) (3.2.5)\n",
            "\u001b[33mWARNING: Retrying (Retry(total=4, connect=None, read=None, redirect=None, status=None)) after connection broken by 'ProtocolError('Connection aborted.', ConnectionResetError(104, 'Connection reset by peer'))': /simple/pandas-profiling/\u001b[0m\n",
            "Collecting pandas-profiling==2.3.0\n",
            "\u001b[?25l  Downloading https://files.pythonhosted.org/packages/2c/2f/aae19e2173c10a9bb7fee5f5cad35dbe53a393960fc91abc477dcc4661e8/pandas-profiling-2.3.0.tar.gz (127kB)\n",
            "\u001b[K     |████████████████████████████████| 133kB 51.0MB/s \n",
            "\u001b[?25hRequirement already satisfied: cycler>=0.10 in /usr/local/lib/python3.6/dist-packages (from matplotlib->pycaret) (0.10.0)\n",
            "Requirement already satisfied: kiwisolver>=1.0.1 in /usr/local/lib/python3.6/dist-packages (from matplotlib->pycaret) (1.2.0)\n",
            "Requirement already satisfied: python-dateutil>=2.1 in /usr/local/lib/python3.6/dist-packages (from matplotlib->pycaret) (2.8.1)\n",
            "Requirement already satisfied: pyparsing!=2.0.4,!=2.1.2,!=2.1.6,>=2.0.1 in /usr/local/lib/python3.6/dist-packages (from matplotlib->pycaret) (2.4.7)\n",
            "Requirement already satisfied: pillow in /usr/local/lib/python3.6/dist-packages (from wordcloud->pycaret) (7.0.0)\n",
            "Requirement already satisfied: smart-open>=1.2.1 in /usr/local/lib/python3.6/dist-packages (from gensim->pycaret) (1.10.0)\n",
            "Requirement already satisfied: six>=1.5.0 in /usr/local/lib/python3.6/dist-packages (from gensim->pycaret) (1.12.0)\n",
            "Requirement already satisfied: scipy>=0.18.1 in /usr/local/lib/python3.6/dist-packages (from gensim->pycaret) (1.4.1)\n",
            "Collecting combo\n",
            "  Downloading https://files.pythonhosted.org/packages/78/52/e880bd923eba122515307d29ab43c1c356bad60610c27bed2cdec25d0240/combo-0.1.0.tar.gz\n",
            "Requirement already satisfied: numba>=0.35 in /usr/local/lib/python3.6/dist-packages (from pyod->pycaret) (0.48.0)\n",
            "Collecting suod\n",
            "\u001b[?25l  Downloading https://files.pythonhosted.org/packages/8b/b9/aeaa3371f71fc039da982979ea6d6ffd9e356926c9fc630f42a5dc9d494e/suod-0.0.3.tar.gz (2.1MB)\n",
            "\u001b[K     |████████████████████████████████| 2.1MB 37.4MB/s \n",
            "\u001b[?25hRequirement already satisfied: wheel>=0.23.0 in /usr/local/lib/python3.6/dist-packages (from pyLDAvis->pycaret) (0.34.2)\n",
            "Requirement already satisfied: jinja2>=2.7.2 in /usr/local/lib/python3.6/dist-packages (from pyLDAvis->pycaret) (2.11.1)\n",
            "Requirement already satisfied: numexpr in /usr/local/lib/python3.6/dist-packages (from pyLDAvis->pycaret) (2.7.1)\n",
            "Requirement already satisfied: pytest in /usr/local/lib/python3.6/dist-packages (from pyLDAvis->pycaret) (3.6.4)\n",
            "Requirement already satisfied: future in /usr/local/lib/python3.6/dist-packages (from pyLDAvis->pycaret) (0.16.0)\n",
            "Collecting funcy\n",
            "\u001b[?25l  Downloading https://files.pythonhosted.org/packages/ce/4b/6ffa76544e46614123de31574ad95758c421aae391a1764921b8a81e1eae/funcy-1.14.tar.gz (548kB)\n",
            "\u001b[K     |████████████████████████████████| 552kB 41.6MB/s \n",
            "\u001b[?25hRequirement already satisfied: pytz>=2017.2 in /usr/local/lib/python3.6/dist-packages (from pandas->pycaret) (2018.9)\n",
            "Requirement already satisfied: traitlets>=4.3.1 in /usr/local/lib/python3.6/dist-packages (from ipywidgets->pycaret) (4.3.3)\n",
            "Requirement already satisfied: ipykernel>=4.5.1 in /usr/local/lib/python3.6/dist-packages (from ipywidgets->pycaret) (4.10.1)\n",
            "Requirement already satisfied: nbformat>=4.2.0 in /usr/local/lib/python3.6/dist-packages (from ipywidgets->pycaret) (5.0.5)\n",
            "Requirement already satisfied: widgetsnbextension~=3.5.0 in /usr/local/lib/python3.6/dist-packages (from ipywidgets->pycaret) (3.5.1)\n",
            "Requirement already satisfied: murmurhash<1.1.0,>=0.28.0 in /usr/local/lib/python3.6/dist-packages (from spacy->pycaret) (1.0.2)\n",
            "Requirement already satisfied: preshed<3.1.0,>=3.0.2 in /usr/local/lib/python3.6/dist-packages (from spacy->pycaret) (3.0.2)\n",
            "Requirement already satisfied: cymem<2.1.0,>=2.0.2 in /usr/local/lib/python3.6/dist-packages (from spacy->pycaret) (2.0.3)\n",
            "Requirement already satisfied: catalogue<1.1.0,>=0.0.7 in /usr/local/lib/python3.6/dist-packages (from spacy->pycaret) (1.0.0)\n",
            "Requirement already satisfied: blis<0.5.0,>=0.4.0 in /usr/local/lib/python3.6/dist-packages (from spacy->pycaret) (0.4.1)\n",
            "Requirement already satisfied: srsly<1.1.0,>=1.0.2 in /usr/local/lib/python3.6/dist-packages (from spacy->pycaret) (1.0.2)\n",
            "Requirement already satisfied: plac<1.2.0,>=0.9.6 in /usr/local/lib/python3.6/dist-packages (from spacy->pycaret) (1.1.3)\n",
            "Requirement already satisfied: wasabi<1.1.0,>=0.4.0 in /usr/local/lib/python3.6/dist-packages (from spacy->pycaret) (0.6.0)\n",
            "Requirement already satisfied: requests<3.0.0,>=2.13.0 in /usr/local/lib/python3.6/dist-packages (from spacy->pycaret) (2.21.0)\n",
            "Requirement already satisfied: tqdm<5.0.0,>=4.38.0 in /usr/local/lib/python3.6/dist-packages (from spacy->pycaret) (4.38.0)\n",
            "Requirement already satisfied: setuptools in /usr/local/lib/python3.6/dist-packages (from spacy->pycaret) (46.1.3)\n",
            "Requirement already satisfied: thinc==7.4.0 in /usr/local/lib/python3.6/dist-packages (from spacy->pycaret) (7.4.0)\n",
            "Collecting rsa<=3.5.0,>=3.1.2\n",
            "\u001b[?25l  Downloading https://files.pythonhosted.org/packages/e1/ae/baedc9cb175552e95f3395c43055a6a5e125ae4d48a1d7a924baca83e92e/rsa-3.4.2-py2.py3-none-any.whl (46kB)\n",
            "\u001b[K     |████████████████████████████████| 51kB 7.7MB/s \n",
            "\u001b[?25hCollecting botocore==1.15.39\n",
            "\u001b[?25l  Downloading https://files.pythonhosted.org/packages/dc/fb/f78a0e09965c156fea9160713705af688ec4f18af4249b3095949c930f77/botocore-1.15.39-py2.py3-none-any.whl (6.1MB)\n",
            "\u001b[K     |████████████████████████████████| 6.1MB 37.7MB/s \n",
            "\u001b[?25hRequirement already satisfied: s3transfer<0.4.0,>=0.3.0 in /usr/local/lib/python3.6/dist-packages (from awscli->pycaret) (0.3.3)\n",
            "Requirement already satisfied: PyYAML<5.4,>=3.10; python_version != \"3.4\" in /usr/local/lib/python3.6/dist-packages (from awscli->pycaret) (3.13)\n",
            "Collecting colorama<0.4.4,>=0.2.5; python_version != \"3.4\"\n",
            "  Downloading https://files.pythonhosted.org/packages/c9/dc/45cdef1b4d119eb96316b3117e6d5708a08029992b2fee2c143c7a0a5cc5/colorama-0.4.3-py2.py3-none-any.whl\n",
            "Requirement already satisfied: docutils<0.16,>=0.10 in /usr/local/lib/python3.6/dist-packages (from awscli->pycaret) (0.15.2)\n",
            "Collecting zope.interface\n",
            "\u001b[?25l  Downloading https://files.pythonhosted.org/packages/57/33/565274c28a11af60b7cfc0519d46bde4125fcd7d32ebc0a81b480d0e8da6/zope.interface-5.1.0-cp36-cp36m-manylinux2010_x86_64.whl (234kB)\n",
            "\u001b[K     |████████████████████████████████| 235kB 53.1MB/s \n",
            "\u001b[?25hRequirement already satisfied: regex>=2017.02.08 in /usr/local/lib/python3.6/dist-packages (from datefinder==0.7.0->pycaret) (2019.12.20)\n",
            "Requirement already satisfied: tbb>=2019.0 in /usr/local/lib/python3.6/dist-packages (from umap-learn->pycaret) (2020.0.133)\n",
            "Requirement already satisfied: pygments in /usr/local/lib/python3.6/dist-packages (from IPython->pycaret) (2.1.3)\n",
            "Requirement already satisfied: decorator in /usr/local/lib/python3.6/dist-packages (from IPython->pycaret) (4.4.2)\n",
            "Requirement already satisfied: pexpect; sys_platform != \"win32\" in /usr/local/lib/python3.6/dist-packages (from IPython->pycaret) (4.8.0)\n",
            "Requirement already satisfied: simplegeneric>0.8 in /usr/local/lib/python3.6/dist-packages (from IPython->pycaret) (0.8.1)\n",
            "Requirement already satisfied: pickleshare in /usr/local/lib/python3.6/dist-packages (from IPython->pycaret) (0.7.5)\n",
            "Requirement already satisfied: prompt-toolkit<2.0.0,>=1.0.4 in /usr/local/lib/python3.6/dist-packages (from IPython->pycaret) (1.0.18)\n",
            "Requirement already satisfied: retrying>=1.3.3 in /usr/local/lib/python3.6/dist-packages (from plotly==4.4.1->pycaret) (1.3.3)\n",
            "Collecting chart-studio>=1.0.0\n",
            "\u001b[?25l  Downloading https://files.pythonhosted.org/packages/ca/ce/330794a6b6ca4b9182c38fc69dd2a9cbff60fd49421cb8648ee5fee352dc/chart_studio-1.1.0-py3-none-any.whl (64kB)\n",
            "\u001b[K     |████████████████████████████████| 71kB 9.4MB/s \n",
            "\u001b[?25hRequirement already satisfied: colorlover>=0.2.1 in /usr/local/lib/python3.6/dist-packages (from cufflinks==0.17.0->pycaret) (0.3.0)\n",
            "Requirement already satisfied: graphviz in /usr/local/lib/python3.6/dist-packages (from catboost==0.20.2->pycaret) (0.10.1)\n",
            "Requirement already satisfied: missingno>=0.4.2 in /usr/local/lib/python3.6/dist-packages (from pandas-profiling==2.3.0->pycaret) (0.4.2)\n",
            "Collecting htmlmin>=0.1.12\n",
            "  Downloading https://files.pythonhosted.org/packages/b3/e7/fcd59e12169de19f0131ff2812077f964c6b960e7c09804d30a7bf2ab461/htmlmin-0.1.12.tar.gz\n",
            "Collecting phik>=0.9.8\n",
            "\u001b[?25l  Downloading https://files.pythonhosted.org/packages/5f/f3/b764d2ae5dfc8c623125346cbc26db3523c50351b2e1817d603c84df0518/phik-0.9.10-py3-none-any.whl (607kB)\n",
            "\u001b[K     |████████████████████████████████| 614kB 47.6MB/s \n",
            "\u001b[?25hCollecting confuse>=1.0.0\n",
            "  Downloading https://files.pythonhosted.org/packages/f7/64/85dbcea372efee5cba13eaa10a3bfa7019b8fe0c3c8314d8e189116e477a/confuse-1.1.0.tar.gz\n",
            "Requirement already satisfied: astropy in /usr/local/lib/python3.6/dist-packages (from pandas-profiling==2.3.0->pycaret) (4.0.1.post1)\n",
            "Requirement already satisfied: google-cloud-storage in /usr/local/lib/python3.6/dist-packages (from smart-open>=1.2.1->gensim->pycaret) (1.18.1)\n",
            "Requirement already satisfied: boto3 in /usr/local/lib/python3.6/dist-packages (from smart-open>=1.2.1->gensim->pycaret) (1.12.38)\n",
            "Requirement already satisfied: llvmlite<0.32.0,>=0.31.0dev0 in /usr/local/lib/python3.6/dist-packages (from numba>=0.35->pyod->pycaret) (0.31.0)\n",
            "Requirement already satisfied: MarkupSafe>=0.23 in /usr/local/lib/python3.6/dist-packages (from jinja2>=2.7.2->pyLDAvis->pycaret) (1.1.1)\n",
            "Requirement already satisfied: attrs>=17.4.0 in /usr/local/lib/python3.6/dist-packages (from pytest->pyLDAvis->pycaret) (19.3.0)\n",
            "Requirement already satisfied: more-itertools>=4.0.0 in /usr/local/lib/python3.6/dist-packages (from pytest->pyLDAvis->pycaret) (8.2.0)\n",
            "Requirement already satisfied: atomicwrites>=1.0 in /usr/local/lib/python3.6/dist-packages (from pytest->pyLDAvis->pycaret) (1.3.0)\n",
            "Requirement already satisfied: py>=1.5.0 in /usr/local/lib/python3.6/dist-packages (from pytest->pyLDAvis->pycaret) (1.8.1)\n",
            "Requirement already satisfied: pluggy<0.8,>=0.5 in /usr/local/lib/python3.6/dist-packages (from pytest->pyLDAvis->pycaret) (0.7.1)\n",
            "Requirement already satisfied: ipython-genutils in /usr/local/lib/python3.6/dist-packages (from traitlets>=4.3.1->ipywidgets->pycaret) (0.2.0)\n",
            "Requirement already satisfied: tornado>=4.0 in /usr/local/lib/python3.6/dist-packages (from ipykernel>=4.5.1->ipywidgets->pycaret) (4.5.3)\n",
            "Requirement already satisfied: jupyter-client in /usr/local/lib/python3.6/dist-packages (from ipykernel>=4.5.1->ipywidgets->pycaret) (5.3.4)\n",
            "Requirement already satisfied: jupyter-core in /usr/local/lib/python3.6/dist-packages (from nbformat>=4.2.0->ipywidgets->pycaret) (4.6.3)\n",
            "Requirement already satisfied: jsonschema!=2.5.0,>=2.4 in /usr/local/lib/python3.6/dist-packages (from nbformat>=4.2.0->ipywidgets->pycaret) (2.6.0)\n",
            "Requirement already satisfied: notebook>=4.4.1 in /usr/local/lib/python3.6/dist-packages (from widgetsnbextension~=3.5.0->ipywidgets->pycaret) (5.2.2)\n",
            "Requirement already satisfied: importlib-metadata>=0.20; python_version < \"3.8\" in /usr/local/lib/python3.6/dist-packages (from catalogue<1.1.0,>=0.0.7->spacy->pycaret) (1.6.0)\n",
            "Requirement already satisfied: urllib3<1.25,>=1.21.1 in /usr/local/lib/python3.6/dist-packages (from requests<3.0.0,>=2.13.0->spacy->pycaret) (1.24.3)\n",
            "Requirement already satisfied: idna<2.9,>=2.5 in /usr/local/lib/python3.6/dist-packages (from requests<3.0.0,>=2.13.0->spacy->pycaret) (2.8)\n",
            "Requirement already satisfied: chardet<3.1.0,>=3.0.2 in /usr/local/lib/python3.6/dist-packages (from requests<3.0.0,>=2.13.0->spacy->pycaret) (3.0.4)\n",
            "Requirement already satisfied: certifi>=2017.4.17 in /usr/local/lib/python3.6/dist-packages (from requests<3.0.0,>=2.13.0->spacy->pycaret) (2020.4.5.1)\n",
            "Requirement already satisfied: pyasn1>=0.1.3 in /usr/local/lib/python3.6/dist-packages (from rsa<=3.5.0,>=3.1.2->awscli->pycaret) (0.4.8)\n",
            "Requirement already satisfied: jmespath<1.0.0,>=0.7.1 in /usr/local/lib/python3.6/dist-packages (from botocore==1.15.39->awscli->pycaret) (0.9.5)\n",
            "Requirement already satisfied: ptyprocess>=0.5 in /usr/local/lib/python3.6/dist-packages (from pexpect; sys_platform != \"win32\"->IPython->pycaret) (0.6.0)\n",
            "Requirement already satisfied: wcwidth in /usr/local/lib/python3.6/dist-packages (from prompt-toolkit<2.0.0,>=1.0.4->IPython->pycaret) (0.1.9)\n",
            "Requirement already satisfied: nbconvert>=5.3.1 in /usr/local/lib/python3.6/dist-packages (from phik>=0.9.8->pandas-profiling==2.3.0->pycaret) (5.6.1)\n",
            "Collecting pytest-pylint>=0.13.0\n",
            "  Downloading https://files.pythonhosted.org/packages/31/ef/e848f832a596a8a40b32d8aa169788b4df167c2d6a5960c01e83a30ebaa7/pytest_pylint-0.15.1-py3-none-any.whl\n",
            "Requirement already satisfied: google-cloud-core<2.0dev,>=1.0.0 in /usr/local/lib/python3.6/dist-packages (from google-cloud-storage->smart-open>=1.2.1->gensim->pycaret) (1.0.3)\n",
            "Requirement already satisfied: google-auth>=1.2.0 in /usr/local/lib/python3.6/dist-packages (from google-cloud-storage->smart-open>=1.2.1->gensim->pycaret) (1.7.2)\n",
            "Requirement already satisfied: google-resumable-media<0.5.0dev,>=0.3.1 in /usr/local/lib/python3.6/dist-packages (from google-cloud-storage->smart-open>=1.2.1->gensim->pycaret) (0.4.1)\n",
            "Requirement already satisfied: pyzmq>=13 in /usr/local/lib/python3.6/dist-packages (from jupyter-client->ipykernel>=4.5.1->ipywidgets->pycaret) (19.0.0)\n",
            "Requirement already satisfied: terminado>=0.3.3; sys_platform != \"win32\" in /usr/local/lib/python3.6/dist-packages (from notebook>=4.4.1->widgetsnbextension~=3.5.0->ipywidgets->pycaret) (0.8.3)\n",
            "Requirement already satisfied: zipp>=0.5 in /usr/local/lib/python3.6/dist-packages (from importlib-metadata>=0.20; python_version < \"3.8\"->catalogue<1.1.0,>=0.0.7->spacy->pycaret) (3.1.0)\n",
            "Requirement already satisfied: defusedxml in /usr/local/lib/python3.6/dist-packages (from nbconvert>=5.3.1->phik>=0.9.8->pandas-profiling==2.3.0->pycaret) (0.6.0)\n",
            "Requirement already satisfied: pandocfilters>=1.4.1 in /usr/local/lib/python3.6/dist-packages (from nbconvert>=5.3.1->phik>=0.9.8->pandas-profiling==2.3.0->pycaret) (1.4.2)\n",
            "Requirement already satisfied: entrypoints>=0.2.2 in /usr/local/lib/python3.6/dist-packages (from nbconvert>=5.3.1->phik>=0.9.8->pandas-profiling==2.3.0->pycaret) (0.3)\n",
            "Requirement already satisfied: mistune<2,>=0.8.1 in /usr/local/lib/python3.6/dist-packages (from nbconvert>=5.3.1->phik>=0.9.8->pandas-profiling==2.3.0->pycaret) (0.8.4)\n",
            "Requirement already satisfied: bleach in /usr/local/lib/python3.6/dist-packages (from nbconvert>=5.3.1->phik>=0.9.8->pandas-profiling==2.3.0->pycaret) (3.1.4)\n",
            "Requirement already satisfied: testpath in /usr/local/lib/python3.6/dist-packages (from nbconvert>=5.3.1->phik>=0.9.8->pandas-profiling==2.3.0->pycaret) (0.4.4)\n",
            "Collecting pylint>=2.0.0\n",
            "\u001b[?25l  Downloading https://files.pythonhosted.org/packages/e9/59/43fc36c5ee316bb9aeb7cf5329cdbdca89e5749c34d5602753827c0aa2dc/pylint-2.4.4-py3-none-any.whl (302kB)\n",
            "\u001b[K     |████████████████████████████████| 307kB 47.6MB/s \n",
            "\u001b[?25hRequirement already satisfied: google-api-core<2.0.0dev,>=1.14.0 in /usr/local/lib/python3.6/dist-packages (from google-cloud-core<2.0dev,>=1.0.0->google-cloud-storage->smart-open>=1.2.1->gensim->pycaret) (1.16.0)\n",
            "Requirement already satisfied: cachetools<3.2,>=2.0.0 in /usr/local/lib/python3.6/dist-packages (from google-auth>=1.2.0->google-cloud-storage->smart-open>=1.2.1->gensim->pycaret) (3.1.1)\n",
            "Requirement already satisfied: pyasn1-modules>=0.2.1 in /usr/local/lib/python3.6/dist-packages (from google-auth>=1.2.0->google-cloud-storage->smart-open>=1.2.1->gensim->pycaret) (0.2.8)\n",
            "Requirement already satisfied: webencodings in /usr/local/lib/python3.6/dist-packages (from bleach->nbconvert>=5.3.1->phik>=0.9.8->pandas-profiling==2.3.0->pycaret) (0.5.1)\n",
            "Collecting isort<5,>=4.2.5\n",
            "\u001b[?25l  Downloading https://files.pythonhosted.org/packages/e5/b0/c121fd1fa3419ea9bfd55c7f9c4fedfec5143208d8c7ad3ce3db6c623c21/isort-4.3.21-py2.py3-none-any.whl (42kB)\n",
            "\u001b[K     |████████████████████████████████| 51kB 7.9MB/s \n",
            "\u001b[?25hCollecting astroid<2.4,>=2.3.0\n",
            "\u001b[?25l  Downloading https://files.pythonhosted.org/packages/ad/ae/86734823047962e7b8c8529186a1ac4a7ca19aaf1aa0c7713c022ef593fd/astroid-2.3.3-py3-none-any.whl (205kB)\n",
            "\u001b[K     |████████████████████████████████| 215kB 51.5MB/s \n",
            "\u001b[?25hCollecting mccabe<0.7,>=0.6\n",
            "  Downloading https://files.pythonhosted.org/packages/87/89/479dc97e18549e21354893e4ee4ef36db1d237534982482c3681ee6e7b57/mccabe-0.6.1-py2.py3-none-any.whl\n",
            "Requirement already satisfied: protobuf>=3.4.0 in /usr/local/lib/python3.6/dist-packages (from google-api-core<2.0.0dev,>=1.14.0->google-cloud-core<2.0dev,>=1.0.0->google-cloud-storage->smart-open>=1.2.1->gensim->pycaret) (3.10.0)\n",
            "Requirement already satisfied: googleapis-common-protos<2.0dev,>=1.6.0 in /usr/local/lib/python3.6/dist-packages (from google-api-core<2.0.0dev,>=1.14.0->google-cloud-core<2.0dev,>=1.0.0->google-cloud-storage->smart-open>=1.2.1->gensim->pycaret) (1.51.0)\n",
            "Collecting typed-ast<1.5,>=1.4.0; implementation_name == \"cpython\" and python_version < \"3.8\"\n",
            "\u001b[?25l  Downloading https://files.pythonhosted.org/packages/90/ed/5459080d95eb87a02fe860d447197be63b6e2b5e9ff73c2b0a85622994f4/typed_ast-1.4.1-cp36-cp36m-manylinux1_x86_64.whl (737kB)\n",
            "\u001b[K     |████████████████████████████████| 747kB 47.2MB/s \n",
            "\u001b[?25hCollecting wrapt==1.11.*\n",
            "  Downloading https://files.pythonhosted.org/packages/23/84/323c2415280bc4fc880ac5050dddfb3c8062c2552b34c2e512eb4aa68f79/wrapt-1.11.2.tar.gz\n",
            "Collecting lazy-object-proxy==1.4.*\n",
            "\u001b[?25l  Downloading https://files.pythonhosted.org/packages/0b/dd/b1e3407e9e6913cf178e506cd0dee818e58694d9a5cd1984e3f6a8b9a10f/lazy_object_proxy-1.4.3-cp36-cp36m-manylinux1_x86_64.whl (55kB)\n",
            "\u001b[K     |████████████████████████████████| 61kB 9.0MB/s \n",
            "\u001b[?25hBuilding wheels for collected packages: pyod, pyLDAvis, shap, cufflinks, pandas-profiling, combo, suod, funcy, htmlmin, confuse, wrapt\n",
            "  Building wheel for pyod (setup.py) ... \u001b[?25l\u001b[?25hdone\n",
            "  Created wheel for pyod: filename=pyod-0.7.8.2-cp36-none-any.whl size=104997 sha256=6d89be37baadf9f229b1fb7172d8651b1d0e76cc0ad8a48f281bd0b2cec93fcb\n",
            "  Stored in directory: /root/.cache/pip/wheels/28/38/ec/0ecbcd67faeb595ac0dbd9b5f85d5c5bdcb4573819e65240fe\n",
            "  Building wheel for pyLDAvis (setup.py) ... \u001b[?25l\u001b[?25hdone\n",
            "  Created wheel for pyLDAvis: filename=pyLDAvis-2.1.2-py2.py3-none-any.whl size=97711 sha256=8e7a4e3df2a0ad4346bdc082135ea30d053bd6bb415024f20ee881c4daf23da5\n",
            "  Stored in directory: /root/.cache/pip/wheels/98/71/24/513a99e58bb6b8465bae4d2d5e9dba8f0bef8179e3051ac414\n",
            "  Building wheel for shap (setup.py) ... \u001b[?25l\u001b[?25hdone\n",
            "  Created wheel for shap: filename=shap-0.32.1-cp36-cp36m-linux_x86_64.whl size=376812 sha256=c36812ff3c628f01f3a30e24e61d7d9cbefdc944d9692f34f4ae6cafedf5acb3\n",
            "  Stored in directory: /root/.cache/pip/wheels/8e/b2/50/8fadb5a59789cb5bdeb01b800223be540651ae92915172050b\n",
            "  Building wheel for cufflinks (setup.py) ... \u001b[?25l\u001b[?25hdone\n",
            "  Created wheel for cufflinks: filename=cufflinks-0.17.0-cp36-none-any.whl size=67744 sha256=4b2b868ee266428e54a62471f46ca0a3c5860e00b03317e774448d9fed352fba\n",
            "  Stored in directory: /root/.cache/pip/wheels/44/d7/dc/e830ab00bc2dd3b2731295103baa070f8cbdda8891f71a7a8d\n",
            "  Building wheel for pandas-profiling (setup.py) ... \u001b[?25l\u001b[?25hdone\n",
            "  Created wheel for pandas-profiling: filename=pandas_profiling-2.3.0-py2.py3-none-any.whl size=145035 sha256=a7c942318123308f0af2f32184f016187162286e05a1f1640f1cc89c3d87dfe5\n",
            "  Stored in directory: /root/.cache/pip/wheels/ce/c7/f1/dbfef4848ebb048cb1d4a22d1ed0c62d8ff2523747235e19fe\n",
            "  Building wheel for combo (setup.py) ... \u001b[?25l\u001b[?25hdone\n",
            "  Created wheel for combo: filename=combo-0.1.0-cp36-none-any.whl size=42043 sha256=00f5a161a70fe6d742b42a6d7d9f8799878cc8e1090e208f66732a392f063937\n",
            "  Stored in directory: /root/.cache/pip/wheels/00/fd/6c/8da495ef08ce61844a646df2423c2b8ecda377a89c90ecd88e\n",
            "  Building wheel for suod (setup.py) ... \u001b[?25l\u001b[?25hdone\n",
            "  Created wheel for suod: filename=suod-0.0.3-cp36-none-any.whl size=2166457 sha256=deb67acffca56fc766ab39d000a0233e0e220530b99fe1d23fa082d6915bcec3\n",
            "  Stored in directory: /root/.cache/pip/wheels/15/56/16/6944851600a62d859c89cd11df1adecbe0b6a02f7ad713d4dd\n",
            "  Building wheel for funcy (setup.py) ... \u001b[?25l\u001b[?25hdone\n",
            "  Created wheel for funcy: filename=funcy-1.14-py2.py3-none-any.whl size=32042 sha256=e5d5bda9f0b39ad809fe09b82b8fe0f1662c417e8a05d5d3b97ec2156e8a61b4\n",
            "  Stored in directory: /root/.cache/pip/wheels/20/5a/d8/1d875df03deae6f178dfdf70238cca33f948ef8a6f5209f2eb\n",
            "  Building wheel for htmlmin (setup.py) ... \u001b[?25l\u001b[?25hdone\n",
            "  Created wheel for htmlmin: filename=htmlmin-0.1.12-cp36-none-any.whl size=27084 sha256=e217a77212a860c78272668c069088ad72dcdbdc7b097c40cfef3c5e6d02ab6d\n",
            "  Stored in directory: /root/.cache/pip/wheels/43/07/ac/7c5a9d708d65247ac1f94066cf1db075540b85716c30255459\n",
            "  Building wheel for confuse (setup.py) ... \u001b[?25l\u001b[?25hdone\n",
            "  Created wheel for confuse: filename=confuse-1.1.0-cp36-none-any.whl size=17574 sha256=18f3b0b6482dfc80390041e90ab4cb9ab7b2365eb257422dec977549cfd55b27\n",
            "  Stored in directory: /root/.cache/pip/wheels/f6/8b/23/41a1b516f6d8d4cc81f5bdb55394a47cdbe9659c53668d3c9e\n",
            "  Building wheel for wrapt (setup.py) ... \u001b[?25l\u001b[?25hdone\n",
            "  Created wheel for wrapt: filename=wrapt-1.11.2-cp36-cp36m-linux_x86_64.whl size=67536 sha256=b65fc6a103656391181b9314e03c36cddb493f9f51ab206514620f4830c4bbba\n",
            "  Stored in directory: /root/.cache/pip/wheels/d7/de/2e/efa132238792efb6459a96e85916ef8597fcb3d2ae51590dfd\n",
            "Successfully built pyod pyLDAvis shap cufflinks pandas-profiling combo suod funcy htmlmin confuse wrapt\n",
            "\u001b[31mERROR: pytest-pylint 0.15.1 has requirement pytest>=5.0, but you'll have pytest 3.6.4 which is incompatible.\u001b[0m\n",
            "\u001b[31mERROR: phik 0.9.10 has requirement pytest>=4.0.2, but you'll have pytest 3.6.4 which is incompatible.\u001b[0m\n",
            "Installing collected packages: scikit-learn, combo, suod, pyod, kmodes, funcy, pyLDAvis, rsa, botocore, colorama, awscli, zope.interface, DateTime, shap, lightgbm, datefinder, yellowbrick, chart-studio, cufflinks, catboost, htmlmin, isort, typed-ast, wrapt, lazy-object-proxy, astroid, mccabe, pylint, pytest-pylint, phik, confuse, pandas-profiling, pycaret\n",
            "  Found existing installation: scikit-learn 0.22.2.post1\n",
            "    Uninstalling scikit-learn-0.22.2.post1:\n",
            "      Successfully uninstalled scikit-learn-0.22.2.post1\n",
            "  Found existing installation: rsa 4.0\n",
            "    Uninstalling rsa-4.0:\n",
            "      Successfully uninstalled rsa-4.0\n",
            "  Found existing installation: botocore 1.15.38\n",
            "    Uninstalling botocore-1.15.38:\n",
            "      Successfully uninstalled botocore-1.15.38\n",
            "  Found existing installation: lightgbm 2.2.3\n",
            "    Uninstalling lightgbm-2.2.3:\n",
            "      Successfully uninstalled lightgbm-2.2.3\n",
            "  Found existing installation: yellowbrick 0.9.1\n",
            "    Uninstalling yellowbrick-0.9.1:\n",
            "      Successfully uninstalled yellowbrick-0.9.1\n",
            "  Found existing installation: cufflinks 0.17.3\n",
            "    Uninstalling cufflinks-0.17.3:\n",
            "      Successfully uninstalled cufflinks-0.17.3\n",
            "  Found existing installation: wrapt 1.12.1\n",
            "    Uninstalling wrapt-1.12.1:\n",
            "      Successfully uninstalled wrapt-1.12.1\n",
            "  Found existing installation: pandas-profiling 1.4.1\n",
            "    Uninstalling pandas-profiling-1.4.1:\n",
            "      Successfully uninstalled pandas-profiling-1.4.1\n",
            "Successfully installed DateTime-4.3 astroid-2.3.3 awscli-1.18.39 botocore-1.15.39 catboost-0.20.2 chart-studio-1.1.0 colorama-0.4.3 combo-0.1.0 confuse-1.1.0 cufflinks-0.17.0 datefinder-0.7.0 funcy-1.14 htmlmin-0.1.12 isort-4.3.21 kmodes-0.10.1 lazy-object-proxy-1.4.3 lightgbm-2.3.1 mccabe-0.6.1 pandas-profiling-2.3.0 phik-0.9.10 pyLDAvis-2.1.2 pycaret-1.0.0 pylint-2.4.4 pyod-0.7.8.2 pytest-pylint-0.15.1 rsa-3.4.2 scikit-learn-0.22 shap-0.32.1 suod-0.0.3 typed-ast-1.4.1 wrapt-1.11.2 yellowbrick-1.0.1 zope.interface-5.1.0\n"
          ],
          "name": "stdout"
        },
        {
          "output_type": "display_data",
          "data": {
            "application/vnd.colab-display-data+json": {
              "pip_warning": {
                "packages": [
                  "rsa"
                ]
              }
            }
          },
          "metadata": {
            "tags": []
          }
        }
      ]
    },
    {
      "cell_type": "code",
      "metadata": {
        "id": "2ekMa1KYEUAl",
        "colab_type": "code",
        "outputId": "7f8a6d58-cebf-429b-f7e9-bb31efca2fb4",
        "colab": {
          "base_uri": "https://localhost:8080/",
          "height": 204
        }
      },
      "source": [
        "from pycaret.datasets import get_data\n",
        "data = get_data('juice')"
      ],
      "execution_count": 0,
      "outputs": [
        {
          "output_type": "display_data",
          "data": {
            "text/html": [
              "<div>\n",
              "<style scoped>\n",
              "    .dataframe tbody tr th:only-of-type {\n",
              "        vertical-align: middle;\n",
              "    }\n",
              "\n",
              "    .dataframe tbody tr th {\n",
              "        vertical-align: top;\n",
              "    }\n",
              "\n",
              "    .dataframe thead th {\n",
              "        text-align: right;\n",
              "    }\n",
              "</style>\n",
              "<table border=\"1\" class=\"dataframe\">\n",
              "  <thead>\n",
              "    <tr style=\"text-align: right;\">\n",
              "      <th></th>\n",
              "      <th>Id</th>\n",
              "      <th>Purchase</th>\n",
              "      <th>WeekofPurchase</th>\n",
              "      <th>StoreID</th>\n",
              "      <th>PriceCH</th>\n",
              "      <th>PriceMM</th>\n",
              "      <th>DiscCH</th>\n",
              "      <th>DiscMM</th>\n",
              "      <th>SpecialCH</th>\n",
              "      <th>SpecialMM</th>\n",
              "      <th>LoyalCH</th>\n",
              "      <th>SalePriceMM</th>\n",
              "      <th>SalePriceCH</th>\n",
              "      <th>PriceDiff</th>\n",
              "      <th>Store7</th>\n",
              "      <th>PctDiscMM</th>\n",
              "      <th>PctDiscCH</th>\n",
              "      <th>ListPriceDiff</th>\n",
              "      <th>STORE</th>\n",
              "    </tr>\n",
              "  </thead>\n",
              "  <tbody>\n",
              "    <tr>\n",
              "      <th>0</th>\n",
              "      <td>1</td>\n",
              "      <td>CH</td>\n",
              "      <td>237</td>\n",
              "      <td>1</td>\n",
              "      <td>1.75</td>\n",
              "      <td>1.99</td>\n",
              "      <td>0.00</td>\n",
              "      <td>0.0</td>\n",
              "      <td>0</td>\n",
              "      <td>0</td>\n",
              "      <td>0.500000</td>\n",
              "      <td>1.99</td>\n",
              "      <td>1.75</td>\n",
              "      <td>0.24</td>\n",
              "      <td>No</td>\n",
              "      <td>0.000000</td>\n",
              "      <td>0.000000</td>\n",
              "      <td>0.24</td>\n",
              "      <td>1</td>\n",
              "    </tr>\n",
              "    <tr>\n",
              "      <th>1</th>\n",
              "      <td>2</td>\n",
              "      <td>CH</td>\n",
              "      <td>239</td>\n",
              "      <td>1</td>\n",
              "      <td>1.75</td>\n",
              "      <td>1.99</td>\n",
              "      <td>0.00</td>\n",
              "      <td>0.3</td>\n",
              "      <td>0</td>\n",
              "      <td>1</td>\n",
              "      <td>0.600000</td>\n",
              "      <td>1.69</td>\n",
              "      <td>1.75</td>\n",
              "      <td>-0.06</td>\n",
              "      <td>No</td>\n",
              "      <td>0.150754</td>\n",
              "      <td>0.000000</td>\n",
              "      <td>0.24</td>\n",
              "      <td>1</td>\n",
              "    </tr>\n",
              "    <tr>\n",
              "      <th>2</th>\n",
              "      <td>3</td>\n",
              "      <td>CH</td>\n",
              "      <td>245</td>\n",
              "      <td>1</td>\n",
              "      <td>1.86</td>\n",
              "      <td>2.09</td>\n",
              "      <td>0.17</td>\n",
              "      <td>0.0</td>\n",
              "      <td>0</td>\n",
              "      <td>0</td>\n",
              "      <td>0.680000</td>\n",
              "      <td>2.09</td>\n",
              "      <td>1.69</td>\n",
              "      <td>0.40</td>\n",
              "      <td>No</td>\n",
              "      <td>0.000000</td>\n",
              "      <td>0.091398</td>\n",
              "      <td>0.23</td>\n",
              "      <td>1</td>\n",
              "    </tr>\n",
              "    <tr>\n",
              "      <th>3</th>\n",
              "      <td>4</td>\n",
              "      <td>MM</td>\n",
              "      <td>227</td>\n",
              "      <td>1</td>\n",
              "      <td>1.69</td>\n",
              "      <td>1.69</td>\n",
              "      <td>0.00</td>\n",
              "      <td>0.0</td>\n",
              "      <td>0</td>\n",
              "      <td>0</td>\n",
              "      <td>0.400000</td>\n",
              "      <td>1.69</td>\n",
              "      <td>1.69</td>\n",
              "      <td>0.00</td>\n",
              "      <td>No</td>\n",
              "      <td>0.000000</td>\n",
              "      <td>0.000000</td>\n",
              "      <td>0.00</td>\n",
              "      <td>1</td>\n",
              "    </tr>\n",
              "    <tr>\n",
              "      <th>4</th>\n",
              "      <td>5</td>\n",
              "      <td>CH</td>\n",
              "      <td>228</td>\n",
              "      <td>7</td>\n",
              "      <td>1.69</td>\n",
              "      <td>1.69</td>\n",
              "      <td>0.00</td>\n",
              "      <td>0.0</td>\n",
              "      <td>0</td>\n",
              "      <td>0</td>\n",
              "      <td>0.956535</td>\n",
              "      <td>1.69</td>\n",
              "      <td>1.69</td>\n",
              "      <td>0.00</td>\n",
              "      <td>Yes</td>\n",
              "      <td>0.000000</td>\n",
              "      <td>0.000000</td>\n",
              "      <td>0.00</td>\n",
              "      <td>0</td>\n",
              "    </tr>\n",
              "  </tbody>\n",
              "</table>\n",
              "</div>"
            ],
            "text/plain": [
              "   Id Purchase  WeekofPurchase  ...  PctDiscCH  ListPriceDiff  STORE\n",
              "0   1       CH             237  ...   0.000000           0.24      1\n",
              "1   2       CH             239  ...   0.000000           0.24      1\n",
              "2   3       CH             245  ...   0.091398           0.23      1\n",
              "3   4       MM             227  ...   0.000000           0.00      1\n",
              "4   5       CH             228  ...   0.000000           0.00      0\n",
              "\n",
              "[5 rows x 19 columns]"
            ]
          },
          "metadata": {
            "tags": []
          }
        }
      ]
    },
    {
      "cell_type": "code",
      "metadata": {
        "id": "US81FUMhEqgD",
        "colab_type": "code",
        "colab": {}
      },
      "source": [
        "## classification"
      ],
      "execution_count": 0,
      "outputs": []
    },
    {
      "cell_type": "code",
      "metadata": {
        "id": "aL1f6N6rE9Su",
        "colab_type": "code",
        "outputId": "ed48be54-edfe-49aa-9b86-ac22ecc1a0f0",
        "colab": {
          "base_uri": "https://localhost:8080/",
          "height": 956
        }
      },
      "source": [
        "from pycaret.datasets import get_data\n",
        "diabetes = get_data('diabetes')\n",
        "\n",
        "from pycaret.classification import *\n",
        "clf1 = setup(data = diabetes, target = 'Class variable')"
      ],
      "execution_count": 0,
      "outputs": [
        {
          "output_type": "stream",
          "text": [
            " \n",
            "Setup Succesfully Completed!\n"
          ],
          "name": "stdout"
        },
        {
          "output_type": "display_data",
          "data": {
            "text/html": [
              "<style  type=\"text/css\" >\n",
              "</style><table id=\"T_53b60bae_7f94_11ea_8c7d_0242ac1c0002\" ><thead>    <tr>        <th class=\"blank level0\" ></th>        <th class=\"col_heading level0 col0\" >Description</th>        <th class=\"col_heading level0 col1\" >Value</th>    </tr></thead><tbody>\n",
              "                <tr>\n",
              "                        <th id=\"T_53b60bae_7f94_11ea_8c7d_0242ac1c0002level0_row0\" class=\"row_heading level0 row0\" >0</th>\n",
              "                        <td id=\"T_53b60bae_7f94_11ea_8c7d_0242ac1c0002row0_col0\" class=\"data row0 col0\" >session_id</td>\n",
              "                        <td id=\"T_53b60bae_7f94_11ea_8c7d_0242ac1c0002row0_col1\" class=\"data row0 col1\" >5654</td>\n",
              "            </tr>\n",
              "            <tr>\n",
              "                        <th id=\"T_53b60bae_7f94_11ea_8c7d_0242ac1c0002level0_row1\" class=\"row_heading level0 row1\" >1</th>\n",
              "                        <td id=\"T_53b60bae_7f94_11ea_8c7d_0242ac1c0002row1_col0\" class=\"data row1 col0\" >Target Type</td>\n",
              "                        <td id=\"T_53b60bae_7f94_11ea_8c7d_0242ac1c0002row1_col1\" class=\"data row1 col1\" >Binary</td>\n",
              "            </tr>\n",
              "            <tr>\n",
              "                        <th id=\"T_53b60bae_7f94_11ea_8c7d_0242ac1c0002level0_row2\" class=\"row_heading level0 row2\" >2</th>\n",
              "                        <td id=\"T_53b60bae_7f94_11ea_8c7d_0242ac1c0002row2_col0\" class=\"data row2 col0\" >Label Encoded</td>\n",
              "                        <td id=\"T_53b60bae_7f94_11ea_8c7d_0242ac1c0002row2_col1\" class=\"data row2 col1\" >None</td>\n",
              "            </tr>\n",
              "            <tr>\n",
              "                        <th id=\"T_53b60bae_7f94_11ea_8c7d_0242ac1c0002level0_row3\" class=\"row_heading level0 row3\" >3</th>\n",
              "                        <td id=\"T_53b60bae_7f94_11ea_8c7d_0242ac1c0002row3_col0\" class=\"data row3 col0\" >Original Data</td>\n",
              "                        <td id=\"T_53b60bae_7f94_11ea_8c7d_0242ac1c0002row3_col1\" class=\"data row3 col1\" >(768, 9)</td>\n",
              "            </tr>\n",
              "            <tr>\n",
              "                        <th id=\"T_53b60bae_7f94_11ea_8c7d_0242ac1c0002level0_row4\" class=\"row_heading level0 row4\" >4</th>\n",
              "                        <td id=\"T_53b60bae_7f94_11ea_8c7d_0242ac1c0002row4_col0\" class=\"data row4 col0\" >Missing Values </td>\n",
              "                        <td id=\"T_53b60bae_7f94_11ea_8c7d_0242ac1c0002row4_col1\" class=\"data row4 col1\" >False</td>\n",
              "            </tr>\n",
              "            <tr>\n",
              "                        <th id=\"T_53b60bae_7f94_11ea_8c7d_0242ac1c0002level0_row5\" class=\"row_heading level0 row5\" >5</th>\n",
              "                        <td id=\"T_53b60bae_7f94_11ea_8c7d_0242ac1c0002row5_col0\" class=\"data row5 col0\" >Numeric Features </td>\n",
              "                        <td id=\"T_53b60bae_7f94_11ea_8c7d_0242ac1c0002row5_col1\" class=\"data row5 col1\" >7</td>\n",
              "            </tr>\n",
              "            <tr>\n",
              "                        <th id=\"T_53b60bae_7f94_11ea_8c7d_0242ac1c0002level0_row6\" class=\"row_heading level0 row6\" >6</th>\n",
              "                        <td id=\"T_53b60bae_7f94_11ea_8c7d_0242ac1c0002row6_col0\" class=\"data row6 col0\" >Categorical Features </td>\n",
              "                        <td id=\"T_53b60bae_7f94_11ea_8c7d_0242ac1c0002row6_col1\" class=\"data row6 col1\" >1</td>\n",
              "            </tr>\n",
              "            <tr>\n",
              "                        <th id=\"T_53b60bae_7f94_11ea_8c7d_0242ac1c0002level0_row7\" class=\"row_heading level0 row7\" >7</th>\n",
              "                        <td id=\"T_53b60bae_7f94_11ea_8c7d_0242ac1c0002row7_col0\" class=\"data row7 col0\" >Ordinal Features </td>\n",
              "                        <td id=\"T_53b60bae_7f94_11ea_8c7d_0242ac1c0002row7_col1\" class=\"data row7 col1\" >False</td>\n",
              "            </tr>\n",
              "            <tr>\n",
              "                        <th id=\"T_53b60bae_7f94_11ea_8c7d_0242ac1c0002level0_row8\" class=\"row_heading level0 row8\" >8</th>\n",
              "                        <td id=\"T_53b60bae_7f94_11ea_8c7d_0242ac1c0002row8_col0\" class=\"data row8 col0\" >High Cardinality Features </td>\n",
              "                        <td id=\"T_53b60bae_7f94_11ea_8c7d_0242ac1c0002row8_col1\" class=\"data row8 col1\" >False</td>\n",
              "            </tr>\n",
              "            <tr>\n",
              "                        <th id=\"T_53b60bae_7f94_11ea_8c7d_0242ac1c0002level0_row9\" class=\"row_heading level0 row9\" >9</th>\n",
              "                        <td id=\"T_53b60bae_7f94_11ea_8c7d_0242ac1c0002row9_col0\" class=\"data row9 col0\" >High Cardinality Method </td>\n",
              "                        <td id=\"T_53b60bae_7f94_11ea_8c7d_0242ac1c0002row9_col1\" class=\"data row9 col1\" >None</td>\n",
              "            </tr>\n",
              "            <tr>\n",
              "                        <th id=\"T_53b60bae_7f94_11ea_8c7d_0242ac1c0002level0_row10\" class=\"row_heading level0 row10\" >10</th>\n",
              "                        <td id=\"T_53b60bae_7f94_11ea_8c7d_0242ac1c0002row10_col0\" class=\"data row10 col0\" >Sampled Data</td>\n",
              "                        <td id=\"T_53b60bae_7f94_11ea_8c7d_0242ac1c0002row10_col1\" class=\"data row10 col1\" >(768, 9)</td>\n",
              "            </tr>\n",
              "            <tr>\n",
              "                        <th id=\"T_53b60bae_7f94_11ea_8c7d_0242ac1c0002level0_row11\" class=\"row_heading level0 row11\" >11</th>\n",
              "                        <td id=\"T_53b60bae_7f94_11ea_8c7d_0242ac1c0002row11_col0\" class=\"data row11 col0\" >Transformed Train Set</td>\n",
              "                        <td id=\"T_53b60bae_7f94_11ea_8c7d_0242ac1c0002row11_col1\" class=\"data row11 col1\" >(537, 24)</td>\n",
              "            </tr>\n",
              "            <tr>\n",
              "                        <th id=\"T_53b60bae_7f94_11ea_8c7d_0242ac1c0002level0_row12\" class=\"row_heading level0 row12\" >12</th>\n",
              "                        <td id=\"T_53b60bae_7f94_11ea_8c7d_0242ac1c0002row12_col0\" class=\"data row12 col0\" >Transformed Test Set</td>\n",
              "                        <td id=\"T_53b60bae_7f94_11ea_8c7d_0242ac1c0002row12_col1\" class=\"data row12 col1\" >(231, 24)</td>\n",
              "            </tr>\n",
              "            <tr>\n",
              "                        <th id=\"T_53b60bae_7f94_11ea_8c7d_0242ac1c0002level0_row13\" class=\"row_heading level0 row13\" >13</th>\n",
              "                        <td id=\"T_53b60bae_7f94_11ea_8c7d_0242ac1c0002row13_col0\" class=\"data row13 col0\" >Numeric Imputer </td>\n",
              "                        <td id=\"T_53b60bae_7f94_11ea_8c7d_0242ac1c0002row13_col1\" class=\"data row13 col1\" >mean</td>\n",
              "            </tr>\n",
              "            <tr>\n",
              "                        <th id=\"T_53b60bae_7f94_11ea_8c7d_0242ac1c0002level0_row14\" class=\"row_heading level0 row14\" >14</th>\n",
              "                        <td id=\"T_53b60bae_7f94_11ea_8c7d_0242ac1c0002row14_col0\" class=\"data row14 col0\" >Categorical Imputer </td>\n",
              "                        <td id=\"T_53b60bae_7f94_11ea_8c7d_0242ac1c0002row14_col1\" class=\"data row14 col1\" >constant</td>\n",
              "            </tr>\n",
              "            <tr>\n",
              "                        <th id=\"T_53b60bae_7f94_11ea_8c7d_0242ac1c0002level0_row15\" class=\"row_heading level0 row15\" >15</th>\n",
              "                        <td id=\"T_53b60bae_7f94_11ea_8c7d_0242ac1c0002row15_col0\" class=\"data row15 col0\" >Normalize </td>\n",
              "                        <td id=\"T_53b60bae_7f94_11ea_8c7d_0242ac1c0002row15_col1\" class=\"data row15 col1\" >False</td>\n",
              "            </tr>\n",
              "            <tr>\n",
              "                        <th id=\"T_53b60bae_7f94_11ea_8c7d_0242ac1c0002level0_row16\" class=\"row_heading level0 row16\" >16</th>\n",
              "                        <td id=\"T_53b60bae_7f94_11ea_8c7d_0242ac1c0002row16_col0\" class=\"data row16 col0\" >Normalize Method </td>\n",
              "                        <td id=\"T_53b60bae_7f94_11ea_8c7d_0242ac1c0002row16_col1\" class=\"data row16 col1\" >None</td>\n",
              "            </tr>\n",
              "            <tr>\n",
              "                        <th id=\"T_53b60bae_7f94_11ea_8c7d_0242ac1c0002level0_row17\" class=\"row_heading level0 row17\" >17</th>\n",
              "                        <td id=\"T_53b60bae_7f94_11ea_8c7d_0242ac1c0002row17_col0\" class=\"data row17 col0\" >Transformation </td>\n",
              "                        <td id=\"T_53b60bae_7f94_11ea_8c7d_0242ac1c0002row17_col1\" class=\"data row17 col1\" >False</td>\n",
              "            </tr>\n",
              "            <tr>\n",
              "                        <th id=\"T_53b60bae_7f94_11ea_8c7d_0242ac1c0002level0_row18\" class=\"row_heading level0 row18\" >18</th>\n",
              "                        <td id=\"T_53b60bae_7f94_11ea_8c7d_0242ac1c0002row18_col0\" class=\"data row18 col0\" >Transformation Method </td>\n",
              "                        <td id=\"T_53b60bae_7f94_11ea_8c7d_0242ac1c0002row18_col1\" class=\"data row18 col1\" >None</td>\n",
              "            </tr>\n",
              "            <tr>\n",
              "                        <th id=\"T_53b60bae_7f94_11ea_8c7d_0242ac1c0002level0_row19\" class=\"row_heading level0 row19\" >19</th>\n",
              "                        <td id=\"T_53b60bae_7f94_11ea_8c7d_0242ac1c0002row19_col0\" class=\"data row19 col0\" >PCA </td>\n",
              "                        <td id=\"T_53b60bae_7f94_11ea_8c7d_0242ac1c0002row19_col1\" class=\"data row19 col1\" >False</td>\n",
              "            </tr>\n",
              "            <tr>\n",
              "                        <th id=\"T_53b60bae_7f94_11ea_8c7d_0242ac1c0002level0_row20\" class=\"row_heading level0 row20\" >20</th>\n",
              "                        <td id=\"T_53b60bae_7f94_11ea_8c7d_0242ac1c0002row20_col0\" class=\"data row20 col0\" >PCA Method </td>\n",
              "                        <td id=\"T_53b60bae_7f94_11ea_8c7d_0242ac1c0002row20_col1\" class=\"data row20 col1\" >None</td>\n",
              "            </tr>\n",
              "            <tr>\n",
              "                        <th id=\"T_53b60bae_7f94_11ea_8c7d_0242ac1c0002level0_row21\" class=\"row_heading level0 row21\" >21</th>\n",
              "                        <td id=\"T_53b60bae_7f94_11ea_8c7d_0242ac1c0002row21_col0\" class=\"data row21 col0\" >PCA Components </td>\n",
              "                        <td id=\"T_53b60bae_7f94_11ea_8c7d_0242ac1c0002row21_col1\" class=\"data row21 col1\" >None</td>\n",
              "            </tr>\n",
              "            <tr>\n",
              "                        <th id=\"T_53b60bae_7f94_11ea_8c7d_0242ac1c0002level0_row22\" class=\"row_heading level0 row22\" >22</th>\n",
              "                        <td id=\"T_53b60bae_7f94_11ea_8c7d_0242ac1c0002row22_col0\" class=\"data row22 col0\" >Ignore Low Variance </td>\n",
              "                        <td id=\"T_53b60bae_7f94_11ea_8c7d_0242ac1c0002row22_col1\" class=\"data row22 col1\" >False</td>\n",
              "            </tr>\n",
              "            <tr>\n",
              "                        <th id=\"T_53b60bae_7f94_11ea_8c7d_0242ac1c0002level0_row23\" class=\"row_heading level0 row23\" >23</th>\n",
              "                        <td id=\"T_53b60bae_7f94_11ea_8c7d_0242ac1c0002row23_col0\" class=\"data row23 col0\" >Combine Rare Levels </td>\n",
              "                        <td id=\"T_53b60bae_7f94_11ea_8c7d_0242ac1c0002row23_col1\" class=\"data row23 col1\" >False</td>\n",
              "            </tr>\n",
              "            <tr>\n",
              "                        <th id=\"T_53b60bae_7f94_11ea_8c7d_0242ac1c0002level0_row24\" class=\"row_heading level0 row24\" >24</th>\n",
              "                        <td id=\"T_53b60bae_7f94_11ea_8c7d_0242ac1c0002row24_col0\" class=\"data row24 col0\" >Rare Level Threshold </td>\n",
              "                        <td id=\"T_53b60bae_7f94_11ea_8c7d_0242ac1c0002row24_col1\" class=\"data row24 col1\" >None</td>\n",
              "            </tr>\n",
              "            <tr>\n",
              "                        <th id=\"T_53b60bae_7f94_11ea_8c7d_0242ac1c0002level0_row25\" class=\"row_heading level0 row25\" >25</th>\n",
              "                        <td id=\"T_53b60bae_7f94_11ea_8c7d_0242ac1c0002row25_col0\" class=\"data row25 col0\" >Numeric Binning </td>\n",
              "                        <td id=\"T_53b60bae_7f94_11ea_8c7d_0242ac1c0002row25_col1\" class=\"data row25 col1\" >False</td>\n",
              "            </tr>\n",
              "            <tr>\n",
              "                        <th id=\"T_53b60bae_7f94_11ea_8c7d_0242ac1c0002level0_row26\" class=\"row_heading level0 row26\" >26</th>\n",
              "                        <td id=\"T_53b60bae_7f94_11ea_8c7d_0242ac1c0002row26_col0\" class=\"data row26 col0\" >Remove Outliers </td>\n",
              "                        <td id=\"T_53b60bae_7f94_11ea_8c7d_0242ac1c0002row26_col1\" class=\"data row26 col1\" >False</td>\n",
              "            </tr>\n",
              "            <tr>\n",
              "                        <th id=\"T_53b60bae_7f94_11ea_8c7d_0242ac1c0002level0_row27\" class=\"row_heading level0 row27\" >27</th>\n",
              "                        <td id=\"T_53b60bae_7f94_11ea_8c7d_0242ac1c0002row27_col0\" class=\"data row27 col0\" >Outliers Threshold </td>\n",
              "                        <td id=\"T_53b60bae_7f94_11ea_8c7d_0242ac1c0002row27_col1\" class=\"data row27 col1\" >None</td>\n",
              "            </tr>\n",
              "            <tr>\n",
              "                        <th id=\"T_53b60bae_7f94_11ea_8c7d_0242ac1c0002level0_row28\" class=\"row_heading level0 row28\" >28</th>\n",
              "                        <td id=\"T_53b60bae_7f94_11ea_8c7d_0242ac1c0002row28_col0\" class=\"data row28 col0\" >Remove Multicollinearity </td>\n",
              "                        <td id=\"T_53b60bae_7f94_11ea_8c7d_0242ac1c0002row28_col1\" class=\"data row28 col1\" >False</td>\n",
              "            </tr>\n",
              "            <tr>\n",
              "                        <th id=\"T_53b60bae_7f94_11ea_8c7d_0242ac1c0002level0_row29\" class=\"row_heading level0 row29\" >29</th>\n",
              "                        <td id=\"T_53b60bae_7f94_11ea_8c7d_0242ac1c0002row29_col0\" class=\"data row29 col0\" >Multicollinearity Threshold </td>\n",
              "                        <td id=\"T_53b60bae_7f94_11ea_8c7d_0242ac1c0002row29_col1\" class=\"data row29 col1\" >None</td>\n",
              "            </tr>\n",
              "            <tr>\n",
              "                        <th id=\"T_53b60bae_7f94_11ea_8c7d_0242ac1c0002level0_row30\" class=\"row_heading level0 row30\" >30</th>\n",
              "                        <td id=\"T_53b60bae_7f94_11ea_8c7d_0242ac1c0002row30_col0\" class=\"data row30 col0\" >Clustering </td>\n",
              "                        <td id=\"T_53b60bae_7f94_11ea_8c7d_0242ac1c0002row30_col1\" class=\"data row30 col1\" >False</td>\n",
              "            </tr>\n",
              "            <tr>\n",
              "                        <th id=\"T_53b60bae_7f94_11ea_8c7d_0242ac1c0002level0_row31\" class=\"row_heading level0 row31\" >31</th>\n",
              "                        <td id=\"T_53b60bae_7f94_11ea_8c7d_0242ac1c0002row31_col0\" class=\"data row31 col0\" >Clustering Iteration </td>\n",
              "                        <td id=\"T_53b60bae_7f94_11ea_8c7d_0242ac1c0002row31_col1\" class=\"data row31 col1\" >None</td>\n",
              "            </tr>\n",
              "            <tr>\n",
              "                        <th id=\"T_53b60bae_7f94_11ea_8c7d_0242ac1c0002level0_row32\" class=\"row_heading level0 row32\" >32</th>\n",
              "                        <td id=\"T_53b60bae_7f94_11ea_8c7d_0242ac1c0002row32_col0\" class=\"data row32 col0\" >Polynomial Features </td>\n",
              "                        <td id=\"T_53b60bae_7f94_11ea_8c7d_0242ac1c0002row32_col1\" class=\"data row32 col1\" >False</td>\n",
              "            </tr>\n",
              "            <tr>\n",
              "                        <th id=\"T_53b60bae_7f94_11ea_8c7d_0242ac1c0002level0_row33\" class=\"row_heading level0 row33\" >33</th>\n",
              "                        <td id=\"T_53b60bae_7f94_11ea_8c7d_0242ac1c0002row33_col0\" class=\"data row33 col0\" >Polynomial Degree </td>\n",
              "                        <td id=\"T_53b60bae_7f94_11ea_8c7d_0242ac1c0002row33_col1\" class=\"data row33 col1\" >None</td>\n",
              "            </tr>\n",
              "            <tr>\n",
              "                        <th id=\"T_53b60bae_7f94_11ea_8c7d_0242ac1c0002level0_row34\" class=\"row_heading level0 row34\" >34</th>\n",
              "                        <td id=\"T_53b60bae_7f94_11ea_8c7d_0242ac1c0002row34_col0\" class=\"data row34 col0\" >Trignometry Features </td>\n",
              "                        <td id=\"T_53b60bae_7f94_11ea_8c7d_0242ac1c0002row34_col1\" class=\"data row34 col1\" >False</td>\n",
              "            </tr>\n",
              "            <tr>\n",
              "                        <th id=\"T_53b60bae_7f94_11ea_8c7d_0242ac1c0002level0_row35\" class=\"row_heading level0 row35\" >35</th>\n",
              "                        <td id=\"T_53b60bae_7f94_11ea_8c7d_0242ac1c0002row35_col0\" class=\"data row35 col0\" >Polynomial Threshold </td>\n",
              "                        <td id=\"T_53b60bae_7f94_11ea_8c7d_0242ac1c0002row35_col1\" class=\"data row35 col1\" >None</td>\n",
              "            </tr>\n",
              "            <tr>\n",
              "                        <th id=\"T_53b60bae_7f94_11ea_8c7d_0242ac1c0002level0_row36\" class=\"row_heading level0 row36\" >36</th>\n",
              "                        <td id=\"T_53b60bae_7f94_11ea_8c7d_0242ac1c0002row36_col0\" class=\"data row36 col0\" >Group Features </td>\n",
              "                        <td id=\"T_53b60bae_7f94_11ea_8c7d_0242ac1c0002row36_col1\" class=\"data row36 col1\" >False</td>\n",
              "            </tr>\n",
              "            <tr>\n",
              "                        <th id=\"T_53b60bae_7f94_11ea_8c7d_0242ac1c0002level0_row37\" class=\"row_heading level0 row37\" >37</th>\n",
              "                        <td id=\"T_53b60bae_7f94_11ea_8c7d_0242ac1c0002row37_col0\" class=\"data row37 col0\" >Feature Selection </td>\n",
              "                        <td id=\"T_53b60bae_7f94_11ea_8c7d_0242ac1c0002row37_col1\" class=\"data row37 col1\" >False</td>\n",
              "            </tr>\n",
              "            <tr>\n",
              "                        <th id=\"T_53b60bae_7f94_11ea_8c7d_0242ac1c0002level0_row38\" class=\"row_heading level0 row38\" >38</th>\n",
              "                        <td id=\"T_53b60bae_7f94_11ea_8c7d_0242ac1c0002row38_col0\" class=\"data row38 col0\" >Features Selection Threshold </td>\n",
              "                        <td id=\"T_53b60bae_7f94_11ea_8c7d_0242ac1c0002row38_col1\" class=\"data row38 col1\" >None</td>\n",
              "            </tr>\n",
              "            <tr>\n",
              "                        <th id=\"T_53b60bae_7f94_11ea_8c7d_0242ac1c0002level0_row39\" class=\"row_heading level0 row39\" >39</th>\n",
              "                        <td id=\"T_53b60bae_7f94_11ea_8c7d_0242ac1c0002row39_col0\" class=\"data row39 col0\" >Feature Interaction </td>\n",
              "                        <td id=\"T_53b60bae_7f94_11ea_8c7d_0242ac1c0002row39_col1\" class=\"data row39 col1\" >False</td>\n",
              "            </tr>\n",
              "            <tr>\n",
              "                        <th id=\"T_53b60bae_7f94_11ea_8c7d_0242ac1c0002level0_row40\" class=\"row_heading level0 row40\" >40</th>\n",
              "                        <td id=\"T_53b60bae_7f94_11ea_8c7d_0242ac1c0002row40_col0\" class=\"data row40 col0\" >Feature Ratio </td>\n",
              "                        <td id=\"T_53b60bae_7f94_11ea_8c7d_0242ac1c0002row40_col1\" class=\"data row40 col1\" >False</td>\n",
              "            </tr>\n",
              "            <tr>\n",
              "                        <th id=\"T_53b60bae_7f94_11ea_8c7d_0242ac1c0002level0_row41\" class=\"row_heading level0 row41\" >41</th>\n",
              "                        <td id=\"T_53b60bae_7f94_11ea_8c7d_0242ac1c0002row41_col0\" class=\"data row41 col0\" >Interaction Threshold </td>\n",
              "                        <td id=\"T_53b60bae_7f94_11ea_8c7d_0242ac1c0002row41_col1\" class=\"data row41 col1\" >None</td>\n",
              "            </tr>\n",
              "    </tbody></table>"
            ],
            "text/plain": [
              "<pandas.io.formats.style.Styler at 0x7f2707c9a7f0>"
            ]
          },
          "metadata": {
            "tags": []
          }
        }
      ]
    },
    {
      "cell_type": "code",
      "metadata": {
        "id": "GERajhqVE_ua",
        "colab_type": "code",
        "colab": {}
      },
      "source": [
        "## regression example"
      ],
      "execution_count": 0,
      "outputs": []
    },
    {
      "cell_type": "code",
      "metadata": {
        "id": "IghLi1KzFDrp",
        "colab_type": "code",
        "outputId": "2d4a12fb-5d5d-4ea2-a630-4345ef289de8",
        "colab": {
          "base_uri": "https://localhost:8080/",
          "height": 956
        }
      },
      "source": [
        "from pycaret.datasets import get_data\n",
        "boston = get_data('boston')\n",
        "\n",
        "from pycaret.regression import *\n",
        "reg1 = setup(data = boston, target = 'medv')"
      ],
      "execution_count": 0,
      "outputs": [
        {
          "output_type": "stream",
          "text": [
            " \n",
            "Setup Succesfully Completed!\n"
          ],
          "name": "stdout"
        },
        {
          "output_type": "display_data",
          "data": {
            "text/html": [
              "<style  type=\"text/css\" >\n",
              "</style><table id=\"T_6c44343e_7f94_11ea_8c7d_0242ac1c0002\" ><thead>    <tr>        <th class=\"blank level0\" ></th>        <th class=\"col_heading level0 col0\" >Description</th>        <th class=\"col_heading level0 col1\" >Value</th>    </tr></thead><tbody>\n",
              "                <tr>\n",
              "                        <th id=\"T_6c44343e_7f94_11ea_8c7d_0242ac1c0002level0_row0\" class=\"row_heading level0 row0\" >0</th>\n",
              "                        <td id=\"T_6c44343e_7f94_11ea_8c7d_0242ac1c0002row0_col0\" class=\"data row0 col0\" >session_id</td>\n",
              "                        <td id=\"T_6c44343e_7f94_11ea_8c7d_0242ac1c0002row0_col1\" class=\"data row0 col1\" >1188</td>\n",
              "            </tr>\n",
              "            <tr>\n",
              "                        <th id=\"T_6c44343e_7f94_11ea_8c7d_0242ac1c0002level0_row1\" class=\"row_heading level0 row1\" >1</th>\n",
              "                        <td id=\"T_6c44343e_7f94_11ea_8c7d_0242ac1c0002row1_col0\" class=\"data row1 col0\" >Transform Target </td>\n",
              "                        <td id=\"T_6c44343e_7f94_11ea_8c7d_0242ac1c0002row1_col1\" class=\"data row1 col1\" >False</td>\n",
              "            </tr>\n",
              "            <tr>\n",
              "                        <th id=\"T_6c44343e_7f94_11ea_8c7d_0242ac1c0002level0_row2\" class=\"row_heading level0 row2\" >2</th>\n",
              "                        <td id=\"T_6c44343e_7f94_11ea_8c7d_0242ac1c0002row2_col0\" class=\"data row2 col0\" >Transform Target Method</td>\n",
              "                        <td id=\"T_6c44343e_7f94_11ea_8c7d_0242ac1c0002row2_col1\" class=\"data row2 col1\" >None</td>\n",
              "            </tr>\n",
              "            <tr>\n",
              "                        <th id=\"T_6c44343e_7f94_11ea_8c7d_0242ac1c0002level0_row3\" class=\"row_heading level0 row3\" >3</th>\n",
              "                        <td id=\"T_6c44343e_7f94_11ea_8c7d_0242ac1c0002row3_col0\" class=\"data row3 col0\" >Original Data</td>\n",
              "                        <td id=\"T_6c44343e_7f94_11ea_8c7d_0242ac1c0002row3_col1\" class=\"data row3 col1\" >(506, 14)</td>\n",
              "            </tr>\n",
              "            <tr>\n",
              "                        <th id=\"T_6c44343e_7f94_11ea_8c7d_0242ac1c0002level0_row4\" class=\"row_heading level0 row4\" >4</th>\n",
              "                        <td id=\"T_6c44343e_7f94_11ea_8c7d_0242ac1c0002row4_col0\" class=\"data row4 col0\" >Missing Values </td>\n",
              "                        <td id=\"T_6c44343e_7f94_11ea_8c7d_0242ac1c0002row4_col1\" class=\"data row4 col1\" >False</td>\n",
              "            </tr>\n",
              "            <tr>\n",
              "                        <th id=\"T_6c44343e_7f94_11ea_8c7d_0242ac1c0002level0_row5\" class=\"row_heading level0 row5\" >5</th>\n",
              "                        <td id=\"T_6c44343e_7f94_11ea_8c7d_0242ac1c0002row5_col0\" class=\"data row5 col0\" >Numeric Features </td>\n",
              "                        <td id=\"T_6c44343e_7f94_11ea_8c7d_0242ac1c0002row5_col1\" class=\"data row5 col1\" >11</td>\n",
              "            </tr>\n",
              "            <tr>\n",
              "                        <th id=\"T_6c44343e_7f94_11ea_8c7d_0242ac1c0002level0_row6\" class=\"row_heading level0 row6\" >6</th>\n",
              "                        <td id=\"T_6c44343e_7f94_11ea_8c7d_0242ac1c0002row6_col0\" class=\"data row6 col0\" >Categorical Features </td>\n",
              "                        <td id=\"T_6c44343e_7f94_11ea_8c7d_0242ac1c0002row6_col1\" class=\"data row6 col1\" >2</td>\n",
              "            </tr>\n",
              "            <tr>\n",
              "                        <th id=\"T_6c44343e_7f94_11ea_8c7d_0242ac1c0002level0_row7\" class=\"row_heading level0 row7\" >7</th>\n",
              "                        <td id=\"T_6c44343e_7f94_11ea_8c7d_0242ac1c0002row7_col0\" class=\"data row7 col0\" >Ordinal Features </td>\n",
              "                        <td id=\"T_6c44343e_7f94_11ea_8c7d_0242ac1c0002row7_col1\" class=\"data row7 col1\" >False</td>\n",
              "            </tr>\n",
              "            <tr>\n",
              "                        <th id=\"T_6c44343e_7f94_11ea_8c7d_0242ac1c0002level0_row8\" class=\"row_heading level0 row8\" >8</th>\n",
              "                        <td id=\"T_6c44343e_7f94_11ea_8c7d_0242ac1c0002row8_col0\" class=\"data row8 col0\" >High Cardinality Features </td>\n",
              "                        <td id=\"T_6c44343e_7f94_11ea_8c7d_0242ac1c0002row8_col1\" class=\"data row8 col1\" >False</td>\n",
              "            </tr>\n",
              "            <tr>\n",
              "                        <th id=\"T_6c44343e_7f94_11ea_8c7d_0242ac1c0002level0_row9\" class=\"row_heading level0 row9\" >9</th>\n",
              "                        <td id=\"T_6c44343e_7f94_11ea_8c7d_0242ac1c0002row9_col0\" class=\"data row9 col0\" >High Cardinality Method </td>\n",
              "                        <td id=\"T_6c44343e_7f94_11ea_8c7d_0242ac1c0002row9_col1\" class=\"data row9 col1\" >None</td>\n",
              "            </tr>\n",
              "            <tr>\n",
              "                        <th id=\"T_6c44343e_7f94_11ea_8c7d_0242ac1c0002level0_row10\" class=\"row_heading level0 row10\" >10</th>\n",
              "                        <td id=\"T_6c44343e_7f94_11ea_8c7d_0242ac1c0002row10_col0\" class=\"data row10 col0\" >Sampled Data</td>\n",
              "                        <td id=\"T_6c44343e_7f94_11ea_8c7d_0242ac1c0002row10_col1\" class=\"data row10 col1\" >(506, 14)</td>\n",
              "            </tr>\n",
              "            <tr>\n",
              "                        <th id=\"T_6c44343e_7f94_11ea_8c7d_0242ac1c0002level0_row11\" class=\"row_heading level0 row11\" >11</th>\n",
              "                        <td id=\"T_6c44343e_7f94_11ea_8c7d_0242ac1c0002row11_col0\" class=\"data row11 col0\" >Transformed Train Set</td>\n",
              "                        <td id=\"T_6c44343e_7f94_11ea_8c7d_0242ac1c0002row11_col1\" class=\"data row11 col1\" >(354, 21)</td>\n",
              "            </tr>\n",
              "            <tr>\n",
              "                        <th id=\"T_6c44343e_7f94_11ea_8c7d_0242ac1c0002level0_row12\" class=\"row_heading level0 row12\" >12</th>\n",
              "                        <td id=\"T_6c44343e_7f94_11ea_8c7d_0242ac1c0002row12_col0\" class=\"data row12 col0\" >Transformed Test Set</td>\n",
              "                        <td id=\"T_6c44343e_7f94_11ea_8c7d_0242ac1c0002row12_col1\" class=\"data row12 col1\" >(152, 21)</td>\n",
              "            </tr>\n",
              "            <tr>\n",
              "                        <th id=\"T_6c44343e_7f94_11ea_8c7d_0242ac1c0002level0_row13\" class=\"row_heading level0 row13\" >13</th>\n",
              "                        <td id=\"T_6c44343e_7f94_11ea_8c7d_0242ac1c0002row13_col0\" class=\"data row13 col0\" >Numeric Imputer </td>\n",
              "                        <td id=\"T_6c44343e_7f94_11ea_8c7d_0242ac1c0002row13_col1\" class=\"data row13 col1\" >mean</td>\n",
              "            </tr>\n",
              "            <tr>\n",
              "                        <th id=\"T_6c44343e_7f94_11ea_8c7d_0242ac1c0002level0_row14\" class=\"row_heading level0 row14\" >14</th>\n",
              "                        <td id=\"T_6c44343e_7f94_11ea_8c7d_0242ac1c0002row14_col0\" class=\"data row14 col0\" >Categorical Imputer </td>\n",
              "                        <td id=\"T_6c44343e_7f94_11ea_8c7d_0242ac1c0002row14_col1\" class=\"data row14 col1\" >constant</td>\n",
              "            </tr>\n",
              "            <tr>\n",
              "                        <th id=\"T_6c44343e_7f94_11ea_8c7d_0242ac1c0002level0_row15\" class=\"row_heading level0 row15\" >15</th>\n",
              "                        <td id=\"T_6c44343e_7f94_11ea_8c7d_0242ac1c0002row15_col0\" class=\"data row15 col0\" >Normalize </td>\n",
              "                        <td id=\"T_6c44343e_7f94_11ea_8c7d_0242ac1c0002row15_col1\" class=\"data row15 col1\" >False</td>\n",
              "            </tr>\n",
              "            <tr>\n",
              "                        <th id=\"T_6c44343e_7f94_11ea_8c7d_0242ac1c0002level0_row16\" class=\"row_heading level0 row16\" >16</th>\n",
              "                        <td id=\"T_6c44343e_7f94_11ea_8c7d_0242ac1c0002row16_col0\" class=\"data row16 col0\" >Normalize Method </td>\n",
              "                        <td id=\"T_6c44343e_7f94_11ea_8c7d_0242ac1c0002row16_col1\" class=\"data row16 col1\" >None</td>\n",
              "            </tr>\n",
              "            <tr>\n",
              "                        <th id=\"T_6c44343e_7f94_11ea_8c7d_0242ac1c0002level0_row17\" class=\"row_heading level0 row17\" >17</th>\n",
              "                        <td id=\"T_6c44343e_7f94_11ea_8c7d_0242ac1c0002row17_col0\" class=\"data row17 col0\" >Transformation </td>\n",
              "                        <td id=\"T_6c44343e_7f94_11ea_8c7d_0242ac1c0002row17_col1\" class=\"data row17 col1\" >False</td>\n",
              "            </tr>\n",
              "            <tr>\n",
              "                        <th id=\"T_6c44343e_7f94_11ea_8c7d_0242ac1c0002level0_row18\" class=\"row_heading level0 row18\" >18</th>\n",
              "                        <td id=\"T_6c44343e_7f94_11ea_8c7d_0242ac1c0002row18_col0\" class=\"data row18 col0\" >Transformation Method </td>\n",
              "                        <td id=\"T_6c44343e_7f94_11ea_8c7d_0242ac1c0002row18_col1\" class=\"data row18 col1\" >None</td>\n",
              "            </tr>\n",
              "            <tr>\n",
              "                        <th id=\"T_6c44343e_7f94_11ea_8c7d_0242ac1c0002level0_row19\" class=\"row_heading level0 row19\" >19</th>\n",
              "                        <td id=\"T_6c44343e_7f94_11ea_8c7d_0242ac1c0002row19_col0\" class=\"data row19 col0\" >PCA </td>\n",
              "                        <td id=\"T_6c44343e_7f94_11ea_8c7d_0242ac1c0002row19_col1\" class=\"data row19 col1\" >False</td>\n",
              "            </tr>\n",
              "            <tr>\n",
              "                        <th id=\"T_6c44343e_7f94_11ea_8c7d_0242ac1c0002level0_row20\" class=\"row_heading level0 row20\" >20</th>\n",
              "                        <td id=\"T_6c44343e_7f94_11ea_8c7d_0242ac1c0002row20_col0\" class=\"data row20 col0\" >PCA Method </td>\n",
              "                        <td id=\"T_6c44343e_7f94_11ea_8c7d_0242ac1c0002row20_col1\" class=\"data row20 col1\" >None</td>\n",
              "            </tr>\n",
              "            <tr>\n",
              "                        <th id=\"T_6c44343e_7f94_11ea_8c7d_0242ac1c0002level0_row21\" class=\"row_heading level0 row21\" >21</th>\n",
              "                        <td id=\"T_6c44343e_7f94_11ea_8c7d_0242ac1c0002row21_col0\" class=\"data row21 col0\" >PCA Components </td>\n",
              "                        <td id=\"T_6c44343e_7f94_11ea_8c7d_0242ac1c0002row21_col1\" class=\"data row21 col1\" >None</td>\n",
              "            </tr>\n",
              "            <tr>\n",
              "                        <th id=\"T_6c44343e_7f94_11ea_8c7d_0242ac1c0002level0_row22\" class=\"row_heading level0 row22\" >22</th>\n",
              "                        <td id=\"T_6c44343e_7f94_11ea_8c7d_0242ac1c0002row22_col0\" class=\"data row22 col0\" >Ignore Low Variance </td>\n",
              "                        <td id=\"T_6c44343e_7f94_11ea_8c7d_0242ac1c0002row22_col1\" class=\"data row22 col1\" >False</td>\n",
              "            </tr>\n",
              "            <tr>\n",
              "                        <th id=\"T_6c44343e_7f94_11ea_8c7d_0242ac1c0002level0_row23\" class=\"row_heading level0 row23\" >23</th>\n",
              "                        <td id=\"T_6c44343e_7f94_11ea_8c7d_0242ac1c0002row23_col0\" class=\"data row23 col0\" >Combine Rare Levels </td>\n",
              "                        <td id=\"T_6c44343e_7f94_11ea_8c7d_0242ac1c0002row23_col1\" class=\"data row23 col1\" >False</td>\n",
              "            </tr>\n",
              "            <tr>\n",
              "                        <th id=\"T_6c44343e_7f94_11ea_8c7d_0242ac1c0002level0_row24\" class=\"row_heading level0 row24\" >24</th>\n",
              "                        <td id=\"T_6c44343e_7f94_11ea_8c7d_0242ac1c0002row24_col0\" class=\"data row24 col0\" >Rare Level Threshold </td>\n",
              "                        <td id=\"T_6c44343e_7f94_11ea_8c7d_0242ac1c0002row24_col1\" class=\"data row24 col1\" >None</td>\n",
              "            </tr>\n",
              "            <tr>\n",
              "                        <th id=\"T_6c44343e_7f94_11ea_8c7d_0242ac1c0002level0_row25\" class=\"row_heading level0 row25\" >25</th>\n",
              "                        <td id=\"T_6c44343e_7f94_11ea_8c7d_0242ac1c0002row25_col0\" class=\"data row25 col0\" >Numeric Binning </td>\n",
              "                        <td id=\"T_6c44343e_7f94_11ea_8c7d_0242ac1c0002row25_col1\" class=\"data row25 col1\" >False</td>\n",
              "            </tr>\n",
              "            <tr>\n",
              "                        <th id=\"T_6c44343e_7f94_11ea_8c7d_0242ac1c0002level0_row26\" class=\"row_heading level0 row26\" >26</th>\n",
              "                        <td id=\"T_6c44343e_7f94_11ea_8c7d_0242ac1c0002row26_col0\" class=\"data row26 col0\" >Remove Outliers </td>\n",
              "                        <td id=\"T_6c44343e_7f94_11ea_8c7d_0242ac1c0002row26_col1\" class=\"data row26 col1\" >False</td>\n",
              "            </tr>\n",
              "            <tr>\n",
              "                        <th id=\"T_6c44343e_7f94_11ea_8c7d_0242ac1c0002level0_row27\" class=\"row_heading level0 row27\" >27</th>\n",
              "                        <td id=\"T_6c44343e_7f94_11ea_8c7d_0242ac1c0002row27_col0\" class=\"data row27 col0\" >Outliers Threshold </td>\n",
              "                        <td id=\"T_6c44343e_7f94_11ea_8c7d_0242ac1c0002row27_col1\" class=\"data row27 col1\" >None</td>\n",
              "            </tr>\n",
              "            <tr>\n",
              "                        <th id=\"T_6c44343e_7f94_11ea_8c7d_0242ac1c0002level0_row28\" class=\"row_heading level0 row28\" >28</th>\n",
              "                        <td id=\"T_6c44343e_7f94_11ea_8c7d_0242ac1c0002row28_col0\" class=\"data row28 col0\" >Remove Multicollinearity </td>\n",
              "                        <td id=\"T_6c44343e_7f94_11ea_8c7d_0242ac1c0002row28_col1\" class=\"data row28 col1\" >False</td>\n",
              "            </tr>\n",
              "            <tr>\n",
              "                        <th id=\"T_6c44343e_7f94_11ea_8c7d_0242ac1c0002level0_row29\" class=\"row_heading level0 row29\" >29</th>\n",
              "                        <td id=\"T_6c44343e_7f94_11ea_8c7d_0242ac1c0002row29_col0\" class=\"data row29 col0\" >Multicollinearity Threshold </td>\n",
              "                        <td id=\"T_6c44343e_7f94_11ea_8c7d_0242ac1c0002row29_col1\" class=\"data row29 col1\" >None</td>\n",
              "            </tr>\n",
              "            <tr>\n",
              "                        <th id=\"T_6c44343e_7f94_11ea_8c7d_0242ac1c0002level0_row30\" class=\"row_heading level0 row30\" >30</th>\n",
              "                        <td id=\"T_6c44343e_7f94_11ea_8c7d_0242ac1c0002row30_col0\" class=\"data row30 col0\" >Clustering </td>\n",
              "                        <td id=\"T_6c44343e_7f94_11ea_8c7d_0242ac1c0002row30_col1\" class=\"data row30 col1\" >False</td>\n",
              "            </tr>\n",
              "            <tr>\n",
              "                        <th id=\"T_6c44343e_7f94_11ea_8c7d_0242ac1c0002level0_row31\" class=\"row_heading level0 row31\" >31</th>\n",
              "                        <td id=\"T_6c44343e_7f94_11ea_8c7d_0242ac1c0002row31_col0\" class=\"data row31 col0\" >Clustering Iteration </td>\n",
              "                        <td id=\"T_6c44343e_7f94_11ea_8c7d_0242ac1c0002row31_col1\" class=\"data row31 col1\" >None</td>\n",
              "            </tr>\n",
              "            <tr>\n",
              "                        <th id=\"T_6c44343e_7f94_11ea_8c7d_0242ac1c0002level0_row32\" class=\"row_heading level0 row32\" >32</th>\n",
              "                        <td id=\"T_6c44343e_7f94_11ea_8c7d_0242ac1c0002row32_col0\" class=\"data row32 col0\" >Polynomial Features </td>\n",
              "                        <td id=\"T_6c44343e_7f94_11ea_8c7d_0242ac1c0002row32_col1\" class=\"data row32 col1\" >False</td>\n",
              "            </tr>\n",
              "            <tr>\n",
              "                        <th id=\"T_6c44343e_7f94_11ea_8c7d_0242ac1c0002level0_row33\" class=\"row_heading level0 row33\" >33</th>\n",
              "                        <td id=\"T_6c44343e_7f94_11ea_8c7d_0242ac1c0002row33_col0\" class=\"data row33 col0\" >Polynomial Degree </td>\n",
              "                        <td id=\"T_6c44343e_7f94_11ea_8c7d_0242ac1c0002row33_col1\" class=\"data row33 col1\" >None</td>\n",
              "            </tr>\n",
              "            <tr>\n",
              "                        <th id=\"T_6c44343e_7f94_11ea_8c7d_0242ac1c0002level0_row34\" class=\"row_heading level0 row34\" >34</th>\n",
              "                        <td id=\"T_6c44343e_7f94_11ea_8c7d_0242ac1c0002row34_col0\" class=\"data row34 col0\" >Trignometry Features </td>\n",
              "                        <td id=\"T_6c44343e_7f94_11ea_8c7d_0242ac1c0002row34_col1\" class=\"data row34 col1\" >False</td>\n",
              "            </tr>\n",
              "            <tr>\n",
              "                        <th id=\"T_6c44343e_7f94_11ea_8c7d_0242ac1c0002level0_row35\" class=\"row_heading level0 row35\" >35</th>\n",
              "                        <td id=\"T_6c44343e_7f94_11ea_8c7d_0242ac1c0002row35_col0\" class=\"data row35 col0\" >Polynomial Threshold </td>\n",
              "                        <td id=\"T_6c44343e_7f94_11ea_8c7d_0242ac1c0002row35_col1\" class=\"data row35 col1\" >None</td>\n",
              "            </tr>\n",
              "            <tr>\n",
              "                        <th id=\"T_6c44343e_7f94_11ea_8c7d_0242ac1c0002level0_row36\" class=\"row_heading level0 row36\" >36</th>\n",
              "                        <td id=\"T_6c44343e_7f94_11ea_8c7d_0242ac1c0002row36_col0\" class=\"data row36 col0\" >Group Features </td>\n",
              "                        <td id=\"T_6c44343e_7f94_11ea_8c7d_0242ac1c0002row36_col1\" class=\"data row36 col1\" >False</td>\n",
              "            </tr>\n",
              "            <tr>\n",
              "                        <th id=\"T_6c44343e_7f94_11ea_8c7d_0242ac1c0002level0_row37\" class=\"row_heading level0 row37\" >37</th>\n",
              "                        <td id=\"T_6c44343e_7f94_11ea_8c7d_0242ac1c0002row37_col0\" class=\"data row37 col0\" >Feature Selection </td>\n",
              "                        <td id=\"T_6c44343e_7f94_11ea_8c7d_0242ac1c0002row37_col1\" class=\"data row37 col1\" >False</td>\n",
              "            </tr>\n",
              "            <tr>\n",
              "                        <th id=\"T_6c44343e_7f94_11ea_8c7d_0242ac1c0002level0_row38\" class=\"row_heading level0 row38\" >38</th>\n",
              "                        <td id=\"T_6c44343e_7f94_11ea_8c7d_0242ac1c0002row38_col0\" class=\"data row38 col0\" >Features Selection Threshold </td>\n",
              "                        <td id=\"T_6c44343e_7f94_11ea_8c7d_0242ac1c0002row38_col1\" class=\"data row38 col1\" >None</td>\n",
              "            </tr>\n",
              "            <tr>\n",
              "                        <th id=\"T_6c44343e_7f94_11ea_8c7d_0242ac1c0002level0_row39\" class=\"row_heading level0 row39\" >39</th>\n",
              "                        <td id=\"T_6c44343e_7f94_11ea_8c7d_0242ac1c0002row39_col0\" class=\"data row39 col0\" >Feature Interaction </td>\n",
              "                        <td id=\"T_6c44343e_7f94_11ea_8c7d_0242ac1c0002row39_col1\" class=\"data row39 col1\" >False</td>\n",
              "            </tr>\n",
              "            <tr>\n",
              "                        <th id=\"T_6c44343e_7f94_11ea_8c7d_0242ac1c0002level0_row40\" class=\"row_heading level0 row40\" >40</th>\n",
              "                        <td id=\"T_6c44343e_7f94_11ea_8c7d_0242ac1c0002row40_col0\" class=\"data row40 col0\" >Feature Ratio </td>\n",
              "                        <td id=\"T_6c44343e_7f94_11ea_8c7d_0242ac1c0002row40_col1\" class=\"data row40 col1\" >False</td>\n",
              "            </tr>\n",
              "            <tr>\n",
              "                        <th id=\"T_6c44343e_7f94_11ea_8c7d_0242ac1c0002level0_row41\" class=\"row_heading level0 row41\" >41</th>\n",
              "                        <td id=\"T_6c44343e_7f94_11ea_8c7d_0242ac1c0002row41_col0\" class=\"data row41 col0\" >Interaction Threshold </td>\n",
              "                        <td id=\"T_6c44343e_7f94_11ea_8c7d_0242ac1c0002row41_col1\" class=\"data row41 col1\" >None</td>\n",
              "            </tr>\n",
              "    </tbody></table>"
            ],
            "text/plain": [
              "<pandas.io.formats.style.Styler at 0x7f2707c4bf28>"
            ]
          },
          "metadata": {
            "tags": []
          }
        }
      ]
    },
    {
      "cell_type": "code",
      "metadata": {
        "id": "0Morg2n9FO1u",
        "colab_type": "code",
        "colab": {}
      },
      "source": [
        "## clustering example"
      ],
      "execution_count": 0,
      "outputs": []
    },
    {
      "cell_type": "code",
      "metadata": {
        "id": "8rMPq_fWFRnM",
        "colab_type": "code",
        "outputId": "b6a928ff-3843-4dc8-ea9e-cdbead3d36eb",
        "colab": {
          "base_uri": "https://localhost:8080/",
          "height": 578
        }
      },
      "source": [
        "from pycaret.datasets import get_data\n",
        "jewellery = get_data('jewellery')\n",
        "\n",
        "from pycaret.clustering import * \n",
        "clu1 = setup(data = jewellery)"
      ],
      "execution_count": 0,
      "outputs": [
        {
          "output_type": "stream",
          "text": [
            "\n",
            "Setup Succesfully Completed!\n"
          ],
          "name": "stdout"
        },
        {
          "output_type": "display_data",
          "data": {
            "text/html": [
              "<style  type=\"text/css\" >\n",
              "</style><table id=\"T_707f6c3a_7f94_11ea_8c7d_0242ac1c0002\" ><thead>    <tr>        <th class=\"blank level0\" ></th>        <th class=\"col_heading level0 col0\" >Description</th>        <th class=\"col_heading level0 col1\" >Value</th>    </tr></thead><tbody>\n",
              "                <tr>\n",
              "                        <th id=\"T_707f6c3a_7f94_11ea_8c7d_0242ac1c0002level0_row0\" class=\"row_heading level0 row0\" >0</th>\n",
              "                        <td id=\"T_707f6c3a_7f94_11ea_8c7d_0242ac1c0002row0_col0\" class=\"data row0 col0\" >session_id </td>\n",
              "                        <td id=\"T_707f6c3a_7f94_11ea_8c7d_0242ac1c0002row0_col1\" class=\"data row0 col1\" >1986</td>\n",
              "            </tr>\n",
              "            <tr>\n",
              "                        <th id=\"T_707f6c3a_7f94_11ea_8c7d_0242ac1c0002level0_row1\" class=\"row_heading level0 row1\" >1</th>\n",
              "                        <td id=\"T_707f6c3a_7f94_11ea_8c7d_0242ac1c0002row1_col0\" class=\"data row1 col0\" >Original Data </td>\n",
              "                        <td id=\"T_707f6c3a_7f94_11ea_8c7d_0242ac1c0002row1_col1\" class=\"data row1 col1\" >(505, 4)</td>\n",
              "            </tr>\n",
              "            <tr>\n",
              "                        <th id=\"T_707f6c3a_7f94_11ea_8c7d_0242ac1c0002level0_row2\" class=\"row_heading level0 row2\" >2</th>\n",
              "                        <td id=\"T_707f6c3a_7f94_11ea_8c7d_0242ac1c0002row2_col0\" class=\"data row2 col0\" >Missing Values </td>\n",
              "                        <td id=\"T_707f6c3a_7f94_11ea_8c7d_0242ac1c0002row2_col1\" class=\"data row2 col1\" >False</td>\n",
              "            </tr>\n",
              "            <tr>\n",
              "                        <th id=\"T_707f6c3a_7f94_11ea_8c7d_0242ac1c0002level0_row3\" class=\"row_heading level0 row3\" >3</th>\n",
              "                        <td id=\"T_707f6c3a_7f94_11ea_8c7d_0242ac1c0002row3_col0\" class=\"data row3 col0\" >Numeric Features </td>\n",
              "                        <td id=\"T_707f6c3a_7f94_11ea_8c7d_0242ac1c0002row3_col1\" class=\"data row3 col1\" >4</td>\n",
              "            </tr>\n",
              "            <tr>\n",
              "                        <th id=\"T_707f6c3a_7f94_11ea_8c7d_0242ac1c0002level0_row4\" class=\"row_heading level0 row4\" >4</th>\n",
              "                        <td id=\"T_707f6c3a_7f94_11ea_8c7d_0242ac1c0002row4_col0\" class=\"data row4 col0\" >Categorical Features </td>\n",
              "                        <td id=\"T_707f6c3a_7f94_11ea_8c7d_0242ac1c0002row4_col1\" class=\"data row4 col1\" >0</td>\n",
              "            </tr>\n",
              "            <tr>\n",
              "                        <th id=\"T_707f6c3a_7f94_11ea_8c7d_0242ac1c0002level0_row5\" class=\"row_heading level0 row5\" >5</th>\n",
              "                        <td id=\"T_707f6c3a_7f94_11ea_8c7d_0242ac1c0002row5_col0\" class=\"data row5 col0\" >Ordinal Features </td>\n",
              "                        <td id=\"T_707f6c3a_7f94_11ea_8c7d_0242ac1c0002row5_col1\" class=\"data row5 col1\" >False</td>\n",
              "            </tr>\n",
              "            <tr>\n",
              "                        <th id=\"T_707f6c3a_7f94_11ea_8c7d_0242ac1c0002level0_row6\" class=\"row_heading level0 row6\" >6</th>\n",
              "                        <td id=\"T_707f6c3a_7f94_11ea_8c7d_0242ac1c0002row6_col0\" class=\"data row6 col0\" >High Cardinality Features </td>\n",
              "                        <td id=\"T_707f6c3a_7f94_11ea_8c7d_0242ac1c0002row6_col1\" class=\"data row6 col1\" >False</td>\n",
              "            </tr>\n",
              "            <tr>\n",
              "                        <th id=\"T_707f6c3a_7f94_11ea_8c7d_0242ac1c0002level0_row7\" class=\"row_heading level0 row7\" >7</th>\n",
              "                        <td id=\"T_707f6c3a_7f94_11ea_8c7d_0242ac1c0002row7_col0\" class=\"data row7 col0\" >Transformed Data </td>\n",
              "                        <td id=\"T_707f6c3a_7f94_11ea_8c7d_0242ac1c0002row7_col1\" class=\"data row7 col1\" >(505, 4)</td>\n",
              "            </tr>\n",
              "            <tr>\n",
              "                        <th id=\"T_707f6c3a_7f94_11ea_8c7d_0242ac1c0002level0_row8\" class=\"row_heading level0 row8\" >8</th>\n",
              "                        <td id=\"T_707f6c3a_7f94_11ea_8c7d_0242ac1c0002row8_col0\" class=\"data row8 col0\" >Numeric Imputer </td>\n",
              "                        <td id=\"T_707f6c3a_7f94_11ea_8c7d_0242ac1c0002row8_col1\" class=\"data row8 col1\" >mean</td>\n",
              "            </tr>\n",
              "            <tr>\n",
              "                        <th id=\"T_707f6c3a_7f94_11ea_8c7d_0242ac1c0002level0_row9\" class=\"row_heading level0 row9\" >9</th>\n",
              "                        <td id=\"T_707f6c3a_7f94_11ea_8c7d_0242ac1c0002row9_col0\" class=\"data row9 col0\" >Categorical Imputer </td>\n",
              "                        <td id=\"T_707f6c3a_7f94_11ea_8c7d_0242ac1c0002row9_col1\" class=\"data row9 col1\" >constant</td>\n",
              "            </tr>\n",
              "            <tr>\n",
              "                        <th id=\"T_707f6c3a_7f94_11ea_8c7d_0242ac1c0002level0_row10\" class=\"row_heading level0 row10\" >10</th>\n",
              "                        <td id=\"T_707f6c3a_7f94_11ea_8c7d_0242ac1c0002row10_col0\" class=\"data row10 col0\" >Normalize </td>\n",
              "                        <td id=\"T_707f6c3a_7f94_11ea_8c7d_0242ac1c0002row10_col1\" class=\"data row10 col1\" >False</td>\n",
              "            </tr>\n",
              "            <tr>\n",
              "                        <th id=\"T_707f6c3a_7f94_11ea_8c7d_0242ac1c0002level0_row11\" class=\"row_heading level0 row11\" >11</th>\n",
              "                        <td id=\"T_707f6c3a_7f94_11ea_8c7d_0242ac1c0002row11_col0\" class=\"data row11 col0\" >Normalize Method </td>\n",
              "                        <td id=\"T_707f6c3a_7f94_11ea_8c7d_0242ac1c0002row11_col1\" class=\"data row11 col1\" >None</td>\n",
              "            </tr>\n",
              "            <tr>\n",
              "                        <th id=\"T_707f6c3a_7f94_11ea_8c7d_0242ac1c0002level0_row12\" class=\"row_heading level0 row12\" >12</th>\n",
              "                        <td id=\"T_707f6c3a_7f94_11ea_8c7d_0242ac1c0002row12_col0\" class=\"data row12 col0\" >Transformation </td>\n",
              "                        <td id=\"T_707f6c3a_7f94_11ea_8c7d_0242ac1c0002row12_col1\" class=\"data row12 col1\" >False</td>\n",
              "            </tr>\n",
              "            <tr>\n",
              "                        <th id=\"T_707f6c3a_7f94_11ea_8c7d_0242ac1c0002level0_row13\" class=\"row_heading level0 row13\" >13</th>\n",
              "                        <td id=\"T_707f6c3a_7f94_11ea_8c7d_0242ac1c0002row13_col0\" class=\"data row13 col0\" >Transformation Method </td>\n",
              "                        <td id=\"T_707f6c3a_7f94_11ea_8c7d_0242ac1c0002row13_col1\" class=\"data row13 col1\" >None</td>\n",
              "            </tr>\n",
              "            <tr>\n",
              "                        <th id=\"T_707f6c3a_7f94_11ea_8c7d_0242ac1c0002level0_row14\" class=\"row_heading level0 row14\" >14</th>\n",
              "                        <td id=\"T_707f6c3a_7f94_11ea_8c7d_0242ac1c0002row14_col0\" class=\"data row14 col0\" >PCA </td>\n",
              "                        <td id=\"T_707f6c3a_7f94_11ea_8c7d_0242ac1c0002row14_col1\" class=\"data row14 col1\" >False</td>\n",
              "            </tr>\n",
              "            <tr>\n",
              "                        <th id=\"T_707f6c3a_7f94_11ea_8c7d_0242ac1c0002level0_row15\" class=\"row_heading level0 row15\" >15</th>\n",
              "                        <td id=\"T_707f6c3a_7f94_11ea_8c7d_0242ac1c0002row15_col0\" class=\"data row15 col0\" >PCA Method </td>\n",
              "                        <td id=\"T_707f6c3a_7f94_11ea_8c7d_0242ac1c0002row15_col1\" class=\"data row15 col1\" >None</td>\n",
              "            </tr>\n",
              "            <tr>\n",
              "                        <th id=\"T_707f6c3a_7f94_11ea_8c7d_0242ac1c0002level0_row16\" class=\"row_heading level0 row16\" >16</th>\n",
              "                        <td id=\"T_707f6c3a_7f94_11ea_8c7d_0242ac1c0002row16_col0\" class=\"data row16 col0\" >PCA components </td>\n",
              "                        <td id=\"T_707f6c3a_7f94_11ea_8c7d_0242ac1c0002row16_col1\" class=\"data row16 col1\" >None</td>\n",
              "            </tr>\n",
              "            <tr>\n",
              "                        <th id=\"T_707f6c3a_7f94_11ea_8c7d_0242ac1c0002level0_row17\" class=\"row_heading level0 row17\" >17</th>\n",
              "                        <td id=\"T_707f6c3a_7f94_11ea_8c7d_0242ac1c0002row17_col0\" class=\"data row17 col0\" >Ignore Low Variance </td>\n",
              "                        <td id=\"T_707f6c3a_7f94_11ea_8c7d_0242ac1c0002row17_col1\" class=\"data row17 col1\" >False</td>\n",
              "            </tr>\n",
              "            <tr>\n",
              "                        <th id=\"T_707f6c3a_7f94_11ea_8c7d_0242ac1c0002level0_row18\" class=\"row_heading level0 row18\" >18</th>\n",
              "                        <td id=\"T_707f6c3a_7f94_11ea_8c7d_0242ac1c0002row18_col0\" class=\"data row18 col0\" >Combine Rare Levels </td>\n",
              "                        <td id=\"T_707f6c3a_7f94_11ea_8c7d_0242ac1c0002row18_col1\" class=\"data row18 col1\" >False</td>\n",
              "            </tr>\n",
              "            <tr>\n",
              "                        <th id=\"T_707f6c3a_7f94_11ea_8c7d_0242ac1c0002level0_row19\" class=\"row_heading level0 row19\" >19</th>\n",
              "                        <td id=\"T_707f6c3a_7f94_11ea_8c7d_0242ac1c0002row19_col0\" class=\"data row19 col0\" >Rare Level Threshold </td>\n",
              "                        <td id=\"T_707f6c3a_7f94_11ea_8c7d_0242ac1c0002row19_col1\" class=\"data row19 col1\" >None</td>\n",
              "            </tr>\n",
              "            <tr>\n",
              "                        <th id=\"T_707f6c3a_7f94_11ea_8c7d_0242ac1c0002level0_row20\" class=\"row_heading level0 row20\" >20</th>\n",
              "                        <td id=\"T_707f6c3a_7f94_11ea_8c7d_0242ac1c0002row20_col0\" class=\"data row20 col0\" >Numeric Binning </td>\n",
              "                        <td id=\"T_707f6c3a_7f94_11ea_8c7d_0242ac1c0002row20_col1\" class=\"data row20 col1\" >False</td>\n",
              "            </tr>\n",
              "            <tr>\n",
              "                        <th id=\"T_707f6c3a_7f94_11ea_8c7d_0242ac1c0002level0_row21\" class=\"row_heading level0 row21\" >21</th>\n",
              "                        <td id=\"T_707f6c3a_7f94_11ea_8c7d_0242ac1c0002row21_col0\" class=\"data row21 col0\" >Remove Multicollinearity </td>\n",
              "                        <td id=\"T_707f6c3a_7f94_11ea_8c7d_0242ac1c0002row21_col1\" class=\"data row21 col1\" >False</td>\n",
              "            </tr>\n",
              "            <tr>\n",
              "                        <th id=\"T_707f6c3a_7f94_11ea_8c7d_0242ac1c0002level0_row22\" class=\"row_heading level0 row22\" >22</th>\n",
              "                        <td id=\"T_707f6c3a_7f94_11ea_8c7d_0242ac1c0002row22_col0\" class=\"data row22 col0\" >Multicollinearity Threshold </td>\n",
              "                        <td id=\"T_707f6c3a_7f94_11ea_8c7d_0242ac1c0002row22_col1\" class=\"data row22 col1\" >None</td>\n",
              "            </tr>\n",
              "            <tr>\n",
              "                        <th id=\"T_707f6c3a_7f94_11ea_8c7d_0242ac1c0002level0_row23\" class=\"row_heading level0 row23\" >23</th>\n",
              "                        <td id=\"T_707f6c3a_7f94_11ea_8c7d_0242ac1c0002row23_col0\" class=\"data row23 col0\" >Group Features </td>\n",
              "                        <td id=\"T_707f6c3a_7f94_11ea_8c7d_0242ac1c0002row23_col1\" class=\"data row23 col1\" >False</td>\n",
              "            </tr>\n",
              "    </tbody></table>"
            ],
            "text/plain": [
              "<pandas.io.formats.style.Styler at 0x7f2707c42e80>"
            ]
          },
          "metadata": {
            "tags": []
          }
        }
      ]
    },
    {
      "cell_type": "code",
      "metadata": {
        "id": "bYEOXFVpFZJq",
        "colab_type": "code",
        "colab": {}
      },
      "source": [
        "## comparing model"
      ],
      "execution_count": 0,
      "outputs": []
    },
    {
      "cell_type": "code",
      "metadata": {
        "id": "UjWgQeC3FcGA",
        "colab_type": "code",
        "colab": {}
      },
      "source": [
        "## classification\n"
      ],
      "execution_count": 0,
      "outputs": []
    },
    {
      "cell_type": "code",
      "metadata": {
        "id": "pmNmX49MFeFJ",
        "colab_type": "code",
        "outputId": "00922a01-ac9d-420a-95cc-a440d950b791",
        "colab": {
          "base_uri": "https://localhost:8080/",
          "height": 355
        }
      },
      "source": [
        "from pycaret.datasets import get_data\n",
        "diabetes = get_data('diabetes')\n",
        "\n",
        "from pycaret.classification import *\n",
        "clf1 = setup(data = diabetes, target = 'Class variable')\n",
        "\n",
        "compare_models()"
      ],
      "execution_count": 0,
      "outputs": [
        {
          "output_type": "execute_result",
          "data": {
            "text/html": [
              "<style  type=\"text/css\" >\n",
              "    #T_98a17e60_7f94_11ea_8c7d_0242ac1c0002 th {\n",
              "          text-align: left;\n",
              "    }    #T_98a17e60_7f94_11ea_8c7d_0242ac1c0002row0_col0 {\n",
              "            text-align:  left;\n",
              "        }    #T_98a17e60_7f94_11ea_8c7d_0242ac1c0002row0_col1 {\n",
              "            background-color:  yellow;\n",
              "            text-align:  left;\n",
              "        }    #T_98a17e60_7f94_11ea_8c7d_0242ac1c0002row0_col2 {\n",
              "            : ;\n",
              "            text-align:  left;\n",
              "        }    #T_98a17e60_7f94_11ea_8c7d_0242ac1c0002row0_col3 {\n",
              "            : ;\n",
              "            text-align:  left;\n",
              "        }    #T_98a17e60_7f94_11ea_8c7d_0242ac1c0002row0_col4 {\n",
              "            background-color:  yellow;\n",
              "            text-align:  left;\n",
              "        }    #T_98a17e60_7f94_11ea_8c7d_0242ac1c0002row0_col5 {\n",
              "            : ;\n",
              "            text-align:  left;\n",
              "        }    #T_98a17e60_7f94_11ea_8c7d_0242ac1c0002row0_col6 {\n",
              "            background-color:  yellow;\n",
              "            text-align:  left;\n",
              "        }    #T_98a17e60_7f94_11ea_8c7d_0242ac1c0002row1_col0 {\n",
              "            text-align:  left;\n",
              "        }    #T_98a17e60_7f94_11ea_8c7d_0242ac1c0002row1_col1 {\n",
              "            : ;\n",
              "            text-align:  left;\n",
              "        }    #T_98a17e60_7f94_11ea_8c7d_0242ac1c0002row1_col2 {\n",
              "            : ;\n",
              "            text-align:  left;\n",
              "        }    #T_98a17e60_7f94_11ea_8c7d_0242ac1c0002row1_col3 {\n",
              "            : ;\n",
              "            text-align:  left;\n",
              "        }    #T_98a17e60_7f94_11ea_8c7d_0242ac1c0002row1_col4 {\n",
              "            : ;\n",
              "            text-align:  left;\n",
              "        }    #T_98a17e60_7f94_11ea_8c7d_0242ac1c0002row1_col5 {\n",
              "            : ;\n",
              "            text-align:  left;\n",
              "        }    #T_98a17e60_7f94_11ea_8c7d_0242ac1c0002row1_col6 {\n",
              "            : ;\n",
              "            text-align:  left;\n",
              "        }    #T_98a17e60_7f94_11ea_8c7d_0242ac1c0002row2_col0 {\n",
              "            text-align:  left;\n",
              "        }    #T_98a17e60_7f94_11ea_8c7d_0242ac1c0002row2_col1 {\n",
              "            : ;\n",
              "            text-align:  left;\n",
              "        }    #T_98a17e60_7f94_11ea_8c7d_0242ac1c0002row2_col2 {\n",
              "            : ;\n",
              "            text-align:  left;\n",
              "        }    #T_98a17e60_7f94_11ea_8c7d_0242ac1c0002row2_col3 {\n",
              "            : ;\n",
              "            text-align:  left;\n",
              "        }    #T_98a17e60_7f94_11ea_8c7d_0242ac1c0002row2_col4 {\n",
              "            : ;\n",
              "            text-align:  left;\n",
              "        }    #T_98a17e60_7f94_11ea_8c7d_0242ac1c0002row2_col5 {\n",
              "            : ;\n",
              "            text-align:  left;\n",
              "        }    #T_98a17e60_7f94_11ea_8c7d_0242ac1c0002row2_col6 {\n",
              "            : ;\n",
              "            text-align:  left;\n",
              "        }    #T_98a17e60_7f94_11ea_8c7d_0242ac1c0002row3_col0 {\n",
              "            text-align:  left;\n",
              "        }    #T_98a17e60_7f94_11ea_8c7d_0242ac1c0002row3_col1 {\n",
              "            : ;\n",
              "            text-align:  left;\n",
              "        }    #T_98a17e60_7f94_11ea_8c7d_0242ac1c0002row3_col2 {\n",
              "            background-color:  yellow;\n",
              "            text-align:  left;\n",
              "        }    #T_98a17e60_7f94_11ea_8c7d_0242ac1c0002row3_col3 {\n",
              "            : ;\n",
              "            text-align:  left;\n",
              "        }    #T_98a17e60_7f94_11ea_8c7d_0242ac1c0002row3_col4 {\n",
              "            : ;\n",
              "            text-align:  left;\n",
              "        }    #T_98a17e60_7f94_11ea_8c7d_0242ac1c0002row3_col5 {\n",
              "            : ;\n",
              "            text-align:  left;\n",
              "        }    #T_98a17e60_7f94_11ea_8c7d_0242ac1c0002row3_col6 {\n",
              "            : ;\n",
              "            text-align:  left;\n",
              "        }    #T_98a17e60_7f94_11ea_8c7d_0242ac1c0002row4_col0 {\n",
              "            text-align:  left;\n",
              "        }    #T_98a17e60_7f94_11ea_8c7d_0242ac1c0002row4_col1 {\n",
              "            : ;\n",
              "            text-align:  left;\n",
              "        }    #T_98a17e60_7f94_11ea_8c7d_0242ac1c0002row4_col2 {\n",
              "            : ;\n",
              "            text-align:  left;\n",
              "        }    #T_98a17e60_7f94_11ea_8c7d_0242ac1c0002row4_col3 {\n",
              "            background-color:  yellow;\n",
              "            text-align:  left;\n",
              "        }    #T_98a17e60_7f94_11ea_8c7d_0242ac1c0002row4_col4 {\n",
              "            : ;\n",
              "            text-align:  left;\n",
              "        }    #T_98a17e60_7f94_11ea_8c7d_0242ac1c0002row4_col5 {\n",
              "            background-color:  yellow;\n",
              "            text-align:  left;\n",
              "        }    #T_98a17e60_7f94_11ea_8c7d_0242ac1c0002row4_col6 {\n",
              "            : ;\n",
              "            text-align:  left;\n",
              "        }    #T_98a17e60_7f94_11ea_8c7d_0242ac1c0002row5_col0 {\n",
              "            text-align:  left;\n",
              "        }    #T_98a17e60_7f94_11ea_8c7d_0242ac1c0002row5_col1 {\n",
              "            : ;\n",
              "            text-align:  left;\n",
              "        }    #T_98a17e60_7f94_11ea_8c7d_0242ac1c0002row5_col2 {\n",
              "            : ;\n",
              "            text-align:  left;\n",
              "        }    #T_98a17e60_7f94_11ea_8c7d_0242ac1c0002row5_col3 {\n",
              "            : ;\n",
              "            text-align:  left;\n",
              "        }    #T_98a17e60_7f94_11ea_8c7d_0242ac1c0002row5_col4 {\n",
              "            : ;\n",
              "            text-align:  left;\n",
              "        }    #T_98a17e60_7f94_11ea_8c7d_0242ac1c0002row5_col5 {\n",
              "            : ;\n",
              "            text-align:  left;\n",
              "        }    #T_98a17e60_7f94_11ea_8c7d_0242ac1c0002row5_col6 {\n",
              "            : ;\n",
              "            text-align:  left;\n",
              "        }    #T_98a17e60_7f94_11ea_8c7d_0242ac1c0002row6_col0 {\n",
              "            text-align:  left;\n",
              "        }    #T_98a17e60_7f94_11ea_8c7d_0242ac1c0002row6_col1 {\n",
              "            : ;\n",
              "            text-align:  left;\n",
              "        }    #T_98a17e60_7f94_11ea_8c7d_0242ac1c0002row6_col2 {\n",
              "            : ;\n",
              "            text-align:  left;\n",
              "        }    #T_98a17e60_7f94_11ea_8c7d_0242ac1c0002row6_col3 {\n",
              "            : ;\n",
              "            text-align:  left;\n",
              "        }    #T_98a17e60_7f94_11ea_8c7d_0242ac1c0002row6_col4 {\n",
              "            : ;\n",
              "            text-align:  left;\n",
              "        }    #T_98a17e60_7f94_11ea_8c7d_0242ac1c0002row6_col5 {\n",
              "            : ;\n",
              "            text-align:  left;\n",
              "        }    #T_98a17e60_7f94_11ea_8c7d_0242ac1c0002row6_col6 {\n",
              "            : ;\n",
              "            text-align:  left;\n",
              "        }    #T_98a17e60_7f94_11ea_8c7d_0242ac1c0002row7_col0 {\n",
              "            text-align:  left;\n",
              "        }    #T_98a17e60_7f94_11ea_8c7d_0242ac1c0002row7_col1 {\n",
              "            : ;\n",
              "            text-align:  left;\n",
              "        }    #T_98a17e60_7f94_11ea_8c7d_0242ac1c0002row7_col2 {\n",
              "            : ;\n",
              "            text-align:  left;\n",
              "        }    #T_98a17e60_7f94_11ea_8c7d_0242ac1c0002row7_col3 {\n",
              "            : ;\n",
              "            text-align:  left;\n",
              "        }    #T_98a17e60_7f94_11ea_8c7d_0242ac1c0002row7_col4 {\n",
              "            : ;\n",
              "            text-align:  left;\n",
              "        }    #T_98a17e60_7f94_11ea_8c7d_0242ac1c0002row7_col5 {\n",
              "            : ;\n",
              "            text-align:  left;\n",
              "        }    #T_98a17e60_7f94_11ea_8c7d_0242ac1c0002row7_col6 {\n",
              "            : ;\n",
              "            text-align:  left;\n",
              "        }    #T_98a17e60_7f94_11ea_8c7d_0242ac1c0002row8_col0 {\n",
              "            text-align:  left;\n",
              "        }    #T_98a17e60_7f94_11ea_8c7d_0242ac1c0002row8_col1 {\n",
              "            : ;\n",
              "            text-align:  left;\n",
              "        }    #T_98a17e60_7f94_11ea_8c7d_0242ac1c0002row8_col2 {\n",
              "            : ;\n",
              "            text-align:  left;\n",
              "        }    #T_98a17e60_7f94_11ea_8c7d_0242ac1c0002row8_col3 {\n",
              "            : ;\n",
              "            text-align:  left;\n",
              "        }    #T_98a17e60_7f94_11ea_8c7d_0242ac1c0002row8_col4 {\n",
              "            : ;\n",
              "            text-align:  left;\n",
              "        }    #T_98a17e60_7f94_11ea_8c7d_0242ac1c0002row8_col5 {\n",
              "            : ;\n",
              "            text-align:  left;\n",
              "        }    #T_98a17e60_7f94_11ea_8c7d_0242ac1c0002row8_col6 {\n",
              "            : ;\n",
              "            text-align:  left;\n",
              "        }    #T_98a17e60_7f94_11ea_8c7d_0242ac1c0002row9_col0 {\n",
              "            text-align:  left;\n",
              "        }    #T_98a17e60_7f94_11ea_8c7d_0242ac1c0002row9_col1 {\n",
              "            : ;\n",
              "            text-align:  left;\n",
              "        }    #T_98a17e60_7f94_11ea_8c7d_0242ac1c0002row9_col2 {\n",
              "            : ;\n",
              "            text-align:  left;\n",
              "        }    #T_98a17e60_7f94_11ea_8c7d_0242ac1c0002row9_col3 {\n",
              "            : ;\n",
              "            text-align:  left;\n",
              "        }    #T_98a17e60_7f94_11ea_8c7d_0242ac1c0002row9_col4 {\n",
              "            : ;\n",
              "            text-align:  left;\n",
              "        }    #T_98a17e60_7f94_11ea_8c7d_0242ac1c0002row9_col5 {\n",
              "            : ;\n",
              "            text-align:  left;\n",
              "        }    #T_98a17e60_7f94_11ea_8c7d_0242ac1c0002row9_col6 {\n",
              "            : ;\n",
              "            text-align:  left;\n",
              "        }    #T_98a17e60_7f94_11ea_8c7d_0242ac1c0002row10_col0 {\n",
              "            text-align:  left;\n",
              "        }    #T_98a17e60_7f94_11ea_8c7d_0242ac1c0002row10_col1 {\n",
              "            : ;\n",
              "            text-align:  left;\n",
              "        }    #T_98a17e60_7f94_11ea_8c7d_0242ac1c0002row10_col2 {\n",
              "            : ;\n",
              "            text-align:  left;\n",
              "        }    #T_98a17e60_7f94_11ea_8c7d_0242ac1c0002row10_col3 {\n",
              "            : ;\n",
              "            text-align:  left;\n",
              "        }    #T_98a17e60_7f94_11ea_8c7d_0242ac1c0002row10_col4 {\n",
              "            : ;\n",
              "            text-align:  left;\n",
              "        }    #T_98a17e60_7f94_11ea_8c7d_0242ac1c0002row10_col5 {\n",
              "            : ;\n",
              "            text-align:  left;\n",
              "        }    #T_98a17e60_7f94_11ea_8c7d_0242ac1c0002row10_col6 {\n",
              "            : ;\n",
              "            text-align:  left;\n",
              "        }    #T_98a17e60_7f94_11ea_8c7d_0242ac1c0002row11_col0 {\n",
              "            text-align:  left;\n",
              "        }    #T_98a17e60_7f94_11ea_8c7d_0242ac1c0002row11_col1 {\n",
              "            : ;\n",
              "            text-align:  left;\n",
              "        }    #T_98a17e60_7f94_11ea_8c7d_0242ac1c0002row11_col2 {\n",
              "            : ;\n",
              "            text-align:  left;\n",
              "        }    #T_98a17e60_7f94_11ea_8c7d_0242ac1c0002row11_col3 {\n",
              "            : ;\n",
              "            text-align:  left;\n",
              "        }    #T_98a17e60_7f94_11ea_8c7d_0242ac1c0002row11_col4 {\n",
              "            : ;\n",
              "            text-align:  left;\n",
              "        }    #T_98a17e60_7f94_11ea_8c7d_0242ac1c0002row11_col5 {\n",
              "            : ;\n",
              "            text-align:  left;\n",
              "        }    #T_98a17e60_7f94_11ea_8c7d_0242ac1c0002row11_col6 {\n",
              "            : ;\n",
              "            text-align:  left;\n",
              "        }    #T_98a17e60_7f94_11ea_8c7d_0242ac1c0002row12_col0 {\n",
              "            text-align:  left;\n",
              "        }    #T_98a17e60_7f94_11ea_8c7d_0242ac1c0002row12_col1 {\n",
              "            : ;\n",
              "            text-align:  left;\n",
              "        }    #T_98a17e60_7f94_11ea_8c7d_0242ac1c0002row12_col2 {\n",
              "            : ;\n",
              "            text-align:  left;\n",
              "        }    #T_98a17e60_7f94_11ea_8c7d_0242ac1c0002row12_col3 {\n",
              "            : ;\n",
              "            text-align:  left;\n",
              "        }    #T_98a17e60_7f94_11ea_8c7d_0242ac1c0002row12_col4 {\n",
              "            : ;\n",
              "            text-align:  left;\n",
              "        }    #T_98a17e60_7f94_11ea_8c7d_0242ac1c0002row12_col5 {\n",
              "            : ;\n",
              "            text-align:  left;\n",
              "        }    #T_98a17e60_7f94_11ea_8c7d_0242ac1c0002row12_col6 {\n",
              "            : ;\n",
              "            text-align:  left;\n",
              "        }    #T_98a17e60_7f94_11ea_8c7d_0242ac1c0002row13_col0 {\n",
              "            text-align:  left;\n",
              "        }    #T_98a17e60_7f94_11ea_8c7d_0242ac1c0002row13_col1 {\n",
              "            : ;\n",
              "            text-align:  left;\n",
              "        }    #T_98a17e60_7f94_11ea_8c7d_0242ac1c0002row13_col2 {\n",
              "            : ;\n",
              "            text-align:  left;\n",
              "        }    #T_98a17e60_7f94_11ea_8c7d_0242ac1c0002row13_col3 {\n",
              "            : ;\n",
              "            text-align:  left;\n",
              "        }    #T_98a17e60_7f94_11ea_8c7d_0242ac1c0002row13_col4 {\n",
              "            : ;\n",
              "            text-align:  left;\n",
              "        }    #T_98a17e60_7f94_11ea_8c7d_0242ac1c0002row13_col5 {\n",
              "            : ;\n",
              "            text-align:  left;\n",
              "        }    #T_98a17e60_7f94_11ea_8c7d_0242ac1c0002row13_col6 {\n",
              "            : ;\n",
              "            text-align:  left;\n",
              "        }    #T_98a17e60_7f94_11ea_8c7d_0242ac1c0002row14_col0 {\n",
              "            text-align:  left;\n",
              "        }    #T_98a17e60_7f94_11ea_8c7d_0242ac1c0002row14_col1 {\n",
              "            : ;\n",
              "            text-align:  left;\n",
              "        }    #T_98a17e60_7f94_11ea_8c7d_0242ac1c0002row14_col2 {\n",
              "            : ;\n",
              "            text-align:  left;\n",
              "        }    #T_98a17e60_7f94_11ea_8c7d_0242ac1c0002row14_col3 {\n",
              "            : ;\n",
              "            text-align:  left;\n",
              "        }    #T_98a17e60_7f94_11ea_8c7d_0242ac1c0002row14_col4 {\n",
              "            : ;\n",
              "            text-align:  left;\n",
              "        }    #T_98a17e60_7f94_11ea_8c7d_0242ac1c0002row14_col5 {\n",
              "            : ;\n",
              "            text-align:  left;\n",
              "        }    #T_98a17e60_7f94_11ea_8c7d_0242ac1c0002row14_col6 {\n",
              "            : ;\n",
              "            text-align:  left;\n",
              "        }</style><table id=\"T_98a17e60_7f94_11ea_8c7d_0242ac1c0002\" ><thead>    <tr>        <th class=\"blank level0\" ></th>        <th class=\"col_heading level0 col0\" >Model</th>        <th class=\"col_heading level0 col1\" >Accuracy</th>        <th class=\"col_heading level0 col2\" >AUC</th>        <th class=\"col_heading level0 col3\" >Recall</th>        <th class=\"col_heading level0 col4\" >Prec.</th>        <th class=\"col_heading level0 col5\" >F1</th>        <th class=\"col_heading level0 col6\" >Kappa</th>    </tr></thead><tbody>\n",
              "                <tr>\n",
              "                        <th id=\"T_98a17e60_7f94_11ea_8c7d_0242ac1c0002level0_row0\" class=\"row_heading level0 row0\" >0</th>\n",
              "                        <td id=\"T_98a17e60_7f94_11ea_8c7d_0242ac1c0002row0_col0\" class=\"data row0 col0\" >Ridge Classifier</td>\n",
              "                        <td id=\"T_98a17e60_7f94_11ea_8c7d_0242ac1c0002row0_col1\" class=\"data row0 col1\" >0.733600</td>\n",
              "                        <td id=\"T_98a17e60_7f94_11ea_8c7d_0242ac1c0002row0_col2\" class=\"data row0 col2\" >0.000000</td>\n",
              "                        <td id=\"T_98a17e60_7f94_11ea_8c7d_0242ac1c0002row0_col3\" class=\"data row0 col3\" >0.513700</td>\n",
              "                        <td id=\"T_98a17e60_7f94_11ea_8c7d_0242ac1c0002row0_col4\" class=\"data row0 col4\" >0.660200</td>\n",
              "                        <td id=\"T_98a17e60_7f94_11ea_8c7d_0242ac1c0002row0_col5\" class=\"data row0 col5\" >0.570200</td>\n",
              "                        <td id=\"T_98a17e60_7f94_11ea_8c7d_0242ac1c0002row0_col6\" class=\"data row0 col6\" >0.383200</td>\n",
              "            </tr>\n",
              "            <tr>\n",
              "                        <th id=\"T_98a17e60_7f94_11ea_8c7d_0242ac1c0002level0_row1\" class=\"row_heading level0 row1\" >1</th>\n",
              "                        <td id=\"T_98a17e60_7f94_11ea_8c7d_0242ac1c0002row1_col0\" class=\"data row1 col0\" >Linear Discriminant Analysis</td>\n",
              "                        <td id=\"T_98a17e60_7f94_11ea_8c7d_0242ac1c0002row1_col1\" class=\"data row1 col1\" >0.731800</td>\n",
              "                        <td id=\"T_98a17e60_7f94_11ea_8c7d_0242ac1c0002row1_col2\" class=\"data row1 col2\" >0.779400</td>\n",
              "                        <td id=\"T_98a17e60_7f94_11ea_8c7d_0242ac1c0002row1_col3\" class=\"data row1 col3\" >0.513700</td>\n",
              "                        <td id=\"T_98a17e60_7f94_11ea_8c7d_0242ac1c0002row1_col4\" class=\"data row1 col4\" >0.654400</td>\n",
              "                        <td id=\"T_98a17e60_7f94_11ea_8c7d_0242ac1c0002row1_col5\" class=\"data row1 col5\" >0.568400</td>\n",
              "                        <td id=\"T_98a17e60_7f94_11ea_8c7d_0242ac1c0002row1_col6\" class=\"data row1 col6\" >0.379600</td>\n",
              "            </tr>\n",
              "            <tr>\n",
              "                        <th id=\"T_98a17e60_7f94_11ea_8c7d_0242ac1c0002level0_row2\" class=\"row_heading level0 row2\" >2</th>\n",
              "                        <td id=\"T_98a17e60_7f94_11ea_8c7d_0242ac1c0002row2_col0\" class=\"data row2 col0\" >Logistic Regression</td>\n",
              "                        <td id=\"T_98a17e60_7f94_11ea_8c7d_0242ac1c0002row2_col1\" class=\"data row2 col1\" >0.729900</td>\n",
              "                        <td id=\"T_98a17e60_7f94_11ea_8c7d_0242ac1c0002row2_col2\" class=\"data row2 col2\" >0.767300</td>\n",
              "                        <td id=\"T_98a17e60_7f94_11ea_8c7d_0242ac1c0002row2_col3\" class=\"data row2 col3\" >0.507900</td>\n",
              "                        <td id=\"T_98a17e60_7f94_11ea_8c7d_0242ac1c0002row2_col4\" class=\"data row2 col4\" >0.650800</td>\n",
              "                        <td id=\"T_98a17e60_7f94_11ea_8c7d_0242ac1c0002row2_col5\" class=\"data row2 col5\" >0.566500</td>\n",
              "                        <td id=\"T_98a17e60_7f94_11ea_8c7d_0242ac1c0002row2_col6\" class=\"data row2 col6\" >0.375100</td>\n",
              "            </tr>\n",
              "            <tr>\n",
              "                        <th id=\"T_98a17e60_7f94_11ea_8c7d_0242ac1c0002level0_row3\" class=\"row_heading level0 row3\" >3</th>\n",
              "                        <td id=\"T_98a17e60_7f94_11ea_8c7d_0242ac1c0002row3_col0\" class=\"data row3 col0\" >Extreme Gradient Boosting</td>\n",
              "                        <td id=\"T_98a17e60_7f94_11ea_8c7d_0242ac1c0002row3_col1\" class=\"data row3 col1\" >0.726300</td>\n",
              "                        <td id=\"T_98a17e60_7f94_11ea_8c7d_0242ac1c0002row3_col2\" class=\"data row3 col2\" >0.795700</td>\n",
              "                        <td id=\"T_98a17e60_7f94_11ea_8c7d_0242ac1c0002row3_col3\" class=\"data row3 col3\" >0.545300</td>\n",
              "                        <td id=\"T_98a17e60_7f94_11ea_8c7d_0242ac1c0002row3_col4\" class=\"data row3 col4\" >0.624600</td>\n",
              "                        <td id=\"T_98a17e60_7f94_11ea_8c7d_0242ac1c0002row3_col5\" class=\"data row3 col5\" >0.575500</td>\n",
              "                        <td id=\"T_98a17e60_7f94_11ea_8c7d_0242ac1c0002row3_col6\" class=\"data row3 col6\" >0.377100</td>\n",
              "            </tr>\n",
              "            <tr>\n",
              "                        <th id=\"T_98a17e60_7f94_11ea_8c7d_0242ac1c0002level0_row4\" class=\"row_heading level0 row4\" >4</th>\n",
              "                        <td id=\"T_98a17e60_7f94_11ea_8c7d_0242ac1c0002row4_col0\" class=\"data row4 col0\" >Ada Boost Classifier</td>\n",
              "                        <td id=\"T_98a17e60_7f94_11ea_8c7d_0242ac1c0002row4_col1\" class=\"data row4 col1\" >0.718800</td>\n",
              "                        <td id=\"T_98a17e60_7f94_11ea_8c7d_0242ac1c0002row4_col2\" class=\"data row4 col2\" >0.761600</td>\n",
              "                        <td id=\"T_98a17e60_7f94_11ea_8c7d_0242ac1c0002row4_col3\" class=\"data row4 col3\" >0.561100</td>\n",
              "                        <td id=\"T_98a17e60_7f94_11ea_8c7d_0242ac1c0002row4_col4\" class=\"data row4 col4\" >0.603500</td>\n",
              "                        <td id=\"T_98a17e60_7f94_11ea_8c7d_0242ac1c0002row4_col5\" class=\"data row4 col5\" >0.577400</td>\n",
              "                        <td id=\"T_98a17e60_7f94_11ea_8c7d_0242ac1c0002row4_col6\" class=\"data row4 col6\" >0.368400</td>\n",
              "            </tr>\n",
              "            <tr>\n",
              "                        <th id=\"T_98a17e60_7f94_11ea_8c7d_0242ac1c0002level0_row5\" class=\"row_heading level0 row5\" >5</th>\n",
              "                        <td id=\"T_98a17e60_7f94_11ea_8c7d_0242ac1c0002row5_col0\" class=\"data row5 col0\" >CatBoost Classifier</td>\n",
              "                        <td id=\"T_98a17e60_7f94_11ea_8c7d_0242ac1c0002row5_col1\" class=\"data row5 col1\" >0.715000</td>\n",
              "                        <td id=\"T_98a17e60_7f94_11ea_8c7d_0242ac1c0002row5_col2\" class=\"data row5 col2\" >0.775700</td>\n",
              "                        <td id=\"T_98a17e60_7f94_11ea_8c7d_0242ac1c0002row5_col3\" class=\"data row5 col3\" >0.534800</td>\n",
              "                        <td id=\"T_98a17e60_7f94_11ea_8c7d_0242ac1c0002row5_col4\" class=\"data row5 col4\" >0.602500</td>\n",
              "                        <td id=\"T_98a17e60_7f94_11ea_8c7d_0242ac1c0002row5_col5\" class=\"data row5 col5\" >0.560400</td>\n",
              "                        <td id=\"T_98a17e60_7f94_11ea_8c7d_0242ac1c0002row5_col6\" class=\"data row5 col6\" >0.353200</td>\n",
              "            </tr>\n",
              "            <tr>\n",
              "                        <th id=\"T_98a17e60_7f94_11ea_8c7d_0242ac1c0002level0_row6\" class=\"row_heading level0 row6\" >6</th>\n",
              "                        <td id=\"T_98a17e60_7f94_11ea_8c7d_0242ac1c0002row6_col0\" class=\"data row6 col0\" >Random Forest Classifier</td>\n",
              "                        <td id=\"T_98a17e60_7f94_11ea_8c7d_0242ac1c0002row6_col1\" class=\"data row6 col1\" >0.713100</td>\n",
              "                        <td id=\"T_98a17e60_7f94_11ea_8c7d_0242ac1c0002row6_col2\" class=\"data row6 col2\" >0.761700</td>\n",
              "                        <td id=\"T_98a17e60_7f94_11ea_8c7d_0242ac1c0002row6_col3\" class=\"data row6 col3\" >0.481300</td>\n",
              "                        <td id=\"T_98a17e60_7f94_11ea_8c7d_0242ac1c0002row6_col4\" class=\"data row6 col4\" >0.629300</td>\n",
              "                        <td id=\"T_98a17e60_7f94_11ea_8c7d_0242ac1c0002row6_col5\" class=\"data row6 col5\" >0.539300</td>\n",
              "                        <td id=\"T_98a17e60_7f94_11ea_8c7d_0242ac1c0002row6_col6\" class=\"data row6 col6\" >0.336700</td>\n",
              "            </tr>\n",
              "            <tr>\n",
              "                        <th id=\"T_98a17e60_7f94_11ea_8c7d_0242ac1c0002level0_row7\" class=\"row_heading level0 row7\" >7</th>\n",
              "                        <td id=\"T_98a17e60_7f94_11ea_8c7d_0242ac1c0002row7_col0\" class=\"data row7 col0\" >Light Gradient Boosting Machine</td>\n",
              "                        <td id=\"T_98a17e60_7f94_11ea_8c7d_0242ac1c0002row7_col1\" class=\"data row7 col1\" >0.707600</td>\n",
              "                        <td id=\"T_98a17e60_7f94_11ea_8c7d_0242ac1c0002row7_col2\" class=\"data row7 col2\" >0.771000</td>\n",
              "                        <td id=\"T_98a17e60_7f94_11ea_8c7d_0242ac1c0002row7_col3\" class=\"data row7 col3\" >0.529200</td>\n",
              "                        <td id=\"T_98a17e60_7f94_11ea_8c7d_0242ac1c0002row7_col4\" class=\"data row7 col4\" >0.598400</td>\n",
              "                        <td id=\"T_98a17e60_7f94_11ea_8c7d_0242ac1c0002row7_col5\" class=\"data row7 col5\" >0.554800</td>\n",
              "                        <td id=\"T_98a17e60_7f94_11ea_8c7d_0242ac1c0002row7_col6\" class=\"data row7 col6\" >0.340100</td>\n",
              "            </tr>\n",
              "            <tr>\n",
              "                        <th id=\"T_98a17e60_7f94_11ea_8c7d_0242ac1c0002level0_row8\" class=\"row_heading level0 row8\" >8</th>\n",
              "                        <td id=\"T_98a17e60_7f94_11ea_8c7d_0242ac1c0002row8_col0\" class=\"data row8 col0\" >Gradient Boosting Classifier</td>\n",
              "                        <td id=\"T_98a17e60_7f94_11ea_8c7d_0242ac1c0002row8_col1\" class=\"data row8 col1\" >0.705800</td>\n",
              "                        <td id=\"T_98a17e60_7f94_11ea_8c7d_0242ac1c0002row8_col2\" class=\"data row8 col2\" >0.785000</td>\n",
              "                        <td id=\"T_98a17e60_7f94_11ea_8c7d_0242ac1c0002row8_col3\" class=\"data row8 col3\" >0.534500</td>\n",
              "                        <td id=\"T_98a17e60_7f94_11ea_8c7d_0242ac1c0002row8_col4\" class=\"data row8 col4\" >0.589000</td>\n",
              "                        <td id=\"T_98a17e60_7f94_11ea_8c7d_0242ac1c0002row8_col5\" class=\"data row8 col5\" >0.556800</td>\n",
              "                        <td id=\"T_98a17e60_7f94_11ea_8c7d_0242ac1c0002row8_col6\" class=\"data row8 col6\" >0.338300</td>\n",
              "            </tr>\n",
              "            <tr>\n",
              "                        <th id=\"T_98a17e60_7f94_11ea_8c7d_0242ac1c0002level0_row9\" class=\"row_heading level0 row9\" >9</th>\n",
              "                        <td id=\"T_98a17e60_7f94_11ea_8c7d_0242ac1c0002row9_col0\" class=\"data row9 col0\" >K Neighbors Classifier</td>\n",
              "                        <td id=\"T_98a17e60_7f94_11ea_8c7d_0242ac1c0002row9_col1\" class=\"data row9 col1\" >0.700100</td>\n",
              "                        <td id=\"T_98a17e60_7f94_11ea_8c7d_0242ac1c0002row9_col2\" class=\"data row9 col2\" >0.722100</td>\n",
              "                        <td id=\"T_98a17e60_7f94_11ea_8c7d_0242ac1c0002row9_col3\" class=\"data row9 col3\" >0.502300</td>\n",
              "                        <td id=\"T_98a17e60_7f94_11ea_8c7d_0242ac1c0002row9_col4\" class=\"data row9 col4\" >0.609100</td>\n",
              "                        <td id=\"T_98a17e60_7f94_11ea_8c7d_0242ac1c0002row9_col5\" class=\"data row9 col5\" >0.538700</td>\n",
              "                        <td id=\"T_98a17e60_7f94_11ea_8c7d_0242ac1c0002row9_col6\" class=\"data row9 col6\" >0.320700</td>\n",
              "            </tr>\n",
              "            <tr>\n",
              "                        <th id=\"T_98a17e60_7f94_11ea_8c7d_0242ac1c0002level0_row10\" class=\"row_heading level0 row10\" >10</th>\n",
              "                        <td id=\"T_98a17e60_7f94_11ea_8c7d_0242ac1c0002row10_col0\" class=\"data row10 col0\" >Extra Trees Classifier</td>\n",
              "                        <td id=\"T_98a17e60_7f94_11ea_8c7d_0242ac1c0002row10_col1\" class=\"data row10 col1\" >0.698100</td>\n",
              "                        <td id=\"T_98a17e60_7f94_11ea_8c7d_0242ac1c0002row10_col2\" class=\"data row10 col2\" >0.748900</td>\n",
              "                        <td id=\"T_98a17e60_7f94_11ea_8c7d_0242ac1c0002row10_col3\" class=\"data row10 col3\" >0.438300</td>\n",
              "                        <td id=\"T_98a17e60_7f94_11ea_8c7d_0242ac1c0002row10_col4\" class=\"data row10 col4\" >0.602000</td>\n",
              "                        <td id=\"T_98a17e60_7f94_11ea_8c7d_0242ac1c0002row10_col5\" class=\"data row10 col5\" >0.502700</td>\n",
              "                        <td id=\"T_98a17e60_7f94_11ea_8c7d_0242ac1c0002row10_col6\" class=\"data row10 col6\" >0.294000</td>\n",
              "            </tr>\n",
              "            <tr>\n",
              "                        <th id=\"T_98a17e60_7f94_11ea_8c7d_0242ac1c0002level0_row11\" class=\"row_heading level0 row11\" >11</th>\n",
              "                        <td id=\"T_98a17e60_7f94_11ea_8c7d_0242ac1c0002row11_col0\" class=\"data row11 col0\" >Naive Bayes</td>\n",
              "                        <td id=\"T_98a17e60_7f94_11ea_8c7d_0242ac1c0002row11_col1\" class=\"data row11 col1\" >0.670400</td>\n",
              "                        <td id=\"T_98a17e60_7f94_11ea_8c7d_0242ac1c0002row11_col2\" class=\"data row11 col2\" >0.709700</td>\n",
              "                        <td id=\"T_98a17e60_7f94_11ea_8c7d_0242ac1c0002row11_col3\" class=\"data row11 col3\" >0.219000</td>\n",
              "                        <td id=\"T_98a17e60_7f94_11ea_8c7d_0242ac1c0002row11_col4\" class=\"data row11 col4\" >0.565600</td>\n",
              "                        <td id=\"T_98a17e60_7f94_11ea_8c7d_0242ac1c0002row11_col5\" class=\"data row11 col5\" >0.303500</td>\n",
              "                        <td id=\"T_98a17e60_7f94_11ea_8c7d_0242ac1c0002row11_col6\" class=\"data row11 col6\" >0.149200</td>\n",
              "            </tr>\n",
              "            <tr>\n",
              "                        <th id=\"T_98a17e60_7f94_11ea_8c7d_0242ac1c0002level0_row12\" class=\"row_heading level0 row12\" >12</th>\n",
              "                        <td id=\"T_98a17e60_7f94_11ea_8c7d_0242ac1c0002row12_col0\" class=\"data row12 col0\" >Decision Tree Classifier</td>\n",
              "                        <td id=\"T_98a17e60_7f94_11ea_8c7d_0242ac1c0002row12_col1\" class=\"data row12 col1\" >0.664500</td>\n",
              "                        <td id=\"T_98a17e60_7f94_11ea_8c7d_0242ac1c0002row12_col2\" class=\"data row12 col2\" >0.623600</td>\n",
              "                        <td id=\"T_98a17e60_7f94_11ea_8c7d_0242ac1c0002row12_col3\" class=\"data row12 col3\" >0.490100</td>\n",
              "                        <td id=\"T_98a17e60_7f94_11ea_8c7d_0242ac1c0002row12_col4\" class=\"data row12 col4\" >0.529000</td>\n",
              "                        <td id=\"T_98a17e60_7f94_11ea_8c7d_0242ac1c0002row12_col5\" class=\"data row12 col5\" >0.502100</td>\n",
              "                        <td id=\"T_98a17e60_7f94_11ea_8c7d_0242ac1c0002row12_col6\" class=\"data row12 col6\" >0.251300</td>\n",
              "            </tr>\n",
              "            <tr>\n",
              "                        <th id=\"T_98a17e60_7f94_11ea_8c7d_0242ac1c0002level0_row13\" class=\"row_heading level0 row13\" >13</th>\n",
              "                        <td id=\"T_98a17e60_7f94_11ea_8c7d_0242ac1c0002row13_col0\" class=\"data row13 col0\" >SVM - Linear Kernel</td>\n",
              "                        <td id=\"T_98a17e60_7f94_11ea_8c7d_0242ac1c0002row13_col1\" class=\"data row13 col1\" >0.609000</td>\n",
              "                        <td id=\"T_98a17e60_7f94_11ea_8c7d_0242ac1c0002row13_col2\" class=\"data row13 col2\" >0.000000</td>\n",
              "                        <td id=\"T_98a17e60_7f94_11ea_8c7d_0242ac1c0002row13_col3\" class=\"data row13 col3\" >0.239200</td>\n",
              "                        <td id=\"T_98a17e60_7f94_11ea_8c7d_0242ac1c0002row13_col4\" class=\"data row13 col4\" >0.364800</td>\n",
              "                        <td id=\"T_98a17e60_7f94_11ea_8c7d_0242ac1c0002row13_col5\" class=\"data row13 col5\" >0.248300</td>\n",
              "                        <td id=\"T_98a17e60_7f94_11ea_8c7d_0242ac1c0002row13_col6\" class=\"data row13 col6\" >0.044400</td>\n",
              "            </tr>\n",
              "            <tr>\n",
              "                        <th id=\"T_98a17e60_7f94_11ea_8c7d_0242ac1c0002level0_row14\" class=\"row_heading level0 row14\" >14</th>\n",
              "                        <td id=\"T_98a17e60_7f94_11ea_8c7d_0242ac1c0002row14_col0\" class=\"data row14 col0\" >Quadratic Discriminant Analysis</td>\n",
              "                        <td id=\"T_98a17e60_7f94_11ea_8c7d_0242ac1c0002row14_col1\" class=\"data row14 col1\" >0.586700</td>\n",
              "                        <td id=\"T_98a17e60_7f94_11ea_8c7d_0242ac1c0002row14_col2\" class=\"data row14 col2\" >0.525300</td>\n",
              "                        <td id=\"T_98a17e60_7f94_11ea_8c7d_0242ac1c0002row14_col3\" class=\"data row14 col3\" >0.357900</td>\n",
              "                        <td id=\"T_98a17e60_7f94_11ea_8c7d_0242ac1c0002row14_col4\" class=\"data row14 col4\" >0.474900</td>\n",
              "                        <td id=\"T_98a17e60_7f94_11ea_8c7d_0242ac1c0002row14_col5\" class=\"data row14 col5\" >0.332800</td>\n",
              "                        <td id=\"T_98a17e60_7f94_11ea_8c7d_0242ac1c0002row14_col6\" class=\"data row14 col6\" >0.070500</td>\n",
              "            </tr>\n",
              "    </tbody></table>"
            ],
            "text/plain": [
              "<pandas.io.formats.style.Styler at 0x7f26f5953d68>"
            ]
          },
          "metadata": {
            "tags": []
          },
          "execution_count": 10
        }
      ]
    },
    {
      "cell_type": "code",
      "metadata": {
        "id": "4X0LZWHkFhnG",
        "colab_type": "code",
        "colab": {}
      },
      "source": [
        "## regression example"
      ],
      "execution_count": 0,
      "outputs": []
    },
    {
      "cell_type": "code",
      "metadata": {
        "id": "-rfHlsnOFl9D",
        "colab_type": "code",
        "outputId": "e38d7dde-d881-4c84-d207-bf5c4c4a8617",
        "colab": {
          "base_uri": "https://localhost:8080/",
          "height": 502
        }
      },
      "source": [
        "from pycaret.datasets import get_data\n",
        "boston = get_data('boston')\n",
        "\n",
        "from pycaret.regression import *\n",
        "reg1 = setup(data = boston, target = 'medv')\n",
        "\n",
        "compare_models()"
      ],
      "execution_count": 0,
      "outputs": [
        {
          "output_type": "execute_result",
          "data": {
            "text/html": [
              "<style  type=\"text/css\" >\n",
              "    #T_bf12057e_7f94_11ea_8c7d_0242ac1c0002 th {\n",
              "          text-align: left;\n",
              "    }    #T_bf12057e_7f94_11ea_8c7d_0242ac1c0002row0_col0 {\n",
              "            text-align:  left;\n",
              "        }    #T_bf12057e_7f94_11ea_8c7d_0242ac1c0002row0_col1 {\n",
              "            background-color:  yellow;\n",
              "            text-align:  left;\n",
              "        }    #T_bf12057e_7f94_11ea_8c7d_0242ac1c0002row0_col2 {\n",
              "            background-color:  yellow;\n",
              "            text-align:  left;\n",
              "        }    #T_bf12057e_7f94_11ea_8c7d_0242ac1c0002row0_col3 {\n",
              "            background-color:  yellow;\n",
              "            text-align:  left;\n",
              "        }    #T_bf12057e_7f94_11ea_8c7d_0242ac1c0002row0_col4 {\n",
              "            text-align:  left;\n",
              "        }    #T_bf12057e_7f94_11ea_8c7d_0242ac1c0002row0_col5 {\n",
              "            background-color:  yellow;\n",
              "            text-align:  left;\n",
              "        }    #T_bf12057e_7f94_11ea_8c7d_0242ac1c0002row0_col6 {\n",
              "            background-color:  yellow;\n",
              "            text-align:  left;\n",
              "        }    #T_bf12057e_7f94_11ea_8c7d_0242ac1c0002row1_col0 {\n",
              "            text-align:  left;\n",
              "        }    #T_bf12057e_7f94_11ea_8c7d_0242ac1c0002row1_col1 {\n",
              "            : ;\n",
              "            text-align:  left;\n",
              "        }    #T_bf12057e_7f94_11ea_8c7d_0242ac1c0002row1_col2 {\n",
              "            : ;\n",
              "            text-align:  left;\n",
              "        }    #T_bf12057e_7f94_11ea_8c7d_0242ac1c0002row1_col3 {\n",
              "            : ;\n",
              "            text-align:  left;\n",
              "        }    #T_bf12057e_7f94_11ea_8c7d_0242ac1c0002row1_col4 {\n",
              "            text-align:  left;\n",
              "        }    #T_bf12057e_7f94_11ea_8c7d_0242ac1c0002row1_col5 {\n",
              "            : ;\n",
              "            text-align:  left;\n",
              "        }    #T_bf12057e_7f94_11ea_8c7d_0242ac1c0002row1_col6 {\n",
              "            : ;\n",
              "            text-align:  left;\n",
              "        }    #T_bf12057e_7f94_11ea_8c7d_0242ac1c0002row2_col0 {\n",
              "            text-align:  left;\n",
              "        }    #T_bf12057e_7f94_11ea_8c7d_0242ac1c0002row2_col1 {\n",
              "            : ;\n",
              "            text-align:  left;\n",
              "        }    #T_bf12057e_7f94_11ea_8c7d_0242ac1c0002row2_col2 {\n",
              "            : ;\n",
              "            text-align:  left;\n",
              "        }    #T_bf12057e_7f94_11ea_8c7d_0242ac1c0002row2_col3 {\n",
              "            : ;\n",
              "            text-align:  left;\n",
              "        }    #T_bf12057e_7f94_11ea_8c7d_0242ac1c0002row2_col4 {\n",
              "            text-align:  left;\n",
              "        }    #T_bf12057e_7f94_11ea_8c7d_0242ac1c0002row2_col5 {\n",
              "            : ;\n",
              "            text-align:  left;\n",
              "        }    #T_bf12057e_7f94_11ea_8c7d_0242ac1c0002row2_col6 {\n",
              "            : ;\n",
              "            text-align:  left;\n",
              "        }    #T_bf12057e_7f94_11ea_8c7d_0242ac1c0002row3_col0 {\n",
              "            text-align:  left;\n",
              "        }    #T_bf12057e_7f94_11ea_8c7d_0242ac1c0002row3_col1 {\n",
              "            : ;\n",
              "            text-align:  left;\n",
              "        }    #T_bf12057e_7f94_11ea_8c7d_0242ac1c0002row3_col2 {\n",
              "            : ;\n",
              "            text-align:  left;\n",
              "        }    #T_bf12057e_7f94_11ea_8c7d_0242ac1c0002row3_col3 {\n",
              "            : ;\n",
              "            text-align:  left;\n",
              "        }    #T_bf12057e_7f94_11ea_8c7d_0242ac1c0002row3_col4 {\n",
              "            text-align:  left;\n",
              "        }    #T_bf12057e_7f94_11ea_8c7d_0242ac1c0002row3_col5 {\n",
              "            : ;\n",
              "            text-align:  left;\n",
              "        }    #T_bf12057e_7f94_11ea_8c7d_0242ac1c0002row3_col6 {\n",
              "            : ;\n",
              "            text-align:  left;\n",
              "        }    #T_bf12057e_7f94_11ea_8c7d_0242ac1c0002row4_col0 {\n",
              "            text-align:  left;\n",
              "        }    #T_bf12057e_7f94_11ea_8c7d_0242ac1c0002row4_col1 {\n",
              "            : ;\n",
              "            text-align:  left;\n",
              "        }    #T_bf12057e_7f94_11ea_8c7d_0242ac1c0002row4_col2 {\n",
              "            : ;\n",
              "            text-align:  left;\n",
              "        }    #T_bf12057e_7f94_11ea_8c7d_0242ac1c0002row4_col3 {\n",
              "            : ;\n",
              "            text-align:  left;\n",
              "        }    #T_bf12057e_7f94_11ea_8c7d_0242ac1c0002row4_col4 {\n",
              "            text-align:  left;\n",
              "        }    #T_bf12057e_7f94_11ea_8c7d_0242ac1c0002row4_col5 {\n",
              "            : ;\n",
              "            text-align:  left;\n",
              "        }    #T_bf12057e_7f94_11ea_8c7d_0242ac1c0002row4_col6 {\n",
              "            : ;\n",
              "            text-align:  left;\n",
              "        }    #T_bf12057e_7f94_11ea_8c7d_0242ac1c0002row5_col0 {\n",
              "            text-align:  left;\n",
              "        }    #T_bf12057e_7f94_11ea_8c7d_0242ac1c0002row5_col1 {\n",
              "            : ;\n",
              "            text-align:  left;\n",
              "        }    #T_bf12057e_7f94_11ea_8c7d_0242ac1c0002row5_col2 {\n",
              "            : ;\n",
              "            text-align:  left;\n",
              "        }    #T_bf12057e_7f94_11ea_8c7d_0242ac1c0002row5_col3 {\n",
              "            : ;\n",
              "            text-align:  left;\n",
              "        }    #T_bf12057e_7f94_11ea_8c7d_0242ac1c0002row5_col4 {\n",
              "            text-align:  left;\n",
              "        }    #T_bf12057e_7f94_11ea_8c7d_0242ac1c0002row5_col5 {\n",
              "            : ;\n",
              "            text-align:  left;\n",
              "        }    #T_bf12057e_7f94_11ea_8c7d_0242ac1c0002row5_col6 {\n",
              "            : ;\n",
              "            text-align:  left;\n",
              "        }    #T_bf12057e_7f94_11ea_8c7d_0242ac1c0002row6_col0 {\n",
              "            text-align:  left;\n",
              "        }    #T_bf12057e_7f94_11ea_8c7d_0242ac1c0002row6_col1 {\n",
              "            : ;\n",
              "            text-align:  left;\n",
              "        }    #T_bf12057e_7f94_11ea_8c7d_0242ac1c0002row6_col2 {\n",
              "            : ;\n",
              "            text-align:  left;\n",
              "        }    #T_bf12057e_7f94_11ea_8c7d_0242ac1c0002row6_col3 {\n",
              "            : ;\n",
              "            text-align:  left;\n",
              "        }    #T_bf12057e_7f94_11ea_8c7d_0242ac1c0002row6_col4 {\n",
              "            text-align:  left;\n",
              "        }    #T_bf12057e_7f94_11ea_8c7d_0242ac1c0002row6_col5 {\n",
              "            : ;\n",
              "            text-align:  left;\n",
              "        }    #T_bf12057e_7f94_11ea_8c7d_0242ac1c0002row6_col6 {\n",
              "            : ;\n",
              "            text-align:  left;\n",
              "        }    #T_bf12057e_7f94_11ea_8c7d_0242ac1c0002row7_col0 {\n",
              "            text-align:  left;\n",
              "        }    #T_bf12057e_7f94_11ea_8c7d_0242ac1c0002row7_col1 {\n",
              "            : ;\n",
              "            text-align:  left;\n",
              "        }    #T_bf12057e_7f94_11ea_8c7d_0242ac1c0002row7_col2 {\n",
              "            : ;\n",
              "            text-align:  left;\n",
              "        }    #T_bf12057e_7f94_11ea_8c7d_0242ac1c0002row7_col3 {\n",
              "            : ;\n",
              "            text-align:  left;\n",
              "        }    #T_bf12057e_7f94_11ea_8c7d_0242ac1c0002row7_col4 {\n",
              "            text-align:  left;\n",
              "        }    #T_bf12057e_7f94_11ea_8c7d_0242ac1c0002row7_col5 {\n",
              "            : ;\n",
              "            text-align:  left;\n",
              "        }    #T_bf12057e_7f94_11ea_8c7d_0242ac1c0002row7_col6 {\n",
              "            : ;\n",
              "            text-align:  left;\n",
              "        }    #T_bf12057e_7f94_11ea_8c7d_0242ac1c0002row8_col0 {\n",
              "            text-align:  left;\n",
              "        }    #T_bf12057e_7f94_11ea_8c7d_0242ac1c0002row8_col1 {\n",
              "            : ;\n",
              "            text-align:  left;\n",
              "        }    #T_bf12057e_7f94_11ea_8c7d_0242ac1c0002row8_col2 {\n",
              "            : ;\n",
              "            text-align:  left;\n",
              "        }    #T_bf12057e_7f94_11ea_8c7d_0242ac1c0002row8_col3 {\n",
              "            : ;\n",
              "            text-align:  left;\n",
              "        }    #T_bf12057e_7f94_11ea_8c7d_0242ac1c0002row8_col4 {\n",
              "            text-align:  left;\n",
              "        }    #T_bf12057e_7f94_11ea_8c7d_0242ac1c0002row8_col5 {\n",
              "            : ;\n",
              "            text-align:  left;\n",
              "        }    #T_bf12057e_7f94_11ea_8c7d_0242ac1c0002row8_col6 {\n",
              "            : ;\n",
              "            text-align:  left;\n",
              "        }    #T_bf12057e_7f94_11ea_8c7d_0242ac1c0002row9_col0 {\n",
              "            text-align:  left;\n",
              "        }    #T_bf12057e_7f94_11ea_8c7d_0242ac1c0002row9_col1 {\n",
              "            : ;\n",
              "            text-align:  left;\n",
              "        }    #T_bf12057e_7f94_11ea_8c7d_0242ac1c0002row9_col2 {\n",
              "            : ;\n",
              "            text-align:  left;\n",
              "        }    #T_bf12057e_7f94_11ea_8c7d_0242ac1c0002row9_col3 {\n",
              "            : ;\n",
              "            text-align:  left;\n",
              "        }    #T_bf12057e_7f94_11ea_8c7d_0242ac1c0002row9_col4 {\n",
              "            text-align:  left;\n",
              "        }    #T_bf12057e_7f94_11ea_8c7d_0242ac1c0002row9_col5 {\n",
              "            : ;\n",
              "            text-align:  left;\n",
              "        }    #T_bf12057e_7f94_11ea_8c7d_0242ac1c0002row9_col6 {\n",
              "            : ;\n",
              "            text-align:  left;\n",
              "        }    #T_bf12057e_7f94_11ea_8c7d_0242ac1c0002row10_col0 {\n",
              "            text-align:  left;\n",
              "        }    #T_bf12057e_7f94_11ea_8c7d_0242ac1c0002row10_col1 {\n",
              "            : ;\n",
              "            text-align:  left;\n",
              "        }    #T_bf12057e_7f94_11ea_8c7d_0242ac1c0002row10_col2 {\n",
              "            : ;\n",
              "            text-align:  left;\n",
              "        }    #T_bf12057e_7f94_11ea_8c7d_0242ac1c0002row10_col3 {\n",
              "            : ;\n",
              "            text-align:  left;\n",
              "        }    #T_bf12057e_7f94_11ea_8c7d_0242ac1c0002row10_col4 {\n",
              "            text-align:  left;\n",
              "        }    #T_bf12057e_7f94_11ea_8c7d_0242ac1c0002row10_col5 {\n",
              "            : ;\n",
              "            text-align:  left;\n",
              "        }    #T_bf12057e_7f94_11ea_8c7d_0242ac1c0002row10_col6 {\n",
              "            : ;\n",
              "            text-align:  left;\n",
              "        }    #T_bf12057e_7f94_11ea_8c7d_0242ac1c0002row11_col0 {\n",
              "            text-align:  left;\n",
              "        }    #T_bf12057e_7f94_11ea_8c7d_0242ac1c0002row11_col1 {\n",
              "            : ;\n",
              "            text-align:  left;\n",
              "        }    #T_bf12057e_7f94_11ea_8c7d_0242ac1c0002row11_col2 {\n",
              "            : ;\n",
              "            text-align:  left;\n",
              "        }    #T_bf12057e_7f94_11ea_8c7d_0242ac1c0002row11_col3 {\n",
              "            : ;\n",
              "            text-align:  left;\n",
              "        }    #T_bf12057e_7f94_11ea_8c7d_0242ac1c0002row11_col4 {\n",
              "            text-align:  left;\n",
              "        }    #T_bf12057e_7f94_11ea_8c7d_0242ac1c0002row11_col5 {\n",
              "            : ;\n",
              "            text-align:  left;\n",
              "        }    #T_bf12057e_7f94_11ea_8c7d_0242ac1c0002row11_col6 {\n",
              "            : ;\n",
              "            text-align:  left;\n",
              "        }    #T_bf12057e_7f94_11ea_8c7d_0242ac1c0002row12_col0 {\n",
              "            text-align:  left;\n",
              "        }    #T_bf12057e_7f94_11ea_8c7d_0242ac1c0002row12_col1 {\n",
              "            : ;\n",
              "            text-align:  left;\n",
              "        }    #T_bf12057e_7f94_11ea_8c7d_0242ac1c0002row12_col2 {\n",
              "            : ;\n",
              "            text-align:  left;\n",
              "        }    #T_bf12057e_7f94_11ea_8c7d_0242ac1c0002row12_col3 {\n",
              "            : ;\n",
              "            text-align:  left;\n",
              "        }    #T_bf12057e_7f94_11ea_8c7d_0242ac1c0002row12_col4 {\n",
              "            text-align:  left;\n",
              "        }    #T_bf12057e_7f94_11ea_8c7d_0242ac1c0002row12_col5 {\n",
              "            : ;\n",
              "            text-align:  left;\n",
              "        }    #T_bf12057e_7f94_11ea_8c7d_0242ac1c0002row12_col6 {\n",
              "            : ;\n",
              "            text-align:  left;\n",
              "        }    #T_bf12057e_7f94_11ea_8c7d_0242ac1c0002row13_col0 {\n",
              "            text-align:  left;\n",
              "        }    #T_bf12057e_7f94_11ea_8c7d_0242ac1c0002row13_col1 {\n",
              "            : ;\n",
              "            text-align:  left;\n",
              "        }    #T_bf12057e_7f94_11ea_8c7d_0242ac1c0002row13_col2 {\n",
              "            : ;\n",
              "            text-align:  left;\n",
              "        }    #T_bf12057e_7f94_11ea_8c7d_0242ac1c0002row13_col3 {\n",
              "            : ;\n",
              "            text-align:  left;\n",
              "        }    #T_bf12057e_7f94_11ea_8c7d_0242ac1c0002row13_col4 {\n",
              "            text-align:  left;\n",
              "        }    #T_bf12057e_7f94_11ea_8c7d_0242ac1c0002row13_col5 {\n",
              "            : ;\n",
              "            text-align:  left;\n",
              "        }    #T_bf12057e_7f94_11ea_8c7d_0242ac1c0002row13_col6 {\n",
              "            : ;\n",
              "            text-align:  left;\n",
              "        }    #T_bf12057e_7f94_11ea_8c7d_0242ac1c0002row14_col0 {\n",
              "            text-align:  left;\n",
              "        }    #T_bf12057e_7f94_11ea_8c7d_0242ac1c0002row14_col1 {\n",
              "            : ;\n",
              "            text-align:  left;\n",
              "        }    #T_bf12057e_7f94_11ea_8c7d_0242ac1c0002row14_col2 {\n",
              "            : ;\n",
              "            text-align:  left;\n",
              "        }    #T_bf12057e_7f94_11ea_8c7d_0242ac1c0002row14_col3 {\n",
              "            : ;\n",
              "            text-align:  left;\n",
              "        }    #T_bf12057e_7f94_11ea_8c7d_0242ac1c0002row14_col4 {\n",
              "            text-align:  left;\n",
              "        }    #T_bf12057e_7f94_11ea_8c7d_0242ac1c0002row14_col5 {\n",
              "            : ;\n",
              "            text-align:  left;\n",
              "        }    #T_bf12057e_7f94_11ea_8c7d_0242ac1c0002row14_col6 {\n",
              "            : ;\n",
              "            text-align:  left;\n",
              "        }    #T_bf12057e_7f94_11ea_8c7d_0242ac1c0002row15_col0 {\n",
              "            text-align:  left;\n",
              "        }    #T_bf12057e_7f94_11ea_8c7d_0242ac1c0002row15_col1 {\n",
              "            : ;\n",
              "            text-align:  left;\n",
              "        }    #T_bf12057e_7f94_11ea_8c7d_0242ac1c0002row15_col2 {\n",
              "            : ;\n",
              "            text-align:  left;\n",
              "        }    #T_bf12057e_7f94_11ea_8c7d_0242ac1c0002row15_col3 {\n",
              "            : ;\n",
              "            text-align:  left;\n",
              "        }    #T_bf12057e_7f94_11ea_8c7d_0242ac1c0002row15_col4 {\n",
              "            text-align:  left;\n",
              "        }    #T_bf12057e_7f94_11ea_8c7d_0242ac1c0002row15_col5 {\n",
              "            : ;\n",
              "            text-align:  left;\n",
              "        }    #T_bf12057e_7f94_11ea_8c7d_0242ac1c0002row15_col6 {\n",
              "            : ;\n",
              "            text-align:  left;\n",
              "        }    #T_bf12057e_7f94_11ea_8c7d_0242ac1c0002row16_col0 {\n",
              "            text-align:  left;\n",
              "        }    #T_bf12057e_7f94_11ea_8c7d_0242ac1c0002row16_col1 {\n",
              "            : ;\n",
              "            text-align:  left;\n",
              "        }    #T_bf12057e_7f94_11ea_8c7d_0242ac1c0002row16_col2 {\n",
              "            : ;\n",
              "            text-align:  left;\n",
              "        }    #T_bf12057e_7f94_11ea_8c7d_0242ac1c0002row16_col3 {\n",
              "            : ;\n",
              "            text-align:  left;\n",
              "        }    #T_bf12057e_7f94_11ea_8c7d_0242ac1c0002row16_col4 {\n",
              "            text-align:  left;\n",
              "        }    #T_bf12057e_7f94_11ea_8c7d_0242ac1c0002row16_col5 {\n",
              "            : ;\n",
              "            text-align:  left;\n",
              "        }    #T_bf12057e_7f94_11ea_8c7d_0242ac1c0002row16_col6 {\n",
              "            : ;\n",
              "            text-align:  left;\n",
              "        }    #T_bf12057e_7f94_11ea_8c7d_0242ac1c0002row17_col0 {\n",
              "            text-align:  left;\n",
              "        }    #T_bf12057e_7f94_11ea_8c7d_0242ac1c0002row17_col1 {\n",
              "            : ;\n",
              "            text-align:  left;\n",
              "        }    #T_bf12057e_7f94_11ea_8c7d_0242ac1c0002row17_col2 {\n",
              "            : ;\n",
              "            text-align:  left;\n",
              "        }    #T_bf12057e_7f94_11ea_8c7d_0242ac1c0002row17_col3 {\n",
              "            : ;\n",
              "            text-align:  left;\n",
              "        }    #T_bf12057e_7f94_11ea_8c7d_0242ac1c0002row17_col4 {\n",
              "            text-align:  left;\n",
              "        }    #T_bf12057e_7f94_11ea_8c7d_0242ac1c0002row17_col5 {\n",
              "            : ;\n",
              "            text-align:  left;\n",
              "        }    #T_bf12057e_7f94_11ea_8c7d_0242ac1c0002row17_col6 {\n",
              "            : ;\n",
              "            text-align:  left;\n",
              "        }    #T_bf12057e_7f94_11ea_8c7d_0242ac1c0002row18_col0 {\n",
              "            text-align:  left;\n",
              "        }    #T_bf12057e_7f94_11ea_8c7d_0242ac1c0002row18_col1 {\n",
              "            : ;\n",
              "            text-align:  left;\n",
              "        }    #T_bf12057e_7f94_11ea_8c7d_0242ac1c0002row18_col2 {\n",
              "            : ;\n",
              "            text-align:  left;\n",
              "        }    #T_bf12057e_7f94_11ea_8c7d_0242ac1c0002row18_col3 {\n",
              "            : ;\n",
              "            text-align:  left;\n",
              "        }    #T_bf12057e_7f94_11ea_8c7d_0242ac1c0002row18_col4 {\n",
              "            text-align:  left;\n",
              "        }    #T_bf12057e_7f94_11ea_8c7d_0242ac1c0002row18_col5 {\n",
              "            : ;\n",
              "            text-align:  left;\n",
              "        }    #T_bf12057e_7f94_11ea_8c7d_0242ac1c0002row18_col6 {\n",
              "            : ;\n",
              "            text-align:  left;\n",
              "        }    #T_bf12057e_7f94_11ea_8c7d_0242ac1c0002row19_col0 {\n",
              "            text-align:  left;\n",
              "        }    #T_bf12057e_7f94_11ea_8c7d_0242ac1c0002row19_col1 {\n",
              "            : ;\n",
              "            text-align:  left;\n",
              "        }    #T_bf12057e_7f94_11ea_8c7d_0242ac1c0002row19_col2 {\n",
              "            : ;\n",
              "            text-align:  left;\n",
              "        }    #T_bf12057e_7f94_11ea_8c7d_0242ac1c0002row19_col3 {\n",
              "            : ;\n",
              "            text-align:  left;\n",
              "        }    #T_bf12057e_7f94_11ea_8c7d_0242ac1c0002row19_col4 {\n",
              "            text-align:  left;\n",
              "        }    #T_bf12057e_7f94_11ea_8c7d_0242ac1c0002row19_col5 {\n",
              "            : ;\n",
              "            text-align:  left;\n",
              "        }    #T_bf12057e_7f94_11ea_8c7d_0242ac1c0002row19_col6 {\n",
              "            : ;\n",
              "            text-align:  left;\n",
              "        }    #T_bf12057e_7f94_11ea_8c7d_0242ac1c0002row20_col0 {\n",
              "            text-align:  left;\n",
              "        }    #T_bf12057e_7f94_11ea_8c7d_0242ac1c0002row20_col1 {\n",
              "            : ;\n",
              "            text-align:  left;\n",
              "        }    #T_bf12057e_7f94_11ea_8c7d_0242ac1c0002row20_col2 {\n",
              "            : ;\n",
              "            text-align:  left;\n",
              "        }    #T_bf12057e_7f94_11ea_8c7d_0242ac1c0002row20_col3 {\n",
              "            : ;\n",
              "            text-align:  left;\n",
              "        }    #T_bf12057e_7f94_11ea_8c7d_0242ac1c0002row20_col4 {\n",
              "            text-align:  left;\n",
              "        }    #T_bf12057e_7f94_11ea_8c7d_0242ac1c0002row20_col5 {\n",
              "            : ;\n",
              "            text-align:  left;\n",
              "        }    #T_bf12057e_7f94_11ea_8c7d_0242ac1c0002row20_col6 {\n",
              "            : ;\n",
              "            text-align:  left;\n",
              "        }    #T_bf12057e_7f94_11ea_8c7d_0242ac1c0002row21_col0 {\n",
              "            text-align:  left;\n",
              "        }    #T_bf12057e_7f94_11ea_8c7d_0242ac1c0002row21_col1 {\n",
              "            : ;\n",
              "            text-align:  left;\n",
              "        }    #T_bf12057e_7f94_11ea_8c7d_0242ac1c0002row21_col2 {\n",
              "            : ;\n",
              "            text-align:  left;\n",
              "        }    #T_bf12057e_7f94_11ea_8c7d_0242ac1c0002row21_col3 {\n",
              "            : ;\n",
              "            text-align:  left;\n",
              "        }    #T_bf12057e_7f94_11ea_8c7d_0242ac1c0002row21_col4 {\n",
              "            text-align:  left;\n",
              "        }    #T_bf12057e_7f94_11ea_8c7d_0242ac1c0002row21_col5 {\n",
              "            : ;\n",
              "            text-align:  left;\n",
              "        }    #T_bf12057e_7f94_11ea_8c7d_0242ac1c0002row21_col6 {\n",
              "            : ;\n",
              "            text-align:  left;\n",
              "        }</style><table id=\"T_bf12057e_7f94_11ea_8c7d_0242ac1c0002\" ><thead>    <tr>        <th class=\"blank level0\" ></th>        <th class=\"col_heading level0 col0\" >Model</th>        <th class=\"col_heading level0 col1\" >MAE</th>        <th class=\"col_heading level0 col2\" >MSE</th>        <th class=\"col_heading level0 col3\" >RMSE</th>        <th class=\"col_heading level0 col4\" >R2</th>        <th class=\"col_heading level0 col5\" >RMSLE</th>        <th class=\"col_heading level0 col6\" >MAPE</th>    </tr></thead><tbody>\n",
              "                <tr>\n",
              "                        <th id=\"T_bf12057e_7f94_11ea_8c7d_0242ac1c0002level0_row0\" class=\"row_heading level0 row0\" >0</th>\n",
              "                        <td id=\"T_bf12057e_7f94_11ea_8c7d_0242ac1c0002row0_col0\" class=\"data row0 col0\" >CatBoost Regressor</td>\n",
              "                        <td id=\"T_bf12057e_7f94_11ea_8c7d_0242ac1c0002row0_col1\" class=\"data row0 col1\" >2.120000</td>\n",
              "                        <td id=\"T_bf12057e_7f94_11ea_8c7d_0242ac1c0002row0_col2\" class=\"data row0 col2\" >9.766000</td>\n",
              "                        <td id=\"T_bf12057e_7f94_11ea_8c7d_0242ac1c0002row0_col3\" class=\"data row0 col3\" >3.075900</td>\n",
              "                        <td id=\"T_bf12057e_7f94_11ea_8c7d_0242ac1c0002row0_col4\" class=\"data row0 col4\" >0.886700</td>\n",
              "                        <td id=\"T_bf12057e_7f94_11ea_8c7d_0242ac1c0002row0_col5\" class=\"data row0 col5\" >0.141200</td>\n",
              "                        <td id=\"T_bf12057e_7f94_11ea_8c7d_0242ac1c0002row0_col6\" class=\"data row0 col6\" >0.107200</td>\n",
              "            </tr>\n",
              "            <tr>\n",
              "                        <th id=\"T_bf12057e_7f94_11ea_8c7d_0242ac1c0002level0_row1\" class=\"row_heading level0 row1\" >1</th>\n",
              "                        <td id=\"T_bf12057e_7f94_11ea_8c7d_0242ac1c0002row1_col0\" class=\"data row1 col0\" >Extra Trees Regressor</td>\n",
              "                        <td id=\"T_bf12057e_7f94_11ea_8c7d_0242ac1c0002row1_col1\" class=\"data row1 col1\" >2.249400</td>\n",
              "                        <td id=\"T_bf12057e_7f94_11ea_8c7d_0242ac1c0002row1_col2\" class=\"data row1 col2\" >10.968100</td>\n",
              "                        <td id=\"T_bf12057e_7f94_11ea_8c7d_0242ac1c0002row1_col3\" class=\"data row1 col3\" >3.209500</td>\n",
              "                        <td id=\"T_bf12057e_7f94_11ea_8c7d_0242ac1c0002row1_col4\" class=\"data row1 col4\" >0.872200</td>\n",
              "                        <td id=\"T_bf12057e_7f94_11ea_8c7d_0242ac1c0002row1_col5\" class=\"data row1 col5\" >0.141600</td>\n",
              "                        <td id=\"T_bf12057e_7f94_11ea_8c7d_0242ac1c0002row1_col6\" class=\"data row1 col6\" >0.112400</td>\n",
              "            </tr>\n",
              "            <tr>\n",
              "                        <th id=\"T_bf12057e_7f94_11ea_8c7d_0242ac1c0002level0_row2\" class=\"row_heading level0 row2\" >2</th>\n",
              "                        <td id=\"T_bf12057e_7f94_11ea_8c7d_0242ac1c0002row2_col0\" class=\"data row2 col0\" >Gradient Boosting Regressor</td>\n",
              "                        <td id=\"T_bf12057e_7f94_11ea_8c7d_0242ac1c0002row2_col1\" class=\"data row2 col1\" >2.257100</td>\n",
              "                        <td id=\"T_bf12057e_7f94_11ea_8c7d_0242ac1c0002row2_col2\" class=\"data row2 col2\" >11.915800</td>\n",
              "                        <td id=\"T_bf12057e_7f94_11ea_8c7d_0242ac1c0002row2_col3\" class=\"data row2 col3\" >3.338100</td>\n",
              "                        <td id=\"T_bf12057e_7f94_11ea_8c7d_0242ac1c0002row2_col4\" class=\"data row2 col4\" >0.859200</td>\n",
              "                        <td id=\"T_bf12057e_7f94_11ea_8c7d_0242ac1c0002row2_col5\" class=\"data row2 col5\" >0.151000</td>\n",
              "                        <td id=\"T_bf12057e_7f94_11ea_8c7d_0242ac1c0002row2_col6\" class=\"data row2 col6\" >0.116200</td>\n",
              "            </tr>\n",
              "            <tr>\n",
              "                        <th id=\"T_bf12057e_7f94_11ea_8c7d_0242ac1c0002level0_row3\" class=\"row_heading level0 row3\" >3</th>\n",
              "                        <td id=\"T_bf12057e_7f94_11ea_8c7d_0242ac1c0002row3_col0\" class=\"data row3 col0\" >Extreme Gradient Boosting</td>\n",
              "                        <td id=\"T_bf12057e_7f94_11ea_8c7d_0242ac1c0002row3_col1\" class=\"data row3 col1\" >2.380000</td>\n",
              "                        <td id=\"T_bf12057e_7f94_11ea_8c7d_0242ac1c0002row3_col2\" class=\"data row3 col2\" >12.303400</td>\n",
              "                        <td id=\"T_bf12057e_7f94_11ea_8c7d_0242ac1c0002row3_col3\" class=\"data row3 col3\" >3.422800</td>\n",
              "                        <td id=\"T_bf12057e_7f94_11ea_8c7d_0242ac1c0002row3_col4\" class=\"data row3 col4\" >0.858400</td>\n",
              "                        <td id=\"T_bf12057e_7f94_11ea_8c7d_0242ac1c0002row3_col5\" class=\"data row3 col5\" >0.154200</td>\n",
              "                        <td id=\"T_bf12057e_7f94_11ea_8c7d_0242ac1c0002row3_col6\" class=\"data row3 col6\" >0.121300</td>\n",
              "            </tr>\n",
              "            <tr>\n",
              "                        <th id=\"T_bf12057e_7f94_11ea_8c7d_0242ac1c0002level0_row4\" class=\"row_heading level0 row4\" >4</th>\n",
              "                        <td id=\"T_bf12057e_7f94_11ea_8c7d_0242ac1c0002row4_col0\" class=\"data row4 col0\" >Random Forest</td>\n",
              "                        <td id=\"T_bf12057e_7f94_11ea_8c7d_0242ac1c0002row4_col1\" class=\"data row4 col1\" >2.373400</td>\n",
              "                        <td id=\"T_bf12057e_7f94_11ea_8c7d_0242ac1c0002row4_col2\" class=\"data row4 col2\" >13.025200</td>\n",
              "                        <td id=\"T_bf12057e_7f94_11ea_8c7d_0242ac1c0002row4_col3\" class=\"data row4 col3\" >3.476000</td>\n",
              "                        <td id=\"T_bf12057e_7f94_11ea_8c7d_0242ac1c0002row4_col4\" class=\"data row4 col4\" >0.851400</td>\n",
              "                        <td id=\"T_bf12057e_7f94_11ea_8c7d_0242ac1c0002row4_col5\" class=\"data row4 col5\" >0.158500</td>\n",
              "                        <td id=\"T_bf12057e_7f94_11ea_8c7d_0242ac1c0002row4_col6\" class=\"data row4 col6\" >0.123200</td>\n",
              "            </tr>\n",
              "            <tr>\n",
              "                        <th id=\"T_bf12057e_7f94_11ea_8c7d_0242ac1c0002level0_row5\" class=\"row_heading level0 row5\" >5</th>\n",
              "                        <td id=\"T_bf12057e_7f94_11ea_8c7d_0242ac1c0002row5_col0\" class=\"data row5 col0\" >Light Gradient Boosting Machine</td>\n",
              "                        <td id=\"T_bf12057e_7f94_11ea_8c7d_0242ac1c0002row5_col1\" class=\"data row5 col1\" >2.473600</td>\n",
              "                        <td id=\"T_bf12057e_7f94_11ea_8c7d_0242ac1c0002row5_col2\" class=\"data row5 col2\" >13.966900</td>\n",
              "                        <td id=\"T_bf12057e_7f94_11ea_8c7d_0242ac1c0002row5_col3\" class=\"data row5 col3\" >3.601900</td>\n",
              "                        <td id=\"T_bf12057e_7f94_11ea_8c7d_0242ac1c0002row5_col4\" class=\"data row5 col4\" >0.837200</td>\n",
              "                        <td id=\"T_bf12057e_7f94_11ea_8c7d_0242ac1c0002row5_col5\" class=\"data row5 col5\" >0.163300</td>\n",
              "                        <td id=\"T_bf12057e_7f94_11ea_8c7d_0242ac1c0002row5_col6\" class=\"data row5 col6\" >0.125200</td>\n",
              "            </tr>\n",
              "            <tr>\n",
              "                        <th id=\"T_bf12057e_7f94_11ea_8c7d_0242ac1c0002level0_row6\" class=\"row_heading level0 row6\" >6</th>\n",
              "                        <td id=\"T_bf12057e_7f94_11ea_8c7d_0242ac1c0002row6_col0\" class=\"data row6 col0\" >AdaBoost Regressor</td>\n",
              "                        <td id=\"T_bf12057e_7f94_11ea_8c7d_0242ac1c0002row6_col1\" class=\"data row6 col1\" >2.776600</td>\n",
              "                        <td id=\"T_bf12057e_7f94_11ea_8c7d_0242ac1c0002row6_col2\" class=\"data row6 col2\" >14.780700</td>\n",
              "                        <td id=\"T_bf12057e_7f94_11ea_8c7d_0242ac1c0002row6_col3\" class=\"data row6 col3\" >3.759000</td>\n",
              "                        <td id=\"T_bf12057e_7f94_11ea_8c7d_0242ac1c0002row6_col4\" class=\"data row6 col4\" >0.825900</td>\n",
              "                        <td id=\"T_bf12057e_7f94_11ea_8c7d_0242ac1c0002row6_col5\" class=\"data row6 col5\" >0.176700</td>\n",
              "                        <td id=\"T_bf12057e_7f94_11ea_8c7d_0242ac1c0002row6_col6\" class=\"data row6 col6\" >0.147900</td>\n",
              "            </tr>\n",
              "            <tr>\n",
              "                        <th id=\"T_bf12057e_7f94_11ea_8c7d_0242ac1c0002level0_row7\" class=\"row_heading level0 row7\" >7</th>\n",
              "                        <td id=\"T_bf12057e_7f94_11ea_8c7d_0242ac1c0002row7_col0\" class=\"data row7 col0\" >Linear Regression</td>\n",
              "                        <td id=\"T_bf12057e_7f94_11ea_8c7d_0242ac1c0002row7_col1\" class=\"data row7 col1\" >3.536900</td>\n",
              "                        <td id=\"T_bf12057e_7f94_11ea_8c7d_0242ac1c0002row7_col2\" class=\"data row7 col2\" >24.761200</td>\n",
              "                        <td id=\"T_bf12057e_7f94_11ea_8c7d_0242ac1c0002row7_col3\" class=\"data row7 col3\" >4.848200</td>\n",
              "                        <td id=\"T_bf12057e_7f94_11ea_8c7d_0242ac1c0002row7_col4\" class=\"data row7 col4\" >0.711400</td>\n",
              "                        <td id=\"T_bf12057e_7f94_11ea_8c7d_0242ac1c0002row7_col5\" class=\"data row7 col5\" >0.228400</td>\n",
              "                        <td id=\"T_bf12057e_7f94_11ea_8c7d_0242ac1c0002row7_col6\" class=\"data row7 col6\" >0.170100</td>\n",
              "            </tr>\n",
              "            <tr>\n",
              "                        <th id=\"T_bf12057e_7f94_11ea_8c7d_0242ac1c0002level0_row8\" class=\"row_heading level0 row8\" >8</th>\n",
              "                        <td id=\"T_bf12057e_7f94_11ea_8c7d_0242ac1c0002row8_col0\" class=\"data row8 col0\" >Ridge Regression</td>\n",
              "                        <td id=\"T_bf12057e_7f94_11ea_8c7d_0242ac1c0002row8_col1\" class=\"data row8 col1\" >3.530200</td>\n",
              "                        <td id=\"T_bf12057e_7f94_11ea_8c7d_0242ac1c0002row8_col2\" class=\"data row8 col2\" >24.956900</td>\n",
              "                        <td id=\"T_bf12057e_7f94_11ea_8c7d_0242ac1c0002row8_col3\" class=\"data row8 col3\" >4.860200</td>\n",
              "                        <td id=\"T_bf12057e_7f94_11ea_8c7d_0242ac1c0002row8_col4\" class=\"data row8 col4\" >0.711300</td>\n",
              "                        <td id=\"T_bf12057e_7f94_11ea_8c7d_0242ac1c0002row8_col5\" class=\"data row8 col5\" >0.228700</td>\n",
              "                        <td id=\"T_bf12057e_7f94_11ea_8c7d_0242ac1c0002row8_col6\" class=\"data row8 col6\" >0.170200</td>\n",
              "            </tr>\n",
              "            <tr>\n",
              "                        <th id=\"T_bf12057e_7f94_11ea_8c7d_0242ac1c0002level0_row9\" class=\"row_heading level0 row9\" >9</th>\n",
              "                        <td id=\"T_bf12057e_7f94_11ea_8c7d_0242ac1c0002row9_col0\" class=\"data row9 col0\" >Least Angle Regression</td>\n",
              "                        <td id=\"T_bf12057e_7f94_11ea_8c7d_0242ac1c0002row9_col1\" class=\"data row9 col1\" >3.548000</td>\n",
              "                        <td id=\"T_bf12057e_7f94_11ea_8c7d_0242ac1c0002row9_col2\" class=\"data row9 col2\" >24.792800</td>\n",
              "                        <td id=\"T_bf12057e_7f94_11ea_8c7d_0242ac1c0002row9_col3\" class=\"data row9 col3\" >4.851700</td>\n",
              "                        <td id=\"T_bf12057e_7f94_11ea_8c7d_0242ac1c0002row9_col4\" class=\"data row9 col4\" >0.711100</td>\n",
              "                        <td id=\"T_bf12057e_7f94_11ea_8c7d_0242ac1c0002row9_col5\" class=\"data row9 col5\" >0.228400</td>\n",
              "                        <td id=\"T_bf12057e_7f94_11ea_8c7d_0242ac1c0002row9_col6\" class=\"data row9 col6\" >0.170200</td>\n",
              "            </tr>\n",
              "            <tr>\n",
              "                        <th id=\"T_bf12057e_7f94_11ea_8c7d_0242ac1c0002level0_row10\" class=\"row_heading level0 row10\" >10</th>\n",
              "                        <td id=\"T_bf12057e_7f94_11ea_8c7d_0242ac1c0002row10_col0\" class=\"data row10 col0\" >Bayesian Ridge</td>\n",
              "                        <td id=\"T_bf12057e_7f94_11ea_8c7d_0242ac1c0002row10_col1\" class=\"data row10 col1\" >3.544800</td>\n",
              "                        <td id=\"T_bf12057e_7f94_11ea_8c7d_0242ac1c0002row10_col2\" class=\"data row10 col2\" >25.547800</td>\n",
              "                        <td id=\"T_bf12057e_7f94_11ea_8c7d_0242ac1c0002row10_col3\" class=\"data row10 col3\" >4.917500</td>\n",
              "                        <td id=\"T_bf12057e_7f94_11ea_8c7d_0242ac1c0002row10_col4\" class=\"data row10 col4\" >0.705000</td>\n",
              "                        <td id=\"T_bf12057e_7f94_11ea_8c7d_0242ac1c0002row10_col5\" class=\"data row10 col5\" >0.228800</td>\n",
              "                        <td id=\"T_bf12057e_7f94_11ea_8c7d_0242ac1c0002row10_col6\" class=\"data row10 col6\" >0.170700</td>\n",
              "            </tr>\n",
              "            <tr>\n",
              "                        <th id=\"T_bf12057e_7f94_11ea_8c7d_0242ac1c0002level0_row11\" class=\"row_heading level0 row11\" >11</th>\n",
              "                        <td id=\"T_bf12057e_7f94_11ea_8c7d_0242ac1c0002row11_col0\" class=\"data row11 col0\" >TheilSen Regressor</td>\n",
              "                        <td id=\"T_bf12057e_7f94_11ea_8c7d_0242ac1c0002row11_col1\" class=\"data row11 col1\" >3.506100</td>\n",
              "                        <td id=\"T_bf12057e_7f94_11ea_8c7d_0242ac1c0002row11_col2\" class=\"data row11 col2\" >26.841500</td>\n",
              "                        <td id=\"T_bf12057e_7f94_11ea_8c7d_0242ac1c0002row11_col3\" class=\"data row11 col3\" >5.030000</td>\n",
              "                        <td id=\"T_bf12057e_7f94_11ea_8c7d_0242ac1c0002row11_col4\" class=\"data row11 col4\" >0.692900</td>\n",
              "                        <td id=\"T_bf12057e_7f94_11ea_8c7d_0242ac1c0002row11_col5\" class=\"data row11 col5\" >0.227000</td>\n",
              "                        <td id=\"T_bf12057e_7f94_11ea_8c7d_0242ac1c0002row11_col6\" class=\"data row11 col6\" >0.163300</td>\n",
              "            </tr>\n",
              "            <tr>\n",
              "                        <th id=\"T_bf12057e_7f94_11ea_8c7d_0242ac1c0002level0_row12\" class=\"row_heading level0 row12\" >12</th>\n",
              "                        <td id=\"T_bf12057e_7f94_11ea_8c7d_0242ac1c0002row12_col0\" class=\"data row12 col0\" >Random Sample Consensus</td>\n",
              "                        <td id=\"T_bf12057e_7f94_11ea_8c7d_0242ac1c0002row12_col1\" class=\"data row12 col1\" >3.382600</td>\n",
              "                        <td id=\"T_bf12057e_7f94_11ea_8c7d_0242ac1c0002row12_col2\" class=\"data row12 col2\" >29.295000</td>\n",
              "                        <td id=\"T_bf12057e_7f94_11ea_8c7d_0242ac1c0002row12_col3\" class=\"data row12 col3\" >5.180900</td>\n",
              "                        <td id=\"T_bf12057e_7f94_11ea_8c7d_0242ac1c0002row12_col4\" class=\"data row12 col4\" >0.668000</td>\n",
              "                        <td id=\"T_bf12057e_7f94_11ea_8c7d_0242ac1c0002row12_col5\" class=\"data row12 col5\" >0.248200</td>\n",
              "                        <td id=\"T_bf12057e_7f94_11ea_8c7d_0242ac1c0002row12_col6\" class=\"data row12 col6\" >0.153100</td>\n",
              "            </tr>\n",
              "            <tr>\n",
              "                        <th id=\"T_bf12057e_7f94_11ea_8c7d_0242ac1c0002level0_row13\" class=\"row_heading level0 row13\" >13</th>\n",
              "                        <td id=\"T_bf12057e_7f94_11ea_8c7d_0242ac1c0002row13_col0\" class=\"data row13 col0\" >Elastic Net</td>\n",
              "                        <td id=\"T_bf12057e_7f94_11ea_8c7d_0242ac1c0002row13_col1\" class=\"data row13 col1\" >3.923300</td>\n",
              "                        <td id=\"T_bf12057e_7f94_11ea_8c7d_0242ac1c0002row13_col2\" class=\"data row13 col2\" >30.081100</td>\n",
              "                        <td id=\"T_bf12057e_7f94_11ea_8c7d_0242ac1c0002row13_col3\" class=\"data row13 col3\" >5.392100</td>\n",
              "                        <td id=\"T_bf12057e_7f94_11ea_8c7d_0242ac1c0002row13_col4\" class=\"data row13 col4\" >0.645400</td>\n",
              "                        <td id=\"T_bf12057e_7f94_11ea_8c7d_0242ac1c0002row13_col5\" class=\"data row13 col5\" >0.234800</td>\n",
              "                        <td id=\"T_bf12057e_7f94_11ea_8c7d_0242ac1c0002row13_col6\" class=\"data row13 col6\" >0.184800</td>\n",
              "            </tr>\n",
              "            <tr>\n",
              "                        <th id=\"T_bf12057e_7f94_11ea_8c7d_0242ac1c0002level0_row14\" class=\"row_heading level0 row14\" >14</th>\n",
              "                        <td id=\"T_bf12057e_7f94_11ea_8c7d_0242ac1c0002row14_col0\" class=\"data row14 col0\" >Lasso Regression</td>\n",
              "                        <td id=\"T_bf12057e_7f94_11ea_8c7d_0242ac1c0002row14_col1\" class=\"data row14 col1\" >3.950700</td>\n",
              "                        <td id=\"T_bf12057e_7f94_11ea_8c7d_0242ac1c0002row14_col2\" class=\"data row14 col2\" >30.483400</td>\n",
              "                        <td id=\"T_bf12057e_7f94_11ea_8c7d_0242ac1c0002row14_col3\" class=\"data row14 col3\" >5.430900</td>\n",
              "                        <td id=\"T_bf12057e_7f94_11ea_8c7d_0242ac1c0002row14_col4\" class=\"data row14 col4\" >0.640200</td>\n",
              "                        <td id=\"T_bf12057e_7f94_11ea_8c7d_0242ac1c0002row14_col5\" class=\"data row14 col5\" >0.235800</td>\n",
              "                        <td id=\"T_bf12057e_7f94_11ea_8c7d_0242ac1c0002row14_col6\" class=\"data row14 col6\" >0.186500</td>\n",
              "            </tr>\n",
              "            <tr>\n",
              "                        <th id=\"T_bf12057e_7f94_11ea_8c7d_0242ac1c0002level0_row15\" class=\"row_heading level0 row15\" >15</th>\n",
              "                        <td id=\"T_bf12057e_7f94_11ea_8c7d_0242ac1c0002row15_col0\" class=\"data row15 col0\" >Decision Tree</td>\n",
              "                        <td id=\"T_bf12057e_7f94_11ea_8c7d_0242ac1c0002row15_col1\" class=\"data row15 col1\" >3.205200</td>\n",
              "                        <td id=\"T_bf12057e_7f94_11ea_8c7d_0242ac1c0002row15_col2\" class=\"data row15 col2\" >30.208200</td>\n",
              "                        <td id=\"T_bf12057e_7f94_11ea_8c7d_0242ac1c0002row15_col3\" class=\"data row15 col3\" >5.194500</td>\n",
              "                        <td id=\"T_bf12057e_7f94_11ea_8c7d_0242ac1c0002row15_col4\" class=\"data row15 col4\" >0.626100</td>\n",
              "                        <td id=\"T_bf12057e_7f94_11ea_8c7d_0242ac1c0002row15_col5\" class=\"data row15 col5\" >0.216800</td>\n",
              "                        <td id=\"T_bf12057e_7f94_11ea_8c7d_0242ac1c0002row15_col6\" class=\"data row15 col6\" >0.167600</td>\n",
              "            </tr>\n",
              "            <tr>\n",
              "                        <th id=\"T_bf12057e_7f94_11ea_8c7d_0242ac1c0002level0_row16\" class=\"row_heading level0 row16\" >16</th>\n",
              "                        <td id=\"T_bf12057e_7f94_11ea_8c7d_0242ac1c0002row16_col0\" class=\"data row16 col0\" >Huber Regressor</td>\n",
              "                        <td id=\"T_bf12057e_7f94_11ea_8c7d_0242ac1c0002row16_col1\" class=\"data row16 col1\" >4.026500</td>\n",
              "                        <td id=\"T_bf12057e_7f94_11ea_8c7d_0242ac1c0002row16_col2\" class=\"data row16 col2\" >34.791200</td>\n",
              "                        <td id=\"T_bf12057e_7f94_11ea_8c7d_0242ac1c0002row16_col3\" class=\"data row16 col3\" >5.759800</td>\n",
              "                        <td id=\"T_bf12057e_7f94_11ea_8c7d_0242ac1c0002row16_col4\" class=\"data row16 col4\" >0.599900</td>\n",
              "                        <td id=\"T_bf12057e_7f94_11ea_8c7d_0242ac1c0002row16_col5\" class=\"data row16 col5\" >0.259700</td>\n",
              "                        <td id=\"T_bf12057e_7f94_11ea_8c7d_0242ac1c0002row16_col6\" class=\"data row16 col6\" >0.186200</td>\n",
              "            </tr>\n",
              "            <tr>\n",
              "                        <th id=\"T_bf12057e_7f94_11ea_8c7d_0242ac1c0002level0_row17\" class=\"row_heading level0 row17\" >17</th>\n",
              "                        <td id=\"T_bf12057e_7f94_11ea_8c7d_0242ac1c0002row17_col0\" class=\"data row17 col0\" >Orthogonal Matching Pursuit</td>\n",
              "                        <td id=\"T_bf12057e_7f94_11ea_8c7d_0242ac1c0002row17_col1\" class=\"data row17 col1\" >4.272500</td>\n",
              "                        <td id=\"T_bf12057e_7f94_11ea_8c7d_0242ac1c0002row17_col2\" class=\"data row17 col2\" >34.681100</td>\n",
              "                        <td id=\"T_bf12057e_7f94_11ea_8c7d_0242ac1c0002row17_col3\" class=\"data row17 col3\" >5.793300</td>\n",
              "                        <td id=\"T_bf12057e_7f94_11ea_8c7d_0242ac1c0002row17_col4\" class=\"data row17 col4\" >0.585100</td>\n",
              "                        <td id=\"T_bf12057e_7f94_11ea_8c7d_0242ac1c0002row17_col5\" class=\"data row17 col5\" >0.284900</td>\n",
              "                        <td id=\"T_bf12057e_7f94_11ea_8c7d_0242ac1c0002row17_col6\" class=\"data row17 col6\" >0.216700</td>\n",
              "            </tr>\n",
              "            <tr>\n",
              "                        <th id=\"T_bf12057e_7f94_11ea_8c7d_0242ac1c0002level0_row18\" class=\"row_heading level0 row18\" >18</th>\n",
              "                        <td id=\"T_bf12057e_7f94_11ea_8c7d_0242ac1c0002row18_col0\" class=\"data row18 col0\" >K Neighbors Regressor</td>\n",
              "                        <td id=\"T_bf12057e_7f94_11ea_8c7d_0242ac1c0002row18_col1\" class=\"data row18 col1\" >4.842800</td>\n",
              "                        <td id=\"T_bf12057e_7f94_11ea_8c7d_0242ac1c0002row18_col2\" class=\"data row18 col2\" >46.709700</td>\n",
              "                        <td id=\"T_bf12057e_7f94_11ea_8c7d_0242ac1c0002row18_col3\" class=\"data row18 col3\" >6.754000</td>\n",
              "                        <td id=\"T_bf12057e_7f94_11ea_8c7d_0242ac1c0002row18_col4\" class=\"data row18 col4\" >0.442300</td>\n",
              "                        <td id=\"T_bf12057e_7f94_11ea_8c7d_0242ac1c0002row18_col5\" class=\"data row18 col5\" >0.265400</td>\n",
              "                        <td id=\"T_bf12057e_7f94_11ea_8c7d_0242ac1c0002row18_col6\" class=\"data row18 col6\" >0.228200</td>\n",
              "            </tr>\n",
              "            <tr>\n",
              "                        <th id=\"T_bf12057e_7f94_11ea_8c7d_0242ac1c0002level0_row19\" class=\"row_heading level0 row19\" >19</th>\n",
              "                        <td id=\"T_bf12057e_7f94_11ea_8c7d_0242ac1c0002row19_col0\" class=\"data row19 col0\" >Support Vector Machine</td>\n",
              "                        <td id=\"T_bf12057e_7f94_11ea_8c7d_0242ac1c0002row19_col1\" class=\"data row19 col1\" >5.735200</td>\n",
              "                        <td id=\"T_bf12057e_7f94_11ea_8c7d_0242ac1c0002row19_col2\" class=\"data row19 col2\" >77.542500</td>\n",
              "                        <td id=\"T_bf12057e_7f94_11ea_8c7d_0242ac1c0002row19_col3\" class=\"data row19 col3\" >8.632700</td>\n",
              "                        <td id=\"T_bf12057e_7f94_11ea_8c7d_0242ac1c0002row19_col4\" class=\"data row19 col4\" >0.133100</td>\n",
              "                        <td id=\"T_bf12057e_7f94_11ea_8c7d_0242ac1c0002row19_col5\" class=\"data row19 col5\" >0.329200</td>\n",
              "                        <td id=\"T_bf12057e_7f94_11ea_8c7d_0242ac1c0002row19_col6\" class=\"data row19 col6\" >0.251800</td>\n",
              "            </tr>\n",
              "            <tr>\n",
              "                        <th id=\"T_bf12057e_7f94_11ea_8c7d_0242ac1c0002level0_row20\" class=\"row_heading level0 row20\" >20</th>\n",
              "                        <td id=\"T_bf12057e_7f94_11ea_8c7d_0242ac1c0002row20_col0\" class=\"data row20 col0\" >Lasso Least Angle Regression</td>\n",
              "                        <td id=\"T_bf12057e_7f94_11ea_8c7d_0242ac1c0002row20_col1\" class=\"data row20 col1\" >6.882600</td>\n",
              "                        <td id=\"T_bf12057e_7f94_11ea_8c7d_0242ac1c0002row20_col2\" class=\"data row20 col2\" >90.193300</td>\n",
              "                        <td id=\"T_bf12057e_7f94_11ea_8c7d_0242ac1c0002row20_col3\" class=\"data row20 col3\" >9.389700</td>\n",
              "                        <td id=\"T_bf12057e_7f94_11ea_8c7d_0242ac1c0002row20_col4\" class=\"data row20 col4\" >-0.030100</td>\n",
              "                        <td id=\"T_bf12057e_7f94_11ea_8c7d_0242ac1c0002row20_col5\" class=\"data row20 col5\" >0.395900</td>\n",
              "                        <td id=\"T_bf12057e_7f94_11ea_8c7d_0242ac1c0002row20_col6\" class=\"data row20 col6\" >0.370100</td>\n",
              "            </tr>\n",
              "            <tr>\n",
              "                        <th id=\"T_bf12057e_7f94_11ea_8c7d_0242ac1c0002level0_row21\" class=\"row_heading level0 row21\" >21</th>\n",
              "                        <td id=\"T_bf12057e_7f94_11ea_8c7d_0242ac1c0002row21_col0\" class=\"data row21 col0\" >Passive Aggressive Regressor</td>\n",
              "                        <td id=\"T_bf12057e_7f94_11ea_8c7d_0242ac1c0002row21_col1\" class=\"data row21 col1\" >7.987500</td>\n",
              "                        <td id=\"T_bf12057e_7f94_11ea_8c7d_0242ac1c0002row21_col2\" class=\"data row21 col2\" >109.680300</td>\n",
              "                        <td id=\"T_bf12057e_7f94_11ea_8c7d_0242ac1c0002row21_col3\" class=\"data row21 col3\" >10.295800</td>\n",
              "                        <td id=\"T_bf12057e_7f94_11ea_8c7d_0242ac1c0002row21_col4\" class=\"data row21 col4\" >-0.328400</td>\n",
              "                        <td id=\"T_bf12057e_7f94_11ea_8c7d_0242ac1c0002row21_col5\" class=\"data row21 col5\" >0.474000</td>\n",
              "                        <td id=\"T_bf12057e_7f94_11ea_8c7d_0242ac1c0002row21_col6\" class=\"data row21 col6\" >0.381200</td>\n",
              "            </tr>\n",
              "    </tbody></table>"
            ],
            "text/plain": [
              "<pandas.io.formats.style.Styler at 0x7f2709990c18>"
            ]
          },
          "metadata": {
            "tags": []
          },
          "execution_count": 12
        }
      ]
    },
    {
      "cell_type": "code",
      "metadata": {
        "id": "FX2lCbAwFrrN",
        "colab_type": "code",
        "colab": {}
      },
      "source": [
        "## creating model, classification "
      ],
      "execution_count": 0,
      "outputs": []
    },
    {
      "cell_type": "code",
      "metadata": {
        "id": "cq88wt-iF7gH",
        "colab_type": "code",
        "outputId": "a8332f84-2518-45b6-f9a6-2d5296dba6ef",
        "colab": {
          "base_uri": "https://localhost:8080/",
          "height": 421
        }
      },
      "source": [
        "from pycaret.datasets import get_data\n",
        "diabetes = get_data('diabetes')\n",
        "\n",
        "from pycaret.classification import *\n",
        "clf1 = setup(data = diabetes, target = 'Class variable')\n",
        "\n",
        "lr = create_model('lr')"
      ],
      "execution_count": 0,
      "outputs": [
        {
          "output_type": "display_data",
          "data": {
            "text/html": [
              "<div>\n",
              "<style scoped>\n",
              "    .dataframe tbody tr th:only-of-type {\n",
              "        vertical-align: middle;\n",
              "    }\n",
              "\n",
              "    .dataframe tbody tr th {\n",
              "        vertical-align: top;\n",
              "    }\n",
              "\n",
              "    .dataframe thead th {\n",
              "        text-align: right;\n",
              "    }\n",
              "</style>\n",
              "<table border=\"1\" class=\"dataframe\">\n",
              "  <thead>\n",
              "    <tr style=\"text-align: right;\">\n",
              "      <th></th>\n",
              "      <th>Accuracy</th>\n",
              "      <th>AUC</th>\n",
              "      <th>Recall</th>\n",
              "      <th>Prec.</th>\n",
              "      <th>F1</th>\n",
              "      <th>Kappa</th>\n",
              "    </tr>\n",
              "  </thead>\n",
              "  <tbody>\n",
              "    <tr>\n",
              "      <th>0</th>\n",
              "      <td>0.7407</td>\n",
              "      <td>0.8256</td>\n",
              "      <td>0.4737</td>\n",
              "      <td>0.6923</td>\n",
              "      <td>0.5625</td>\n",
              "      <td>0.3874</td>\n",
              "    </tr>\n",
              "    <tr>\n",
              "      <th>1</th>\n",
              "      <td>0.8148</td>\n",
              "      <td>0.7970</td>\n",
              "      <td>0.6316</td>\n",
              "      <td>0.8000</td>\n",
              "      <td>0.7059</td>\n",
              "      <td>0.5735</td>\n",
              "    </tr>\n",
              "    <tr>\n",
              "      <th>2</th>\n",
              "      <td>0.7037</td>\n",
              "      <td>0.7188</td>\n",
              "      <td>0.4737</td>\n",
              "      <td>0.6000</td>\n",
              "      <td>0.5294</td>\n",
              "      <td>0.3175</td>\n",
              "    </tr>\n",
              "    <tr>\n",
              "      <th>3</th>\n",
              "      <td>0.6852</td>\n",
              "      <td>0.6782</td>\n",
              "      <td>0.5263</td>\n",
              "      <td>0.5556</td>\n",
              "      <td>0.5405</td>\n",
              "      <td>0.3014</td>\n",
              "    </tr>\n",
              "    <tr>\n",
              "      <th>4</th>\n",
              "      <td>0.7963</td>\n",
              "      <td>0.8376</td>\n",
              "      <td>0.5263</td>\n",
              "      <td>0.8333</td>\n",
              "      <td>0.6452</td>\n",
              "      <td>0.5123</td>\n",
              "    </tr>\n",
              "    <tr>\n",
              "      <th>5</th>\n",
              "      <td>0.7407</td>\n",
              "      <td>0.7970</td>\n",
              "      <td>0.4211</td>\n",
              "      <td>0.7273</td>\n",
              "      <td>0.5333</td>\n",
              "      <td>0.3710</td>\n",
              "    </tr>\n",
              "    <tr>\n",
              "      <th>6</th>\n",
              "      <td>0.7407</td>\n",
              "      <td>0.8030</td>\n",
              "      <td>0.6316</td>\n",
              "      <td>0.6316</td>\n",
              "      <td>0.6316</td>\n",
              "      <td>0.4316</td>\n",
              "    </tr>\n",
              "    <tr>\n",
              "      <th>7</th>\n",
              "      <td>0.7547</td>\n",
              "      <td>0.8556</td>\n",
              "      <td>0.3889</td>\n",
              "      <td>0.7778</td>\n",
              "      <td>0.5185</td>\n",
              "      <td>0.3776</td>\n",
              "    </tr>\n",
              "    <tr>\n",
              "      <th>8</th>\n",
              "      <td>0.8113</td>\n",
              "      <td>0.8714</td>\n",
              "      <td>0.5556</td>\n",
              "      <td>0.8333</td>\n",
              "      <td>0.6667</td>\n",
              "      <td>0.5423</td>\n",
              "    </tr>\n",
              "    <tr>\n",
              "      <th>9</th>\n",
              "      <td>0.7547</td>\n",
              "      <td>0.7984</td>\n",
              "      <td>0.5556</td>\n",
              "      <td>0.6667</td>\n",
              "      <td>0.6061</td>\n",
              "      <td>0.4301</td>\n",
              "    </tr>\n",
              "    <tr>\n",
              "      <th>Mean</th>\n",
              "      <td>0.7543</td>\n",
              "      <td>0.7983</td>\n",
              "      <td>0.5184</td>\n",
              "      <td>0.7118</td>\n",
              "      <td>0.5940</td>\n",
              "      <td>0.4245</td>\n",
              "    </tr>\n",
              "    <tr>\n",
              "      <th>SD</th>\n",
              "      <td>0.0407</td>\n",
              "      <td>0.0563</td>\n",
              "      <td>0.0767</td>\n",
              "      <td>0.0936</td>\n",
              "      <td>0.0627</td>\n",
              "      <td>0.0877</td>\n",
              "    </tr>\n",
              "  </tbody>\n",
              "</table>\n",
              "</div>"
            ],
            "text/plain": [
              "      Accuracy     AUC  Recall   Prec.      F1   Kappa\n",
              "0       0.7407  0.8256  0.4737  0.6923  0.5625  0.3874\n",
              "1       0.8148  0.7970  0.6316  0.8000  0.7059  0.5735\n",
              "2       0.7037  0.7188  0.4737  0.6000  0.5294  0.3175\n",
              "3       0.6852  0.6782  0.5263  0.5556  0.5405  0.3014\n",
              "4       0.7963  0.8376  0.5263  0.8333  0.6452  0.5123\n",
              "5       0.7407  0.7970  0.4211  0.7273  0.5333  0.3710\n",
              "6       0.7407  0.8030  0.6316  0.6316  0.6316  0.4316\n",
              "7       0.7547  0.8556  0.3889  0.7778  0.5185  0.3776\n",
              "8       0.8113  0.8714  0.5556  0.8333  0.6667  0.5423\n",
              "9       0.7547  0.7984  0.5556  0.6667  0.6061  0.4301\n",
              "Mean    0.7543  0.7983  0.5184  0.7118  0.5940  0.4245\n",
              "SD      0.0407  0.0563  0.0767  0.0936  0.0627  0.0877"
            ]
          },
          "metadata": {
            "tags": []
          }
        }
      ]
    },
    {
      "cell_type": "code",
      "metadata": {
        "id": "f8ghaRvfGFUx",
        "colab_type": "code",
        "colab": {}
      },
      "source": [
        "## creating model, regression"
      ],
      "execution_count": 0,
      "outputs": []
    },
    {
      "cell_type": "code",
      "metadata": {
        "id": "NB68Pf7pGN1M",
        "colab_type": "code",
        "outputId": "a6aa0e39-e650-4599-a910-8a116fe395fb",
        "colab": {
          "base_uri": "https://localhost:8080/",
          "height": 421
        }
      },
      "source": [
        "from pycaret.datasets import get_data\n",
        "boston = get_data('boston')\n",
        "\n",
        "from pycaret.regression import *\n",
        "reg1 = setup(data = boston, target = 'medv')\n",
        "\n",
        "xgboost = create_model('xgboost')"
      ],
      "execution_count": 0,
      "outputs": [
        {
          "output_type": "display_data",
          "data": {
            "text/html": [
              "<div>\n",
              "<style scoped>\n",
              "    .dataframe tbody tr th:only-of-type {\n",
              "        vertical-align: middle;\n",
              "    }\n",
              "\n",
              "    .dataframe tbody tr th {\n",
              "        vertical-align: top;\n",
              "    }\n",
              "\n",
              "    .dataframe thead th {\n",
              "        text-align: right;\n",
              "    }\n",
              "</style>\n",
              "<table border=\"1\" class=\"dataframe\">\n",
              "  <thead>\n",
              "    <tr style=\"text-align: right;\">\n",
              "      <th></th>\n",
              "      <th>MAE</th>\n",
              "      <th>MSE</th>\n",
              "      <th>RMSE</th>\n",
              "      <th>R2</th>\n",
              "      <th>RMSLE</th>\n",
              "      <th>MAPE</th>\n",
              "    </tr>\n",
              "  </thead>\n",
              "  <tbody>\n",
              "    <tr>\n",
              "      <th>0</th>\n",
              "      <td>2.1051</td>\n",
              "      <td>8.3073</td>\n",
              "      <td>2.8822</td>\n",
              "      <td>0.8889</td>\n",
              "      <td>0.1616</td>\n",
              "      <td>0.1353</td>\n",
              "    </tr>\n",
              "    <tr>\n",
              "      <th>1</th>\n",
              "      <td>2.2332</td>\n",
              "      <td>11.1767</td>\n",
              "      <td>3.3432</td>\n",
              "      <td>0.7893</td>\n",
              "      <td>0.1682</td>\n",
              "      <td>0.1246</td>\n",
              "    </tr>\n",
              "    <tr>\n",
              "      <th>2</th>\n",
              "      <td>2.3264</td>\n",
              "      <td>9.3821</td>\n",
              "      <td>3.0630</td>\n",
              "      <td>0.8973</td>\n",
              "      <td>0.1766</td>\n",
              "      <td>0.1430</td>\n",
              "    </tr>\n",
              "    <tr>\n",
              "      <th>3</th>\n",
              "      <td>2.4789</td>\n",
              "      <td>17.0417</td>\n",
              "      <td>4.1282</td>\n",
              "      <td>0.8058</td>\n",
              "      <td>0.1404</td>\n",
              "      <td>0.1016</td>\n",
              "    </tr>\n",
              "    <tr>\n",
              "      <th>4</th>\n",
              "      <td>2.7594</td>\n",
              "      <td>14.5430</td>\n",
              "      <td>3.8135</td>\n",
              "      <td>0.8939</td>\n",
              "      <td>0.1215</td>\n",
              "      <td>0.1002</td>\n",
              "    </tr>\n",
              "    <tr>\n",
              "      <th>5</th>\n",
              "      <td>2.2628</td>\n",
              "      <td>9.0491</td>\n",
              "      <td>3.0082</td>\n",
              "      <td>0.9107</td>\n",
              "      <td>0.1697</td>\n",
              "      <td>0.1361</td>\n",
              "    </tr>\n",
              "    <tr>\n",
              "      <th>6</th>\n",
              "      <td>2.3650</td>\n",
              "      <td>9.7779</td>\n",
              "      <td>3.1270</td>\n",
              "      <td>0.8720</td>\n",
              "      <td>0.1157</td>\n",
              "      <td>0.0966</td>\n",
              "    </tr>\n",
              "    <tr>\n",
              "      <th>7</th>\n",
              "      <td>1.9027</td>\n",
              "      <td>7.4908</td>\n",
              "      <td>2.7369</td>\n",
              "      <td>0.8750</td>\n",
              "      <td>0.1278</td>\n",
              "      <td>0.0986</td>\n",
              "    </tr>\n",
              "    <tr>\n",
              "      <th>8</th>\n",
              "      <td>2.4616</td>\n",
              "      <td>10.6573</td>\n",
              "      <td>3.2646</td>\n",
              "      <td>0.8655</td>\n",
              "      <td>0.1413</td>\n",
              "      <td>0.1241</td>\n",
              "    </tr>\n",
              "    <tr>\n",
              "      <th>9</th>\n",
              "      <td>2.2992</td>\n",
              "      <td>17.8185</td>\n",
              "      <td>4.2212</td>\n",
              "      <td>0.7743</td>\n",
              "      <td>0.1373</td>\n",
              "      <td>0.0952</td>\n",
              "    </tr>\n",
              "    <tr>\n",
              "      <th>Mean</th>\n",
              "      <td>2.3194</td>\n",
              "      <td>11.5244</td>\n",
              "      <td>3.3588</td>\n",
              "      <td>0.8573</td>\n",
              "      <td>0.1460</td>\n",
              "      <td>0.1155</td>\n",
              "    </tr>\n",
              "    <tr>\n",
              "      <th>SD</th>\n",
              "      <td>0.2172</td>\n",
              "      <td>3.4703</td>\n",
              "      <td>0.4929</td>\n",
              "      <td>0.0464</td>\n",
              "      <td>0.0205</td>\n",
              "      <td>0.0179</td>\n",
              "    </tr>\n",
              "  </tbody>\n",
              "</table>\n",
              "</div>"
            ],
            "text/plain": [
              "         MAE      MSE    RMSE      R2   RMSLE    MAPE\n",
              "0     2.1051   8.3073  2.8822  0.8889  0.1616  0.1353\n",
              "1     2.2332  11.1767  3.3432  0.7893  0.1682  0.1246\n",
              "2     2.3264   9.3821  3.0630  0.8973  0.1766  0.1430\n",
              "3     2.4789  17.0417  4.1282  0.8058  0.1404  0.1016\n",
              "4     2.7594  14.5430  3.8135  0.8939  0.1215  0.1002\n",
              "5     2.2628   9.0491  3.0082  0.9107  0.1697  0.1361\n",
              "6     2.3650   9.7779  3.1270  0.8720  0.1157  0.0966\n",
              "7     1.9027   7.4908  2.7369  0.8750  0.1278  0.0986\n",
              "8     2.4616  10.6573  3.2646  0.8655  0.1413  0.1241\n",
              "9     2.2992  17.8185  4.2212  0.7743  0.1373  0.0952\n",
              "Mean  2.3194  11.5244  3.3588  0.8573  0.1460  0.1155\n",
              "SD    0.2172   3.4703  0.4929  0.0464  0.0205  0.0179"
            ]
          },
          "metadata": {
            "tags": []
          }
        }
      ]
    },
    {
      "cell_type": "code",
      "metadata": {
        "id": "rDfm9dc8GQoW",
        "colab_type": "code",
        "colab": {}
      },
      "source": [
        "## creating model, clustering"
      ],
      "execution_count": 0,
      "outputs": []
    },
    {
      "cell_type": "code",
      "metadata": {
        "id": "YS_9s6PiGbxD",
        "colab_type": "code",
        "colab": {}
      },
      "source": [
        "from pycaret.datasets import get_data\n",
        "jewellery = get_data('jewellery')\n",
        "\n",
        "from pycaret.clustering import *\n",
        "clu1 = setup(data = jewellery)\n",
        "\n",
        "kmeans = create_model('kmeans')"
      ],
      "execution_count": 0,
      "outputs": []
    },
    {
      "cell_type": "code",
      "metadata": {
        "id": "KzlfGFT7GdxH",
        "colab_type": "code",
        "colab": {}
      },
      "source": [
        "## hyperparameter tuning, classification"
      ],
      "execution_count": 0,
      "outputs": []
    },
    {
      "cell_type": "code",
      "metadata": {
        "id": "PXhp0p9HGpWf",
        "colab_type": "code",
        "outputId": "2170146d-0e63-4e1a-9c46-63115b92d5b7",
        "colab": {
          "base_uri": "https://localhost:8080/",
          "height": 421
        }
      },
      "source": [
        "from pycaret.datasets import get_data\n",
        "diabetes = get_data('diabetes')\n",
        "\n",
        "from pycaret.classification import *\n",
        "clf1 = setup(data = diabetes, target = 'Class variable')\n",
        "\n",
        "tuned_lightgbm = tune_model('lightgbm')"
      ],
      "execution_count": 0,
      "outputs": [
        {
          "output_type": "display_data",
          "data": {
            "text/html": [
              "<div>\n",
              "<style scoped>\n",
              "    .dataframe tbody tr th:only-of-type {\n",
              "        vertical-align: middle;\n",
              "    }\n",
              "\n",
              "    .dataframe tbody tr th {\n",
              "        vertical-align: top;\n",
              "    }\n",
              "\n",
              "    .dataframe thead th {\n",
              "        text-align: right;\n",
              "    }\n",
              "</style>\n",
              "<table border=\"1\" class=\"dataframe\">\n",
              "  <thead>\n",
              "    <tr style=\"text-align: right;\">\n",
              "      <th></th>\n",
              "      <th>Accuracy</th>\n",
              "      <th>AUC</th>\n",
              "      <th>Recall</th>\n",
              "      <th>Prec.</th>\n",
              "      <th>F1</th>\n",
              "      <th>Kappa</th>\n",
              "    </tr>\n",
              "  </thead>\n",
              "  <tbody>\n",
              "    <tr>\n",
              "      <th>0</th>\n",
              "      <td>0.8519</td>\n",
              "      <td>0.8872</td>\n",
              "      <td>0.7368</td>\n",
              "      <td>0.8235</td>\n",
              "      <td>0.7778</td>\n",
              "      <td>0.6672</td>\n",
              "    </tr>\n",
              "    <tr>\n",
              "      <th>1</th>\n",
              "      <td>0.8889</td>\n",
              "      <td>0.9564</td>\n",
              "      <td>0.8421</td>\n",
              "      <td>0.8421</td>\n",
              "      <td>0.8421</td>\n",
              "      <td>0.7564</td>\n",
              "    </tr>\n",
              "    <tr>\n",
              "      <th>2</th>\n",
              "      <td>0.7778</td>\n",
              "      <td>0.8451</td>\n",
              "      <td>0.6316</td>\n",
              "      <td>0.7059</td>\n",
              "      <td>0.6667</td>\n",
              "      <td>0.5008</td>\n",
              "    </tr>\n",
              "    <tr>\n",
              "      <th>3</th>\n",
              "      <td>0.6852</td>\n",
              "      <td>0.7241</td>\n",
              "      <td>0.6316</td>\n",
              "      <td>0.5455</td>\n",
              "      <td>0.5854</td>\n",
              "      <td>0.3338</td>\n",
              "    </tr>\n",
              "    <tr>\n",
              "      <th>4</th>\n",
              "      <td>0.8333</td>\n",
              "      <td>0.9188</td>\n",
              "      <td>0.6316</td>\n",
              "      <td>0.8571</td>\n",
              "      <td>0.7273</td>\n",
              "      <td>0.6112</td>\n",
              "    </tr>\n",
              "    <tr>\n",
              "      <th>5</th>\n",
              "      <td>0.8148</td>\n",
              "      <td>0.8789</td>\n",
              "      <td>0.6316</td>\n",
              "      <td>0.8000</td>\n",
              "      <td>0.7059</td>\n",
              "      <td>0.5735</td>\n",
              "    </tr>\n",
              "    <tr>\n",
              "      <th>6</th>\n",
              "      <td>0.7222</td>\n",
              "      <td>0.8098</td>\n",
              "      <td>0.5263</td>\n",
              "      <td>0.6250</td>\n",
              "      <td>0.5714</td>\n",
              "      <td>0.3682</td>\n",
              "    </tr>\n",
              "    <tr>\n",
              "      <th>7</th>\n",
              "      <td>0.7547</td>\n",
              "      <td>0.8079</td>\n",
              "      <td>0.7222</td>\n",
              "      <td>0.6190</td>\n",
              "      <td>0.6667</td>\n",
              "      <td>0.4744</td>\n",
              "    </tr>\n",
              "    <tr>\n",
              "      <th>8</th>\n",
              "      <td>0.7170</td>\n",
              "      <td>0.7365</td>\n",
              "      <td>0.5000</td>\n",
              "      <td>0.6000</td>\n",
              "      <td>0.5455</td>\n",
              "      <td>0.3424</td>\n",
              "    </tr>\n",
              "    <tr>\n",
              "      <th>9</th>\n",
              "      <td>0.6792</td>\n",
              "      <td>0.7460</td>\n",
              "      <td>0.5556</td>\n",
              "      <td>0.5263</td>\n",
              "      <td>0.5405</td>\n",
              "      <td>0.2944</td>\n",
              "    </tr>\n",
              "    <tr>\n",
              "      <th>Mean</th>\n",
              "      <td>0.7725</td>\n",
              "      <td>0.8311</td>\n",
              "      <td>0.6409</td>\n",
              "      <td>0.6944</td>\n",
              "      <td>0.6629</td>\n",
              "      <td>0.4922</td>\n",
              "    </tr>\n",
              "    <tr>\n",
              "      <th>SD</th>\n",
              "      <td>0.0690</td>\n",
              "      <td>0.0759</td>\n",
              "      <td>0.0984</td>\n",
              "      <td>0.1209</td>\n",
              "      <td>0.0972</td>\n",
              "      <td>0.1495</td>\n",
              "    </tr>\n",
              "  </tbody>\n",
              "</table>\n",
              "</div>"
            ],
            "text/plain": [
              "      Accuracy     AUC  Recall   Prec.      F1   Kappa\n",
              "0       0.8519  0.8872  0.7368  0.8235  0.7778  0.6672\n",
              "1       0.8889  0.9564  0.8421  0.8421  0.8421  0.7564\n",
              "2       0.7778  0.8451  0.6316  0.7059  0.6667  0.5008\n",
              "3       0.6852  0.7241  0.6316  0.5455  0.5854  0.3338\n",
              "4       0.8333  0.9188  0.6316  0.8571  0.7273  0.6112\n",
              "5       0.8148  0.8789  0.6316  0.8000  0.7059  0.5735\n",
              "6       0.7222  0.8098  0.5263  0.6250  0.5714  0.3682\n",
              "7       0.7547  0.8079  0.7222  0.6190  0.6667  0.4744\n",
              "8       0.7170  0.7365  0.5000  0.6000  0.5455  0.3424\n",
              "9       0.6792  0.7460  0.5556  0.5263  0.5405  0.2944\n",
              "Mean    0.7725  0.8311  0.6409  0.6944  0.6629  0.4922\n",
              "SD      0.0690  0.0759  0.0984  0.1209  0.0972  0.1495"
            ]
          },
          "metadata": {
            "tags": []
          }
        }
      ]
    },
    {
      "cell_type": "code",
      "metadata": {
        "id": "uJ-VFuiDGtxY",
        "colab_type": "code",
        "colab": {}
      },
      "source": [
        "## hyperparameter tuning, regression"
      ],
      "execution_count": 0,
      "outputs": []
    },
    {
      "cell_type": "code",
      "metadata": {
        "id": "umXE-IrNG3Q5",
        "colab_type": "code",
        "outputId": "816417a8-45cd-417f-f645-cfa33d55eea0",
        "colab": {
          "base_uri": "https://localhost:8080/",
          "height": 421
        }
      },
      "source": [
        "from pycaret.datasets import get_data\n",
        "boston = get_data('boston')\n",
        "\n",
        "from pycaret.regression import *\n",
        "reg1 = setup(data = boston, target = 'medv')\n",
        "\n",
        "tuned_rf = tune_model('rf', n_iter = 50, optimize = 'mae')"
      ],
      "execution_count": 0,
      "outputs": [
        {
          "output_type": "display_data",
          "data": {
            "text/html": [
              "<div>\n",
              "<style scoped>\n",
              "    .dataframe tbody tr th:only-of-type {\n",
              "        vertical-align: middle;\n",
              "    }\n",
              "\n",
              "    .dataframe tbody tr th {\n",
              "        vertical-align: top;\n",
              "    }\n",
              "\n",
              "    .dataframe thead th {\n",
              "        text-align: right;\n",
              "    }\n",
              "</style>\n",
              "<table border=\"1\" class=\"dataframe\">\n",
              "  <thead>\n",
              "    <tr style=\"text-align: right;\">\n",
              "      <th></th>\n",
              "      <th>MAE</th>\n",
              "      <th>MSE</th>\n",
              "      <th>RMSE</th>\n",
              "      <th>R2</th>\n",
              "      <th>RMSLE</th>\n",
              "      <th>MAPE</th>\n",
              "    </tr>\n",
              "  </thead>\n",
              "  <tbody>\n",
              "    <tr>\n",
              "      <th>0</th>\n",
              "      <td>2.2776</td>\n",
              "      <td>11.3905</td>\n",
              "      <td>3.3750</td>\n",
              "      <td>0.8963</td>\n",
              "      <td>0.1139</td>\n",
              "      <td>0.0908</td>\n",
              "    </tr>\n",
              "    <tr>\n",
              "      <th>1</th>\n",
              "      <td>1.5227</td>\n",
              "      <td>3.3183</td>\n",
              "      <td>1.8216</td>\n",
              "      <td>0.9588</td>\n",
              "      <td>0.0973</td>\n",
              "      <td>0.0827</td>\n",
              "    </tr>\n",
              "    <tr>\n",
              "      <th>2</th>\n",
              "      <td>2.0583</td>\n",
              "      <td>7.7491</td>\n",
              "      <td>2.7837</td>\n",
              "      <td>0.8992</td>\n",
              "      <td>0.1247</td>\n",
              "      <td>0.1003</td>\n",
              "    </tr>\n",
              "    <tr>\n",
              "      <th>3</th>\n",
              "      <td>2.7815</td>\n",
              "      <td>20.3952</td>\n",
              "      <td>4.5161</td>\n",
              "      <td>0.7398</td>\n",
              "      <td>0.1867</td>\n",
              "      <td>0.1357</td>\n",
              "    </tr>\n",
              "    <tr>\n",
              "      <th>4</th>\n",
              "      <td>3.1167</td>\n",
              "      <td>35.3102</td>\n",
              "      <td>5.9422</td>\n",
              "      <td>0.7691</td>\n",
              "      <td>0.1747</td>\n",
              "      <td>0.1088</td>\n",
              "    </tr>\n",
              "    <tr>\n",
              "      <th>5</th>\n",
              "      <td>2.2088</td>\n",
              "      <td>9.2992</td>\n",
              "      <td>3.0495</td>\n",
              "      <td>0.8226</td>\n",
              "      <td>0.1461</td>\n",
              "      <td>0.1144</td>\n",
              "    </tr>\n",
              "    <tr>\n",
              "      <th>6</th>\n",
              "      <td>1.7990</td>\n",
              "      <td>5.4155</td>\n",
              "      <td>2.3271</td>\n",
              "      <td>0.9235</td>\n",
              "      <td>0.1029</td>\n",
              "      <td>0.0862</td>\n",
              "    </tr>\n",
              "    <tr>\n",
              "      <th>7</th>\n",
              "      <td>1.5389</td>\n",
              "      <td>4.4262</td>\n",
              "      <td>2.1039</td>\n",
              "      <td>0.8935</td>\n",
              "      <td>0.1145</td>\n",
              "      <td>0.0939</td>\n",
              "    </tr>\n",
              "    <tr>\n",
              "      <th>8</th>\n",
              "      <td>2.0896</td>\n",
              "      <td>8.4307</td>\n",
              "      <td>2.9036</td>\n",
              "      <td>0.7866</td>\n",
              "      <td>0.1132</td>\n",
              "      <td>0.0924</td>\n",
              "    </tr>\n",
              "    <tr>\n",
              "      <th>9</th>\n",
              "      <td>3.1212</td>\n",
              "      <td>21.4580</td>\n",
              "      <td>4.6323</td>\n",
              "      <td>0.7892</td>\n",
              "      <td>0.2323</td>\n",
              "      <td>0.2006</td>\n",
              "    </tr>\n",
              "    <tr>\n",
              "      <th>Mean</th>\n",
              "      <td>2.2514</td>\n",
              "      <td>12.7193</td>\n",
              "      <td>3.3455</td>\n",
              "      <td>0.8479</td>\n",
              "      <td>0.1406</td>\n",
              "      <td>0.1106</td>\n",
              "    </tr>\n",
              "    <tr>\n",
              "      <th>SD</th>\n",
              "      <td>0.5564</td>\n",
              "      <td>9.5535</td>\n",
              "      <td>1.2357</td>\n",
              "      <td>0.0713</td>\n",
              "      <td>0.0417</td>\n",
              "      <td>0.0335</td>\n",
              "    </tr>\n",
              "  </tbody>\n",
              "</table>\n",
              "</div>"
            ],
            "text/plain": [
              "         MAE      MSE    RMSE      R2   RMSLE    MAPE\n",
              "0     2.2776  11.3905  3.3750  0.8963  0.1139  0.0908\n",
              "1     1.5227   3.3183  1.8216  0.9588  0.0973  0.0827\n",
              "2     2.0583   7.7491  2.7837  0.8992  0.1247  0.1003\n",
              "3     2.7815  20.3952  4.5161  0.7398  0.1867  0.1357\n",
              "4     3.1167  35.3102  5.9422  0.7691  0.1747  0.1088\n",
              "5     2.2088   9.2992  3.0495  0.8226  0.1461  0.1144\n",
              "6     1.7990   5.4155  2.3271  0.9235  0.1029  0.0862\n",
              "7     1.5389   4.4262  2.1039  0.8935  0.1145  0.0939\n",
              "8     2.0896   8.4307  2.9036  0.7866  0.1132  0.0924\n",
              "9     3.1212  21.4580  4.6323  0.7892  0.2323  0.2006\n",
              "Mean  2.2514  12.7193  3.3455  0.8479  0.1406  0.1106\n",
              "SD    0.5564   9.5535  1.2357  0.0713  0.0417  0.0335"
            ]
          },
          "metadata": {
            "tags": []
          }
        }
      ]
    },
    {
      "cell_type": "code",
      "metadata": {
        "id": "uApHWxyyG7bU",
        "colab_type": "code",
        "colab": {}
      },
      "source": [
        "## hyparameter tuning, clustering"
      ],
      "execution_count": 0,
      "outputs": []
    },
    {
      "cell_type": "code",
      "metadata": {
        "id": "XxRaOw75HB9a",
        "colab_type": "code",
        "outputId": "f34b4a90-99fc-45c6-ef37-8ad109502228",
        "colab": {
          "base_uri": "https://localhost:8080/",
          "height": 1000,
          "referenced_widgets": [
            "ea61b2af32f14188880c15d47b5ab504",
            "cc46e0e19ed64fadbbd9a656be917fe4",
            "ebdab7a1c2a6449a9cdb57fb11e76284",
            "4fc868c120894b5c90bea1f680770a7a",
            "138587082206471680eb6d8d34926aa7"
          ]
        }
      },
      "source": [
        "from pycaret.datasets import get_data\n",
        "diabetes = get_data('diabetes')\n",
        "\n",
        "from pycaret.clustering import *\n",
        "clu1 = setup(data = diabetes)\n",
        "\n",
        "tuned_kmodes = tune_model('kmodes', supervised_target = 'Class variable')"
      ],
      "execution_count": 0,
      "outputs": [
        {
          "output_type": "stream",
          "text": [
            "\n",
            "Setup Succesfully Completed!\n"
          ],
          "name": "stdout"
        },
        {
          "output_type": "display_data",
          "data": {
            "text/html": [
              "<style  type=\"text/css\" >\n",
              "</style><table id=\"T_8b7d1022_7f95_11ea_8c7d_0242ac1c0002\" ><thead>    <tr>        <th class=\"blank level0\" ></th>        <th class=\"col_heading level0 col0\" >Description</th>        <th class=\"col_heading level0 col1\" >Value</th>    </tr></thead><tbody>\n",
              "                <tr>\n",
              "                        <th id=\"T_8b7d1022_7f95_11ea_8c7d_0242ac1c0002level0_row0\" class=\"row_heading level0 row0\" >0</th>\n",
              "                        <td id=\"T_8b7d1022_7f95_11ea_8c7d_0242ac1c0002row0_col0\" class=\"data row0 col0\" >session_id </td>\n",
              "                        <td id=\"T_8b7d1022_7f95_11ea_8c7d_0242ac1c0002row0_col1\" class=\"data row0 col1\" >7901</td>\n",
              "            </tr>\n",
              "            <tr>\n",
              "                        <th id=\"T_8b7d1022_7f95_11ea_8c7d_0242ac1c0002level0_row1\" class=\"row_heading level0 row1\" >1</th>\n",
              "                        <td id=\"T_8b7d1022_7f95_11ea_8c7d_0242ac1c0002row1_col0\" class=\"data row1 col0\" >Original Data </td>\n",
              "                        <td id=\"T_8b7d1022_7f95_11ea_8c7d_0242ac1c0002row1_col1\" class=\"data row1 col1\" >(768, 9)</td>\n",
              "            </tr>\n",
              "            <tr>\n",
              "                        <th id=\"T_8b7d1022_7f95_11ea_8c7d_0242ac1c0002level0_row2\" class=\"row_heading level0 row2\" >2</th>\n",
              "                        <td id=\"T_8b7d1022_7f95_11ea_8c7d_0242ac1c0002row2_col0\" class=\"data row2 col0\" >Missing Values </td>\n",
              "                        <td id=\"T_8b7d1022_7f95_11ea_8c7d_0242ac1c0002row2_col1\" class=\"data row2 col1\" >False</td>\n",
              "            </tr>\n",
              "            <tr>\n",
              "                        <th id=\"T_8b7d1022_7f95_11ea_8c7d_0242ac1c0002level0_row3\" class=\"row_heading level0 row3\" >3</th>\n",
              "                        <td id=\"T_8b7d1022_7f95_11ea_8c7d_0242ac1c0002row3_col0\" class=\"data row3 col0\" >Numeric Features </td>\n",
              "                        <td id=\"T_8b7d1022_7f95_11ea_8c7d_0242ac1c0002row3_col1\" class=\"data row3 col1\" >7</td>\n",
              "            </tr>\n",
              "            <tr>\n",
              "                        <th id=\"T_8b7d1022_7f95_11ea_8c7d_0242ac1c0002level0_row4\" class=\"row_heading level0 row4\" >4</th>\n",
              "                        <td id=\"T_8b7d1022_7f95_11ea_8c7d_0242ac1c0002row4_col0\" class=\"data row4 col0\" >Categorical Features </td>\n",
              "                        <td id=\"T_8b7d1022_7f95_11ea_8c7d_0242ac1c0002row4_col1\" class=\"data row4 col1\" >2</td>\n",
              "            </tr>\n",
              "            <tr>\n",
              "                        <th id=\"T_8b7d1022_7f95_11ea_8c7d_0242ac1c0002level0_row5\" class=\"row_heading level0 row5\" >5</th>\n",
              "                        <td id=\"T_8b7d1022_7f95_11ea_8c7d_0242ac1c0002row5_col0\" class=\"data row5 col0\" >Ordinal Features </td>\n",
              "                        <td id=\"T_8b7d1022_7f95_11ea_8c7d_0242ac1c0002row5_col1\" class=\"data row5 col1\" >False</td>\n",
              "            </tr>\n",
              "            <tr>\n",
              "                        <th id=\"T_8b7d1022_7f95_11ea_8c7d_0242ac1c0002level0_row6\" class=\"row_heading level0 row6\" >6</th>\n",
              "                        <td id=\"T_8b7d1022_7f95_11ea_8c7d_0242ac1c0002row6_col0\" class=\"data row6 col0\" >High Cardinality Features </td>\n",
              "                        <td id=\"T_8b7d1022_7f95_11ea_8c7d_0242ac1c0002row6_col1\" class=\"data row6 col1\" >False</td>\n",
              "            </tr>\n",
              "            <tr>\n",
              "                        <th id=\"T_8b7d1022_7f95_11ea_8c7d_0242ac1c0002level0_row7\" class=\"row_heading level0 row7\" >7</th>\n",
              "                        <td id=\"T_8b7d1022_7f95_11ea_8c7d_0242ac1c0002row7_col0\" class=\"data row7 col0\" >Transformed Data </td>\n",
              "                        <td id=\"T_8b7d1022_7f95_11ea_8c7d_0242ac1c0002row7_col1\" class=\"data row7 col1\" >(768, 26)</td>\n",
              "            </tr>\n",
              "            <tr>\n",
              "                        <th id=\"T_8b7d1022_7f95_11ea_8c7d_0242ac1c0002level0_row8\" class=\"row_heading level0 row8\" >8</th>\n",
              "                        <td id=\"T_8b7d1022_7f95_11ea_8c7d_0242ac1c0002row8_col0\" class=\"data row8 col0\" >Numeric Imputer </td>\n",
              "                        <td id=\"T_8b7d1022_7f95_11ea_8c7d_0242ac1c0002row8_col1\" class=\"data row8 col1\" >mean</td>\n",
              "            </tr>\n",
              "            <tr>\n",
              "                        <th id=\"T_8b7d1022_7f95_11ea_8c7d_0242ac1c0002level0_row9\" class=\"row_heading level0 row9\" >9</th>\n",
              "                        <td id=\"T_8b7d1022_7f95_11ea_8c7d_0242ac1c0002row9_col0\" class=\"data row9 col0\" >Categorical Imputer </td>\n",
              "                        <td id=\"T_8b7d1022_7f95_11ea_8c7d_0242ac1c0002row9_col1\" class=\"data row9 col1\" >constant</td>\n",
              "            </tr>\n",
              "            <tr>\n",
              "                        <th id=\"T_8b7d1022_7f95_11ea_8c7d_0242ac1c0002level0_row10\" class=\"row_heading level0 row10\" >10</th>\n",
              "                        <td id=\"T_8b7d1022_7f95_11ea_8c7d_0242ac1c0002row10_col0\" class=\"data row10 col0\" >Normalize </td>\n",
              "                        <td id=\"T_8b7d1022_7f95_11ea_8c7d_0242ac1c0002row10_col1\" class=\"data row10 col1\" >False</td>\n",
              "            </tr>\n",
              "            <tr>\n",
              "                        <th id=\"T_8b7d1022_7f95_11ea_8c7d_0242ac1c0002level0_row11\" class=\"row_heading level0 row11\" >11</th>\n",
              "                        <td id=\"T_8b7d1022_7f95_11ea_8c7d_0242ac1c0002row11_col0\" class=\"data row11 col0\" >Normalize Method </td>\n",
              "                        <td id=\"T_8b7d1022_7f95_11ea_8c7d_0242ac1c0002row11_col1\" class=\"data row11 col1\" >None</td>\n",
              "            </tr>\n",
              "            <tr>\n",
              "                        <th id=\"T_8b7d1022_7f95_11ea_8c7d_0242ac1c0002level0_row12\" class=\"row_heading level0 row12\" >12</th>\n",
              "                        <td id=\"T_8b7d1022_7f95_11ea_8c7d_0242ac1c0002row12_col0\" class=\"data row12 col0\" >Transformation </td>\n",
              "                        <td id=\"T_8b7d1022_7f95_11ea_8c7d_0242ac1c0002row12_col1\" class=\"data row12 col1\" >False</td>\n",
              "            </tr>\n",
              "            <tr>\n",
              "                        <th id=\"T_8b7d1022_7f95_11ea_8c7d_0242ac1c0002level0_row13\" class=\"row_heading level0 row13\" >13</th>\n",
              "                        <td id=\"T_8b7d1022_7f95_11ea_8c7d_0242ac1c0002row13_col0\" class=\"data row13 col0\" >Transformation Method </td>\n",
              "                        <td id=\"T_8b7d1022_7f95_11ea_8c7d_0242ac1c0002row13_col1\" class=\"data row13 col1\" >None</td>\n",
              "            </tr>\n",
              "            <tr>\n",
              "                        <th id=\"T_8b7d1022_7f95_11ea_8c7d_0242ac1c0002level0_row14\" class=\"row_heading level0 row14\" >14</th>\n",
              "                        <td id=\"T_8b7d1022_7f95_11ea_8c7d_0242ac1c0002row14_col0\" class=\"data row14 col0\" >PCA </td>\n",
              "                        <td id=\"T_8b7d1022_7f95_11ea_8c7d_0242ac1c0002row14_col1\" class=\"data row14 col1\" >False</td>\n",
              "            </tr>\n",
              "            <tr>\n",
              "                        <th id=\"T_8b7d1022_7f95_11ea_8c7d_0242ac1c0002level0_row15\" class=\"row_heading level0 row15\" >15</th>\n",
              "                        <td id=\"T_8b7d1022_7f95_11ea_8c7d_0242ac1c0002row15_col0\" class=\"data row15 col0\" >PCA Method </td>\n",
              "                        <td id=\"T_8b7d1022_7f95_11ea_8c7d_0242ac1c0002row15_col1\" class=\"data row15 col1\" >None</td>\n",
              "            </tr>\n",
              "            <tr>\n",
              "                        <th id=\"T_8b7d1022_7f95_11ea_8c7d_0242ac1c0002level0_row16\" class=\"row_heading level0 row16\" >16</th>\n",
              "                        <td id=\"T_8b7d1022_7f95_11ea_8c7d_0242ac1c0002row16_col0\" class=\"data row16 col0\" >PCA components </td>\n",
              "                        <td id=\"T_8b7d1022_7f95_11ea_8c7d_0242ac1c0002row16_col1\" class=\"data row16 col1\" >None</td>\n",
              "            </tr>\n",
              "            <tr>\n",
              "                        <th id=\"T_8b7d1022_7f95_11ea_8c7d_0242ac1c0002level0_row17\" class=\"row_heading level0 row17\" >17</th>\n",
              "                        <td id=\"T_8b7d1022_7f95_11ea_8c7d_0242ac1c0002row17_col0\" class=\"data row17 col0\" >Ignore Low Variance </td>\n",
              "                        <td id=\"T_8b7d1022_7f95_11ea_8c7d_0242ac1c0002row17_col1\" class=\"data row17 col1\" >False</td>\n",
              "            </tr>\n",
              "            <tr>\n",
              "                        <th id=\"T_8b7d1022_7f95_11ea_8c7d_0242ac1c0002level0_row18\" class=\"row_heading level0 row18\" >18</th>\n",
              "                        <td id=\"T_8b7d1022_7f95_11ea_8c7d_0242ac1c0002row18_col0\" class=\"data row18 col0\" >Combine Rare Levels </td>\n",
              "                        <td id=\"T_8b7d1022_7f95_11ea_8c7d_0242ac1c0002row18_col1\" class=\"data row18 col1\" >False</td>\n",
              "            </tr>\n",
              "            <tr>\n",
              "                        <th id=\"T_8b7d1022_7f95_11ea_8c7d_0242ac1c0002level0_row19\" class=\"row_heading level0 row19\" >19</th>\n",
              "                        <td id=\"T_8b7d1022_7f95_11ea_8c7d_0242ac1c0002row19_col0\" class=\"data row19 col0\" >Rare Level Threshold </td>\n",
              "                        <td id=\"T_8b7d1022_7f95_11ea_8c7d_0242ac1c0002row19_col1\" class=\"data row19 col1\" >None</td>\n",
              "            </tr>\n",
              "            <tr>\n",
              "                        <th id=\"T_8b7d1022_7f95_11ea_8c7d_0242ac1c0002level0_row20\" class=\"row_heading level0 row20\" >20</th>\n",
              "                        <td id=\"T_8b7d1022_7f95_11ea_8c7d_0242ac1c0002row20_col0\" class=\"data row20 col0\" >Numeric Binning </td>\n",
              "                        <td id=\"T_8b7d1022_7f95_11ea_8c7d_0242ac1c0002row20_col1\" class=\"data row20 col1\" >False</td>\n",
              "            </tr>\n",
              "            <tr>\n",
              "                        <th id=\"T_8b7d1022_7f95_11ea_8c7d_0242ac1c0002level0_row21\" class=\"row_heading level0 row21\" >21</th>\n",
              "                        <td id=\"T_8b7d1022_7f95_11ea_8c7d_0242ac1c0002row21_col0\" class=\"data row21 col0\" >Remove Multicollinearity </td>\n",
              "                        <td id=\"T_8b7d1022_7f95_11ea_8c7d_0242ac1c0002row21_col1\" class=\"data row21 col1\" >False</td>\n",
              "            </tr>\n",
              "            <tr>\n",
              "                        <th id=\"T_8b7d1022_7f95_11ea_8c7d_0242ac1c0002level0_row22\" class=\"row_heading level0 row22\" >22</th>\n",
              "                        <td id=\"T_8b7d1022_7f95_11ea_8c7d_0242ac1c0002row22_col0\" class=\"data row22 col0\" >Multicollinearity Threshold </td>\n",
              "                        <td id=\"T_8b7d1022_7f95_11ea_8c7d_0242ac1c0002row22_col1\" class=\"data row22 col1\" >None</td>\n",
              "            </tr>\n",
              "            <tr>\n",
              "                        <th id=\"T_8b7d1022_7f95_11ea_8c7d_0242ac1c0002level0_row23\" class=\"row_heading level0 row23\" >23</th>\n",
              "                        <td id=\"T_8b7d1022_7f95_11ea_8c7d_0242ac1c0002row23_col0\" class=\"data row23 col0\" >Group Features </td>\n",
              "                        <td id=\"T_8b7d1022_7f95_11ea_8c7d_0242ac1c0002row23_col1\" class=\"data row23 col1\" >False</td>\n",
              "            </tr>\n",
              "    </tbody></table>"
            ],
            "text/plain": [
              "<pandas.io.formats.style.Styler at 0x7f2709b530b8>"
            ]
          },
          "metadata": {
            "tags": []
          }
        },
        {
          "output_type": "display_data",
          "data": {
            "application/vnd.jupyter.widget-view+json": {
              "model_id": "ea61b2af32f14188880c15d47b5ab504",
              "version_minor": 0,
              "version_major": 2
            },
            "text/plain": [
              "IntProgress(value=0, description='Processing: ', max=25)"
            ]
          },
          "metadata": {
            "tags": []
          }
        },
        {
          "output_type": "display_data",
          "data": {
            "application/vnd.jupyter.widget-view+json": {
              "model_id": "4fc868c120894b5c90bea1f680770a7a",
              "version_minor": 0,
              "version_major": 2
            },
            "text/plain": [
              "Output()"
            ]
          },
          "metadata": {
            "tags": []
          }
        },
        {
          "output_type": "display_data",
          "data": {
            "text/html": [
              "        <script type=\"text/javascript\">\n",
              "        window.PlotlyConfig = {MathJaxConfig: 'local'};\n",
              "        if (window.MathJax) {MathJax.Hub.Config({SVG: {font: \"STIX-Web\"}});}\n",
              "        if (typeof require !== 'undefined') {\n",
              "        require.undef(\"plotly\");\n",
              "        requirejs.config({\n",
              "            paths: {\n",
              "                'plotly': ['https://cdn.plot.ly/plotly-latest.min']\n",
              "            }\n",
              "        });\n",
              "        require(['plotly'], function(Plotly) {\n",
              "            window._Plotly = Plotly;\n",
              "        });\n",
              "        }\n",
              "        </script>\n",
              "        "
            ]
          },
          "metadata": {
            "tags": []
          }
        },
        {
          "output_type": "display_data",
          "data": {
            "text/plain": [
              "''"
            ]
          },
          "metadata": {
            "tags": []
          }
        },
        {
          "output_type": "display_data",
          "data": {
            "text/html": [
              "<div>\n",
              "        \n",
              "        \n",
              "            <div id=\"918d47b8-e42a-4679-a50d-ae39b7d9e56c\" class=\"plotly-graph-div\" style=\"height:525px; width:100%;\"></div>\n",
              "            <script type=\"text/javascript\">\n",
              "                require([\"plotly\"], function(Plotly) {\n",
              "                    window.PLOTLYENV=window.PLOTLYENV || {};\n",
              "                    \n",
              "                if (document.getElementById(\"918d47b8-e42a-4679-a50d-ae39b7d9e56c\")) {\n",
              "                    Plotly.newPlot(\n",
              "                        '918d47b8-e42a-4679-a50d-ae39b7d9e56c',\n",
              "                        [{\"hoverlabel\": {\"namelength\": 0}, \"hovertemplate\": \"Metric=Accuracy<br># of Clusters=%{x}<br>Score=%{y}\", \"legendgroup\": \"Metric=Accuracy\", \"line\": {\"color\": \"#636efa\", \"dash\": \"solid\", \"shape\": \"linear\"}, \"mode\": \"lines\", \"name\": \"Metric=Accuracy\", \"showlegend\": true, \"type\": \"scatter\", \"x\": [0, 4, 5, 6, 8, 10, 14, 18, 25, 30, 40], \"xaxis\": \"x\", \"y\": [0.7721354166666666, 0.7721354166666666, 0.7682291666666666, 0.7604166666666666, 0.7643229166666666, 0.7591145833333334, 0.75, 0.7630208333333334, 0.7473958333333334, 0.75390625, 0.76171875], \"yaxis\": \"y\"}, {\"hoverlabel\": {\"namelength\": 0}, \"hovertemplate\": \"Metric=AUC<br># of Clusters=%{x}<br>Score=%{y}\", \"legendgroup\": \"Metric=AUC\", \"line\": {\"color\": \"#EF553B\", \"dash\": \"solid\", \"shape\": \"linear\"}, \"mode\": \"lines\", \"name\": \"Metric=AUC\", \"showlegend\": true, \"type\": \"scatter\", \"x\": [0, 4, 5, 6, 8, 10, 14, 18, 25, 30, 40], \"xaxis\": \"x\", \"y\": [0.8062686567164179, 0.8140522388059701, 0.8117462686567165, 0.7986492537313434, 0.7975895522388059, 0.7840373134328358, 0.7844402985074627, 0.7885970149253732, 0.7833805970149255, 0.7767835820895523, 0.7927835820895524], \"yaxis\": \"y\"}, {\"hoverlabel\": {\"namelength\": 0}, \"hovertemplate\": \"Metric=Recall<br># of Clusters=%{x}<br>Score=%{y}\", \"legendgroup\": \"Metric=Recall\", \"line\": {\"color\": \"#00cc96\", \"dash\": \"solid\", \"shape\": \"linear\"}, \"mode\": \"lines\", \"name\": \"Metric=Recall\", \"showlegend\": true, \"type\": \"scatter\", \"x\": [0, 4, 5, 6, 8, 10, 14, 18, 25, 30, 40], \"xaxis\": \"x\", \"y\": [0.5597014925373134, 0.5597014925373134, 0.5597014925373134, 0.5447761194029851, 0.5559701492537313, 0.5485074626865671, 0.5298507462686567, 0.5597014925373134, 0.5373134328358209, 0.5335820895522388, 0.5522388059701493], \"yaxis\": \"y\"}, {\"hoverlabel\": {\"namelength\": 0}, \"hovertemplate\": \"Metric=Precision<br># of Clusters=%{x}<br>Score=%{y}\", \"legendgroup\": \"Metric=Precision\", \"line\": {\"color\": \"#ab63fa\", \"dash\": \"solid\", \"shape\": \"linear\"}, \"mode\": \"lines\", \"name\": \"Metric=Precision\", \"showlegend\": true, \"type\": \"scatter\", \"x\": [0, 4, 5, 6, 8, 10, 14, 18, 25, 30, 40], \"xaxis\": \"x\", \"y\": [0.7246376811594203, 0.7246376811594203, 0.7142857142857143, 0.7019230769230769, 0.7061611374407583, 0.6966824644549763, 0.6826923076923077, 0.7009345794392523, 0.6728971962616822, 0.6908212560386473, 0.7014218009478673], \"yaxis\": \"y\"}, {\"hoverlabel\": {\"namelength\": 0}, \"hovertemplate\": \"Metric=F1<br># of Clusters=%{x}<br>Score=%{y}\", \"legendgroup\": \"Metric=F1\", \"line\": {\"color\": \"#FFA15A\", \"dash\": \"solid\", \"shape\": \"linear\"}, \"mode\": \"lines\", \"name\": \"Metric=F1\", \"showlegend\": true, \"type\": \"scatter\", \"x\": [0, 4, 5, 6, 8, 10, 14, 18, 25, 30, 40], \"xaxis\": \"x\", \"y\": [0.6315789473684211, 0.6315789473684211, 0.6276150627615064, 0.6134453781512604, 0.6221294363256785, 0.6137787056367432, 0.5966386554621849, 0.6224066390041494, 0.5975103734439835, 0.6021052631578947, 0.6179540709812109], \"yaxis\": \"y\"}, {\"hoverlabel\": {\"namelength\": 0}, \"hovertemplate\": \"Metric=Kappa<br># of Clusters=%{x}<br>Score=%{y}\", \"legendgroup\": \"Metric=Kappa\", \"line\": {\"color\": \"#19d3f3\", \"dash\": \"solid\", \"shape\": \"linear\"}, \"mode\": \"lines\", \"name\": \"Metric=Kappa\", \"showlegend\": true, \"type\": \"scatter\", \"x\": [0, 4, 5, 6, 8, 10, 14, 18, 25, 30, 40], \"xaxis\": \"x\", \"y\": [0.47054930509596293, 0.47054930509596293, 0.46294550254572886, 0.44382871536523927, 0.4543913084434954, 0.4423336578013627, 0.419647355163728, 0.45287154756685666, 0.41679714410972624, 0.42819324950364, 0.4483624831224291], \"yaxis\": \"y\"}],\n",
              "                        {\"legend\": {\"tracegroupgap\": 0}, \"margin\": {\"t\": 60}, \"plot_bgcolor\": \"rgb(245,245,245)\", \"template\": {\"data\": {\"bar\": [{\"error_x\": {\"color\": \"#2a3f5f\"}, \"error_y\": {\"color\": \"#2a3f5f\"}, \"marker\": {\"line\": {\"color\": \"#E5ECF6\", \"width\": 0.5}}, \"type\": \"bar\"}], \"barpolar\": [{\"marker\": {\"line\": {\"color\": \"#E5ECF6\", \"width\": 0.5}}, \"type\": \"barpolar\"}], \"carpet\": [{\"aaxis\": {\"endlinecolor\": \"#2a3f5f\", \"gridcolor\": \"white\", \"linecolor\": \"white\", \"minorgridcolor\": \"white\", \"startlinecolor\": \"#2a3f5f\"}, \"baxis\": {\"endlinecolor\": \"#2a3f5f\", \"gridcolor\": \"white\", \"linecolor\": \"white\", \"minorgridcolor\": \"white\", \"startlinecolor\": \"#2a3f5f\"}, \"type\": \"carpet\"}], \"choropleth\": [{\"colorbar\": {\"outlinewidth\": 0, \"ticks\": \"\"}, \"type\": \"choropleth\"}], \"contour\": [{\"colorbar\": {\"outlinewidth\": 0, \"ticks\": \"\"}, \"colorscale\": [[0.0, \"#0d0887\"], [0.1111111111111111, \"#46039f\"], [0.2222222222222222, \"#7201a8\"], [0.3333333333333333, \"#9c179e\"], [0.4444444444444444, \"#bd3786\"], [0.5555555555555556, \"#d8576b\"], [0.6666666666666666, \"#ed7953\"], [0.7777777777777778, \"#fb9f3a\"], [0.8888888888888888, \"#fdca26\"], [1.0, \"#f0f921\"]], \"type\": \"contour\"}], \"contourcarpet\": [{\"colorbar\": {\"outlinewidth\": 0, \"ticks\": \"\"}, \"type\": \"contourcarpet\"}], \"heatmap\": [{\"colorbar\": {\"outlinewidth\": 0, \"ticks\": \"\"}, \"colorscale\": [[0.0, \"#0d0887\"], [0.1111111111111111, \"#46039f\"], [0.2222222222222222, \"#7201a8\"], [0.3333333333333333, \"#9c179e\"], [0.4444444444444444, \"#bd3786\"], [0.5555555555555556, \"#d8576b\"], [0.6666666666666666, \"#ed7953\"], [0.7777777777777778, \"#fb9f3a\"], [0.8888888888888888, \"#fdca26\"], [1.0, \"#f0f921\"]], \"type\": \"heatmap\"}], \"heatmapgl\": [{\"colorbar\": {\"outlinewidth\": 0, \"ticks\": \"\"}, \"colorscale\": [[0.0, \"#0d0887\"], [0.1111111111111111, \"#46039f\"], [0.2222222222222222, \"#7201a8\"], [0.3333333333333333, \"#9c179e\"], [0.4444444444444444, \"#bd3786\"], [0.5555555555555556, \"#d8576b\"], [0.6666666666666666, \"#ed7953\"], [0.7777777777777778, \"#fb9f3a\"], [0.8888888888888888, \"#fdca26\"], [1.0, \"#f0f921\"]], \"type\": \"heatmapgl\"}], \"histogram\": [{\"marker\": {\"colorbar\": {\"outlinewidth\": 0, \"ticks\": \"\"}}, \"type\": \"histogram\"}], \"histogram2d\": [{\"colorbar\": {\"outlinewidth\": 0, \"ticks\": \"\"}, \"colorscale\": [[0.0, \"#0d0887\"], [0.1111111111111111, \"#46039f\"], [0.2222222222222222, \"#7201a8\"], [0.3333333333333333, \"#9c179e\"], [0.4444444444444444, \"#bd3786\"], [0.5555555555555556, \"#d8576b\"], [0.6666666666666666, \"#ed7953\"], [0.7777777777777778, \"#fb9f3a\"], [0.8888888888888888, \"#fdca26\"], [1.0, \"#f0f921\"]], \"type\": \"histogram2d\"}], \"histogram2dcontour\": [{\"colorbar\": {\"outlinewidth\": 0, \"ticks\": \"\"}, \"colorscale\": [[0.0, \"#0d0887\"], [0.1111111111111111, \"#46039f\"], [0.2222222222222222, \"#7201a8\"], [0.3333333333333333, \"#9c179e\"], [0.4444444444444444, \"#bd3786\"], [0.5555555555555556, \"#d8576b\"], [0.6666666666666666, \"#ed7953\"], [0.7777777777777778, \"#fb9f3a\"], [0.8888888888888888, \"#fdca26\"], [1.0, \"#f0f921\"]], \"type\": \"histogram2dcontour\"}], \"mesh3d\": [{\"colorbar\": {\"outlinewidth\": 0, \"ticks\": \"\"}, \"type\": \"mesh3d\"}], \"parcoords\": [{\"line\": {\"colorbar\": {\"outlinewidth\": 0, \"ticks\": \"\"}}, \"type\": \"parcoords\"}], \"pie\": [{\"automargin\": true, \"type\": \"pie\"}], \"scatter\": [{\"marker\": {\"colorbar\": {\"outlinewidth\": 0, \"ticks\": \"\"}}, \"type\": \"scatter\"}], \"scatter3d\": [{\"line\": {\"colorbar\": {\"outlinewidth\": 0, \"ticks\": \"\"}}, \"marker\": {\"colorbar\": {\"outlinewidth\": 0, \"ticks\": \"\"}}, \"type\": \"scatter3d\"}], \"scattercarpet\": [{\"marker\": {\"colorbar\": {\"outlinewidth\": 0, \"ticks\": \"\"}}, \"type\": \"scattercarpet\"}], \"scattergeo\": [{\"marker\": {\"colorbar\": {\"outlinewidth\": 0, \"ticks\": \"\"}}, \"type\": \"scattergeo\"}], \"scattergl\": [{\"marker\": {\"colorbar\": {\"outlinewidth\": 0, \"ticks\": \"\"}}, \"type\": \"scattergl\"}], \"scattermapbox\": [{\"marker\": {\"colorbar\": {\"outlinewidth\": 0, \"ticks\": \"\"}}, \"type\": \"scattermapbox\"}], \"scatterpolar\": [{\"marker\": {\"colorbar\": {\"outlinewidth\": 0, \"ticks\": \"\"}}, \"type\": \"scatterpolar\"}], \"scatterpolargl\": [{\"marker\": {\"colorbar\": {\"outlinewidth\": 0, \"ticks\": \"\"}}, \"type\": \"scatterpolargl\"}], \"scatterternary\": [{\"marker\": {\"colorbar\": {\"outlinewidth\": 0, \"ticks\": \"\"}}, \"type\": \"scatterternary\"}], \"surface\": [{\"colorbar\": {\"outlinewidth\": 0, \"ticks\": \"\"}, \"colorscale\": [[0.0, \"#0d0887\"], [0.1111111111111111, \"#46039f\"], [0.2222222222222222, \"#7201a8\"], [0.3333333333333333, \"#9c179e\"], [0.4444444444444444, \"#bd3786\"], [0.5555555555555556, \"#d8576b\"], [0.6666666666666666, \"#ed7953\"], [0.7777777777777778, \"#fb9f3a\"], [0.8888888888888888, \"#fdca26\"], [1.0, \"#f0f921\"]], \"type\": \"surface\"}], \"table\": [{\"cells\": {\"fill\": {\"color\": \"#EBF0F8\"}, \"line\": {\"color\": \"white\"}}, \"header\": {\"fill\": {\"color\": \"#C8D4E3\"}, \"line\": {\"color\": \"white\"}}, \"type\": \"table\"}]}, \"layout\": {\"annotationdefaults\": {\"arrowcolor\": \"#2a3f5f\", \"arrowhead\": 0, \"arrowwidth\": 1}, \"coloraxis\": {\"colorbar\": {\"outlinewidth\": 0, \"ticks\": \"\"}}, \"colorscale\": {\"diverging\": [[0, \"#8e0152\"], [0.1, \"#c51b7d\"], [0.2, \"#de77ae\"], [0.3, \"#f1b6da\"], [0.4, \"#fde0ef\"], [0.5, \"#f7f7f7\"], [0.6, \"#e6f5d0\"], [0.7, \"#b8e186\"], [0.8, \"#7fbc41\"], [0.9, \"#4d9221\"], [1, \"#276419\"]], \"sequential\": [[0.0, \"#0d0887\"], [0.1111111111111111, \"#46039f\"], [0.2222222222222222, \"#7201a8\"], [0.3333333333333333, \"#9c179e\"], [0.4444444444444444, \"#bd3786\"], [0.5555555555555556, \"#d8576b\"], [0.6666666666666666, \"#ed7953\"], [0.7777777777777778, \"#fb9f3a\"], [0.8888888888888888, \"#fdca26\"], [1.0, \"#f0f921\"]], \"sequentialminus\": [[0.0, \"#0d0887\"], [0.1111111111111111, \"#46039f\"], [0.2222222222222222, \"#7201a8\"], [0.3333333333333333, \"#9c179e\"], [0.4444444444444444, \"#bd3786\"], [0.5555555555555556, \"#d8576b\"], [0.6666666666666666, \"#ed7953\"], [0.7777777777777778, \"#fb9f3a\"], [0.8888888888888888, \"#fdca26\"], [1.0, \"#f0f921\"]]}, \"colorway\": [\"#636efa\", \"#EF553B\", \"#00cc96\", \"#ab63fa\", \"#FFA15A\", \"#19d3f3\", \"#FF6692\", \"#B6E880\", \"#FF97FF\", \"#FECB52\"], \"font\": {\"color\": \"#2a3f5f\"}, \"geo\": {\"bgcolor\": \"white\", \"lakecolor\": \"white\", \"landcolor\": \"#E5ECF6\", \"showlakes\": true, \"showland\": true, \"subunitcolor\": \"white\"}, \"hoverlabel\": {\"align\": \"left\"}, \"hovermode\": \"closest\", \"mapbox\": {\"style\": \"light\"}, \"paper_bgcolor\": \"white\", \"plot_bgcolor\": \"#E5ECF6\", \"polar\": {\"angularaxis\": {\"gridcolor\": \"white\", \"linecolor\": \"white\", \"ticks\": \"\"}, \"bgcolor\": \"#E5ECF6\", \"radialaxis\": {\"gridcolor\": \"white\", \"linecolor\": \"white\", \"ticks\": \"\"}}, \"scene\": {\"xaxis\": {\"backgroundcolor\": \"#E5ECF6\", \"gridcolor\": \"white\", \"gridwidth\": 2, \"linecolor\": \"white\", \"showbackground\": true, \"ticks\": \"\", \"zerolinecolor\": \"white\"}, \"yaxis\": {\"backgroundcolor\": \"#E5ECF6\", \"gridcolor\": \"white\", \"gridwidth\": 2, \"linecolor\": \"white\", \"showbackground\": true, \"ticks\": \"\", \"zerolinecolor\": \"white\"}, \"zaxis\": {\"backgroundcolor\": \"#E5ECF6\", \"gridcolor\": \"white\", \"gridwidth\": 2, \"linecolor\": \"white\", \"showbackground\": true, \"ticks\": \"\", \"zerolinecolor\": \"white\"}}, \"shapedefaults\": {\"line\": {\"color\": \"#2a3f5f\"}}, \"ternary\": {\"aaxis\": {\"gridcolor\": \"white\", \"linecolor\": \"white\", \"ticks\": \"\"}, \"baxis\": {\"gridcolor\": \"white\", \"linecolor\": \"white\", \"ticks\": \"\"}, \"bgcolor\": \"#E5ECF6\", \"caxis\": {\"gridcolor\": \"white\", \"linecolor\": \"white\", \"ticks\": \"\"}}, \"title\": {\"x\": 0.05}, \"xaxis\": {\"automargin\": true, \"gridcolor\": \"white\", \"linecolor\": \"white\", \"ticks\": \"\", \"title\": {\"standoff\": 15}, \"zerolinecolor\": \"white\", \"zerolinewidth\": 2}, \"yaxis\": {\"automargin\": true, \"gridcolor\": \"white\", \"linecolor\": \"white\", \"ticks\": \"\", \"title\": {\"standoff\": 15}, \"zerolinecolor\": \"white\", \"zerolinewidth\": 2}}}, \"title\": {\"text\": \"Logistic Regression Metrics and Number of Clusters\", \"x\": 0.45, \"xanchor\": \"center\", \"y\": 0.95, \"yanchor\": \"top\"}, \"xaxis\": {\"anchor\": \"y\", \"domain\": [0.0, 1.0], \"title\": {\"text\": \"# of Clusters\"}}, \"yaxis\": {\"anchor\": \"x\", \"domain\": [0.0, 1.0], \"range\": [0, 1], \"title\": {\"text\": \"Score\"}}},\n",
              "                        {\"responsive\": true}\n",
              "                    ).then(function(){\n",
              "                            \n",
              "var gd = document.getElementById('918d47b8-e42a-4679-a50d-ae39b7d9e56c');\n",
              "var x = new MutationObserver(function (mutations, observer) {{\n",
              "        var display = window.getComputedStyle(gd).display;\n",
              "        if (!display || display === 'none') {{\n",
              "            console.log([gd, 'removed!']);\n",
              "            Plotly.purge(gd);\n",
              "            observer.disconnect();\n",
              "        }}\n",
              "}});\n",
              "\n",
              "// Listen for the removal of the full notebook cells\n",
              "var notebookContainer = gd.closest('#notebook-container');\n",
              "if (notebookContainer) {{\n",
              "    x.observe(notebookContainer, {childList: true});\n",
              "}}\n",
              "\n",
              "// Listen for the clearing of the current output cell\n",
              "var outputEl = gd.closest('.output');\n",
              "if (outputEl) {{\n",
              "    x.observe(outputEl, {childList: true});\n",
              "}}\n",
              "\n",
              "                        })\n",
              "                };\n",
              "                });\n",
              "            </script>\n",
              "        </div>"
            ],
            "application/vnd.plotly.v1+json": {
              "data": [
                {
                  "hovertemplate": "Metric=Accuracy<br># of Clusters=%{x}<br>Score=%{y}",
                  "showlegend": true,
                  "legendgroup": "Metric=Accuracy",
                  "name": "Metric=Accuracy",
                  "yaxis": "y",
                  "hoverlabel": {
                    "namelength": 0
                  },
                  "mode": "lines",
                  "xaxis": "x",
                  "y": [
                    0.7721354166666666,
                    0.7721354166666666,
                    0.7682291666666666,
                    0.7604166666666666,
                    0.7643229166666666,
                    0.7591145833333334,
                    0.75,
                    0.7630208333333334,
                    0.7473958333333334,
                    0.75390625,
                    0.76171875
                  ],
                  "x": [
                    0,
                    4,
                    5,
                    6,
                    8,
                    10,
                    14,
                    18,
                    25,
                    30,
                    40
                  ],
                  "line": {
                    "color": "#636efa",
                    "dash": "solid",
                    "shape": "linear"
                  },
                  "type": "scatter"
                },
                {
                  "hovertemplate": "Metric=AUC<br># of Clusters=%{x}<br>Score=%{y}",
                  "showlegend": true,
                  "legendgroup": "Metric=AUC",
                  "name": "Metric=AUC",
                  "yaxis": "y",
                  "hoverlabel": {
                    "namelength": 0
                  },
                  "mode": "lines",
                  "xaxis": "x",
                  "y": [
                    0.8062686567164179,
                    0.8140522388059701,
                    0.8117462686567165,
                    0.7986492537313434,
                    0.7975895522388059,
                    0.7840373134328358,
                    0.7844402985074627,
                    0.7885970149253732,
                    0.7833805970149255,
                    0.7767835820895523,
                    0.7927835820895524
                  ],
                  "x": [
                    0,
                    4,
                    5,
                    6,
                    8,
                    10,
                    14,
                    18,
                    25,
                    30,
                    40
                  ],
                  "line": {
                    "color": "#EF553B",
                    "dash": "solid",
                    "shape": "linear"
                  },
                  "type": "scatter"
                },
                {
                  "hovertemplate": "Metric=Recall<br># of Clusters=%{x}<br>Score=%{y}",
                  "showlegend": true,
                  "legendgroup": "Metric=Recall",
                  "name": "Metric=Recall",
                  "yaxis": "y",
                  "hoverlabel": {
                    "namelength": 0
                  },
                  "mode": "lines",
                  "xaxis": "x",
                  "y": [
                    0.5597014925373134,
                    0.5597014925373134,
                    0.5597014925373134,
                    0.5447761194029851,
                    0.5559701492537313,
                    0.5485074626865671,
                    0.5298507462686567,
                    0.5597014925373134,
                    0.5373134328358209,
                    0.5335820895522388,
                    0.5522388059701493
                  ],
                  "x": [
                    0,
                    4,
                    5,
                    6,
                    8,
                    10,
                    14,
                    18,
                    25,
                    30,
                    40
                  ],
                  "line": {
                    "color": "#00cc96",
                    "dash": "solid",
                    "shape": "linear"
                  },
                  "type": "scatter"
                },
                {
                  "hovertemplate": "Metric=Precision<br># of Clusters=%{x}<br>Score=%{y}",
                  "showlegend": true,
                  "legendgroup": "Metric=Precision",
                  "name": "Metric=Precision",
                  "yaxis": "y",
                  "hoverlabel": {
                    "namelength": 0
                  },
                  "mode": "lines",
                  "xaxis": "x",
                  "y": [
                    0.7246376811594203,
                    0.7246376811594203,
                    0.7142857142857143,
                    0.7019230769230769,
                    0.7061611374407583,
                    0.6966824644549763,
                    0.6826923076923077,
                    0.7009345794392523,
                    0.6728971962616822,
                    0.6908212560386473,
                    0.7014218009478673
                  ],
                  "x": [
                    0,
                    4,
                    5,
                    6,
                    8,
                    10,
                    14,
                    18,
                    25,
                    30,
                    40
                  ],
                  "line": {
                    "color": "#ab63fa",
                    "dash": "solid",
                    "shape": "linear"
                  },
                  "type": "scatter"
                },
                {
                  "hovertemplate": "Metric=F1<br># of Clusters=%{x}<br>Score=%{y}",
                  "showlegend": true,
                  "legendgroup": "Metric=F1",
                  "name": "Metric=F1",
                  "yaxis": "y",
                  "hoverlabel": {
                    "namelength": 0
                  },
                  "mode": "lines",
                  "xaxis": "x",
                  "y": [
                    0.6315789473684211,
                    0.6315789473684211,
                    0.6276150627615064,
                    0.6134453781512604,
                    0.6221294363256785,
                    0.6137787056367432,
                    0.5966386554621849,
                    0.6224066390041494,
                    0.5975103734439835,
                    0.6021052631578947,
                    0.6179540709812109
                  ],
                  "x": [
                    0,
                    4,
                    5,
                    6,
                    8,
                    10,
                    14,
                    18,
                    25,
                    30,
                    40
                  ],
                  "line": {
                    "color": "#FFA15A",
                    "dash": "solid",
                    "shape": "linear"
                  },
                  "type": "scatter"
                },
                {
                  "hovertemplate": "Metric=Kappa<br># of Clusters=%{x}<br>Score=%{y}",
                  "showlegend": true,
                  "legendgroup": "Metric=Kappa",
                  "name": "Metric=Kappa",
                  "yaxis": "y",
                  "hoverlabel": {
                    "namelength": 0
                  },
                  "mode": "lines",
                  "xaxis": "x",
                  "y": [
                    0.47054930509596293,
                    0.47054930509596293,
                    0.46294550254572886,
                    0.44382871536523927,
                    0.4543913084434954,
                    0.4423336578013627,
                    0.419647355163728,
                    0.45287154756685666,
                    0.41679714410972624,
                    0.42819324950364,
                    0.4483624831224291
                  ],
                  "x": [
                    0,
                    4,
                    5,
                    6,
                    8,
                    10,
                    14,
                    18,
                    25,
                    30,
                    40
                  ],
                  "line": {
                    "color": "#19d3f3",
                    "dash": "solid",
                    "shape": "linear"
                  },
                  "type": "scatter"
                }
              ],
              "config": {
                "plotlyServerURL": "https://plot.ly"
              },
              "layout": {
                "template": {
                  "layout": {
                    "shapedefaults": {
                      "line": {
                        "color": "#2a3f5f"
                      }
                    },
                    "polar": {
                      "radialaxis": {
                        "ticks": "",
                        "gridcolor": "white",
                        "linecolor": "white"
                      },
                      "bgcolor": "#E5ECF6",
                      "angularaxis": {
                        "ticks": "",
                        "gridcolor": "white",
                        "linecolor": "white"
                      }
                    },
                    "colorway": [
                      "#636efa",
                      "#EF553B",
                      "#00cc96",
                      "#ab63fa",
                      "#FFA15A",
                      "#19d3f3",
                      "#FF6692",
                      "#B6E880",
                      "#FF97FF",
                      "#FECB52"
                    ],
                    "xaxis": {
                      "automargin": true,
                      "title": {
                        "standoff": 15
                      },
                      "zerolinewidth": 2,
                      "ticks": "",
                      "zerolinecolor": "white",
                      "gridcolor": "white",
                      "linecolor": "white"
                    },
                    "colorscale": {
                      "diverging": [
                        [
                          0,
                          "#8e0152"
                        ],
                        [
                          0.1,
                          "#c51b7d"
                        ],
                        [
                          0.2,
                          "#de77ae"
                        ],
                        [
                          0.3,
                          "#f1b6da"
                        ],
                        [
                          0.4,
                          "#fde0ef"
                        ],
                        [
                          0.5,
                          "#f7f7f7"
                        ],
                        [
                          0.6,
                          "#e6f5d0"
                        ],
                        [
                          0.7,
                          "#b8e186"
                        ],
                        [
                          0.8,
                          "#7fbc41"
                        ],
                        [
                          0.9,
                          "#4d9221"
                        ],
                        [
                          1,
                          "#276419"
                        ]
                      ],
                      "sequential": [
                        [
                          0,
                          "#0d0887"
                        ],
                        [
                          0.1111111111111111,
                          "#46039f"
                        ],
                        [
                          0.2222222222222222,
                          "#7201a8"
                        ],
                        [
                          0.3333333333333333,
                          "#9c179e"
                        ],
                        [
                          0.4444444444444444,
                          "#bd3786"
                        ],
                        [
                          0.5555555555555556,
                          "#d8576b"
                        ],
                        [
                          0.6666666666666666,
                          "#ed7953"
                        ],
                        [
                          0.7777777777777778,
                          "#fb9f3a"
                        ],
                        [
                          0.8888888888888888,
                          "#fdca26"
                        ],
                        [
                          1,
                          "#f0f921"
                        ]
                      ],
                      "sequentialminus": [
                        [
                          0,
                          "#0d0887"
                        ],
                        [
                          0.1111111111111111,
                          "#46039f"
                        ],
                        [
                          0.2222222222222222,
                          "#7201a8"
                        ],
                        [
                          0.3333333333333333,
                          "#9c179e"
                        ],
                        [
                          0.4444444444444444,
                          "#bd3786"
                        ],
                        [
                          0.5555555555555556,
                          "#d8576b"
                        ],
                        [
                          0.6666666666666666,
                          "#ed7953"
                        ],
                        [
                          0.7777777777777778,
                          "#fb9f3a"
                        ],
                        [
                          0.8888888888888888,
                          "#fdca26"
                        ],
                        [
                          1,
                          "#f0f921"
                        ]
                      ]
                    },
                    "paper_bgcolor": "white",
                    "plot_bgcolor": "#E5ECF6",
                    "title": {
                      "x": 0.05
                    },
                    "scene": {
                      "zaxis": {
                        "backgroundcolor": "#E5ECF6",
                        "ticks": "",
                        "gridwidth": 2,
                        "showbackground": true,
                        "zerolinecolor": "white",
                        "gridcolor": "white",
                        "linecolor": "white"
                      },
                      "xaxis": {
                        "backgroundcolor": "#E5ECF6",
                        "ticks": "",
                        "gridwidth": 2,
                        "showbackground": true,
                        "zerolinecolor": "white",
                        "gridcolor": "white",
                        "linecolor": "white"
                      },
                      "yaxis": {
                        "backgroundcolor": "#E5ECF6",
                        "ticks": "",
                        "gridwidth": 2,
                        "showbackground": true,
                        "zerolinecolor": "white",
                        "gridcolor": "white",
                        "linecolor": "white"
                      }
                    },
                    "yaxis": {
                      "automargin": true,
                      "title": {
                        "standoff": 15
                      },
                      "zerolinewidth": 2,
                      "ticks": "",
                      "zerolinecolor": "white",
                      "gridcolor": "white",
                      "linecolor": "white"
                    },
                    "annotationdefaults": {
                      "arrowwidth": 1,
                      "arrowhead": 0,
                      "arrowcolor": "#2a3f5f"
                    },
                    "hoverlabel": {
                      "align": "left"
                    },
                    "ternary": {
                      "bgcolor": "#E5ECF6",
                      "baxis": {
                        "ticks": "",
                        "gridcolor": "white",
                        "linecolor": "white"
                      },
                      "caxis": {
                        "ticks": "",
                        "gridcolor": "white",
                        "linecolor": "white"
                      },
                      "aaxis": {
                        "ticks": "",
                        "gridcolor": "white",
                        "linecolor": "white"
                      }
                    },
                    "mapbox": {
                      "style": "light"
                    },
                    "hovermode": "closest",
                    "font": {
                      "color": "#2a3f5f"
                    },
                    "geo": {
                      "showland": true,
                      "landcolor": "#E5ECF6",
                      "showlakes": true,
                      "bgcolor": "white",
                      "subunitcolor": "white",
                      "lakecolor": "white"
                    },
                    "coloraxis": {
                      "colorbar": {
                        "outlinewidth": 0,
                        "ticks": ""
                      }
                    }
                  },
                  "data": {
                    "mesh3d": [
                      {
                        "colorbar": {
                          "outlinewidth": 0,
                          "ticks": ""
                        },
                        "type": "mesh3d"
                      }
                    ],
                    "scattercarpet": [
                      {
                        "marker": {
                          "colorbar": {
                            "outlinewidth": 0,
                            "ticks": ""
                          }
                        },
                        "type": "scattercarpet"
                      }
                    ],
                    "pie": [
                      {
                        "automargin": true,
                        "type": "pie"
                      }
                    ],
                    "surface": [
                      {
                        "colorbar": {
                          "outlinewidth": 0,
                          "ticks": ""
                        },
                        "type": "surface",
                        "colorscale": [
                          [
                            0,
                            "#0d0887"
                          ],
                          [
                            0.1111111111111111,
                            "#46039f"
                          ],
                          [
                            0.2222222222222222,
                            "#7201a8"
                          ],
                          [
                            0.3333333333333333,
                            "#9c179e"
                          ],
                          [
                            0.4444444444444444,
                            "#bd3786"
                          ],
                          [
                            0.5555555555555556,
                            "#d8576b"
                          ],
                          [
                            0.6666666666666666,
                            "#ed7953"
                          ],
                          [
                            0.7777777777777778,
                            "#fb9f3a"
                          ],
                          [
                            0.8888888888888888,
                            "#fdca26"
                          ],
                          [
                            1,
                            "#f0f921"
                          ]
                        ]
                      }
                    ],
                    "table": [
                      {
                        "header": {
                          "line": {
                            "color": "white"
                          },
                          "fill": {
                            "color": "#C8D4E3"
                          }
                        },
                        "cells": {
                          "line": {
                            "color": "white"
                          },
                          "fill": {
                            "color": "#EBF0F8"
                          }
                        },
                        "type": "table"
                      }
                    ],
                    "scatterpolargl": [
                      {
                        "marker": {
                          "colorbar": {
                            "outlinewidth": 0,
                            "ticks": ""
                          }
                        },
                        "type": "scatterpolargl"
                      }
                    ],
                    "contour": [
                      {
                        "colorbar": {
                          "outlinewidth": 0,
                          "ticks": ""
                        },
                        "type": "contour",
                        "colorscale": [
                          [
                            0,
                            "#0d0887"
                          ],
                          [
                            0.1111111111111111,
                            "#46039f"
                          ],
                          [
                            0.2222222222222222,
                            "#7201a8"
                          ],
                          [
                            0.3333333333333333,
                            "#9c179e"
                          ],
                          [
                            0.4444444444444444,
                            "#bd3786"
                          ],
                          [
                            0.5555555555555556,
                            "#d8576b"
                          ],
                          [
                            0.6666666666666666,
                            "#ed7953"
                          ],
                          [
                            0.7777777777777778,
                            "#fb9f3a"
                          ],
                          [
                            0.8888888888888888,
                            "#fdca26"
                          ],
                          [
                            1,
                            "#f0f921"
                          ]
                        ]
                      }
                    ],
                    "carpet": [
                      {
                        "type": "carpet",
                        "baxis": {
                          "minorgridcolor": "white",
                          "gridcolor": "white",
                          "linecolor": "white",
                          "endlinecolor": "#2a3f5f",
                          "startlinecolor": "#2a3f5f"
                        },
                        "aaxis": {
                          "minorgridcolor": "white",
                          "gridcolor": "white",
                          "linecolor": "white",
                          "endlinecolor": "#2a3f5f",
                          "startlinecolor": "#2a3f5f"
                        }
                      }
                    ],
                    "contourcarpet": [
                      {
                        "colorbar": {
                          "outlinewidth": 0,
                          "ticks": ""
                        },
                        "type": "contourcarpet"
                      }
                    ],
                    "heatmap": [
                      {
                        "colorbar": {
                          "outlinewidth": 0,
                          "ticks": ""
                        },
                        "type": "heatmap",
                        "colorscale": [
                          [
                            0,
                            "#0d0887"
                          ],
                          [
                            0.1111111111111111,
                            "#46039f"
                          ],
                          [
                            0.2222222222222222,
                            "#7201a8"
                          ],
                          [
                            0.3333333333333333,
                            "#9c179e"
                          ],
                          [
                            0.4444444444444444,
                            "#bd3786"
                          ],
                          [
                            0.5555555555555556,
                            "#d8576b"
                          ],
                          [
                            0.6666666666666666,
                            "#ed7953"
                          ],
                          [
                            0.7777777777777778,
                            "#fb9f3a"
                          ],
                          [
                            0.8888888888888888,
                            "#fdca26"
                          ],
                          [
                            1,
                            "#f0f921"
                          ]
                        ]
                      }
                    ],
                    "scattermapbox": [
                      {
                        "marker": {
                          "colorbar": {
                            "outlinewidth": 0,
                            "ticks": ""
                          }
                        },
                        "type": "scattermapbox"
                      }
                    ],
                    "scatter3d": [
                      {
                        "marker": {
                          "colorbar": {
                            "outlinewidth": 0,
                            "ticks": ""
                          }
                        },
                        "line": {
                          "colorbar": {
                            "outlinewidth": 0,
                            "ticks": ""
                          }
                        },
                        "type": "scatter3d"
                      }
                    ],
                    "scattergl": [
                      {
                        "marker": {
                          "colorbar": {
                            "outlinewidth": 0,
                            "ticks": ""
                          }
                        },
                        "type": "scattergl"
                      }
                    ],
                    "scatterternary": [
                      {
                        "marker": {
                          "colorbar": {
                            "outlinewidth": 0,
                            "ticks": ""
                          }
                        },
                        "type": "scatterternary"
                      }
                    ],
                    "histogram": [
                      {
                        "marker": {
                          "colorbar": {
                            "outlinewidth": 0,
                            "ticks": ""
                          }
                        },
                        "type": "histogram"
                      }
                    ],
                    "heatmapgl": [
                      {
                        "colorbar": {
                          "outlinewidth": 0,
                          "ticks": ""
                        },
                        "type": "heatmapgl",
                        "colorscale": [
                          [
                            0,
                            "#0d0887"
                          ],
                          [
                            0.1111111111111111,
                            "#46039f"
                          ],
                          [
                            0.2222222222222222,
                            "#7201a8"
                          ],
                          [
                            0.3333333333333333,
                            "#9c179e"
                          ],
                          [
                            0.4444444444444444,
                            "#bd3786"
                          ],
                          [
                            0.5555555555555556,
                            "#d8576b"
                          ],
                          [
                            0.6666666666666666,
                            "#ed7953"
                          ],
                          [
                            0.7777777777777778,
                            "#fb9f3a"
                          ],
                          [
                            0.8888888888888888,
                            "#fdca26"
                          ],
                          [
                            1,
                            "#f0f921"
                          ]
                        ]
                      }
                    ],
                    "scatterpolar": [
                      {
                        "marker": {
                          "colorbar": {
                            "outlinewidth": 0,
                            "ticks": ""
                          }
                        },
                        "type": "scatterpolar"
                      }
                    ],
                    "histogram2d": [
                      {
                        "colorbar": {
                          "outlinewidth": 0,
                          "ticks": ""
                        },
                        "type": "histogram2d",
                        "colorscale": [
                          [
                            0,
                            "#0d0887"
                          ],
                          [
                            0.1111111111111111,
                            "#46039f"
                          ],
                          [
                            0.2222222222222222,
                            "#7201a8"
                          ],
                          [
                            0.3333333333333333,
                            "#9c179e"
                          ],
                          [
                            0.4444444444444444,
                            "#bd3786"
                          ],
                          [
                            0.5555555555555556,
                            "#d8576b"
                          ],
                          [
                            0.6666666666666666,
                            "#ed7953"
                          ],
                          [
                            0.7777777777777778,
                            "#fb9f3a"
                          ],
                          [
                            0.8888888888888888,
                            "#fdca26"
                          ],
                          [
                            1,
                            "#f0f921"
                          ]
                        ]
                      }
                    ],
                    "scattergeo": [
                      {
                        "marker": {
                          "colorbar": {
                            "outlinewidth": 0,
                            "ticks": ""
                          }
                        },
                        "type": "scattergeo"
                      }
                    ],
                    "bar": [
                      {
                        "marker": {
                          "line": {
                            "color": "#E5ECF6",
                            "width": 0.5
                          }
                        },
                        "type": "bar",
                        "error_x": {
                          "color": "#2a3f5f"
                        },
                        "error_y": {
                          "color": "#2a3f5f"
                        }
                      }
                    ],
                    "choropleth": [
                      {
                        "colorbar": {
                          "outlinewidth": 0,
                          "ticks": ""
                        },
                        "type": "choropleth"
                      }
                    ],
                    "parcoords": [
                      {
                        "line": {
                          "colorbar": {
                            "outlinewidth": 0,
                            "ticks": ""
                          }
                        },
                        "type": "parcoords"
                      }
                    ],
                    "barpolar": [
                      {
                        "marker": {
                          "line": {
                            "color": "#E5ECF6",
                            "width": 0.5
                          }
                        },
                        "type": "barpolar"
                      }
                    ],
                    "histogram2dcontour": [
                      {
                        "colorbar": {
                          "outlinewidth": 0,
                          "ticks": ""
                        },
                        "type": "histogram2dcontour",
                        "colorscale": [
                          [
                            0,
                            "#0d0887"
                          ],
                          [
                            0.1111111111111111,
                            "#46039f"
                          ],
                          [
                            0.2222222222222222,
                            "#7201a8"
                          ],
                          [
                            0.3333333333333333,
                            "#9c179e"
                          ],
                          [
                            0.4444444444444444,
                            "#bd3786"
                          ],
                          [
                            0.5555555555555556,
                            "#d8576b"
                          ],
                          [
                            0.6666666666666666,
                            "#ed7953"
                          ],
                          [
                            0.7777777777777778,
                            "#fb9f3a"
                          ],
                          [
                            0.8888888888888888,
                            "#fdca26"
                          ],
                          [
                            1,
                            "#f0f921"
                          ]
                        ]
                      }
                    ],
                    "scatter": [
                      {
                        "marker": {
                          "colorbar": {
                            "outlinewidth": 0,
                            "ticks": ""
                          }
                        },
                        "type": "scatter"
                      }
                    ]
                  }
                },
                "title": {
                  "y": 0.95,
                  "text": "Logistic Regression Metrics and Number of Clusters",
                  "yanchor": "top",
                  "xanchor": "center",
                  "x": 0.45
                },
                "plot_bgcolor": "rgb(245,245,245)",
                "yaxis": {
                  "range": [
                    0,
                    1
                  ],
                  "domain": [
                    0,
                    1
                  ],
                  "anchor": "x",
                  "title": {
                    "text": "Score"
                  }
                },
                "xaxis": {
                  "domain": [
                    0,
                    1
                  ],
                  "anchor": "y",
                  "title": {
                    "text": "# of Clusters"
                  }
                },
                "margin": {
                  "t": 60
                },
                "legend": {
                  "tracegroupgap": 0
                }
              }
            }
          },
          "metadata": {
            "tags": []
          }
        },
        {
          "output_type": "stream",
          "text": [
            "Best Model: K-Modes Clustering | Number of Clusters : 0 | Accuracy : 0.7721\n"
          ],
          "name": "stdout"
        }
      ]
    },
    {
      "cell_type": "code",
      "metadata": {
        "id": "cmqj8BP1HNQN",
        "colab_type": "code",
        "colab": {}
      },
      "source": [
        "## ensemble, classification"
      ],
      "execution_count": 0,
      "outputs": []
    },
    {
      "cell_type": "code",
      "metadata": {
        "id": "vbPRsBERHaTF",
        "colab_type": "code",
        "outputId": "d5072caa-359a-4e89-bde1-b34d29d081ec",
        "colab": {
          "base_uri": "https://localhost:8080/",
          "height": 421
        }
      },
      "source": [
        "from pycaret.datasets import get_data\n",
        "diabetes = get_data('diabetes')\n",
        "\n",
        "from pycaret.classification import *\n",
        "clf1 = setup(data = diabetes, target = 'Class variable')\n",
        "\n",
        "dt = create_model('dt')\n",
        "\n",
        "dt_bagged = ensemble_model(dt)"
      ],
      "execution_count": 0,
      "outputs": [
        {
          "output_type": "display_data",
          "data": {
            "text/html": [
              "<div>\n",
              "<style scoped>\n",
              "    .dataframe tbody tr th:only-of-type {\n",
              "        vertical-align: middle;\n",
              "    }\n",
              "\n",
              "    .dataframe tbody tr th {\n",
              "        vertical-align: top;\n",
              "    }\n",
              "\n",
              "    .dataframe thead th {\n",
              "        text-align: right;\n",
              "    }\n",
              "</style>\n",
              "<table border=\"1\" class=\"dataframe\">\n",
              "  <thead>\n",
              "    <tr style=\"text-align: right;\">\n",
              "      <th></th>\n",
              "      <th>Accuracy</th>\n",
              "      <th>AUC</th>\n",
              "      <th>Recall</th>\n",
              "      <th>Prec.</th>\n",
              "      <th>F1</th>\n",
              "      <th>Kappa</th>\n",
              "    </tr>\n",
              "  </thead>\n",
              "  <tbody>\n",
              "    <tr>\n",
              "      <th>0</th>\n",
              "      <td>0.7222</td>\n",
              "      <td>0.8286</td>\n",
              "      <td>0.3158</td>\n",
              "      <td>0.7500</td>\n",
              "      <td>0.4444</td>\n",
              "      <td>0.2981</td>\n",
              "    </tr>\n",
              "    <tr>\n",
              "      <th>1</th>\n",
              "      <td>0.7407</td>\n",
              "      <td>0.8353</td>\n",
              "      <td>0.4737</td>\n",
              "      <td>0.6923</td>\n",
              "      <td>0.5625</td>\n",
              "      <td>0.3874</td>\n",
              "    </tr>\n",
              "    <tr>\n",
              "      <th>2</th>\n",
              "      <td>0.7593</td>\n",
              "      <td>0.7902</td>\n",
              "      <td>0.6316</td>\n",
              "      <td>0.6667</td>\n",
              "      <td>0.6486</td>\n",
              "      <td>0.4658</td>\n",
              "    </tr>\n",
              "    <tr>\n",
              "      <th>3</th>\n",
              "      <td>0.7222</td>\n",
              "      <td>0.7135</td>\n",
              "      <td>0.4737</td>\n",
              "      <td>0.6429</td>\n",
              "      <td>0.5455</td>\n",
              "      <td>0.3520</td>\n",
              "    </tr>\n",
              "    <tr>\n",
              "      <th>4</th>\n",
              "      <td>0.6667</td>\n",
              "      <td>0.7376</td>\n",
              "      <td>0.3684</td>\n",
              "      <td>0.5385</td>\n",
              "      <td>0.4375</td>\n",
              "      <td>0.2123</td>\n",
              "    </tr>\n",
              "    <tr>\n",
              "      <th>5</th>\n",
              "      <td>0.7222</td>\n",
              "      <td>0.7278</td>\n",
              "      <td>0.4737</td>\n",
              "      <td>0.6429</td>\n",
              "      <td>0.5455</td>\n",
              "      <td>0.3520</td>\n",
              "    </tr>\n",
              "    <tr>\n",
              "      <th>6</th>\n",
              "      <td>0.7222</td>\n",
              "      <td>0.7083</td>\n",
              "      <td>0.5789</td>\n",
              "      <td>0.6111</td>\n",
              "      <td>0.5946</td>\n",
              "      <td>0.3836</td>\n",
              "    </tr>\n",
              "    <tr>\n",
              "      <th>7</th>\n",
              "      <td>0.7736</td>\n",
              "      <td>0.7841</td>\n",
              "      <td>0.6111</td>\n",
              "      <td>0.6875</td>\n",
              "      <td>0.6471</td>\n",
              "      <td>0.4812</td>\n",
              "    </tr>\n",
              "    <tr>\n",
              "      <th>8</th>\n",
              "      <td>0.6792</td>\n",
              "      <td>0.7119</td>\n",
              "      <td>0.3889</td>\n",
              "      <td>0.5385</td>\n",
              "      <td>0.4516</td>\n",
              "      <td>0.2332</td>\n",
              "    </tr>\n",
              "    <tr>\n",
              "      <th>9</th>\n",
              "      <td>0.8113</td>\n",
              "      <td>0.8492</td>\n",
              "      <td>0.5556</td>\n",
              "      <td>0.8333</td>\n",
              "      <td>0.6667</td>\n",
              "      <td>0.5423</td>\n",
              "    </tr>\n",
              "    <tr>\n",
              "      <th>Mean</th>\n",
              "      <td>0.7320</td>\n",
              "      <td>0.7687</td>\n",
              "      <td>0.4871</td>\n",
              "      <td>0.6604</td>\n",
              "      <td>0.5544</td>\n",
              "      <td>0.3708</td>\n",
              "    </tr>\n",
              "    <tr>\n",
              "      <th>SD</th>\n",
              "      <td>0.0403</td>\n",
              "      <td>0.0527</td>\n",
              "      <td>0.1015</td>\n",
              "      <td>0.0852</td>\n",
              "      <td>0.0826</td>\n",
              "      <td>0.1006</td>\n",
              "    </tr>\n",
              "  </tbody>\n",
              "</table>\n",
              "</div>"
            ],
            "text/plain": [
              "      Accuracy     AUC  Recall   Prec.      F1   Kappa\n",
              "0       0.7222  0.8286  0.3158  0.7500  0.4444  0.2981\n",
              "1       0.7407  0.8353  0.4737  0.6923  0.5625  0.3874\n",
              "2       0.7593  0.7902  0.6316  0.6667  0.6486  0.4658\n",
              "3       0.7222  0.7135  0.4737  0.6429  0.5455  0.3520\n",
              "4       0.6667  0.7376  0.3684  0.5385  0.4375  0.2123\n",
              "5       0.7222  0.7278  0.4737  0.6429  0.5455  0.3520\n",
              "6       0.7222  0.7083  0.5789  0.6111  0.5946  0.3836\n",
              "7       0.7736  0.7841  0.6111  0.6875  0.6471  0.4812\n",
              "8       0.6792  0.7119  0.3889  0.5385  0.4516  0.2332\n",
              "9       0.8113  0.8492  0.5556  0.8333  0.6667  0.5423\n",
              "Mean    0.7320  0.7687  0.4871  0.6604  0.5544  0.3708\n",
              "SD      0.0403  0.0527  0.1015  0.0852  0.0826  0.1006"
            ]
          },
          "metadata": {
            "tags": []
          }
        }
      ]
    },
    {
      "cell_type": "code",
      "metadata": {
        "id": "nFJeGf7CHmmW",
        "colab_type": "code",
        "colab": {}
      },
      "source": [
        "## ensemble, regression"
      ],
      "execution_count": 0,
      "outputs": []
    },
    {
      "cell_type": "code",
      "metadata": {
        "id": "xwAVMxE-Hpvv",
        "colab_type": "code",
        "outputId": "58527e8b-74eb-4aca-8465-fd3e31b865f1",
        "colab": {
          "base_uri": "https://localhost:8080/",
          "height": 421
        }
      },
      "source": [
        "from pycaret.datasets import get_data\n",
        "boston = get_data('boston')\n",
        "\n",
        "from pycaret.regression import *\n",
        "reg1 = setup(data = boston, target = 'medv')\n",
        "\n",
        "dt = create_model('dt')\n",
        "\n",
        "dt_boosted = ensemble_model(dt, method = 'Boosting')"
      ],
      "execution_count": 0,
      "outputs": [
        {
          "output_type": "display_data",
          "data": {
            "text/html": [
              "<div>\n",
              "<style scoped>\n",
              "    .dataframe tbody tr th:only-of-type {\n",
              "        vertical-align: middle;\n",
              "    }\n",
              "\n",
              "    .dataframe tbody tr th {\n",
              "        vertical-align: top;\n",
              "    }\n",
              "\n",
              "    .dataframe thead th {\n",
              "        text-align: right;\n",
              "    }\n",
              "</style>\n",
              "<table border=\"1\" class=\"dataframe\">\n",
              "  <thead>\n",
              "    <tr style=\"text-align: right;\">\n",
              "      <th></th>\n",
              "      <th>MAE</th>\n",
              "      <th>MSE</th>\n",
              "      <th>RMSE</th>\n",
              "      <th>R2</th>\n",
              "      <th>RMSLE</th>\n",
              "      <th>MAPE</th>\n",
              "    </tr>\n",
              "  </thead>\n",
              "  <tbody>\n",
              "    <tr>\n",
              "      <th>0</th>\n",
              "      <td>2.9278</td>\n",
              "      <td>22.1883</td>\n",
              "      <td>4.7104</td>\n",
              "      <td>0.6986</td>\n",
              "      <td>0.1686</td>\n",
              "      <td>0.1411</td>\n",
              "    </tr>\n",
              "    <tr>\n",
              "      <th>1</th>\n",
              "      <td>2.2389</td>\n",
              "      <td>9.2411</td>\n",
              "      <td>3.0399</td>\n",
              "      <td>0.8762</td>\n",
              "      <td>0.1244</td>\n",
              "      <td>0.1067</td>\n",
              "    </tr>\n",
              "    <tr>\n",
              "      <th>2</th>\n",
              "      <td>2.4778</td>\n",
              "      <td>10.0856</td>\n",
              "      <td>3.1758</td>\n",
              "      <td>0.8794</td>\n",
              "      <td>0.1239</td>\n",
              "      <td>0.1040</td>\n",
              "    </tr>\n",
              "    <tr>\n",
              "      <th>3</th>\n",
              "      <td>1.9917</td>\n",
              "      <td>7.2958</td>\n",
              "      <td>2.7011</td>\n",
              "      <td>0.8910</td>\n",
              "      <td>0.1387</td>\n",
              "      <td>0.1066</td>\n",
              "    </tr>\n",
              "    <tr>\n",
              "      <th>4</th>\n",
              "      <td>2.9343</td>\n",
              "      <td>20.0311</td>\n",
              "      <td>4.4756</td>\n",
              "      <td>0.6625</td>\n",
              "      <td>0.2551</td>\n",
              "      <td>0.1613</td>\n",
              "    </tr>\n",
              "    <tr>\n",
              "      <th>5</th>\n",
              "      <td>1.7571</td>\n",
              "      <td>4.8694</td>\n",
              "      <td>2.2067</td>\n",
              "      <td>0.9572</td>\n",
              "      <td>0.1305</td>\n",
              "      <td>0.1049</td>\n",
              "    </tr>\n",
              "    <tr>\n",
              "      <th>6</th>\n",
              "      <td>2.3200</td>\n",
              "      <td>9.1383</td>\n",
              "      <td>3.0230</td>\n",
              "      <td>0.8931</td>\n",
              "      <td>0.1288</td>\n",
              "      <td>0.1144</td>\n",
              "    </tr>\n",
              "    <tr>\n",
              "      <th>7</th>\n",
              "      <td>3.1486</td>\n",
              "      <td>28.6074</td>\n",
              "      <td>5.3486</td>\n",
              "      <td>0.6583</td>\n",
              "      <td>0.2012</td>\n",
              "      <td>0.1506</td>\n",
              "    </tr>\n",
              "    <tr>\n",
              "      <th>8</th>\n",
              "      <td>2.4086</td>\n",
              "      <td>10.8854</td>\n",
              "      <td>3.2993</td>\n",
              "      <td>0.9154</td>\n",
              "      <td>0.1536</td>\n",
              "      <td>0.1261</td>\n",
              "    </tr>\n",
              "    <tr>\n",
              "      <th>9</th>\n",
              "      <td>2.1571</td>\n",
              "      <td>11.8969</td>\n",
              "      <td>3.4492</td>\n",
              "      <td>0.8993</td>\n",
              "      <td>0.1481</td>\n",
              "      <td>0.0995</td>\n",
              "    </tr>\n",
              "    <tr>\n",
              "      <th>Mean</th>\n",
              "      <td>2.4362</td>\n",
              "      <td>13.4239</td>\n",
              "      <td>3.5430</td>\n",
              "      <td>0.8331</td>\n",
              "      <td>0.1573</td>\n",
              "      <td>0.1215</td>\n",
              "    </tr>\n",
              "    <tr>\n",
              "      <th>SD</th>\n",
              "      <td>0.4229</td>\n",
              "      <td>7.1939</td>\n",
              "      <td>0.9335</td>\n",
              "      <td>0.1073</td>\n",
              "      <td>0.0397</td>\n",
              "      <td>0.0210</td>\n",
              "    </tr>\n",
              "  </tbody>\n",
              "</table>\n",
              "</div>"
            ],
            "text/plain": [
              "         MAE      MSE    RMSE      R2   RMSLE    MAPE\n",
              "0     2.9278  22.1883  4.7104  0.6986  0.1686  0.1411\n",
              "1     2.2389   9.2411  3.0399  0.8762  0.1244  0.1067\n",
              "2     2.4778  10.0856  3.1758  0.8794  0.1239  0.1040\n",
              "3     1.9917   7.2958  2.7011  0.8910  0.1387  0.1066\n",
              "4     2.9343  20.0311  4.4756  0.6625  0.2551  0.1613\n",
              "5     1.7571   4.8694  2.2067  0.9572  0.1305  0.1049\n",
              "6     2.3200   9.1383  3.0230  0.8931  0.1288  0.1144\n",
              "7     3.1486  28.6074  5.3486  0.6583  0.2012  0.1506\n",
              "8     2.4086  10.8854  3.2993  0.9154  0.1536  0.1261\n",
              "9     2.1571  11.8969  3.4492  0.8993  0.1481  0.0995\n",
              "Mean  2.4362  13.4239  3.5430  0.8331  0.1573  0.1215\n",
              "SD    0.4229   7.1939  0.9335  0.1073  0.0397  0.0210"
            ]
          },
          "metadata": {
            "tags": []
          }
        }
      ]
    },
    {
      "cell_type": "code",
      "metadata": {
        "id": "I3E6QziFHuai",
        "colab_type": "code",
        "colab": {}
      },
      "source": [
        "## blending models, classification"
      ],
      "execution_count": 0,
      "outputs": []
    },
    {
      "cell_type": "code",
      "metadata": {
        "id": "vb8yjqv9IKSy",
        "colab_type": "code",
        "outputId": "15bc352c-1568-43a1-ca61-2b1d33985643",
        "colab": {
          "base_uri": "https://localhost:8080/",
          "height": 421
        }
      },
      "source": [
        "from pycaret.datasets import get_data\n",
        "diabetes = get_data('diabetes')\n",
        "\n",
        "from pycaret.classification import *\n",
        "clf1 = setup(data = diabetes, target = 'Class variable')\n",
        "\n",
        "blend_all = blend_models()"
      ],
      "execution_count": 0,
      "outputs": [
        {
          "output_type": "display_data",
          "data": {
            "text/html": [
              "<div>\n",
              "<style scoped>\n",
              "    .dataframe tbody tr th:only-of-type {\n",
              "        vertical-align: middle;\n",
              "    }\n",
              "\n",
              "    .dataframe tbody tr th {\n",
              "        vertical-align: top;\n",
              "    }\n",
              "\n",
              "    .dataframe thead th {\n",
              "        text-align: right;\n",
              "    }\n",
              "</style>\n",
              "<table border=\"1\" class=\"dataframe\">\n",
              "  <thead>\n",
              "    <tr style=\"text-align: right;\">\n",
              "      <th></th>\n",
              "      <th>Accuracy</th>\n",
              "      <th>AUC</th>\n",
              "      <th>Recall</th>\n",
              "      <th>Prec.</th>\n",
              "      <th>F1</th>\n",
              "      <th>Kappa</th>\n",
              "    </tr>\n",
              "  </thead>\n",
              "  <tbody>\n",
              "    <tr>\n",
              "      <th>0</th>\n",
              "      <td>0.7407</td>\n",
              "      <td>0.0</td>\n",
              "      <td>0.4737</td>\n",
              "      <td>0.6923</td>\n",
              "      <td>0.5625</td>\n",
              "      <td>0.3874</td>\n",
              "    </tr>\n",
              "    <tr>\n",
              "      <th>1</th>\n",
              "      <td>0.7963</td>\n",
              "      <td>0.0</td>\n",
              "      <td>0.5789</td>\n",
              "      <td>0.7857</td>\n",
              "      <td>0.6667</td>\n",
              "      <td>0.5248</td>\n",
              "    </tr>\n",
              "    <tr>\n",
              "      <th>2</th>\n",
              "      <td>0.8333</td>\n",
              "      <td>0.0</td>\n",
              "      <td>0.5263</td>\n",
              "      <td>1.0000</td>\n",
              "      <td>0.6897</td>\n",
              "      <td>0.5902</td>\n",
              "    </tr>\n",
              "    <tr>\n",
              "      <th>3</th>\n",
              "      <td>0.7778</td>\n",
              "      <td>0.0</td>\n",
              "      <td>0.4737</td>\n",
              "      <td>0.8182</td>\n",
              "      <td>0.6000</td>\n",
              "      <td>0.4609</td>\n",
              "    </tr>\n",
              "    <tr>\n",
              "      <th>4</th>\n",
              "      <td>0.8704</td>\n",
              "      <td>0.0</td>\n",
              "      <td>0.7368</td>\n",
              "      <td>0.8750</td>\n",
              "      <td>0.8000</td>\n",
              "      <td>0.7051</td>\n",
              "    </tr>\n",
              "    <tr>\n",
              "      <th>5</th>\n",
              "      <td>0.7963</td>\n",
              "      <td>0.0</td>\n",
              "      <td>0.5263</td>\n",
              "      <td>0.8333</td>\n",
              "      <td>0.6452</td>\n",
              "      <td>0.5123</td>\n",
              "    </tr>\n",
              "    <tr>\n",
              "      <th>6</th>\n",
              "      <td>0.7963</td>\n",
              "      <td>0.0</td>\n",
              "      <td>0.6842</td>\n",
              "      <td>0.7222</td>\n",
              "      <td>0.7027</td>\n",
              "      <td>0.5479</td>\n",
              "    </tr>\n",
              "    <tr>\n",
              "      <th>7</th>\n",
              "      <td>0.7547</td>\n",
              "      <td>0.0</td>\n",
              "      <td>0.6667</td>\n",
              "      <td>0.6316</td>\n",
              "      <td>0.6486</td>\n",
              "      <td>0.4605</td>\n",
              "    </tr>\n",
              "    <tr>\n",
              "      <th>8</th>\n",
              "      <td>0.7358</td>\n",
              "      <td>0.0</td>\n",
              "      <td>0.3889</td>\n",
              "      <td>0.7000</td>\n",
              "      <td>0.5000</td>\n",
              "      <td>0.3399</td>\n",
              "    </tr>\n",
              "    <tr>\n",
              "      <th>9</th>\n",
              "      <td>0.7736</td>\n",
              "      <td>0.0</td>\n",
              "      <td>0.6111</td>\n",
              "      <td>0.6875</td>\n",
              "      <td>0.6471</td>\n",
              "      <td>0.4812</td>\n",
              "    </tr>\n",
              "    <tr>\n",
              "      <th>Mean</th>\n",
              "      <td>0.7875</td>\n",
              "      <td>0.0</td>\n",
              "      <td>0.5667</td>\n",
              "      <td>0.7746</td>\n",
              "      <td>0.6462</td>\n",
              "      <td>0.5010</td>\n",
              "    </tr>\n",
              "    <tr>\n",
              "      <th>SD</th>\n",
              "      <td>0.0393</td>\n",
              "      <td>0.0</td>\n",
              "      <td>0.1035</td>\n",
              "      <td>0.1046</td>\n",
              "      <td>0.0773</td>\n",
              "      <td>0.0975</td>\n",
              "    </tr>\n",
              "  </tbody>\n",
              "</table>\n",
              "</div>"
            ],
            "text/plain": [
              "      Accuracy  AUC  Recall   Prec.      F1   Kappa\n",
              "0       0.7407  0.0  0.4737  0.6923  0.5625  0.3874\n",
              "1       0.7963  0.0  0.5789  0.7857  0.6667  0.5248\n",
              "2       0.8333  0.0  0.5263  1.0000  0.6897  0.5902\n",
              "3       0.7778  0.0  0.4737  0.8182  0.6000  0.4609\n",
              "4       0.8704  0.0  0.7368  0.8750  0.8000  0.7051\n",
              "5       0.7963  0.0  0.5263  0.8333  0.6452  0.5123\n",
              "6       0.7963  0.0  0.6842  0.7222  0.7027  0.5479\n",
              "7       0.7547  0.0  0.6667  0.6316  0.6486  0.4605\n",
              "8       0.7358  0.0  0.3889  0.7000  0.5000  0.3399\n",
              "9       0.7736  0.0  0.6111  0.6875  0.6471  0.4812\n",
              "Mean    0.7875  0.0  0.5667  0.7746  0.6462  0.5010\n",
              "SD      0.0393  0.0  0.1035  0.1046  0.0773  0.0975"
            ]
          },
          "metadata": {
            "tags": []
          }
        }
      ]
    },
    {
      "cell_type": "code",
      "metadata": {
        "id": "d4cRgc43IUqu",
        "colab_type": "code",
        "colab": {}
      },
      "source": [
        "## blending models, regression"
      ],
      "execution_count": 0,
      "outputs": []
    },
    {
      "cell_type": "code",
      "metadata": {
        "id": "Ngnu8pstIc8d",
        "colab_type": "code",
        "outputId": "cd287470-a092-4145-a054-a44f53fb500b",
        "colab": {
          "base_uri": "https://localhost:8080/",
          "height": 421
        }
      },
      "source": [
        "from pycaret.datasets import get_data\n",
        "boston = get_data('boston')\n",
        "\n",
        "from pycaret.regression import *\n",
        "reg1 = setup(data = boston, target = 'medv')\n",
        "\n",
        "dt = create_model('dt')\n",
        "catboost = create_model('catboost')\n",
        "lightgbm = create_model('lightgbm')\n",
        "\n",
        "blender = blend_models(estimator_list = [dt, catboost, lightgbm])"
      ],
      "execution_count": 0,
      "outputs": [
        {
          "output_type": "display_data",
          "data": {
            "text/html": [
              "<div>\n",
              "<style scoped>\n",
              "    .dataframe tbody tr th:only-of-type {\n",
              "        vertical-align: middle;\n",
              "    }\n",
              "\n",
              "    .dataframe tbody tr th {\n",
              "        vertical-align: top;\n",
              "    }\n",
              "\n",
              "    .dataframe thead th {\n",
              "        text-align: right;\n",
              "    }\n",
              "</style>\n",
              "<table border=\"1\" class=\"dataframe\">\n",
              "  <thead>\n",
              "    <tr style=\"text-align: right;\">\n",
              "      <th></th>\n",
              "      <th>MAE</th>\n",
              "      <th>MSE</th>\n",
              "      <th>RMSE</th>\n",
              "      <th>R2</th>\n",
              "      <th>RMSLE</th>\n",
              "      <th>MAPE</th>\n",
              "    </tr>\n",
              "  </thead>\n",
              "  <tbody>\n",
              "    <tr>\n",
              "      <th>0</th>\n",
              "      <td>1.9812</td>\n",
              "      <td>6.8771</td>\n",
              "      <td>2.6224</td>\n",
              "      <td>0.9049</td>\n",
              "      <td>0.1458</td>\n",
              "      <td>0.1130</td>\n",
              "    </tr>\n",
              "    <tr>\n",
              "      <th>1</th>\n",
              "      <td>2.2061</td>\n",
              "      <td>9.1623</td>\n",
              "      <td>3.0269</td>\n",
              "      <td>0.9156</td>\n",
              "      <td>0.1600</td>\n",
              "      <td>0.1231</td>\n",
              "    </tr>\n",
              "    <tr>\n",
              "      <th>2</th>\n",
              "      <td>1.8619</td>\n",
              "      <td>9.2879</td>\n",
              "      <td>3.0476</td>\n",
              "      <td>0.8814</td>\n",
              "      <td>0.1198</td>\n",
              "      <td>0.0878</td>\n",
              "    </tr>\n",
              "    <tr>\n",
              "      <th>3</th>\n",
              "      <td>1.9638</td>\n",
              "      <td>7.4835</td>\n",
              "      <td>2.7356</td>\n",
              "      <td>0.9101</td>\n",
              "      <td>0.1071</td>\n",
              "      <td>0.0860</td>\n",
              "    </tr>\n",
              "    <tr>\n",
              "      <th>4</th>\n",
              "      <td>2.2767</td>\n",
              "      <td>9.0680</td>\n",
              "      <td>3.0113</td>\n",
              "      <td>0.9166</td>\n",
              "      <td>0.1586</td>\n",
              "      <td>0.1224</td>\n",
              "    </tr>\n",
              "    <tr>\n",
              "      <th>5</th>\n",
              "      <td>2.0056</td>\n",
              "      <td>15.0797</td>\n",
              "      <td>3.8833</td>\n",
              "      <td>0.7310</td>\n",
              "      <td>0.1299</td>\n",
              "      <td>0.0844</td>\n",
              "    </tr>\n",
              "    <tr>\n",
              "      <th>6</th>\n",
              "      <td>1.8227</td>\n",
              "      <td>5.1412</td>\n",
              "      <td>2.2674</td>\n",
              "      <td>0.9460</td>\n",
              "      <td>0.1294</td>\n",
              "      <td>0.1036</td>\n",
              "    </tr>\n",
              "    <tr>\n",
              "      <th>7</th>\n",
              "      <td>2.2421</td>\n",
              "      <td>12.1672</td>\n",
              "      <td>3.4881</td>\n",
              "      <td>0.8911</td>\n",
              "      <td>0.1440</td>\n",
              "      <td>0.1073</td>\n",
              "    </tr>\n",
              "    <tr>\n",
              "      <th>8</th>\n",
              "      <td>1.6145</td>\n",
              "      <td>4.8359</td>\n",
              "      <td>2.1991</td>\n",
              "      <td>0.8936</td>\n",
              "      <td>0.1165</td>\n",
              "      <td>0.0840</td>\n",
              "    </tr>\n",
              "    <tr>\n",
              "      <th>9</th>\n",
              "      <td>2.0249</td>\n",
              "      <td>9.1093</td>\n",
              "      <td>3.0182</td>\n",
              "      <td>0.8179</td>\n",
              "      <td>0.1481</td>\n",
              "      <td>0.1092</td>\n",
              "    </tr>\n",
              "    <tr>\n",
              "      <th>Mean</th>\n",
              "      <td>2.0000</td>\n",
              "      <td>8.8212</td>\n",
              "      <td>2.9300</td>\n",
              "      <td>0.8808</td>\n",
              "      <td>0.1359</td>\n",
              "      <td>0.1021</td>\n",
              "    </tr>\n",
              "    <tr>\n",
              "      <th>SD</th>\n",
              "      <td>0.1947</td>\n",
              "      <td>2.9298</td>\n",
              "      <td>0.4862</td>\n",
              "      <td>0.0590</td>\n",
              "      <td>0.0172</td>\n",
              "      <td>0.0147</td>\n",
              "    </tr>\n",
              "  </tbody>\n",
              "</table>\n",
              "</div>"
            ],
            "text/plain": [
              "         MAE      MSE    RMSE      R2   RMSLE    MAPE\n",
              "0     1.9812   6.8771  2.6224  0.9049  0.1458  0.1130\n",
              "1     2.2061   9.1623  3.0269  0.9156  0.1600  0.1231\n",
              "2     1.8619   9.2879  3.0476  0.8814  0.1198  0.0878\n",
              "3     1.9638   7.4835  2.7356  0.9101  0.1071  0.0860\n",
              "4     2.2767   9.0680  3.0113  0.9166  0.1586  0.1224\n",
              "5     2.0056  15.0797  3.8833  0.7310  0.1299  0.0844\n",
              "6     1.8227   5.1412  2.2674  0.9460  0.1294  0.1036\n",
              "7     2.2421  12.1672  3.4881  0.8911  0.1440  0.1073\n",
              "8     1.6145   4.8359  2.1991  0.8936  0.1165  0.0840\n",
              "9     2.0249   9.1093  3.0182  0.8179  0.1481  0.1092\n",
              "Mean  2.0000   8.8212  2.9300  0.8808  0.1359  0.1021\n",
              "SD    0.1947   2.9298  0.4862  0.0590  0.0172  0.0147"
            ]
          },
          "metadata": {
            "tags": []
          }
        }
      ]
    },
    {
      "cell_type": "code",
      "metadata": {
        "id": "SSPhwmFNIg37",
        "colab_type": "code",
        "outputId": "b73877c8-d132-44a7-9b84-bbd14988685e",
        "colab": {
          "base_uri": "https://localhost:8080/",
          "height": 421
        }
      },
      "source": [
        "from pycaret.datasets import get_data\n",
        "boston = get_data('boston')\n",
        "\n",
        "from pycaret.regression import *\n",
        "reg1 = setup(data = boston, target = 'medv')\n",
        "\n",
        "blend_all = blend_models()"
      ],
      "execution_count": 0,
      "outputs": [
        {
          "output_type": "display_data",
          "data": {
            "text/html": [
              "<div>\n",
              "<style scoped>\n",
              "    .dataframe tbody tr th:only-of-type {\n",
              "        vertical-align: middle;\n",
              "    }\n",
              "\n",
              "    .dataframe tbody tr th {\n",
              "        vertical-align: top;\n",
              "    }\n",
              "\n",
              "    .dataframe thead th {\n",
              "        text-align: right;\n",
              "    }\n",
              "</style>\n",
              "<table border=\"1\" class=\"dataframe\">\n",
              "  <thead>\n",
              "    <tr style=\"text-align: right;\">\n",
              "      <th></th>\n",
              "      <th>MAE</th>\n",
              "      <th>MSE</th>\n",
              "      <th>RMSE</th>\n",
              "      <th>R2</th>\n",
              "      <th>RMSLE</th>\n",
              "      <th>MAPE</th>\n",
              "    </tr>\n",
              "  </thead>\n",
              "  <tbody>\n",
              "    <tr>\n",
              "      <th>0</th>\n",
              "      <td>3.5866</td>\n",
              "      <td>39.3523</td>\n",
              "      <td>6.2731</td>\n",
              "      <td>0.7567</td>\n",
              "      <td>0.2027</td>\n",
              "      <td>0.1461</td>\n",
              "    </tr>\n",
              "    <tr>\n",
              "      <th>1</th>\n",
              "      <td>2.4921</td>\n",
              "      <td>10.6792</td>\n",
              "      <td>3.2679</td>\n",
              "      <td>0.8481</td>\n",
              "      <td>0.1989</td>\n",
              "      <td>0.1689</td>\n",
              "    </tr>\n",
              "    <tr>\n",
              "      <th>2</th>\n",
              "      <td>2.8868</td>\n",
              "      <td>15.5107</td>\n",
              "      <td>3.9384</td>\n",
              "      <td>0.8365</td>\n",
              "      <td>0.1865</td>\n",
              "      <td>0.1403</td>\n",
              "    </tr>\n",
              "    <tr>\n",
              "      <th>3</th>\n",
              "      <td>2.8417</td>\n",
              "      <td>14.0384</td>\n",
              "      <td>3.7468</td>\n",
              "      <td>0.8067</td>\n",
              "      <td>0.1787</td>\n",
              "      <td>0.1459</td>\n",
              "    </tr>\n",
              "    <tr>\n",
              "      <th>4</th>\n",
              "      <td>2.3919</td>\n",
              "      <td>10.0734</td>\n",
              "      <td>3.1739</td>\n",
              "      <td>0.7993</td>\n",
              "      <td>0.1604</td>\n",
              "      <td>0.1352</td>\n",
              "    </tr>\n",
              "    <tr>\n",
              "      <th>5</th>\n",
              "      <td>2.6265</td>\n",
              "      <td>11.7285</td>\n",
              "      <td>3.4247</td>\n",
              "      <td>0.8214</td>\n",
              "      <td>0.1593</td>\n",
              "      <td>0.1306</td>\n",
              "    </tr>\n",
              "    <tr>\n",
              "      <th>6</th>\n",
              "      <td>3.1461</td>\n",
              "      <td>23.7775</td>\n",
              "      <td>4.8762</td>\n",
              "      <td>0.7582</td>\n",
              "      <td>0.1611</td>\n",
              "      <td>0.1252</td>\n",
              "    </tr>\n",
              "    <tr>\n",
              "      <th>7</th>\n",
              "      <td>2.2529</td>\n",
              "      <td>10.8127</td>\n",
              "      <td>3.2883</td>\n",
              "      <td>0.8737</td>\n",
              "      <td>0.1565</td>\n",
              "      <td>0.1191</td>\n",
              "    </tr>\n",
              "    <tr>\n",
              "      <th>8</th>\n",
              "      <td>2.3206</td>\n",
              "      <td>11.3160</td>\n",
              "      <td>3.3639</td>\n",
              "      <td>0.7328</td>\n",
              "      <td>0.1569</td>\n",
              "      <td>0.1273</td>\n",
              "    </tr>\n",
              "    <tr>\n",
              "      <th>9</th>\n",
              "      <td>3.0779</td>\n",
              "      <td>24.8759</td>\n",
              "      <td>4.9876</td>\n",
              "      <td>0.6788</td>\n",
              "      <td>0.1567</td>\n",
              "      <td>0.1197</td>\n",
              "    </tr>\n",
              "    <tr>\n",
              "      <th>Mean</th>\n",
              "      <td>2.7623</td>\n",
              "      <td>17.2165</td>\n",
              "      <td>4.0341</td>\n",
              "      <td>0.7912</td>\n",
              "      <td>0.1717</td>\n",
              "      <td>0.1358</td>\n",
              "    </tr>\n",
              "    <tr>\n",
              "      <th>SD</th>\n",
              "      <td>0.4039</td>\n",
              "      <td>8.9689</td>\n",
              "      <td>0.9709</td>\n",
              "      <td>0.0562</td>\n",
              "      <td>0.0174</td>\n",
              "      <td>0.0144</td>\n",
              "    </tr>\n",
              "  </tbody>\n",
              "</table>\n",
              "</div>"
            ],
            "text/plain": [
              "         MAE      MSE    RMSE      R2   RMSLE    MAPE\n",
              "0     3.5866  39.3523  6.2731  0.7567  0.2027  0.1461\n",
              "1     2.4921  10.6792  3.2679  0.8481  0.1989  0.1689\n",
              "2     2.8868  15.5107  3.9384  0.8365  0.1865  0.1403\n",
              "3     2.8417  14.0384  3.7468  0.8067  0.1787  0.1459\n",
              "4     2.3919  10.0734  3.1739  0.7993  0.1604  0.1352\n",
              "5     2.6265  11.7285  3.4247  0.8214  0.1593  0.1306\n",
              "6     3.1461  23.7775  4.8762  0.7582  0.1611  0.1252\n",
              "7     2.2529  10.8127  3.2883  0.8737  0.1565  0.1191\n",
              "8     2.3206  11.3160  3.3639  0.7328  0.1569  0.1273\n",
              "9     3.0779  24.8759  4.9876  0.6788  0.1567  0.1197\n",
              "Mean  2.7623  17.2165  4.0341  0.7912  0.1717  0.1358\n",
              "SD    0.4039   8.9689  0.9709  0.0562  0.0174  0.0144"
            ]
          },
          "metadata": {
            "tags": []
          }
        }
      ]
    },
    {
      "cell_type": "code",
      "metadata": {
        "id": "NyQmrA0ZI2nb",
        "colab_type": "code",
        "colab": {}
      },
      "source": [
        "## stacking models, classification"
      ],
      "execution_count": 0,
      "outputs": []
    },
    {
      "cell_type": "code",
      "metadata": {
        "id": "Rft2vM0NJQ2f",
        "colab_type": "code",
        "outputId": "bc2a6d77-dbb2-4e73-b04b-4ea13966a14b",
        "colab": {
          "base_uri": "https://localhost:8080/",
          "height": 421
        }
      },
      "source": [
        "from pycaret.datasets import get_data\n",
        "diabetes = get_data('diabetes')\n",
        "\n",
        "from pycaret.classification import *\n",
        "clf1 = setup(data = diabetes, target = 'Class variable')\n",
        "\n",
        "ridge = create_model('ridge')\n",
        "lda = create_model('lda')\n",
        "gbc = create_model('gbc')\n",
        "xgboost = create_model('xgboost')\n",
        "\n",
        "stacker = stack_models(estimator_list = [ridge,lda,gbc], meta_model = xgboost)"
      ],
      "execution_count": 0,
      "outputs": [
        {
          "output_type": "display_data",
          "data": {
            "text/html": [
              "<div>\n",
              "<style scoped>\n",
              "    .dataframe tbody tr th:only-of-type {\n",
              "        vertical-align: middle;\n",
              "    }\n",
              "\n",
              "    .dataframe tbody tr th {\n",
              "        vertical-align: top;\n",
              "    }\n",
              "\n",
              "    .dataframe thead th {\n",
              "        text-align: right;\n",
              "    }\n",
              "</style>\n",
              "<table border=\"1\" class=\"dataframe\">\n",
              "  <thead>\n",
              "    <tr style=\"text-align: right;\">\n",
              "      <th></th>\n",
              "      <th>Accuracy</th>\n",
              "      <th>AUC</th>\n",
              "      <th>Recall</th>\n",
              "      <th>Prec.</th>\n",
              "      <th>F1</th>\n",
              "      <th>Kappa</th>\n",
              "    </tr>\n",
              "  </thead>\n",
              "  <tbody>\n",
              "    <tr>\n",
              "      <th>0</th>\n",
              "      <td>0.8148</td>\n",
              "      <td>0.8812</td>\n",
              "      <td>0.7368</td>\n",
              "      <td>0.7368</td>\n",
              "      <td>0.7368</td>\n",
              "      <td>0.5940</td>\n",
              "    </tr>\n",
              "    <tr>\n",
              "      <th>1</th>\n",
              "      <td>0.7963</td>\n",
              "      <td>0.8150</td>\n",
              "      <td>0.6842</td>\n",
              "      <td>0.7222</td>\n",
              "      <td>0.7027</td>\n",
              "      <td>0.5479</td>\n",
              "    </tr>\n",
              "    <tr>\n",
              "      <th>2</th>\n",
              "      <td>0.7407</td>\n",
              "      <td>0.8165</td>\n",
              "      <td>0.5263</td>\n",
              "      <td>0.6667</td>\n",
              "      <td>0.5882</td>\n",
              "      <td>0.4028</td>\n",
              "    </tr>\n",
              "    <tr>\n",
              "      <th>3</th>\n",
              "      <td>0.7222</td>\n",
              "      <td>0.8376</td>\n",
              "      <td>0.4211</td>\n",
              "      <td>0.6667</td>\n",
              "      <td>0.5161</td>\n",
              "      <td>0.3350</td>\n",
              "    </tr>\n",
              "    <tr>\n",
              "      <th>4</th>\n",
              "      <td>0.7593</td>\n",
              "      <td>0.8331</td>\n",
              "      <td>0.6316</td>\n",
              "      <td>0.6667</td>\n",
              "      <td>0.6486</td>\n",
              "      <td>0.4658</td>\n",
              "    </tr>\n",
              "    <tr>\n",
              "      <th>5</th>\n",
              "      <td>0.6852</td>\n",
              "      <td>0.7504</td>\n",
              "      <td>0.4737</td>\n",
              "      <td>0.5625</td>\n",
              "      <td>0.5143</td>\n",
              "      <td>0.2839</td>\n",
              "    </tr>\n",
              "    <tr>\n",
              "      <th>6</th>\n",
              "      <td>0.7222</td>\n",
              "      <td>0.8571</td>\n",
              "      <td>0.6316</td>\n",
              "      <td>0.6000</td>\n",
              "      <td>0.6154</td>\n",
              "      <td>0.3982</td>\n",
              "    </tr>\n",
              "    <tr>\n",
              "      <th>7</th>\n",
              "      <td>0.9057</td>\n",
              "      <td>0.9381</td>\n",
              "      <td>0.7778</td>\n",
              "      <td>0.9333</td>\n",
              "      <td>0.8485</td>\n",
              "      <td>0.7808</td>\n",
              "    </tr>\n",
              "    <tr>\n",
              "      <th>8</th>\n",
              "      <td>0.7736</td>\n",
              "      <td>0.8079</td>\n",
              "      <td>0.6111</td>\n",
              "      <td>0.6875</td>\n",
              "      <td>0.6471</td>\n",
              "      <td>0.4812</td>\n",
              "    </tr>\n",
              "    <tr>\n",
              "      <th>9</th>\n",
              "      <td>0.7925</td>\n",
              "      <td>0.8619</td>\n",
              "      <td>0.6111</td>\n",
              "      <td>0.7333</td>\n",
              "      <td>0.6667</td>\n",
              "      <td>0.5178</td>\n",
              "    </tr>\n",
              "    <tr>\n",
              "      <th>Mean</th>\n",
              "      <td>0.7712</td>\n",
              "      <td>0.8399</td>\n",
              "      <td>0.6105</td>\n",
              "      <td>0.6976</td>\n",
              "      <td>0.6484</td>\n",
              "      <td>0.4807</td>\n",
              "    </tr>\n",
              "    <tr>\n",
              "      <th>SD</th>\n",
              "      <td>0.0586</td>\n",
              "      <td>0.0473</td>\n",
              "      <td>0.1058</td>\n",
              "      <td>0.0947</td>\n",
              "      <td>0.0956</td>\n",
              "      <td>0.1348</td>\n",
              "    </tr>\n",
              "  </tbody>\n",
              "</table>\n",
              "</div>"
            ],
            "text/plain": [
              "      Accuracy     AUC  Recall   Prec.      F1   Kappa\n",
              "0       0.8148  0.8812  0.7368  0.7368  0.7368  0.5940\n",
              "1       0.7963  0.8150  0.6842  0.7222  0.7027  0.5479\n",
              "2       0.7407  0.8165  0.5263  0.6667  0.5882  0.4028\n",
              "3       0.7222  0.8376  0.4211  0.6667  0.5161  0.3350\n",
              "4       0.7593  0.8331  0.6316  0.6667  0.6486  0.4658\n",
              "5       0.6852  0.7504  0.4737  0.5625  0.5143  0.2839\n",
              "6       0.7222  0.8571  0.6316  0.6000  0.6154  0.3982\n",
              "7       0.9057  0.9381  0.7778  0.9333  0.8485  0.7808\n",
              "8       0.7736  0.8079  0.6111  0.6875  0.6471  0.4812\n",
              "9       0.7925  0.8619  0.6111  0.7333  0.6667  0.5178\n",
              "Mean    0.7712  0.8399  0.6105  0.6976  0.6484  0.4807\n",
              "SD      0.0586  0.0473  0.1058  0.0947  0.0956  0.1348"
            ]
          },
          "metadata": {
            "tags": []
          }
        }
      ]
    },
    {
      "cell_type": "code",
      "metadata": {
        "id": "Rtb76nuaJ_IP",
        "colab_type": "code",
        "colab": {}
      },
      "source": [
        "## stacking model, regression"
      ],
      "execution_count": 0,
      "outputs": []
    },
    {
      "cell_type": "code",
      "metadata": {
        "id": "vNH1avdZKDOo",
        "colab_type": "code",
        "outputId": "625a990f-16a8-420d-fd4e-cd17456f6f94",
        "colab": {
          "base_uri": "https://localhost:8080/",
          "height": 421
        }
      },
      "source": [
        "from pycaret.datasets import get_data\n",
        "boston = get_data('boston')\n",
        "\n",
        "from pycaret.regression import *\n",
        "reg1 = setup(data = boston, target = 'medv')\n",
        "\n",
        "catboost = create_model('catboost')\n",
        "et = create_model('et')\n",
        "lightgbm = create_model('lightgbm')\n",
        "xgboost = create_model('xgboost')\n",
        "ada = create_model('ada')\n",
        "rf = create_model('rf')\n",
        "gbr = create_model('gbr')\n",
        "\n",
        "stacknet = create_stacknet([[lightgbm, xgboost, ada], [et, gbr, catboost, rf]])"
      ],
      "execution_count": 0,
      "outputs": [
        {
          "output_type": "display_data",
          "data": {
            "text/html": [
              "<div>\n",
              "<style scoped>\n",
              "    .dataframe tbody tr th:only-of-type {\n",
              "        vertical-align: middle;\n",
              "    }\n",
              "\n",
              "    .dataframe tbody tr th {\n",
              "        vertical-align: top;\n",
              "    }\n",
              "\n",
              "    .dataframe thead th {\n",
              "        text-align: right;\n",
              "    }\n",
              "</style>\n",
              "<table border=\"1\" class=\"dataframe\">\n",
              "  <thead>\n",
              "    <tr style=\"text-align: right;\">\n",
              "      <th></th>\n",
              "      <th>MAE</th>\n",
              "      <th>MSE</th>\n",
              "      <th>RMSE</th>\n",
              "      <th>R2</th>\n",
              "      <th>RMSLE</th>\n",
              "      <th>MAPE</th>\n",
              "    </tr>\n",
              "  </thead>\n",
              "  <tbody>\n",
              "    <tr>\n",
              "      <th>0</th>\n",
              "      <td>2.9722</td>\n",
              "      <td>22.9762</td>\n",
              "      <td>4.7933</td>\n",
              "      <td>0.7676</td>\n",
              "      <td>0.1717</td>\n",
              "      <td>0.1276</td>\n",
              "    </tr>\n",
              "    <tr>\n",
              "      <th>1</th>\n",
              "      <td>2.0034</td>\n",
              "      <td>7.7107</td>\n",
              "      <td>2.7768</td>\n",
              "      <td>0.9260</td>\n",
              "      <td>0.1429</td>\n",
              "      <td>0.1048</td>\n",
              "    </tr>\n",
              "    <tr>\n",
              "      <th>2</th>\n",
              "      <td>2.4102</td>\n",
              "      <td>12.0519</td>\n",
              "      <td>3.4716</td>\n",
              "      <td>0.8686</td>\n",
              "      <td>0.1749</td>\n",
              "      <td>0.1228</td>\n",
              "    </tr>\n",
              "    <tr>\n",
              "      <th>3</th>\n",
              "      <td>3.0026</td>\n",
              "      <td>20.9433</td>\n",
              "      <td>4.5764</td>\n",
              "      <td>0.7950</td>\n",
              "      <td>0.1785</td>\n",
              "      <td>0.1369</td>\n",
              "    </tr>\n",
              "    <tr>\n",
              "      <th>4</th>\n",
              "      <td>2.2848</td>\n",
              "      <td>10.5675</td>\n",
              "      <td>3.2508</td>\n",
              "      <td>0.8316</td>\n",
              "      <td>0.1653</td>\n",
              "      <td>0.1170</td>\n",
              "    </tr>\n",
              "    <tr>\n",
              "      <th>5</th>\n",
              "      <td>2.6148</td>\n",
              "      <td>9.6281</td>\n",
              "      <td>3.1029</td>\n",
              "      <td>0.9107</td>\n",
              "      <td>0.1885</td>\n",
              "      <td>0.1494</td>\n",
              "    </tr>\n",
              "    <tr>\n",
              "      <th>6</th>\n",
              "      <td>2.8480</td>\n",
              "      <td>16.5085</td>\n",
              "      <td>4.0631</td>\n",
              "      <td>0.8556</td>\n",
              "      <td>0.2334</td>\n",
              "      <td>0.1708</td>\n",
              "    </tr>\n",
              "    <tr>\n",
              "      <th>7</th>\n",
              "      <td>1.9207</td>\n",
              "      <td>5.9275</td>\n",
              "      <td>2.4346</td>\n",
              "      <td>0.8758</td>\n",
              "      <td>0.1129</td>\n",
              "      <td>0.0894</td>\n",
              "    </tr>\n",
              "    <tr>\n",
              "      <th>8</th>\n",
              "      <td>1.6897</td>\n",
              "      <td>4.6435</td>\n",
              "      <td>2.1549</td>\n",
              "      <td>0.9432</td>\n",
              "      <td>0.0992</td>\n",
              "      <td>0.0841</td>\n",
              "    </tr>\n",
              "    <tr>\n",
              "      <th>9</th>\n",
              "      <td>3.0229</td>\n",
              "      <td>23.5168</td>\n",
              "      <td>4.8494</td>\n",
              "      <td>0.6327</td>\n",
              "      <td>0.1725</td>\n",
              "      <td>0.1383</td>\n",
              "    </tr>\n",
              "    <tr>\n",
              "      <th>Mean</th>\n",
              "      <td>2.4769</td>\n",
              "      <td>13.4474</td>\n",
              "      <td>3.5474</td>\n",
              "      <td>0.8407</td>\n",
              "      <td>0.1640</td>\n",
              "      <td>0.1241</td>\n",
              "    </tr>\n",
              "    <tr>\n",
              "      <th>SD</th>\n",
              "      <td>0.4659</td>\n",
              "      <td>6.7048</td>\n",
              "      <td>0.9292</td>\n",
              "      <td>0.0870</td>\n",
              "      <td>0.0362</td>\n",
              "      <td>0.0253</td>\n",
              "    </tr>\n",
              "  </tbody>\n",
              "</table>\n",
              "</div>"
            ],
            "text/plain": [
              "         MAE      MSE    RMSE      R2   RMSLE    MAPE\n",
              "0     2.9722  22.9762  4.7933  0.7676  0.1717  0.1276\n",
              "1     2.0034   7.7107  2.7768  0.9260  0.1429  0.1048\n",
              "2     2.4102  12.0519  3.4716  0.8686  0.1749  0.1228\n",
              "3     3.0026  20.9433  4.5764  0.7950  0.1785  0.1369\n",
              "4     2.2848  10.5675  3.2508  0.8316  0.1653  0.1170\n",
              "5     2.6148   9.6281  3.1029  0.9107  0.1885  0.1494\n",
              "6     2.8480  16.5085  4.0631  0.8556  0.2334  0.1708\n",
              "7     1.9207   5.9275  2.4346  0.8758  0.1129  0.0894\n",
              "8     1.6897   4.6435  2.1549  0.9432  0.0992  0.0841\n",
              "9     3.0229  23.5168  4.8494  0.6327  0.1725  0.1383\n",
              "Mean  2.4769  13.4474  3.5474  0.8407  0.1640  0.1241\n",
              "SD    0.4659   6.7048  0.9292  0.0870  0.0362  0.0253"
            ]
          },
          "metadata": {
            "tags": []
          }
        }
      ]
    },
    {
      "cell_type": "code",
      "metadata": {
        "id": "suJ_-oe8KG6v",
        "colab_type": "code",
        "colab": {}
      },
      "source": [
        "## plotting, classification"
      ],
      "execution_count": 0,
      "outputs": []
    },
    {
      "cell_type": "code",
      "metadata": {
        "id": "Lr4rM2WCKZn5",
        "colab_type": "code",
        "outputId": "bf0fe95a-5e95-418b-b420-58a825dd39ed",
        "colab": {
          "base_uri": "https://localhost:8080/",
          "height": 376
        }
      },
      "source": [
        "from pycaret.datasets import get_data\n",
        "diabetes = get_data('diabetes')\n",
        "\n",
        "from pycaret.classification import *\n",
        "clf1 = setup(data = diabetes, target = 'Class variable')\n",
        "\n",
        "lr = create_model('lr')\n",
        "\n",
        "plot_model(lr, plot = 'learning')\n",
        "# plot_model(lr, plot = 'confusion_matrix')\n",
        "# plot_model(lr, plot = 'calibration')\n",
        "# plot_model(lr, plot = 'auc')\n",
        "# plot_model(lr, plot = 'vc')"
      ],
      "execution_count": 0,
      "outputs": [
        {
          "output_type": "display_data",
          "data": {
            "image/png": "[encoded data removed]",
            "text/plain": [
              "<Figure size 576x396 with 1 Axes>"
            ]
          },
          "metadata": {
            "tags": []
          }
        }
      ]
    },
    {
      "cell_type": "code",
      "metadata": {
        "id": "1e0hyg9GK8k9",
        "colab_type": "code",
        "colab": {}
      },
      "source": [
        "## plotting, regression"
      ],
      "execution_count": 0,
      "outputs": []
    },
    {
      "cell_type": "code",
      "metadata": {
        "id": "YB4wpzQFUmK4",
        "colab_type": "code",
        "outputId": "205de98e-86ba-4cbc-ea8e-281f4daadcf3",
        "colab": {
          "base_uri": "https://localhost:8080/",
          "height": 376
        }
      },
      "source": [
        "from pycaret.datasets import get_data\n",
        "boston = get_data('boston')\n",
        "from pycaret.regression import *\n",
        "reg1 = setup(data = boston, target = 'medv')\n",
        "lr = create_model('lr')\n",
        "plot_model(lr)"
      ],
      "execution_count": 0,
      "outputs": [
        {
          "output_type": "display_data",
          "data": {
            "image/png": "[encoded data removed]",
            "text/plain": [
              "<Figure size 576x396 with 2 Axes>"
            ]
          },
          "metadata": {
            "tags": []
          }
        }
      ]
    },
    {
      "cell_type": "code",
      "metadata": {
        "id": "UpwZh8HbVSrv",
        "colab_type": "code",
        "outputId": "707060ec-29f7-4e97-823e-7c0b5b7a6269",
        "colab": {
          "base_uri": "https://localhost:8080/",
          "height": 376
        }
      },
      "source": [
        "from pycaret.datasets import get_data\n",
        "boston = get_data('boston')\n",
        "from pycaret.regression import *\n",
        "reg1 = setup(data = boston, target = 'medv')\n",
        "lr = create_model('lr')\n",
        "plot_model(lr, plot = 'learning')"
      ],
      "execution_count": 0,
      "outputs": [
        {
          "output_type": "display_data",
          "data": {
            "image/png": "[encoded data removed]",
            "text/plain": [
              "<Figure size 576x396 with 1 Axes>"
            ]
          },
          "metadata": {
            "tags": []
          }
        }
      ]
    },
    {
      "cell_type": "code",
      "metadata": {
        "id": "2V077rqYVZ2r",
        "colab_type": "code",
        "colab": {}
      },
      "source": [
        "## plotting, clustering"
      ],
      "execution_count": 0,
      "outputs": []
    },
    {
      "cell_type": "code",
      "metadata": {
        "id": "dvYUPC8kVgxP",
        "colab_type": "code",
        "colab": {}
      },
      "source": [
        "from pycaret.datasets import get_data\n",
        "jewellery = get_data('jewellery')\n",
        "from pycaret.clustering import *\n",
        "clu1 = setup(data = jewellery)\n",
        "kmeans = create_model('kmeans')\n",
        "plot_model(kmeans)"
      ],
      "execution_count": 0,
      "outputs": []
    },
    {
      "cell_type": "code",
      "metadata": {
        "id": "noJAl0M2Vi_Q",
        "colab_type": "code",
        "outputId": "e7490d58-62c1-4147-966f-b51ec31d1465",
        "colab": {
          "base_uri": "https://localhost:8080/",
          "height": 817
        }
      },
      "source": [
        "from pycaret.datasets import get_data\n",
        "jewellery = get_data('jewellery')\n",
        "from pycaret.clustering import *\n",
        "clu1 = setup(data = jewellery)\n",
        "kmeans = create_model('kmeans')\n",
        "plot_model(kmeans, plot = 'tsne')"
      ],
      "execution_count": 62,
      "outputs": [
        {
          "output_type": "display_data",
          "data": {
            "text/html": [
              "        <script type=\"text/javascript\">\n",
              "        window.PlotlyConfig = {MathJaxConfig: 'local'};\n",
              "        if (window.MathJax) {MathJax.Hub.Config({SVG: {font: \"STIX-Web\"}});}\n",
              "        if (typeof require !== 'undefined') {\n",
              "        require.undef(\"plotly\");\n",
              "        requirejs.config({\n",
              "            paths: {\n",
              "                'plotly': ['https://cdn.plot.ly/plotly-latest.min']\n",
              "            }\n",
              "        });\n",
              "        require(['plotly'], function(Plotly) {\n",
              "            window._Plotly = Plotly;\n",
              "        });\n",
              "        }\n",
              "        </script>\n",
              "        "
            ]
          },
          "metadata": {
            "tags": []
          }
        },
        {
          "output_type": "display_data",
          "data": {
            "text/html": [
              "<div>\n",
              "        \n",
              "        \n",
              "            <div id=\"a4f00720-17ee-4375-9667-419dd96d29b7\" class=\"plotly-graph-div\" style=\"height:800px; width:900px;\"></div>\n",
              "            <script type=\"text/javascript\">\n",
              "                require([\"plotly\"], function(Plotly) {\n",
              "                    window.PLOTLYENV=window.PLOTLYENV || {};\n",
              "                    \n",
              "                if (document.getElementById(\"a4f00720-17ee-4375-9667-419dd96d29b7\")) {\n",
              "                    Plotly.newPlot(\n",
              "                        'a4f00720-17ee-4375-9667-419dd96d29b7',\n",
              "                        [{\"customdata\": [[58], [59], [62], [59], [87], [29], [54], [87], [83], [84], [85], [36], [30], [31], [61], [92], [55], [87], [82], [88], [30], [84], [53], [91], [89], [30], [17], [55], [90], [61], [59], [59], [88], [56], [33], [61], [84], [61], [39], [31], [60], [87], [20], [57], [61], [18], [83], [25], [31], [55], [84], [36], [27], [91], [53], [91], [25], [83], [87], [90], [83], [83], [83], [61], [64], [62], [91], [28], [23], [55], [58], [31], [83], [91], [30], [57], [33], [59], [58], [29], [59], [84], [64], [87], [88], [35], [34], [58], [56], [63], [58], [60], [24], [94], [58], [25], [36], [62], [66], [37], [27], [24], [31], [23], [34], [88], [89], [32], [38], [57], [90], [33], [66], [35], [31], [35], [63], [30], [22], [84], [28], [88], [84], [88], [35], [82], [64], [91], [62], [62], [34], [60], [32], [65], [24], [88], [82], [26], [60], [31], [85], [63], [56], [28], [58], [26], [62], [86], [56], [91], [59], [28], [85], [65], [94], [86]], \"hoverlabel\": {\"namelength\": 0}, \"hovertemplate\": \"Cluster=Cluster 0<br>0=%{x}<br>1=%{y}<br>2=%{z}<br>Feature=%{customdata[0]}\", \"legendgroup\": \"Cluster=Cluster 0\", \"marker\": {\"color\": \"#636efa\", \"opacity\": 0.7, \"symbol\": \"circle\"}, \"mode\": \"markers\", \"name\": \"Cluster=Cluster 0\", \"scene\": \"scene\", \"showlegend\": true, \"type\": \"scatter3d\", \"x\": [9.275083541870117, 39.287109375, -14.331385612487793, -75.44612884521484, -50.676387786865234, -83.20789337158203, 38.78008270263672, -74.51852416992188, -55.56905746459961, -79.79391479492188, -45.01557540893555, -13.449363708496094, -39.960166931152344, -4.832878112792969, -54.778594970703125, -81.43785095214844, -45.62830352783203, 10.589218139648438, -64.8038558959961, -0.3981330990791321, -20.681154251098633, -11.720941543579102, -45.51243591308594, -13.271370887756348, -7.08367395401001, -53.96049118041992, -11.832504272460938, -40.940467834472656, -70.69525909423828, -82.23457336425781, -56.83842086791992, -64.1657943725586, -63.282718658447266, -72.99392700195312, -65.5208969116211, 16.97570037841797, 43.82209396362305, 2.1215567588806152, -49.676856994628906, -60.871673583984375, -85.69921875, -73.79751586914062, 83.21661376953125, -78.71088409423828, 29.78127670288086, -3.9586992263793945, -72.77482604980469, -30.10023307800293, -53.27962112426758, 21.024930953979492, -59.34228515625, -56.082210540771484, 51.825531005859375, -57.17375564575195, 20.732765197753906, -43.27191162109375, -62.400089263916016, -38.42058563232422, -87.03853607177734, -69.49156188964844, -34.73439407348633, -33.85822296142578, 13.867709159851074, -24.199661254882812, -64.53193664550781, -50.701961517333984, -60.99384307861328, 10.031450271606445, 44.13310623168945, 76.63326263427734, -65.61060333251953, -60.793357849121094, -39.85968780517578, -59.79555130004883, -58.074249267578125, -11.056745529174805, -61.46929931640625, -83.08525085449219, 59.462486267089844, -63.36274337768555, -62.93329620361328, -47.683658599853516, 39.94144058227539, 0.9185507893562317, 23.61204719543457, -73.66747283935547, -33.0335578918457, 2.7496819496154785, -9.60532283782959, -3.38130521774292, -48.84687805175781, 27.02108383178711, 81.93274688720703, 26.822898864746094, -67.18196105957031, -74.37763977050781, 26.80851173400879, -39.553985595703125, -66.62649536132812, -40.03030014038086, -46.046688079833984, -72.9164810180664, -86.86123657226562, 38.320106506347656, 10.25438117980957, 32.008731842041016, -72.18144226074219, 11.968477249145508, -30.888568878173828, -53.35307312011719, -61.481807708740234, 30.652679443359375, 19.416610717773438, -26.298625946044922, -68.42403411865234, -19.349855422973633, -6.315888404846191, -6.1605987548828125, 44.577491760253906, -67.11869049072266, -5.786337375640869, -31.955291748046875, -79.88094329833984, 12.709980964660645, -65.17610931396484, -0.40075480937957764, -69.2868423461914, -50.168418884277344, -1.7712814807891846, 38.824851989746094, 3.5408871173858643, 50.213966369628906, -53.34176254272461, -51.93800354003906, 34.27660369873047, -45.636436462402344, -58.186988830566406, -14.839988708496094, 20.273475646972656, -50.67181396484375, -71.19547271728516, 20.35434341430664, -31.590320587158203, -14.109532356262207, -72.0093765258789, 26.982887268066406, -18.362804412841797, -59.282814025878906, 8.797500610351562, -51.34768295288086, -17.75640296936035, -54.64410400390625, -26.717220306396484, -27.10152816772461, -36.16632843017578, -63.834529876708984], \"y\": [-43.6505012512207, -50.42153549194336, -35.746341705322266, 16.21699333190918, 39.12757873535156, 37.2243537902832, -61.123775482177734, 14.38869857788086, 44.55978012084961, 108.75724029541016, 43.845455169677734, -26.893306732177734, 48.19221496582031, -53.488861083984375, -41.21673583984375, 39.486167907714844, -22.240737915039062, -35.97947311401367, -24.380701065063477, -49.06689453125, 22.49556541442871, -47.54952621459961, 42.11538314819336, -13.9802885055542, -51.983150482177734, -28.449052810668945, -25.089794158935547, -19.509510040283203, -13.313164710998535, 25.036054611206055, 39.08269119262695, 56.1754150390625, -1.7759909629821777, 38.8432731628418, -13.371542930603027, -41.013343811035156, -41.872501373291016, -30.62333869934082, -14.64151382446289, -2.250434160232544, -0.6540100574493408, 28.260452270507812, 51.083919525146484, 3.877973794937134, -43.946807861328125, -35.505531311035156, 2.1994199752807617, 23.46613311767578, 11.821730613708496, -52.978206634521484, 24.84129524230957, -15.005020141601562, -53.45387649536133, 0.3594372868537903, -42.75597381591797, -25.148012161254883, -8.623612403869629, 35.638336181640625, 12.480469703674316, 47.04176330566406, -5.628372669219971, -18.198436737060547, -51.637664794921875, -25.497154235839844, 43.97355270385742, 2.7883260250091553, 20.53726577758789, -57.567962646484375, -38.50004577636719, -39.950531005859375, 7.292981147766113, 35.10707473754883, -10.701292037963867, -22.30476951599121, -3.350493907928467, -11.0541410446167, 52.51715087890625, 4.524798393249512, -24.82897186279297, -18.906150817871094, -8.360618591308594, -8.011104583740234, -30.18045425415039, -53.171592712402344, -32.509056091308594, -12.255483627319336, 18.37577247619629, -42.251625061035156, -39.40388488769531, 20.713281631469727, -15.147685050964355, -52.918434143066406, -14.491328239440918, -42.4303092956543, -7.183036804199219, -26.388586044311523, -51.375667572021484, -5.192615985870361, 35.559139251708984, 14.293680191040039, -1.8562031984329224, 20.505985260009766, 17.145532608032227, -45.11260986328125, -56.45012283325195, -33.81778335571289, -43.83478927612305, -33.62128448486328, -11.56479549407959, -23.460920333862305, 22.410791397094727, -38.07188034057617, -28.83637809753418, -2.843502998352051, -6.068423271179199, -1.1580212116241455, -3.363633155822754, -25.616968154907227, -64.4774169921875, 33.39514923095703, -9.877083778381348, 0.7593560814857483, 31.418437957763672, -47.953758239746094, -37.92220687866211, -40.326629638671875, -6.860122203826904, -2.2180898189544678, -14.798910140991211, -54.572669982910156, -44.68068313598633, -50.7352294921875, 51.38066864013672, 51.97056579589844, -43.346866607666016, -36.16395950317383, -23.573143005371094, -10.90355110168457, -39.64164352416992, -12.964726448059082, -18.306737899780273, -41.90114974975586, -13.424814224243164, -40.81439971923828, 45.8587646484375, -30.690357208251953, -2.273035764694214, -12.445778846740723, -32.08735275268555, 31.397117614746094, -16.31924819946289, -11.750245094299316, -10.691268920898438, -22.476896286010742, -30.309953689575195, -31.901653289794922], \"z\": [-37.04490661621094, -3.1397600173950195, -46.387168884277344, 13.914770126342773, -36.434879302978516, -36.83058166503906, -16.02251625061035, 0.5689827799797058, -9.552050590515137, 58.56304931640625, -20.313783645629883, -33.5568962097168, -36.88107681274414, -25.561277389526367, -1.6692407131195068, -8.374533653259277, -40.860504150390625, -25.218801498413086, 12.049302101135254, -29.400981903076172, 37.22201156616211, -41.9359130859375, -49.14775466918945, -42.19300079345703, -53.258514404296875, 4.493100643157959, -69.73165893554688, -70.17918395996094, -47.232051849365234, 5.900119304656982, -22.60040855407715, -32.312896728515625, -43.75899124145508, 2.507852554321289, -30.469327926635742, -2.6841647624969482, 6.500297546386719, -63.518226623535156, -28.410985946655273, 6.937554836273193, 7.281917572021484, -4.862975120544434, 50.379730224609375, 18.27311897277832, 3.97149658203125, -37.044403076171875, 6.295541286468506, -18.860445022583008, 9.941452980041504, -38.12784957885742, -18.459619522094727, 9.58670425415039, 2.4617767333984375, -11.19664192199707, -30.579875946044922, -24.565656661987305, 42.56202697753906, -41.29447937011719, 7.219446659088135, -9.345970153808594, -29.567943572998047, -32.07758712768555, -22.29720687866211, -62.99313735961914, -36.69449996948242, 34.82164764404297, 16.773677825927734, -33.36998748779297, -7.626999378204346, 5.501298904418945, 17.239543914794922, -1.3588117361068726, -41.63991928100586, -22.426799774169922, -26.81474494934082, -29.4638671875, -19.886323928833008, -5.280165672302246, -2.1998677253723145, -0.12964589893817902, -55.29253387451172, -16.76416778564453, 84.90510559082031, -43.00495529174805, -36.59150695800781, 6.454466342926025, -19.198217391967773, -14.985152244567871, -58.65370178222656, 84.5847396850586, -52.92277526855469, -26.07589340209961, -0.9984210133552551, -45.90105056762695, -3.6938974857330322, 3.204874038696289, -10.083287239074707, -60.43868637084961, -14.21951675415039, 27.320114135742188, -34.96562957763672, -15.033470153808594, -5.54018497467041, -20.128721237182617, -74.54373931884766, -22.61085319519043, 0.7206060290336609, -50.02308654785156, -69.58148193359375, -9.584218978881836, -5.151469707489014, -9.761820793151855, -15.065821647644043, -61.37922668457031, 17.238168716430664, -33.8516845703125, -42.191402435302734, -53.94459533691406, 3.8280203342437744, -28.94924545288086, -54.95432662963867, -42.5555534362793, -18.154247283935547, -50.45541763305664, 9.260154724121094, -48.133846282958984, -19.099645614624023, -49.6236572265625, -37.259185791015625, 10.448925971984863, -59.53190994262695, 15.106561660766602, -42.2670783996582, -29.02570343017578, -35.02226257324219, -8.666043281555176, -35.76219177246094, -68.3904800415039, -57.15559387207031, -2.468637704849243, -11.578137397766113, -17.73464584350586, -54.439857482910156, -29.897510528564453, -24.783447265625, 0.9869788885116577, -48.3392333984375, -13.742783546447754, -7.4911789894104, -10.28958511352539, -57.14638137817383, -41.54929733276367, -39.756526947021484, -78.20475769042969, -75.93264770507812, -4.553567886352539]}, {\"customdata\": [[30], [62], [85], [59], [30], [83], [66], [31], [88], [28], [85], [64], [33], [62], [89], [61], [29], [56], [92], [62], [60], [85], [88], [94], [62], [64], [29], [27], [31], [87], [32], [63], [58], [62], [32], [93], [59], [61], [53], [82], [28], [32], [89], [84], [87], [29], [58], [29], [55], [25], [60], [88], [24], [56], [95], [89], [86], [85], [60], [87], [29], [23], [31], [89], [58], [56], [37], [89], [29], [23], [34], [64], [63], [85], [62], [59], [92], [67], [58], [58], [38], [57], [31], [36], [25], [66], [64], [59], [90], [68], [35], [84], [24], [29], [28], [81], [57], [37], [91], [82], [36], [31], [61], [64], [83], [63], [55], [86], [57], [94], [37], [26], [57], [37], [88], [61], [91], [84], [43], [59], [90], [88], [59], [59], [88], [37], [33], [90], [31], [90]], \"hoverlabel\": {\"namelength\": 0}, \"hovertemplate\": \"Cluster=Cluster 1<br>0=%{x}<br>1=%{y}<br>2=%{z}<br>Feature=%{customdata[0]}\", \"legendgroup\": \"Cluster=Cluster 1\", \"marker\": {\"color\": \"#EF553B\", \"opacity\": 0.7, \"symbol\": \"circle\"}, \"mode\": \"markers\", \"name\": \"Cluster=Cluster 1\", \"scene\": \"scene\", \"showlegend\": true, \"type\": \"scatter3d\", \"x\": [-23.81589126586914, -2.154885768890381, -29.257522583007812, 3.3897416591644287, -103.98783874511719, 2.957758665084839, 26.528928756713867, -0.9673875570297241, 50.64739227294922, -8.834970474243164, 7.7340407371521, 42.68130111694336, 5.737141132354736, -29.65410804748535, 39.530799865722656, 13.641840934753418, 16.180004119873047, 64.87747192382812, -8.46518611907959, -21.984359741210938, -29.642847061157227, -17.19878387451172, -33.42799377441406, 6.290728569030762, 27.195585250854492, -10.192535400390625, 10.919766426086426, -15.393598556518555, 27.802621841430664, -11.718771934509277, 15.609771728515625, -4.613796710968018, -6.409090518951416, 55.00998306274414, 26.814409255981445, 70.8168716430664, -2.881585121154785, -22.96797752380371, 41.58359909057617, -28.886621475219727, -21.551301956176758, 2.8712375164031982, 64.60942840576172, 29.05194664001465, -23.11407470703125, 64.90145874023438, -15.799665451049805, -3.475660562515259, -1.9148181676864624, -1.1313608884811401, 5.75764799118042, -39.831024169921875, -23.22882080078125, 51.75080490112305, -22.486852645874023, 52.168853759765625, -6.800760269165039, -19.560781478881836, 0.959730863571167, 9.424339294433594, 18.326801300048828, -21.994766235351562, 1.1353871822357178, -28.29767608642578, 4.301418781280518, 72.18505859375, 1.7545008659362793, -23.2459774017334, 5.9899773597717285, -20.380475997924805, 4.638885974884033, 55.3571662902832, -12.272381782531738, 32.94237518310547, -18.59066390991211, -14.661310195922852, 8.444546699523926, -12.044838905334473, -8.079388618469238, 7.167541980743408, 31.682247161865234, -13.923328399658203, 15.684369087219238, 4.579721927642822, 38.60857009887695, -19.778676986694336, -8.77421760559082, 59.147003173828125, -2.094007968902588, 11.10306453704834, -27.44330596923828, 69.44644927978516, -37.5504264831543, -9.512984275817871, 19.505512237548828, -10.587696075439453, 17.13374900817871, 20.372222900390625, -3.106537342071533, 57.099609375, -2.3728508949279785, -29.732864379882812, -21.302967071533203, 26.346847534179688, 1.1398872137069702, -14.037492752075195, -11.477484703063965, 56.40896224975586, 9.834041595458984, 13.496857643127441, -5.236797332763672, -19.892215728759766, -26.430234909057617, -36.589637756347656, -48.649879455566406, -32.22700500488281, -13.094538688659668, -0.21307100355625153, -13.220320701599121, 15.836461067199707, -25.830198287963867, -36.5135383605957, -11.158540725708008, -9.818434715270996, -27.65599250793457, -12.830595970153809, -32.85475540161133, -4.952038288116455, -9.887324333190918, -0.017736446112394333], \"y\": [-94.31079864501953, -8.127440452575684, -42.723541259765625, -64.08271789550781, -47.4326057434082, -3.975627899169922, -6.779257297515869, -103.31573486328125, -7.764606475830078, -109.19731140136719, -20.363567352294922, -16.254791259765625, -81.7330551147461, -50.18381881713867, -29.256305694580078, -11.714956283569336, -23.895292282104492, -23.131832122802734, 4.024944305419922, -54.12418746948242, -22.4642391204834, -21.803640365600586, -18.410884857177734, -20.195688247680664, -10.21444034576416, -91.43791961669922, -57.64788818359375, -68.87866973876953, -19.576704025268555, -99.87860870361328, -152.85609436035156, -79.17765045166016, -12.596728324890137, -19.36686897277832, -25.383338928222656, -3.175657033920288, -95.0915298461914, -12.474016189575195, -24.541162490844727, -29.23447036743164, -81.84241485595703, -11.189257621765137, -9.828888893127441, -19.396467208862305, -39.38979721069336, -17.184207916259766, -54.053550720214844, -48.679534912109375, -58.70806884765625, -85.30288696289062, -54.86559295654297, -21.83641815185547, -83.84723663330078, -64.32274627685547, -35.86251449584961, -26.8596248626709, -0.5243138074874878, -28.51039695739746, -11.65538501739502, -83.99498748779297, 274.1855773925781, -6.369892597198486, -53.10678482055664, -93.53221130371094, -98.77470397949219, -1.685512661933899, 1.0680166482925415, -42.48338317871094, -0.5228755474090576, -0.14354512095451355, -70.22358703613281, -1.4806526899337769, -16.84745979309082, -13.916135787963867, 3.4281153678894043, -104.69851684570312, -76.2362060546875, -42.01505661010742, -64.55461883544922, -85.12187194824219, -30.467378616333008, -54.38490295410156, -61.6905403137207, -69.25421905517578, -19.962451934814453, -13.79617691040039, -96.67732238769531, -7.4342265129089355, -89.10631561279297, -7.396439075469971, -4.237171173095703, -14.973152160644531, -13.733412742614746, -46.576744079589844, 65.20294952392578, -3.4408187866210938, -13.185446739196777, -23.181808471679688, -75.92084503173828, -14.015885353088379, -79.97764587402344, -23.167383193969727, -100.27702331542969, -32.54328918457031, -104.59187316894531, -86.38118743896484, -67.74186706542969, -21.770366668701172, -92.65068054199219, -7.836267471313477, -72.18359375, -23.896974563598633, -46.460731506347656, -35.58971405029297, 21.834522247314453, -3.673677921295166, -86.59049224853516, -45.19140625, -54.60584259033203, -11.09814739227295, -30.452880859375, -39.51087951660156, -12.546525001525879, -61.93679428100586, -14.914563179016113, -8.10446834564209, -42.68222427368164, -61.894126892089844, -26.018312454223633, -20.050174713134766], \"z\": [-18.504589080810547, 51.91788101196289, 64.59684753417969, 5.667183876037598, 13.655986785888672, 75.33401489257812, 41.53970718383789, -14.053608894348145, 30.496721267700195, -1.2042292356491089, 52.82830047607422, 41.372493743896484, 41.97880935668945, 53.36270523071289, 43.07291030883789, 77.55404663085938, 41.90449142456055, 35.401065826416016, 47.5363655090332, 38.697059631347656, 69.98446655273438, 48.318687438964844, 31.051542282104492, 70.36421966552734, 55.51244354248047, -16.676359176635742, 32.1788444519043, 10.225138664245605, 66.53981018066406, 10.484458923339844, 101.59523010253906, 35.42953109741211, 75.159423828125, 27.475751876831055, 33.14051818847656, 41.331180572509766, 23.586334228515625, 57.32133102416992, 30.293746948242188, 43.005863189697266, -23.551057815551758, 40.59880828857422, 31.162763595581055, 45.46985626220703, 52.107200622558594, 61.10516357421875, 12.794941902160645, 12.933716773986816, 28.577966690063477, -4.289864540100098, 19.01527214050293, 43.05459213256836, -11.792131423950195, 13.45303726196289, 73.95101928710938, 39.247894287109375, 35.04139709472656, 61.688087463378906, 63.904178619384766, 5.704166889190674, 42.152000427246094, 32.06856918334961, 40.428192138671875, 12.912428855895996, 1.3559519052505493, 54.88180160522461, 63.501625061035156, 30.549686431884766, 46.846214294433594, 52.57501983642578, 26.400182723999023, 41.8170166015625, 60.97930908203125, 31.549558639526367, 39.52590560913086, -14.798225402832031, 15.233962059020996, 20.303442001342773, 0.3469763994216919, 28.82012176513672, 58.74616622924805, 25.8714656829834, 20.33626365661621, 41.26922607421875, 56.30046081542969, 72.06063842773438, -4.153958797454834, 53.41130447387695, 10.169482231140137, 83.5298080444336, 65.31512451171875, 45.78110885620117, 58.57612991333008, 35.388118743896484, 40.76675796508789, 66.78221893310547, 34.72225570678711, 55.76982116699219, 7.345333099365234, 41.50352096557617, 19.968530654907227, 56.36651611328125, -3.7413413524627686, 44.80550765991211, 13.365182876586914, 4.1250128746032715, 25.684541702270508, 53.74049758911133, 17.463153839111328, 65.04706573486328, 49.09834671020508, 80.93531036376953, 18.66373634338379, 29.373035430908203, -66.07452392578125, 47.97087860107422, 19.699058532714844, 26.06000328063965, 50.16353225708008, 49.81449890136719, 28.249727249145508, 52.675907135009766, 29.77172088623047, 39.40587615966797, 44.92150115966797, 43.6094970703125, 39.892738342285156, 15.855016708374023, 72.6108627319336, 86.7029037475586]}, {\"customdata\": [[91], [29], [83], [84], [87], [22], [58], [31], [33], [56], [30], [85], [87], [34], [61], [30], [88], [56], [30], [25], [61], [88], [37], [35], [85], [85], [88], [59], [90], [33], [62], [59], [91], [33], [87], [26], [88], [24], [91], [86], [36], [87], [33], [59], [29], [59], [57], [40], [42], [89], [93], [17], [24], [34], [90], [20], [92], [84], [59], [61], [67], [82], [94], [28], [36], [91], [34], [77], [63], [35], [21], [86], [56], [83], [28], [59], [83], [83], [58], [91], [29], [61], [84], [34], [33], [55], [88], [91], [91], [84], [87], [39], [38], [89], [59], [35], [59], [87], [94], [86], [60], [79], [86], [60], [85], [92], [37], [89], [67], [31], [20], [37], [57], [87], [33], [56], [67], [58], [89], [34], [25], [44], [68], [31], [58], [55], [21], [36], [88], [26], [29], [38], [79], [51], [82], [39], [87], [36], [57], [61], [86], [86], [35], [89], [30], [60], [64]], \"hoverlabel\": {\"namelength\": 0}, \"hovertemplate\": \"Cluster=Cluster 2<br>0=%{x}<br>1=%{y}<br>2=%{z}<br>Feature=%{customdata[0]}\", \"legendgroup\": \"Cluster=Cluster 2\", \"marker\": {\"color\": \"#00cc96\", \"opacity\": 0.7, \"symbol\": \"circle\"}, \"mode\": \"markers\", \"name\": \"Cluster=Cluster 2\", \"scene\": \"scene\", \"showlegend\": true, \"type\": \"scatter3d\", \"x\": [-7.268228054046631, 21.36463165283203, -19.292924880981445, -29.520002365112305, -28.44449806213379, 61.13407516479492, 32.92257308959961, -1.0757849216461182, 22.534311294555664, -31.013797760009766, -7.321887493133545, -20.549266815185547, -20.439544677734375, 14.800374031066895, 34.216712951660156, 10.06063461303711, 21.849435806274414, 1.409146785736084, -24.989290237426758, 13.938962936401367, -36.31496810913086, -14.785283088684082, -31.693490982055664, -22.8652400970459, -9.138978958129883, 26.00020408630371, -9.195898056030273, -18.70403480529785, 13.421165466308594, 19.25212287902832, -5.7090535163879395, -3.621335744857788, 11.156655311584473, 0.5196934342384338, 11.7070951461792, -15.728299140930176, -17.120508193969727, -6.10877799987793, -17.343074798583984, 12.566779136657715, 31.383407592773438, 15.020483016967773, -21.667070388793945, -5.495129108428955, 6.908943176269531, -36.489776611328125, -17.373760223388672, -11.578044891357422, 19.263212203979492, -1.3073238134384155, 37.13722229003906, 29.792526245117188, 16.369234085083008, 38.542259216308594, 23.146713256835938, -18.61945915222168, 5.041810035705566, 36.71879959106445, -34.126869201660156, -5.286597728729248, -18.21044921875, -42.566314697265625, 40.711307525634766, 4.3590240478515625, 29.875078201293945, -13.716383934020996, -6.794463634490967, 25.303558349609375, 8.682260513305664, 22.726533889770508, -30.928752899169922, -7.930209159851074, -19.841449737548828, 106.9903793334961, 6.62141227722168, 21.62995147705078, 25.17505645751953, 12.45528507232666, 25.93259620666504, 15.463873863220215, -41.97289276123047, -14.624052047729492, -7.708415508270264, -6.595240116119385, 15.58421802520752, 1.3369901180267334, 37.812496185302734, -11.36068344116211, 11.582141876220703, 5.736495018005371, 31.446800231933594, 24.911386489868164, 16.852813720703125, 26.28795623779297, 12.83720588684082, 17.79269027709961, -29.160860061645508, 1.0167409181594849, 11.0118408203125, -2.2964484691619873, -30.355201721191406, 3.799455165863037, -17.771678924560547, -18.0314998626709, 26.17087173461914, 3.27117919921875, 12.752015113830566, 4.536862850189209, 20.773103713989258, 12.608088493347168, 12.743480682373047, 2.239647150039673, -19.362239837646484, 12.42586612701416, -617.1321411132812, 0.7335773706436157, -0.2451830357313156, 17.685455322265625, 22.50110626220703, 24.219449996948242, 2.538346767425537, 8.435422897338867, -13.458284378051758, -18.683612823486328, -26.56410026550293, -33.552734375, -42.68391418457031, 34.67442321777344, -3.7224252223968506, 10.081997871398926, 1.4422447681427002, -7.6220703125, 10.992125511169434, 2.368847370147705, -28.855215072631836, 8.008182525634766, 5.243320941925049, 20.52109718322754, 12.296744346618652, -21.697668075561523, 4.389266014099121, -31.0205135345459, -1.6323349475860596, 13.07466983795166, 17.395414352416992, -9.0919828414917, -11.005329132080078], \"y\": [40.22768020629883, 45.16509246826172, 66.4439926147461, 56.767295837402344, 71.44569396972656, -15.762044906616211, 25.899311065673828, 25.479219436645508, 9.998213768005371, 48.419586181640625, 72.36687469482422, 69.5584945678711, 17.844181060791016, 51.553680419921875, 22.5523681640625, 13.038113594055176, 18.565645217895508, 55.89270782470703, 77.3544921875, 30.671043395996094, 69.7835922241211, 56.60711669921875, 76.1629409790039, 67.03044128417969, 62.97811508178711, 11.85399055480957, 9.146963119506836, 85.57075500488281, 23.72987174987793, 52.22243118286133, 52.24402618408203, 66.90166473388672, 26.529563903808594, 48.413578033447266, 42.98015213012695, 74.16616821289062, 57.76370620727539, 24.7342472076416, 52.194881439208984, 40.12134552001953, -22.8972110748291, 10.604369163513184, 62.77092361450195, 13.792013168334961, 20.334692001342773, -46.305870056152344, 37.65020751953125, -6.829367160797119, -4.558470249176025, 48.124324798583984, 35.76392364501953, -0.04331449419260025, 29.813461303710938, 8.453243255615234, 11.447469711303711, 1.7667526006698608, 32.39921569824219, 44.02562713623047, 60.669410705566406, 5.181222438812256, 76.85491180419922, 53.13759994506836, 35.79507827758789, 57.18119812011719, 50.15828323364258, 31.155406951904297, 22.734867095947266, 24.05031394958496, 32.95107650756836, -7.717759609222412, 13.867531776428223, 36.90340042114258, 83.51106262207031, 221.18418884277344, 0.48603731393814087, 26.35832977294922, 23.876150131225586, 44.72891616821289, 23.301074981689453, 40.1663818359375, 59.89622116088867, 50.999847412109375, 60.10835266113281, 26.356060028076172, 29.056306838989258, 37.66731262207031, -26.21461296081543, 78.55841064453125, 23.46766471862793, 36.4306640625, -2.771040678024292, 38.68763732910156, 10.566400527954102, 40.19806671142578, 9.80212116241455, 27.62799644470215, 44.839290618896484, -5.022082805633545, 54.18776321411133, -0.6533212661743164, 77.11083221435547, 35.63117218017578, 3.875558614730835, 71.33251190185547, 34.09123229980469, 26.02073860168457, 39.29920196533203, 8.805981636047363, 36.03300476074219, -0.8565080761909485, 18.810150146484375, 12.226816177368164, 55.159088134765625, 13.845455169677734, -26.24964141845703, 44.16859817504883, 43.537418365478516, 4.768669128417969, 3.3041281700134277, 36.99081802368164, 13.663196563720703, 60.073570251464844, 49.13513946533203, 16.22793960571289, 27.82421112060547, 65.57426452636719, 65.977783203125, 12.748091697692871, 51.70610046386719, 16.438432693481445, 53.770835876464844, 28.84731101989746, 27.690853118896484, 22.583587646484375, 51.870025634765625, 22.948408126831055, 49.79788589477539, 19.46683692932129, 65.40232849121094, 59.69901657104492, 45.240665435791016, 60.43440246582031, 26.80280113220215, 47.474510192871094, 50.462432861328125, 64.85653686523438, 22.694185256958008], \"z\": [-29.89565086364746, 35.268341064453125, 5.034681797027588, 54.61347961425781, 14.459238052368164, -64.41890716552734, -71.79290008544922, -21.421878814697266, -2.7347049713134766, 29.113929748535156, 49.567596435546875, 51.90900421142578, -0.6350798606872559, -30.858779907226562, -85.91851806640625, -35.12731170654297, -80.39889526367188, -27.446849822998047, 62.513275146484375, 6.460747241973877, 53.507450103759766, 52.306697845458984, 27.184825897216797, 27.257482528686523, 24.209747314453125, -91.19151306152344, 2.5431430339813232, 23.763031005859375, 18.233985900878906, -49.53144836425781, 30.60360336303711, 74.3929672241211, -82.80540466308594, -39.86305618286133, -41.051490783691406, 16.54898452758789, 76.82025146484375, -75.35237884521484, 4.044264793395996, -23.162599563598633, -70.59651947021484, 9.703097343444824, 63.70451354980469, 15.782594680786133, -12.207226753234863, -34.59455490112305, 2.8224434852600098, -1.6522070169448853, -93.93889617919922, 10.314154624938965, -61.03517150878906, -82.82473754882812, -6.450567722320557, -89.03942108154297, -69.66276550292969, 7.425785064697266, -67.26832580566406, -71.44574737548828, 22.64293670654297, -9.540517807006836, 35.223968505859375, 32.53517150878906, 26.60733985900879, 22.178462982177734, -59.32727813720703, 18.708742141723633, -60.12431716918945, 11.962733268737793, 26.45439910888672, -106.4546890258789, 6.670957565307617, 9.815476417541504, 47.270729064941406, -24.98419761657715, -16.09331703186035, -91.16355895996094, -60.92848587036133, 23.134902954101562, -0.9372824430465698, -75.84656524658203, 46.48186111450195, 64.79408264160156, 11.563907623291016, -32.87057876586914, -51.583580017089844, -53.15100860595703, -71.7759017944336, 61.385292053222656, -25.02354621887207, 14.061223983764648, -96.87907409667969, -65.6221923828125, -24.632448196411133, -51.91811752319336, -9.847750663757324, -70.47429656982422, 6.212540626525879, -4.9109907150268555, -18.02536964416504, 7.312166690826416, 41.57745361328125, -32.484683990478516, -5.795595169067383, 73.11909484863281, -79.52887725830078, -40.06414794921875, -58.084590911865234, -0.303254634141922, 17.06797981262207, -1.4717780351638794, 0.6886882185935974, -85.1437759399414, 29.419910430908203, -92.73921966552734, 39.238861083984375, -19.859848022460938, 23.49013900756836, -82.41851806640625, -106.01566314697266, 4.151414394378662, -24.944568634033203, -37.961219787597656, 17.606895446777344, 13.21419620513916, 7.9721174240112305, 68.01296997070312, 32.414974212646484, -76.27958679199219, 77.83124542236328, -72.73870086669922, 66.62620544433594, -47.30031967163086, 45.25165939331055, 9.828262329101562, 68.28657531738281, -59.171077728271484, -54.95399856567383, -15.734577178955078, -25.757822036743164, 16.21160888671875, -67.20152282714844, 36.33709716796875, 21.32027244567871, 10.97450065612793, -64.0699462890625, 61.40332794189453, 5.1448774337768555]}, {\"customdata\": [[37], [65], [90], [59], [29], [58], [88], [63], [92], [17], [34], [22], [24], [36], [34], [87], [85], [61], [27], [59], [31], [31], [93], [17], [35], [28], [94], [28], [33], [56], [28], [86], [92], [18], [61], [32], [63], [58], [31], [62], [60], [62], [90], [33], [33], [65], [59], [65], [86], [32], [84], [84], [90], [91], [26], [92], [97], [84], [58], [61], [92], [87], [66], [22], [91], [30], [25], [28], [93], [90], [91], [89]], \"hoverlabel\": {\"namelength\": 0}, \"hovertemplate\": \"Cluster=Cluster 3<br>0=%{x}<br>1=%{y}<br>2=%{z}<br>Feature=%{customdata[0]}\", \"legendgroup\": \"Cluster=Cluster 3\", \"marker\": {\"color\": \"#ab63fa\", \"opacity\": 0.7, \"symbol\": \"circle\"}, \"mode\": \"markers\", \"name\": \"Cluster=Cluster 3\", \"scene\": \"scene\", \"showlegend\": true, \"type\": \"scatter3d\", \"x\": [60.770999908447266, 39.286903381347656, 44.25997543334961, 53.00551986694336, 48.07294464111328, 45.817893981933594, 52.885860443115234, 56.85425567626953, 54.52527618408203, 54.81732940673828, 63.550228118896484, -20.255598068237305, 68.56233978271484, 57.47723388671875, 42.559906005859375, 43.502323150634766, 43.695098876953125, 44.87575912475586, -23.804920196533203, 59.37830352783203, 61.886749267578125, 70.59148406982422, 60.91975784301758, 53.142452239990234, 47.78133773803711, 58.29063034057617, 73.19731140136719, 40.489990234375, 55.81082534790039, 47.428470611572266, 56.33826446533203, 61.193321228027344, 69.34586334228516, 45.57583236694336, 49.895572662353516, 44.294559478759766, 63.23605728149414, 73.62662506103516, 50.47968292236328, 68.01062774658203, 72.70072937011719, 67.41840362548828, 63.43806838989258, 42.17961883544922, 47.77599334716797, 57.325172424316406, 60.54913330078125, 63.376129150390625, 53.176483154296875, 59.34910202026367, 44.1180419921875, 59.857688903808594, 51.05968475341797, 63.9693603515625, 69.79518127441406, 70.27596282958984, 53.40421676635742, 61.11759948730469, 51.143131256103516, 67.41384887695312, 57.41185760498047, 47.81199264526367, 50.72499084472656, 67.5486068725586, 59.41139602661133, 65.85612487792969, 54.145381927490234, 61.852027893066406, 46.83937072753906, 61.16095733642578, 54.61343002319336, 63.87644958496094], \"y\": [3.780871629714966, 50.25434875488281, 36.620391845703125, -7.779627323150635, 46.5850830078125, 22.493642807006836, -21.26862144470215, 37.48295593261719, -18.210956573486328, 28.890865325927734, 4.970180988311768, 27.552555084228516, 15.060906410217285, 66.06190490722656, 19.66018295288086, -0.3348616659641266, -13.042878150939941, -9.279176712036133, 24.560409545898438, 16.34834861755371, 18.401107788085938, 44.084716796875, 27.686328887939453, 15.36860179901123, 53.00635528564453, 26.919700622558594, 51.39339065551758, 41.90008544921875, 15.151944160461426, 31.46714973449707, -4.156571865081787, 4.571094989776611, -0.4614693522453308, 3.108112096786499, 4.891897201538086, 17.419902801513672, 5.627233505249023, 10.964473724365234, 10.62621021270752, 27.018482208251953, -0.7243200540542603, 26.45341682434082, 1.3537209033966064, 35.24938201904297, 28.580413818359375, 17.00397300720215, 59.206207275390625, 11.501612663269043, 40.114051818847656, 40.144561767578125, 62.723731994628906, 51.05290222167969, 46.21577453613281, -13.291487693786621, 61.41722869873047, 13.622373580932617, 10.064620018005371, 27.40852928161621, 17.591453552246094, 30.894012451171875, 6.1961517333984375, 57.57721710205078, 45.77542495727539, 14.053654670715332, 71.95762634277344, -10.9581937789917, 31.466588973999023, 39.857357025146484, 5.347281455993652, 54.295562744140625, -5.607242584228516, 39.07260513305664], \"z\": [61.22270202636719, 51.2786750793457, 1.2046775817871094, -47.089168548583984, -8.203126907348633, 0.03707053139805794, -43.50209045410156, -1.641165852546692, -29.247819900512695, 8.483284950256348, 32.98760223388672, 56.531410217285156, 57.96514129638672, -3.3648180961608887, -19.142892837524414, -41.00799560546875, -36.76942443847656, -23.02079963684082, 71.47113800048828, 1.1314929723739624, 38.50644302368164, -3.276313066482544, 61.25053787231445, 62.91874694824219, 59.70663070678711, -24.60141944885254, 9.667288780212402, 61.70402908325195, -22.8233585357666, -11.906991004943848, -19.20375633239746, -28.88038444519043, -18.431886672973633, -27.972963333129883, 52.321311950683594, 50.39271926879883, 47.920841217041016, 42.464691162109375, 36.22277069091797, 2.7781689167022705, -33.02084732055664, 49.15300750732422, -43.38423538208008, 50.32954025268555, 60.1992301940918, 50.525177001953125, 13.4518404006958, -12.807480812072754, 63.565311431884766, -14.573586463928223, 6.948814392089844, 1.8196135759353638, 10.792590141296387, -40.02838897705078, 0.8309887647628784, -24.62794303894043, -38.416168212890625, -8.956655502319336, -10.088221549987793, -11.965410232543945, 84.69310760498047, 3.174616575241089, 49.784976959228516, -38.8939208984375, 9.122544288635254, -26.385831832885742, 48.110939025878906, 54.01345443725586, -13.158343315124512, -10.910431861877441, -33.7952880859375, 9.736044883728027]}],\n",
              "                        {\"height\": 800, \"legend\": {\"tracegroupgap\": 0}, \"scene\": {\"domain\": {\"x\": [0.0, 1.0], \"y\": [0.0, 1.0]}, \"xaxis\": {\"title\": {\"text\": \"0\"}}, \"yaxis\": {\"title\": {\"text\": \"1\"}}, \"zaxis\": {\"title\": {\"text\": \"2\"}}}, \"template\": {\"data\": {\"bar\": [{\"error_x\": {\"color\": \"#2a3f5f\"}, \"error_y\": {\"color\": \"#2a3f5f\"}, \"marker\": {\"line\": {\"color\": \"#E5ECF6\", \"width\": 0.5}}, \"type\": \"bar\"}], \"barpolar\": [{\"marker\": {\"line\": {\"color\": \"#E5ECF6\", \"width\": 0.5}}, \"type\": \"barpolar\"}], \"carpet\": [{\"aaxis\": {\"endlinecolor\": \"#2a3f5f\", \"gridcolor\": \"white\", \"linecolor\": \"white\", \"minorgridcolor\": \"white\", \"startlinecolor\": \"#2a3f5f\"}, \"baxis\": {\"endlinecolor\": \"#2a3f5f\", \"gridcolor\": \"white\", \"linecolor\": \"white\", \"minorgridcolor\": \"white\", \"startlinecolor\": \"#2a3f5f\"}, \"type\": \"carpet\"}], \"choropleth\": [{\"colorbar\": {\"outlinewidth\": 0, \"ticks\": \"\"}, \"type\": \"choropleth\"}], \"contour\": [{\"colorbar\": {\"outlinewidth\": 0, \"ticks\": \"\"}, \"colorscale\": [[0.0, \"#0d0887\"], [0.1111111111111111, \"#46039f\"], [0.2222222222222222, \"#7201a8\"], [0.3333333333333333, \"#9c179e\"], [0.4444444444444444, \"#bd3786\"], [0.5555555555555556, \"#d8576b\"], [0.6666666666666666, \"#ed7953\"], [0.7777777777777778, \"#fb9f3a\"], [0.8888888888888888, \"#fdca26\"], [1.0, \"#f0f921\"]], \"type\": \"contour\"}], \"contourcarpet\": [{\"colorbar\": {\"outlinewidth\": 0, \"ticks\": \"\"}, \"type\": \"contourcarpet\"}], \"heatmap\": [{\"colorbar\": {\"outlinewidth\": 0, \"ticks\": \"\"}, \"colorscale\": [[0.0, \"#0d0887\"], [0.1111111111111111, \"#46039f\"], [0.2222222222222222, \"#7201a8\"], [0.3333333333333333, \"#9c179e\"], [0.4444444444444444, \"#bd3786\"], [0.5555555555555556, \"#d8576b\"], [0.6666666666666666, \"#ed7953\"], [0.7777777777777778, \"#fb9f3a\"], [0.8888888888888888, \"#fdca26\"], [1.0, \"#f0f921\"]], \"type\": \"heatmap\"}], \"heatmapgl\": [{\"colorbar\": {\"outlinewidth\": 0, \"ticks\": \"\"}, \"colorscale\": [[0.0, \"#0d0887\"], [0.1111111111111111, \"#46039f\"], [0.2222222222222222, \"#7201a8\"], [0.3333333333333333, \"#9c179e\"], [0.4444444444444444, \"#bd3786\"], [0.5555555555555556, \"#d8576b\"], [0.6666666666666666, \"#ed7953\"], [0.7777777777777778, \"#fb9f3a\"], [0.8888888888888888, \"#fdca26\"], [1.0, \"#f0f921\"]], \"type\": \"heatmapgl\"}], \"histogram\": [{\"marker\": {\"colorbar\": {\"outlinewidth\": 0, \"ticks\": \"\"}}, \"type\": \"histogram\"}], \"histogram2d\": [{\"colorbar\": {\"outlinewidth\": 0, \"ticks\": \"\"}, \"colorscale\": [[0.0, \"#0d0887\"], [0.1111111111111111, \"#46039f\"], [0.2222222222222222, \"#7201a8\"], [0.3333333333333333, \"#9c179e\"], [0.4444444444444444, \"#bd3786\"], [0.5555555555555556, \"#d8576b\"], [0.6666666666666666, \"#ed7953\"], [0.7777777777777778, \"#fb9f3a\"], [0.8888888888888888, \"#fdca26\"], [1.0, \"#f0f921\"]], \"type\": \"histogram2d\"}], \"histogram2dcontour\": [{\"colorbar\": {\"outlinewidth\": 0, \"ticks\": \"\"}, \"colorscale\": [[0.0, \"#0d0887\"], [0.1111111111111111, \"#46039f\"], [0.2222222222222222, \"#7201a8\"], [0.3333333333333333, \"#9c179e\"], [0.4444444444444444, \"#bd3786\"], [0.5555555555555556, \"#d8576b\"], [0.6666666666666666, \"#ed7953\"], [0.7777777777777778, \"#fb9f3a\"], [0.8888888888888888, \"#fdca26\"], [1.0, \"#f0f921\"]], \"type\": \"histogram2dcontour\"}], \"mesh3d\": [{\"colorbar\": {\"outlinewidth\": 0, \"ticks\": \"\"}, \"type\": \"mesh3d\"}], \"parcoords\": [{\"line\": {\"colorbar\": {\"outlinewidth\": 0, \"ticks\": \"\"}}, \"type\": \"parcoords\"}], \"pie\": [{\"automargin\": true, \"type\": \"pie\"}], \"scatter\": [{\"marker\": {\"colorbar\": {\"outlinewidth\": 0, \"ticks\": \"\"}}, \"type\": \"scatter\"}], \"scatter3d\": [{\"line\": {\"colorbar\": {\"outlinewidth\": 0, \"ticks\": \"\"}}, \"marker\": {\"colorbar\": {\"outlinewidth\": 0, \"ticks\": \"\"}}, \"type\": \"scatter3d\"}], \"scattercarpet\": [{\"marker\": {\"colorbar\": {\"outlinewidth\": 0, \"ticks\": \"\"}}, \"type\": \"scattercarpet\"}], \"scattergeo\": [{\"marker\": {\"colorbar\": {\"outlinewidth\": 0, \"ticks\": \"\"}}, \"type\": \"scattergeo\"}], \"scattergl\": [{\"marker\": {\"colorbar\": {\"outlinewidth\": 0, \"ticks\": \"\"}}, \"type\": \"scattergl\"}], \"scattermapbox\": [{\"marker\": {\"colorbar\": {\"outlinewidth\": 0, \"ticks\": \"\"}}, \"type\": \"scattermapbox\"}], \"scatterpolar\": [{\"marker\": {\"colorbar\": {\"outlinewidth\": 0, \"ticks\": \"\"}}, \"type\": \"scatterpolar\"}], \"scatterpolargl\": [{\"marker\": {\"colorbar\": {\"outlinewidth\": 0, \"ticks\": \"\"}}, \"type\": \"scatterpolargl\"}], \"scatterternary\": [{\"marker\": {\"colorbar\": {\"outlinewidth\": 0, \"ticks\": \"\"}}, \"type\": \"scatterternary\"}], \"surface\": [{\"colorbar\": {\"outlinewidth\": 0, \"ticks\": \"\"}, \"colorscale\": [[0.0, \"#0d0887\"], [0.1111111111111111, \"#46039f\"], [0.2222222222222222, \"#7201a8\"], [0.3333333333333333, \"#9c179e\"], [0.4444444444444444, \"#bd3786\"], [0.5555555555555556, \"#d8576b\"], [0.6666666666666666, \"#ed7953\"], [0.7777777777777778, \"#fb9f3a\"], [0.8888888888888888, \"#fdca26\"], [1.0, \"#f0f921\"]], \"type\": \"surface\"}], \"table\": [{\"cells\": {\"fill\": {\"color\": \"#EBF0F8\"}, \"line\": {\"color\": \"white\"}}, \"header\": {\"fill\": {\"color\": \"#C8D4E3\"}, \"line\": {\"color\": \"white\"}}, \"type\": \"table\"}]}, \"layout\": {\"annotationdefaults\": {\"arrowcolor\": \"#2a3f5f\", \"arrowhead\": 0, \"arrowwidth\": 1}, \"coloraxis\": {\"colorbar\": {\"outlinewidth\": 0, \"ticks\": \"\"}}, \"colorscale\": {\"diverging\": [[0, \"#8e0152\"], [0.1, \"#c51b7d\"], [0.2, \"#de77ae\"], [0.3, \"#f1b6da\"], [0.4, \"#fde0ef\"], [0.5, \"#f7f7f7\"], [0.6, \"#e6f5d0\"], [0.7, \"#b8e186\"], [0.8, \"#7fbc41\"], [0.9, \"#4d9221\"], [1, \"#276419\"]], \"sequential\": [[0.0, \"#0d0887\"], [0.1111111111111111, \"#46039f\"], [0.2222222222222222, \"#7201a8\"], [0.3333333333333333, \"#9c179e\"], [0.4444444444444444, \"#bd3786\"], [0.5555555555555556, \"#d8576b\"], [0.6666666666666666, \"#ed7953\"], [0.7777777777777778, \"#fb9f3a\"], [0.8888888888888888, \"#fdca26\"], [1.0, \"#f0f921\"]], \"sequentialminus\": [[0.0, \"#0d0887\"], [0.1111111111111111, \"#46039f\"], [0.2222222222222222, \"#7201a8\"], [0.3333333333333333, \"#9c179e\"], [0.4444444444444444, \"#bd3786\"], [0.5555555555555556, \"#d8576b\"], [0.6666666666666666, \"#ed7953\"], [0.7777777777777778, \"#fb9f3a\"], [0.8888888888888888, \"#fdca26\"], [1.0, \"#f0f921\"]]}, \"colorway\": [\"#636efa\", \"#EF553B\", \"#00cc96\", \"#ab63fa\", \"#FFA15A\", \"#19d3f3\", \"#FF6692\", \"#B6E880\", \"#FF97FF\", \"#FECB52\"], \"font\": {\"color\": \"#2a3f5f\"}, \"geo\": {\"bgcolor\": \"white\", \"lakecolor\": \"white\", \"landcolor\": \"#E5ECF6\", \"showlakes\": true, \"showland\": true, \"subunitcolor\": \"white\"}, \"hoverlabel\": {\"align\": \"left\"}, \"hovermode\": \"closest\", \"mapbox\": {\"style\": \"light\"}, \"paper_bgcolor\": \"white\", \"plot_bgcolor\": \"#E5ECF6\", \"polar\": {\"angularaxis\": {\"gridcolor\": \"white\", \"linecolor\": \"white\", \"ticks\": \"\"}, \"bgcolor\": \"#E5ECF6\", \"radialaxis\": {\"gridcolor\": \"white\", \"linecolor\": \"white\", \"ticks\": \"\"}}, \"scene\": {\"xaxis\": {\"backgroundcolor\": \"#E5ECF6\", \"gridcolor\": \"white\", \"gridwidth\": 2, \"linecolor\": \"white\", \"showbackground\": true, \"ticks\": \"\", \"zerolinecolor\": \"white\"}, \"yaxis\": {\"backgroundcolor\": \"#E5ECF6\", \"gridcolor\": \"white\", \"gridwidth\": 2, \"linecolor\": \"white\", \"showbackground\": true, \"ticks\": \"\", \"zerolinecolor\": \"white\"}, \"zaxis\": {\"backgroundcolor\": \"#E5ECF6\", \"gridcolor\": \"white\", \"gridwidth\": 2, \"linecolor\": \"white\", \"showbackground\": true, \"ticks\": \"\", \"zerolinecolor\": \"white\"}}, \"shapedefaults\": {\"line\": {\"color\": \"#2a3f5f\"}}, \"ternary\": {\"aaxis\": {\"gridcolor\": \"white\", \"linecolor\": \"white\", \"ticks\": \"\"}, \"baxis\": {\"gridcolor\": \"white\", \"linecolor\": \"white\", \"ticks\": \"\"}, \"bgcolor\": \"#E5ECF6\", \"caxis\": {\"gridcolor\": \"white\", \"linecolor\": \"white\", \"ticks\": \"\"}}, \"title\": {\"x\": 0.05}, \"xaxis\": {\"automargin\": true, \"gridcolor\": \"white\", \"linecolor\": \"white\", \"ticks\": \"\", \"title\": {\"standoff\": 15}, \"zerolinecolor\": \"white\", \"zerolinewidth\": 2}, \"yaxis\": {\"automargin\": true, \"gridcolor\": \"white\", \"linecolor\": \"white\", \"ticks\": \"\", \"title\": {\"standoff\": 15}, \"zerolinecolor\": \"white\", \"zerolinewidth\": 2}}}, \"title\": {\"text\": \"3d TSNE Plot for Clusters\"}, \"width\": 900},\n",
              "                        {\"responsive\": true}\n",
              "                    ).then(function(){\n",
              "                            \n",
              "var gd = document.getElementById('a4f00720-17ee-4375-9667-419dd96d29b7');\n",
              "var x = new MutationObserver(function (mutations, observer) {{\n",
              "        var display = window.getComputedStyle(gd).display;\n",
              "        if (!display || display === 'none') {{\n",
              "            console.log([gd, 'removed!']);\n",
              "            Plotly.purge(gd);\n",
              "            observer.disconnect();\n",
              "        }}\n",
              "}});\n",
              "\n",
              "// Listen for the removal of the full notebook cells\n",
              "var notebookContainer = gd.closest('#notebook-container');\n",
              "if (notebookContainer) {{\n",
              "    x.observe(notebookContainer, {childList: true});\n",
              "}}\n",
              "\n",
              "// Listen for the clearing of the current output cell\n",
              "var outputEl = gd.closest('.output');\n",
              "if (outputEl) {{\n",
              "    x.observe(outputEl, {childList: true});\n",
              "}}\n",
              "\n",
              "                        })\n",
              "                };\n",
              "                });\n",
              "            </script>\n",
              "        </div>"
            ],
            "application/vnd.plotly.v1+json": {
              "data": [
                {
                  "hovertemplate": "Cluster=Cluster 0<br>0=%{x}<br>1=%{y}<br>2=%{z}<br>Feature=%{customdata[0]}",
                  "showlegend": true,
                  "legendgroup": "Cluster=Cluster 0",
                  "name": "Cluster=Cluster 0",
                  "customdata": [
                    [
                      58
                    ],
                    [
                      59
                    ],
                    [
                      62
                    ],
                    [
                      59
                    ],
                    [
                      87
                    ],
                    [
                      29
                    ],
                    [
                      54
                    ],
                    [
                      87
                    ],
                    [
                      83
                    ],
                    [
                      84
                    ],
                    [
                      85
                    ],
                    [
                      36
                    ],
                    [
                      30
                    ],
                    [
                      31
                    ],
                    [
                      61
                    ],
                    [
                      92
                    ],
                    [
                      55
                    ],
                    [
                      87
                    ],
                    [
                      82
                    ],
                    [
                      88
                    ],
                    [
                      30
                    ],
                    [
                      84
                    ],
                    [
                      53
                    ],
                    [
                      91
                    ],
                    [
                      89
                    ],
                    [
                      30
                    ],
                    [
                      17
                    ],
                    [
                      55
                    ],
                    [
                      90
                    ],
                    [
                      61
                    ],
                    [
                      59
                    ],
                    [
                      59
                    ],
                    [
                      88
                    ],
                    [
                      56
                    ],
                    [
                      33
                    ],
                    [
                      61
                    ],
                    [
                      84
                    ],
                    [
                      61
                    ],
                    [
                      39
                    ],
                    [
                      31
                    ],
                    [
                      60
                    ],
                    [
                      87
                    ],
                    [
                      20
                    ],
                    [
                      57
                    ],
                    [
                      61
                    ],
                    [
                      18
                    ],
                    [
                      83
                    ],
                    [
                      25
                    ],
                    [
                      31
                    ],
                    [
                      55
                    ],
                    [
                      84
                    ],
                    [
                      36
                    ],
                    [
                      27
                    ],
                    [
                      91
                    ],
                    [
                      53
                    ],
                    [
                      91
                    ],
                    [
                      25
                    ],
                    [
                      83
                    ],
                    [
                      87
                    ],
                    [
                      90
                    ],
                    [
                      83
                    ],
                    [
                      83
                    ],
                    [
                      83
                    ],
                    [
                      61
                    ],
                    [
                      64
                    ],
                    [
                      62
                    ],
                    [
                      91
                    ],
                    [
                      28
                    ],
                    [
                      23
                    ],
                    [
                      55
                    ],
                    [
                      58
                    ],
                    [
                      31
                    ],
                    [
                      83
                    ],
                    [
                      91
                    ],
                    [
                      30
                    ],
                    [
                      57
                    ],
                    [
                      33
                    ],
                    [
                      59
                    ],
                    [
                      58
                    ],
                    [
                      29
                    ],
                    [
                      59
                    ],
                    [
                      84
                    ],
                    [
                      64
                    ],
                    [
                      87
                    ],
                    [
                      88
                    ],
                    [
                      35
                    ],
                    [
                      34
                    ],
                    [
                      58
                    ],
                    [
                      56
                    ],
                    [
                      63
                    ],
                    [
                      58
                    ],
                    [
                      60
                    ],
                    [
                      24
                    ],
                    [
                      94
                    ],
                    [
                      58
                    ],
                    [
                      25
                    ],
                    [
                      36
                    ],
                    [
                      62
                    ],
                    [
                      66
                    ],
                    [
                      37
                    ],
                    [
                      27
                    ],
                    [
                      24
                    ],
                    [
                      31
                    ],
                    [
                      23
                    ],
                    [
                      34
                    ],
                    [
                      88
                    ],
                    [
                      89
                    ],
                    [
                      32
                    ],
                    [
                      38
                    ],
                    [
                      57
                    ],
                    [
                      90
                    ],
                    [
                      33
                    ],
                    [
                      66
                    ],
                    [
                      35
                    ],
                    [
                      31
                    ],
                    [
                      35
                    ],
                    [
                      63
                    ],
                    [
                      30
                    ],
                    [
                      22
                    ],
                    [
                      84
                    ],
                    [
                      28
                    ],
                    [
                      88
                    ],
                    [
                      84
                    ],
                    [
                      88
                    ],
                    [
                      35
                    ],
                    [
                      82
                    ],
                    [
                      64
                    ],
                    [
                      91
                    ],
                    [
                      62
                    ],
                    [
                      62
                    ],
                    [
                      34
                    ],
                    [
                      60
                    ],
                    [
                      32
                    ],
                    [
                      65
                    ],
                    [
                      24
                    ],
                    [
                      88
                    ],
                    [
                      82
                    ],
                    [
                      26
                    ],
                    [
                      60
                    ],
                    [
                      31
                    ],
                    [
                      85
                    ],
                    [
                      63
                    ],
                    [
                      56
                    ],
                    [
                      28
                    ],
                    [
                      58
                    ],
                    [
                      26
                    ],
                    [
                      62
                    ],
                    [
                      86
                    ],
                    [
                      56
                    ],
                    [
                      91
                    ],
                    [
                      59
                    ],
                    [
                      28
                    ],
                    [
                      85
                    ],
                    [
                      65
                    ],
                    [
                      94
                    ],
                    [
                      86
                    ]
                  ],
                  "scene": "scene",
                  "y": [
                    -43.6505012512207,
                    -50.42153549194336,
                    -35.746341705322266,
                    16.21699333190918,
                    39.12757873535156,
                    37.2243537902832,
                    -61.123775482177734,
                    14.38869857788086,
                    44.55978012084961,
                    108.75724029541016,
                    43.845455169677734,
                    -26.893306732177734,
                    48.19221496582031,
                    -53.488861083984375,
                    -41.21673583984375,
                    39.486167907714844,
                    -22.240737915039062,
                    -35.97947311401367,
                    -24.380701065063477,
                    -49.06689453125,
                    22.49556541442871,
                    -47.54952621459961,
                    42.11538314819336,
                    -13.9802885055542,
                    -51.983150482177734,
                    -28.449052810668945,
                    -25.089794158935547,
                    -19.509510040283203,
                    -13.313164710998535,
                    25.036054611206055,
                    39.08269119262695,
                    56.1754150390625,
                    -1.7759909629821777,
                    38.8432731628418,
                    -13.371542930603027,
                    -41.013343811035156,
                    -41.872501373291016,
                    -30.62333869934082,
                    -14.64151382446289,
                    -2.250434160232544,
                    -0.6540100574493408,
                    28.260452270507812,
                    51.083919525146484,
                    3.877973794937134,
                    -43.946807861328125,
                    -35.505531311035156,
                    2.1994199752807617,
                    23.46613311767578,
                    11.821730613708496,
                    -52.978206634521484,
                    24.84129524230957,
                    -15.005020141601562,
                    -53.45387649536133,
                    0.3594372868537903,
                    -42.75597381591797,
                    -25.148012161254883,
                    -8.623612403869629,
                    35.638336181640625,
                    12.480469703674316,
                    47.04176330566406,
                    -5.628372669219971,
                    -18.198436737060547,
                    -51.637664794921875,
                    -25.497154235839844,
                    43.97355270385742,
                    2.7883260250091553,
                    20.53726577758789,
                    -57.567962646484375,
                    -38.50004577636719,
                    -39.950531005859375,
                    7.292981147766113,
                    35.10707473754883,
                    -10.701292037963867,
                    -22.30476951599121,
                    -3.350493907928467,
                    -11.0541410446167,
                    52.51715087890625,
                    4.524798393249512,
                    -24.82897186279297,
                    -18.906150817871094,
                    -8.360618591308594,
                    -8.011104583740234,
                    -30.18045425415039,
                    -53.171592712402344,
                    -32.509056091308594,
                    -12.255483627319336,
                    18.37577247619629,
                    -42.251625061035156,
                    -39.40388488769531,
                    20.713281631469727,
                    -15.147685050964355,
                    -52.918434143066406,
                    -14.491328239440918,
                    -42.4303092956543,
                    -7.183036804199219,
                    -26.388586044311523,
                    -51.375667572021484,
                    -5.192615985870361,
                    35.559139251708984,
                    14.293680191040039,
                    -1.8562031984329224,
                    20.505985260009766,
                    17.145532608032227,
                    -45.11260986328125,
                    -56.45012283325195,
                    -33.81778335571289,
                    -43.83478927612305,
                    -33.62128448486328,
                    -11.56479549407959,
                    -23.460920333862305,
                    22.410791397094727,
                    -38.07188034057617,
                    -28.83637809753418,
                    -2.843502998352051,
                    -6.068423271179199,
                    -1.1580212116241455,
                    -3.363633155822754,
                    -25.616968154907227,
                    -64.4774169921875,
                    33.39514923095703,
                    -9.877083778381348,
                    0.7593560814857483,
                    31.418437957763672,
                    -47.953758239746094,
                    -37.92220687866211,
                    -40.326629638671875,
                    -6.860122203826904,
                    -2.2180898189544678,
                    -14.798910140991211,
                    -54.572669982910156,
                    -44.68068313598633,
                    -50.7352294921875,
                    51.38066864013672,
                    51.97056579589844,
                    -43.346866607666016,
                    -36.16395950317383,
                    -23.573143005371094,
                    -10.90355110168457,
                    -39.64164352416992,
                    -12.964726448059082,
                    -18.306737899780273,
                    -41.90114974975586,
                    -13.424814224243164,
                    -40.81439971923828,
                    45.8587646484375,
                    -30.690357208251953,
                    -2.273035764694214,
                    -12.445778846740723,
                    -32.08735275268555,
                    31.397117614746094,
                    -16.31924819946289,
                    -11.750245094299316,
                    -10.691268920898438,
                    -22.476896286010742,
                    -30.309953689575195,
                    -31.901653289794922
                  ],
                  "hoverlabel": {
                    "namelength": 0
                  },
                  "mode": "markers",
                  "marker": {
                    "color": "#636efa",
                    "opacity": 0.7,
                    "symbol": "circle"
                  },
                  "x": [
                    9.275083541870117,
                    39.287109375,
                    -14.331385612487793,
                    -75.44612884521484,
                    -50.676387786865234,
                    -83.20789337158203,
                    38.78008270263672,
                    -74.51852416992188,
                    -55.56905746459961,
                    -79.79391479492188,
                    -45.01557540893555,
                    -13.449363708496094,
                    -39.960166931152344,
                    -4.832878112792969,
                    -54.778594970703125,
                    -81.43785095214844,
                    -45.62830352783203,
                    10.589218139648438,
                    -64.8038558959961,
                    -0.3981330990791321,
                    -20.681154251098633,
                    -11.720941543579102,
                    -45.51243591308594,
                    -13.271370887756348,
                    -7.08367395401001,
                    -53.96049118041992,
                    -11.832504272460938,
                    -40.940467834472656,
                    -70.69525909423828,
                    -82.23457336425781,
                    -56.83842086791992,
                    -64.1657943725586,
                    -63.282718658447266,
                    -72.99392700195312,
                    -65.5208969116211,
                    16.97570037841797,
                    43.82209396362305,
                    2.1215567588806152,
                    -49.676856994628906,
                    -60.871673583984375,
                    -85.69921875,
                    -73.79751586914062,
                    83.21661376953125,
                    -78.71088409423828,
                    29.78127670288086,
                    -3.9586992263793945,
                    -72.77482604980469,
                    -30.10023307800293,
                    -53.27962112426758,
                    21.024930953979492,
                    -59.34228515625,
                    -56.082210540771484,
                    51.825531005859375,
                    -57.17375564575195,
                    20.732765197753906,
                    -43.27191162109375,
                    -62.400089263916016,
                    -38.42058563232422,
                    -87.03853607177734,
                    -69.49156188964844,
                    -34.73439407348633,
                    -33.85822296142578,
                    13.867709159851074,
                    -24.199661254882812,
                    -64.53193664550781,
                    -50.701961517333984,
                    -60.99384307861328,
                    10.031450271606445,
                    44.13310623168945,
                    76.63326263427734,
                    -65.61060333251953,
                    -60.793357849121094,
                    -39.85968780517578,
                    -59.79555130004883,
                    -58.074249267578125,
                    -11.056745529174805,
                    -61.46929931640625,
                    -83.08525085449219,
                    59.462486267089844,
                    -63.36274337768555,
                    -62.93329620361328,
                    -47.683658599853516,
                    39.94144058227539,
                    0.9185507893562317,
                    23.61204719543457,
                    -73.66747283935547,
                    -33.0335578918457,
                    2.7496819496154785,
                    -9.60532283782959,
                    -3.38130521774292,
                    -48.84687805175781,
                    27.02108383178711,
                    81.93274688720703,
                    26.822898864746094,
                    -67.18196105957031,
                    -74.37763977050781,
                    26.80851173400879,
                    -39.553985595703125,
                    -66.62649536132812,
                    -40.03030014038086,
                    -46.046688079833984,
                    -72.9164810180664,
                    -86.86123657226562,
                    38.320106506347656,
                    10.25438117980957,
                    32.008731842041016,
                    -72.18144226074219,
                    11.968477249145508,
                    -30.888568878173828,
                    -53.35307312011719,
                    -61.481807708740234,
                    30.652679443359375,
                    19.416610717773438,
                    -26.298625946044922,
                    -68.42403411865234,
                    -19.349855422973633,
                    -6.315888404846191,
                    -6.1605987548828125,
                    44.577491760253906,
                    -67.11869049072266,
                    -5.786337375640869,
                    -31.955291748046875,
                    -79.88094329833984,
                    12.709980964660645,
                    -65.17610931396484,
                    -0.40075480937957764,
                    -69.2868423461914,
                    -50.168418884277344,
                    -1.7712814807891846,
                    38.824851989746094,
                    3.5408871173858643,
                    50.213966369628906,
                    -53.34176254272461,
                    -51.93800354003906,
                    34.27660369873047,
                    -45.636436462402344,
                    -58.186988830566406,
                    -14.839988708496094,
                    20.273475646972656,
                    -50.67181396484375,
                    -71.19547271728516,
                    20.35434341430664,
                    -31.590320587158203,
                    -14.109532356262207,
                    -72.0093765258789,
                    26.982887268066406,
                    -18.362804412841797,
                    -59.282814025878906,
                    8.797500610351562,
                    -51.34768295288086,
                    -17.75640296936035,
                    -54.64410400390625,
                    -26.717220306396484,
                    -27.10152816772461,
                    -36.16632843017578,
                    -63.834529876708984
                  ],
                  "z": [
                    -37.04490661621094,
                    -3.1397600173950195,
                    -46.387168884277344,
                    13.914770126342773,
                    -36.434879302978516,
                    -36.83058166503906,
                    -16.02251625061035,
                    0.5689827799797058,
                    -9.552050590515137,
                    58.56304931640625,
                    -20.313783645629883,
                    -33.5568962097168,
                    -36.88107681274414,
                    -25.561277389526367,
                    -1.6692407131195068,
                    -8.374533653259277,
                    -40.860504150390625,
                    -25.218801498413086,
                    12.049302101135254,
                    -29.400981903076172,
                    37.22201156616211,
                    -41.9359130859375,
                    -49.14775466918945,
                    -42.19300079345703,
                    -53.258514404296875,
                    4.493100643157959,
                    -69.73165893554688,
                    -70.17918395996094,
                    -47.232051849365234,
                    5.900119304656982,
                    -22.60040855407715,
                    -32.312896728515625,
                    -43.75899124145508,
                    2.507852554321289,
                    -30.469327926635742,
                    -2.6841647624969482,
                    6.500297546386719,
                    -63.518226623535156,
                    -28.410985946655273,
                    6.937554836273193,
                    7.281917572021484,
                    -4.862975120544434,
                    50.379730224609375,
                    18.27311897277832,
                    3.97149658203125,
                    -37.044403076171875,
                    6.295541286468506,
                    -18.860445022583008,
                    9.941452980041504,
                    -38.12784957885742,
                    -18.459619522094727,
                    9.58670425415039,
                    2.4617767333984375,
                    -11.19664192199707,
                    -30.579875946044922,
                    -24.565656661987305,
                    42.56202697753906,
                    -41.29447937011719,
                    7.219446659088135,
                    -9.345970153808594,
                    -29.567943572998047,
                    -32.07758712768555,
                    -22.29720687866211,
                    -62.99313735961914,
                    -36.69449996948242,
                    34.82164764404297,
                    16.773677825927734,
                    -33.36998748779297,
                    -7.626999378204346,
                    5.501298904418945,
                    17.239543914794922,
                    -1.3588117361068726,
                    -41.63991928100586,
                    -22.426799774169922,
                    -26.81474494934082,
                    -29.4638671875,
                    -19.886323928833008,
                    -5.280165672302246,
                    -2.1998677253723145,
                    -0.12964589893817902,
                    -55.29253387451172,
                    -16.76416778564453,
                    84.90510559082031,
                    -43.00495529174805,
                    -36.59150695800781,
                    6.454466342926025,
                    -19.198217391967773,
                    -14.985152244567871,
                    -58.65370178222656,
                    84.5847396850586,
                    -52.92277526855469,
                    -26.07589340209961,
                    -0.9984210133552551,
                    -45.90105056762695,
                    -3.6938974857330322,
                    3.204874038696289,
                    -10.083287239074707,
                    -60.43868637084961,
                    -14.21951675415039,
                    27.320114135742188,
                    -34.96562957763672,
                    -15.033470153808594,
                    -5.54018497467041,
                    -20.128721237182617,
                    -74.54373931884766,
                    -22.61085319519043,
                    0.7206060290336609,
                    -50.02308654785156,
                    -69.58148193359375,
                    -9.584218978881836,
                    -5.151469707489014,
                    -9.761820793151855,
                    -15.065821647644043,
                    -61.37922668457031,
                    17.238168716430664,
                    -33.8516845703125,
                    -42.191402435302734,
                    -53.94459533691406,
                    3.8280203342437744,
                    -28.94924545288086,
                    -54.95432662963867,
                    -42.5555534362793,
                    -18.154247283935547,
                    -50.45541763305664,
                    9.260154724121094,
                    -48.133846282958984,
                    -19.099645614624023,
                    -49.6236572265625,
                    -37.259185791015625,
                    10.448925971984863,
                    -59.53190994262695,
                    15.106561660766602,
                    -42.2670783996582,
                    -29.02570343017578,
                    -35.02226257324219,
                    -8.666043281555176,
                    -35.76219177246094,
                    -68.3904800415039,
                    -57.15559387207031,
                    -2.468637704849243,
                    -11.578137397766113,
                    -17.73464584350586,
                    -54.439857482910156,
                    -29.897510528564453,
                    -24.783447265625,
                    0.9869788885116577,
                    -48.3392333984375,
                    -13.742783546447754,
                    -7.4911789894104,
                    -10.28958511352539,
                    -57.14638137817383,
                    -41.54929733276367,
                    -39.756526947021484,
                    -78.20475769042969,
                    -75.93264770507812,
                    -4.553567886352539
                  ],
                  "type": "scatter3d"
                },
                {
                  "hovertemplate": "Cluster=Cluster 1<br>0=%{x}<br>1=%{y}<br>2=%{z}<br>Feature=%{customdata[0]}",
                  "showlegend": true,
                  "legendgroup": "Cluster=Cluster 1",
                  "name": "Cluster=Cluster 1",
                  "customdata": [
                    [
                      30
                    ],
                    [
                      62
                    ],
                    [
                      85
                    ],
                    [
                      59
                    ],
                    [
                      30
                    ],
                    [
                      83
                    ],
                    [
                      66
                    ],
                    [
                      31
                    ],
                    [
                      88
                    ],
                    [
                      28
                    ],
                    [
                      85
                    ],
                    [
                      64
                    ],
                    [
                      33
                    ],
                    [
                      62
                    ],
                    [
                      89
                    ],
                    [
                      61
                    ],
                    [
                      29
                    ],
                    [
                      56
                    ],
                    [
                      92
                    ],
                    [
                      62
                    ],
                    [
                      60
                    ],
                    [
                      85
                    ],
                    [
                      88
                    ],
                    [
                      94
                    ],
                    [
                      62
                    ],
                    [
                      64
                    ],
                    [
                      29
                    ],
                    [
                      27
                    ],
                    [
                      31
                    ],
                    [
                      87
                    ],
                    [
                      32
                    ],
                    [
                      63
                    ],
                    [
                      58
                    ],
                    [
                      62
                    ],
                    [
                      32
                    ],
                    [
                      93
                    ],
                    [
                      59
                    ],
                    [
                      61
                    ],
                    [
                      53
                    ],
                    [
                      82
                    ],
                    [
                      28
                    ],
                    [
                      32
                    ],
                    [
                      89
                    ],
                    [
                      84
                    ],
                    [
                      87
                    ],
                    [
                      29
                    ],
                    [
                      58
                    ],
                    [
                      29
                    ],
                    [
                      55
                    ],
                    [
                      25
                    ],
                    [
                      60
                    ],
                    [
                      88
                    ],
                    [
                      24
                    ],
                    [
                      56
                    ],
                    [
                      95
                    ],
                    [
                      89
                    ],
                    [
                      86
                    ],
                    [
                      85
                    ],
                    [
                      60
                    ],
                    [
                      87
                    ],
                    [
                      29
                    ],
                    [
                      23
                    ],
                    [
                      31
                    ],
                    [
                      89
                    ],
                    [
                      58
                    ],
                    [
                      56
                    ],
                    [
                      37
                    ],
                    [
                      89
                    ],
                    [
                      29
                    ],
                    [
                      23
                    ],
                    [
                      34
                    ],
                    [
                      64
                    ],
                    [
                      63
                    ],
                    [
                      85
                    ],
                    [
                      62
                    ],
                    [
                      59
                    ],
                    [
                      92
                    ],
                    [
                      67
                    ],
                    [
                      58
                    ],
                    [
                      58
                    ],
                    [
                      38
                    ],
                    [
                      57
                    ],
                    [
                      31
                    ],
                    [
                      36
                    ],
                    [
                      25
                    ],
                    [
                      66
                    ],
                    [
                      64
                    ],
                    [
                      59
                    ],
                    [
                      90
                    ],
                    [
                      68
                    ],
                    [
                      35
                    ],
                    [
                      84
                    ],
                    [
                      24
                    ],
                    [
                      29
                    ],
                    [
                      28
                    ],
                    [
                      81
                    ],
                    [
                      57
                    ],
                    [
                      37
                    ],
                    [
                      91
                    ],
                    [
                      82
                    ],
                    [
                      36
                    ],
                    [
                      31
                    ],
                    [
                      61
                    ],
                    [
                      64
                    ],
                    [
                      83
                    ],
                    [
                      63
                    ],
                    [
                      55
                    ],
                    [
                      86
                    ],
                    [
                      57
                    ],
                    [
                      94
                    ],
                    [
                      37
                    ],
                    [
                      26
                    ],
                    [
                      57
                    ],
                    [
                      37
                    ],
                    [
                      88
                    ],
                    [
                      61
                    ],
                    [
                      91
                    ],
                    [
                      84
                    ],
                    [
                      43
                    ],
                    [
                      59
                    ],
                    [
                      90
                    ],
                    [
                      88
                    ],
                    [
                      59
                    ],
                    [
                      59
                    ],
                    [
                      88
                    ],
                    [
                      37
                    ],
                    [
                      33
                    ],
                    [
                      90
                    ],
                    [
                      31
                    ],
                    [
                      90
                    ]
                  ],
                  "scene": "scene",
                  "y": [
                    -94.31079864501953,
                    -8.127440452575684,
                    -42.723541259765625,
                    -64.08271789550781,
                    -47.4326057434082,
                    -3.975627899169922,
                    -6.779257297515869,
                    -103.31573486328125,
                    -7.764606475830078,
                    -109.19731140136719,
                    -20.363567352294922,
                    -16.254791259765625,
                    -81.7330551147461,
                    -50.18381881713867,
                    -29.256305694580078,
                    -11.714956283569336,
                    -23.895292282104492,
                    -23.131832122802734,
                    4.024944305419922,
                    -54.12418746948242,
                    -22.4642391204834,
                    -21.803640365600586,
                    -18.410884857177734,
                    -20.195688247680664,
                    -10.21444034576416,
                    -91.43791961669922,
                    -57.64788818359375,
                    -68.87866973876953,
                    -19.576704025268555,
                    -99.87860870361328,
                    -152.85609436035156,
                    -79.17765045166016,
                    -12.596728324890137,
                    -19.36686897277832,
                    -25.383338928222656,
                    -3.175657033920288,
                    -95.0915298461914,
                    -12.474016189575195,
                    -24.541162490844727,
                    -29.23447036743164,
                    -81.84241485595703,
                    -11.189257621765137,
                    -9.828888893127441,
                    -19.396467208862305,
                    -39.38979721069336,
                    -17.184207916259766,
                    -54.053550720214844,
                    -48.679534912109375,
                    -58.70806884765625,
                    -85.30288696289062,
                    -54.86559295654297,
                    -21.83641815185547,
                    -83.84723663330078,
                    -64.32274627685547,
                    -35.86251449584961,
                    -26.8596248626709,
                    -0.5243138074874878,
                    -28.51039695739746,
                    -11.65538501739502,
                    -83.99498748779297,
                    274.1855773925781,
                    -6.369892597198486,
                    -53.10678482055664,
                    -93.53221130371094,
                    -98.77470397949219,
                    -1.685512661933899,
                    1.0680166482925415,
                    -42.48338317871094,
                    -0.5228755474090576,
                    -0.14354512095451355,
                    -70.22358703613281,
                    -1.4806526899337769,
                    -16.84745979309082,
                    -13.916135787963867,
                    3.4281153678894043,
                    -104.69851684570312,
                    -76.2362060546875,
                    -42.01505661010742,
                    -64.55461883544922,
                    -85.12187194824219,
                    -30.467378616333008,
                    -54.38490295410156,
                    -61.6905403137207,
                    -69.25421905517578,
                    -19.962451934814453,
                    -13.79617691040039,
                    -96.67732238769531,
                    -7.4342265129089355,
                    -89.10631561279297,
                    -7.396439075469971,
                    -4.237171173095703,
                    -14.973152160644531,
                    -13.733412742614746,
                    -46.576744079589844,
                    65.20294952392578,
                    -3.4408187866210938,
                    -13.185446739196777,
                    -23.181808471679688,
                    -75.92084503173828,
                    -14.015885353088379,
                    -79.97764587402344,
                    -23.167383193969727,
                    -100.27702331542969,
                    -32.54328918457031,
                    -104.59187316894531,
                    -86.38118743896484,
                    -67.74186706542969,
                    -21.770366668701172,
                    -92.65068054199219,
                    -7.836267471313477,
                    -72.18359375,
                    -23.896974563598633,
                    -46.460731506347656,
                    -35.58971405029297,
                    21.834522247314453,
                    -3.673677921295166,
                    -86.59049224853516,
                    -45.19140625,
                    -54.60584259033203,
                    -11.09814739227295,
                    -30.452880859375,
                    -39.51087951660156,
                    -12.546525001525879,
                    -61.93679428100586,
                    -14.914563179016113,
                    -8.10446834564209,
                    -42.68222427368164,
                    -61.894126892089844,
                    -26.018312454223633,
                    -20.050174713134766
                  ],
                  "hoverlabel": {
                    "namelength": 0
                  },
                  "mode": "markers",
                  "marker": {
                    "color": "#EF553B",
                    "opacity": 0.7,
                    "symbol": "circle"
                  },
                  "x": [
                    -23.81589126586914,
                    -2.154885768890381,
                    -29.257522583007812,
                    3.3897416591644287,
                    -103.98783874511719,
                    2.957758665084839,
                    26.528928756713867,
                    -0.9673875570297241,
                    50.64739227294922,
                    -8.834970474243164,
                    7.7340407371521,
                    42.68130111694336,
                    5.737141132354736,
                    -29.65410804748535,
                    39.530799865722656,
                    13.641840934753418,
                    16.180004119873047,
                    64.87747192382812,
                    -8.46518611907959,
                    -21.984359741210938,
                    -29.642847061157227,
                    -17.19878387451172,
                    -33.42799377441406,
                    6.290728569030762,
                    27.195585250854492,
                    -10.192535400390625,
                    10.919766426086426,
                    -15.393598556518555,
                    27.802621841430664,
                    -11.718771934509277,
                    15.609771728515625,
                    -4.613796710968018,
                    -6.409090518951416,
                    55.00998306274414,
                    26.814409255981445,
                    70.8168716430664,
                    -2.881585121154785,
                    -22.96797752380371,
                    41.58359909057617,
                    -28.886621475219727,
                    -21.551301956176758,
                    2.8712375164031982,
                    64.60942840576172,
                    29.05194664001465,
                    -23.11407470703125,
                    64.90145874023438,
                    -15.799665451049805,
                    -3.475660562515259,
                    -1.9148181676864624,
                    -1.1313608884811401,
                    5.75764799118042,
                    -39.831024169921875,
                    -23.22882080078125,
                    51.75080490112305,
                    -22.486852645874023,
                    52.168853759765625,
                    -6.800760269165039,
                    -19.560781478881836,
                    0.959730863571167,
                    9.424339294433594,
                    18.326801300048828,
                    -21.994766235351562,
                    1.1353871822357178,
                    -28.29767608642578,
                    4.301418781280518,
                    72.18505859375,
                    1.7545008659362793,
                    -23.2459774017334,
                    5.9899773597717285,
                    -20.380475997924805,
                    4.638885974884033,
                    55.3571662902832,
                    -12.272381782531738,
                    32.94237518310547,
                    -18.59066390991211,
                    -14.661310195922852,
                    8.444546699523926,
                    -12.044838905334473,
                    -8.079388618469238,
                    7.167541980743408,
                    31.682247161865234,
                    -13.923328399658203,
                    15.684369087219238,
                    4.579721927642822,
                    38.60857009887695,
                    -19.778676986694336,
                    -8.77421760559082,
                    59.147003173828125,
                    -2.094007968902588,
                    11.10306453704834,
                    -27.44330596923828,
                    69.44644927978516,
                    -37.5504264831543,
                    -9.512984275817871,
                    19.505512237548828,
                    -10.587696075439453,
                    17.13374900817871,
                    20.372222900390625,
                    -3.106537342071533,
                    57.099609375,
                    -2.3728508949279785,
                    -29.732864379882812,
                    -21.302967071533203,
                    26.346847534179688,
                    1.1398872137069702,
                    -14.037492752075195,
                    -11.477484703063965,
                    56.40896224975586,
                    9.834041595458984,
                    13.496857643127441,
                    -5.236797332763672,
                    -19.892215728759766,
                    -26.430234909057617,
                    -36.589637756347656,
                    -48.649879455566406,
                    -32.22700500488281,
                    -13.094538688659668,
                    -0.21307100355625153,
                    -13.220320701599121,
                    15.836461067199707,
                    -25.830198287963867,
                    -36.5135383605957,
                    -11.158540725708008,
                    -9.818434715270996,
                    -27.65599250793457,
                    -12.830595970153809,
                    -32.85475540161133,
                    -4.952038288116455,
                    -9.887324333190918,
                    -0.017736446112394333
                  ],
                  "z": [
                    -18.504589080810547,
                    51.91788101196289,
                    64.59684753417969,
                    5.667183876037598,
                    13.655986785888672,
                    75.33401489257812,
                    41.53970718383789,
                    -14.053608894348145,
                    30.496721267700195,
                    -1.2042292356491089,
                    52.82830047607422,
                    41.372493743896484,
                    41.97880935668945,
                    53.36270523071289,
                    43.07291030883789,
                    77.55404663085938,
                    41.90449142456055,
                    35.401065826416016,
                    47.5363655090332,
                    38.697059631347656,
                    69.98446655273438,
                    48.318687438964844,
                    31.051542282104492,
                    70.36421966552734,
                    55.51244354248047,
                    -16.676359176635742,
                    32.1788444519043,
                    10.225138664245605,
                    66.53981018066406,
                    10.484458923339844,
                    101.59523010253906,
                    35.42953109741211,
                    75.159423828125,
                    27.475751876831055,
                    33.14051818847656,
                    41.331180572509766,
                    23.586334228515625,
                    57.32133102416992,
                    30.293746948242188,
                    43.005863189697266,
                    -23.551057815551758,
                    40.59880828857422,
                    31.162763595581055,
                    45.46985626220703,
                    52.107200622558594,
                    61.10516357421875,
                    12.794941902160645,
                    12.933716773986816,
                    28.577966690063477,
                    -4.289864540100098,
                    19.01527214050293,
                    43.05459213256836,
                    -11.792131423950195,
                    13.45303726196289,
                    73.95101928710938,
                    39.247894287109375,
                    35.04139709472656,
                    61.688087463378906,
                    63.904178619384766,
                    5.704166889190674,
                    42.152000427246094,
                    32.06856918334961,
                    40.428192138671875,
                    12.912428855895996,
                    1.3559519052505493,
                    54.88180160522461,
                    63.501625061035156,
                    30.549686431884766,
                    46.846214294433594,
                    52.57501983642578,
                    26.400182723999023,
                    41.8170166015625,
                    60.97930908203125,
                    31.549558639526367,
                    39.52590560913086,
                    -14.798225402832031,
                    15.233962059020996,
                    20.303442001342773,
                    0.3469763994216919,
                    28.82012176513672,
                    58.74616622924805,
                    25.8714656829834,
                    20.33626365661621,
                    41.26922607421875,
                    56.30046081542969,
                    72.06063842773438,
                    -4.153958797454834,
                    53.41130447387695,
                    10.169482231140137,
                    83.5298080444336,
                    65.31512451171875,
                    45.78110885620117,
                    58.57612991333008,
                    35.388118743896484,
                    40.76675796508789,
                    66.78221893310547,
                    34.72225570678711,
                    55.76982116699219,
                    7.345333099365234,
                    41.50352096557617,
                    19.968530654907227,
                    56.36651611328125,
                    -3.7413413524627686,
                    44.80550765991211,
                    13.365182876586914,
                    4.1250128746032715,
                    25.684541702270508,
                    53.74049758911133,
                    17.463153839111328,
                    65.04706573486328,
                    49.09834671020508,
                    80.93531036376953,
                    18.66373634338379,
                    29.373035430908203,
                    -66.07452392578125,
                    47.97087860107422,
                    19.699058532714844,
                    26.06000328063965,
                    50.16353225708008,
                    49.81449890136719,
                    28.249727249145508,
                    52.675907135009766,
                    29.77172088623047,
                    39.40587615966797,
                    44.92150115966797,
                    43.6094970703125,
                    39.892738342285156,
                    15.855016708374023,
                    72.6108627319336,
                    86.7029037475586
                  ],
                  "type": "scatter3d"
                },
                {
                  "hovertemplate": "Cluster=Cluster 2<br>0=%{x}<br>1=%{y}<br>2=%{z}<br>Feature=%{customdata[0]}",
                  "showlegend": true,
                  "legendgroup": "Cluster=Cluster 2",
                  "name": "Cluster=Cluster 2",
                  "customdata": [
                    [
                      91
                    ],
                    [
                      29
                    ],
                    [
                      83
                    ],
                    [
                      84
                    ],
                    [
                      87
                    ],
                    [
                      22
                    ],
                    [
                      58
                    ],
                    [
                      31
                    ],
                    [
                      33
                    ],
                    [
                      56
                    ],
                    [
                      30
                    ],
                    [
                      85
                    ],
                    [
                      87
                    ],
                    [
                      34
                    ],
                    [
                      61
                    ],
                    [
                      30
                    ],
                    [
                      88
                    ],
                    [
                      56
                    ],
                    [
                      30
                    ],
                    [
                      25
                    ],
                    [
                      61
                    ],
                    [
                      88
                    ],
                    [
                      37
                    ],
                    [
                      35
                    ],
                    [
                      85
                    ],
                    [
                      85
                    ],
                    [
                      88
                    ],
                    [
                      59
                    ],
                    [
                      90
                    ],
                    [
                      33
                    ],
                    [
                      62
                    ],
                    [
                      59
                    ],
                    [
                      91
                    ],
                    [
                      33
                    ],
                    [
                      87
                    ],
                    [
                      26
                    ],
                    [
                      88
                    ],
                    [
                      24
                    ],
                    [
                      91
                    ],
                    [
                      86
                    ],
                    [
                      36
                    ],
                    [
                      87
                    ],
                    [
                      33
                    ],
                    [
                      59
                    ],
                    [
                      29
                    ],
                    [
                      59
                    ],
                    [
                      57
                    ],
                    [
                      40
                    ],
                    [
                      42
                    ],
                    [
                      89
                    ],
                    [
                      93
                    ],
                    [
                      17
                    ],
                    [
                      24
                    ],
                    [
                      34
                    ],
                    [
                      90
                    ],
                    [
                      20
                    ],
                    [
                      92
                    ],
                    [
                      84
                    ],
                    [
                      59
                    ],
                    [
                      61
                    ],
                    [
                      67
                    ],
                    [
                      82
                    ],
                    [
                      94
                    ],
                    [
                      28
                    ],
                    [
                      36
                    ],
                    [
                      91
                    ],
                    [
                      34
                    ],
                    [
                      77
                    ],
                    [
                      63
                    ],
                    [
                      35
                    ],
                    [
                      21
                    ],
                    [
                      86
                    ],
                    [
                      56
                    ],
                    [
                      83
                    ],
                    [
                      28
                    ],
                    [
                      59
                    ],
                    [
                      83
                    ],
                    [
                      83
                    ],
                    [
                      58
                    ],
                    [
                      91
                    ],
                    [
                      29
                    ],
                    [
                      61
                    ],
                    [
                      84
                    ],
                    [
                      34
                    ],
                    [
                      33
                    ],
                    [
                      55
                    ],
                    [
                      88
                    ],
                    [
                      91
                    ],
                    [
                      91
                    ],
                    [
                      84
                    ],
                    [
                      87
                    ],
                    [
                      39
                    ],
                    [
                      38
                    ],
                    [
                      89
                    ],
                    [
                      59
                    ],
                    [
                      35
                    ],
                    [
                      59
                    ],
                    [
                      87
                    ],
                    [
                      94
                    ],
                    [
                      86
                    ],
                    [
                      60
                    ],
                    [
                      79
                    ],
                    [
                      86
                    ],
                    [
                      60
                    ],
                    [
                      85
                    ],
                    [
                      92
                    ],
                    [
                      37
                    ],
                    [
                      89
                    ],
                    [
                      67
                    ],
                    [
                      31
                    ],
                    [
                      20
                    ],
                    [
                      37
                    ],
                    [
                      57
                    ],
                    [
                      87
                    ],
                    [
                      33
                    ],
                    [
                      56
                    ],
                    [
                      67
                    ],
                    [
                      58
                    ],
                    [
                      89
                    ],
                    [
                      34
                    ],
                    [
                      25
                    ],
                    [
                      44
                    ],
                    [
                      68
                    ],
                    [
                      31
                    ],
                    [
                      58
                    ],
                    [
                      55
                    ],
                    [
                      21
                    ],
                    [
                      36
                    ],
                    [
                      88
                    ],
                    [
                      26
                    ],
                    [
                      29
                    ],
                    [
                      38
                    ],
                    [
                      79
                    ],
                    [
                      51
                    ],
                    [
                      82
                    ],
                    [
                      39
                    ],
                    [
                      87
                    ],
                    [
                      36
                    ],
                    [
                      57
                    ],
                    [
                      61
                    ],
                    [
                      86
                    ],
                    [
                      86
                    ],
                    [
                      35
                    ],
                    [
                      89
                    ],
                    [
                      30
                    ],
                    [
                      60
                    ],
                    [
                      64
                    ]
                  ],
                  "scene": "scene",
                  "y": [
                    40.22768020629883,
                    45.16509246826172,
                    66.4439926147461,
                    56.767295837402344,
                    71.44569396972656,
                    -15.762044906616211,
                    25.899311065673828,
                    25.479219436645508,
                    9.998213768005371,
                    48.419586181640625,
                    72.36687469482422,
                    69.5584945678711,
                    17.844181060791016,
                    51.553680419921875,
                    22.5523681640625,
                    13.038113594055176,
                    18.565645217895508,
                    55.89270782470703,
                    77.3544921875,
                    30.671043395996094,
                    69.7835922241211,
                    56.60711669921875,
                    76.1629409790039,
                    67.03044128417969,
                    62.97811508178711,
                    11.85399055480957,
                    9.146963119506836,
                    85.57075500488281,
                    23.72987174987793,
                    52.22243118286133,
                    52.24402618408203,
                    66.90166473388672,
                    26.529563903808594,
                    48.413578033447266,
                    42.98015213012695,
                    74.16616821289062,
                    57.76370620727539,
                    24.7342472076416,
                    52.194881439208984,
                    40.12134552001953,
                    -22.8972110748291,
                    10.604369163513184,
                    62.77092361450195,
                    13.792013168334961,
                    20.334692001342773,
                    -46.305870056152344,
                    37.65020751953125,
                    -6.829367160797119,
                    -4.558470249176025,
                    48.124324798583984,
                    35.76392364501953,
                    -0.04331449419260025,
                    29.813461303710938,
                    8.453243255615234,
                    11.447469711303711,
                    1.7667526006698608,
                    32.39921569824219,
                    44.02562713623047,
                    60.669410705566406,
                    5.181222438812256,
                    76.85491180419922,
                    53.13759994506836,
                    35.79507827758789,
                    57.18119812011719,
                    50.15828323364258,
                    31.155406951904297,
                    22.734867095947266,
                    24.05031394958496,
                    32.95107650756836,
                    -7.717759609222412,
                    13.867531776428223,
                    36.90340042114258,
                    83.51106262207031,
                    221.18418884277344,
                    0.48603731393814087,
                    26.35832977294922,
                    23.876150131225586,
                    44.72891616821289,
                    23.301074981689453,
                    40.1663818359375,
                    59.89622116088867,
                    50.999847412109375,
                    60.10835266113281,
                    26.356060028076172,
                    29.056306838989258,
                    37.66731262207031,
                    -26.21461296081543,
                    78.55841064453125,
                    23.46766471862793,
                    36.4306640625,
                    -2.771040678024292,
                    38.68763732910156,
                    10.566400527954102,
                    40.19806671142578,
                    9.80212116241455,
                    27.62799644470215,
                    44.839290618896484,
                    -5.022082805633545,
                    54.18776321411133,
                    -0.6533212661743164,
                    77.11083221435547,
                    35.63117218017578,
                    3.875558614730835,
                    71.33251190185547,
                    34.09123229980469,
                    26.02073860168457,
                    39.29920196533203,
                    8.805981636047363,
                    36.03300476074219,
                    -0.8565080761909485,
                    18.810150146484375,
                    12.226816177368164,
                    55.159088134765625,
                    13.845455169677734,
                    -26.24964141845703,
                    44.16859817504883,
                    43.537418365478516,
                    4.768669128417969,
                    3.3041281700134277,
                    36.99081802368164,
                    13.663196563720703,
                    60.073570251464844,
                    49.13513946533203,
                    16.22793960571289,
                    27.82421112060547,
                    65.57426452636719,
                    65.977783203125,
                    12.748091697692871,
                    51.70610046386719,
                    16.438432693481445,
                    53.770835876464844,
                    28.84731101989746,
                    27.690853118896484,
                    22.583587646484375,
                    51.870025634765625,
                    22.948408126831055,
                    49.79788589477539,
                    19.46683692932129,
                    65.40232849121094,
                    59.69901657104492,
                    45.240665435791016,
                    60.43440246582031,
                    26.80280113220215,
                    47.474510192871094,
                    50.462432861328125,
                    64.85653686523438,
                    22.694185256958008
                  ],
                  "hoverlabel": {
                    "namelength": 0
                  },
                  "mode": "markers",
                  "marker": {
                    "color": "#00cc96",
                    "opacity": 0.7,
                    "symbol": "circle"
                  },
                  "x": [
                    -7.268228054046631,
                    21.36463165283203,
                    -19.292924880981445,
                    -29.520002365112305,
                    -28.44449806213379,
                    61.13407516479492,
                    32.92257308959961,
                    -1.0757849216461182,
                    22.534311294555664,
                    -31.013797760009766,
                    -7.321887493133545,
                    -20.549266815185547,
                    -20.439544677734375,
                    14.800374031066895,
                    34.216712951660156,
                    10.06063461303711,
                    21.849435806274414,
                    1.409146785736084,
                    -24.989290237426758,
                    13.938962936401367,
                    -36.31496810913086,
                    -14.785283088684082,
                    -31.693490982055664,
                    -22.8652400970459,
                    -9.138978958129883,
                    26.00020408630371,
                    -9.195898056030273,
                    -18.70403480529785,
                    13.421165466308594,
                    19.25212287902832,
                    -5.7090535163879395,
                    -3.621335744857788,
                    11.156655311584473,
                    0.5196934342384338,
                    11.7070951461792,
                    -15.728299140930176,
                    -17.120508193969727,
                    -6.10877799987793,
                    -17.343074798583984,
                    12.566779136657715,
                    31.383407592773438,
                    15.020483016967773,
                    -21.667070388793945,
                    -5.495129108428955,
                    6.908943176269531,
                    -36.489776611328125,
                    -17.373760223388672,
                    -11.578044891357422,
                    19.263212203979492,
                    -1.3073238134384155,
                    37.13722229003906,
                    29.792526245117188,
                    16.369234085083008,
                    38.542259216308594,
                    23.146713256835938,
                    -18.61945915222168,
                    5.041810035705566,
                    36.71879959106445,
                    -34.126869201660156,
                    -5.286597728729248,
                    -18.21044921875,
                    -42.566314697265625,
                    40.711307525634766,
                    4.3590240478515625,
                    29.875078201293945,
                    -13.716383934020996,
                    -6.794463634490967,
                    25.303558349609375,
                    8.682260513305664,
                    22.726533889770508,
                    -30.928752899169922,
                    -7.930209159851074,
                    -19.841449737548828,
                    106.9903793334961,
                    6.62141227722168,
                    21.62995147705078,
                    25.17505645751953,
                    12.45528507232666,
                    25.93259620666504,
                    15.463873863220215,
                    -41.97289276123047,
                    -14.624052047729492,
                    -7.708415508270264,
                    -6.595240116119385,
                    15.58421802520752,
                    1.3369901180267334,
                    37.812496185302734,
                    -11.36068344116211,
                    11.582141876220703,
                    5.736495018005371,
                    31.446800231933594,
                    24.911386489868164,
                    16.852813720703125,
                    26.28795623779297,
                    12.83720588684082,
                    17.79269027709961,
                    -29.160860061645508,
                    1.0167409181594849,
                    11.0118408203125,
                    -2.2964484691619873,
                    -30.355201721191406,
                    3.799455165863037,
                    -17.771678924560547,
                    -18.0314998626709,
                    26.17087173461914,
                    3.27117919921875,
                    12.752015113830566,
                    4.536862850189209,
                    20.773103713989258,
                    12.608088493347168,
                    12.743480682373047,
                    2.239647150039673,
                    -19.362239837646484,
                    12.42586612701416,
                    -617.1321411132812,
                    0.7335773706436157,
                    -0.2451830357313156,
                    17.685455322265625,
                    22.50110626220703,
                    24.219449996948242,
                    2.538346767425537,
                    8.435422897338867,
                    -13.458284378051758,
                    -18.683612823486328,
                    -26.56410026550293,
                    -33.552734375,
                    -42.68391418457031,
                    34.67442321777344,
                    -3.7224252223968506,
                    10.081997871398926,
                    1.4422447681427002,
                    -7.6220703125,
                    10.992125511169434,
                    2.368847370147705,
                    -28.855215072631836,
                    8.008182525634766,
                    5.243320941925049,
                    20.52109718322754,
                    12.296744346618652,
                    -21.697668075561523,
                    4.389266014099121,
                    -31.0205135345459,
                    -1.6323349475860596,
                    13.07466983795166,
                    17.395414352416992,
                    -9.0919828414917,
                    -11.005329132080078
                  ],
                  "z": [
                    -29.89565086364746,
                    35.268341064453125,
                    5.034681797027588,
                    54.61347961425781,
                    14.459238052368164,
                    -64.41890716552734,
                    -71.79290008544922,
                    -21.421878814697266,
                    -2.7347049713134766,
                    29.113929748535156,
                    49.567596435546875,
                    51.90900421142578,
                    -0.6350798606872559,
                    -30.858779907226562,
                    -85.91851806640625,
                    -35.12731170654297,
                    -80.39889526367188,
                    -27.446849822998047,
                    62.513275146484375,
                    6.460747241973877,
                    53.507450103759766,
                    52.306697845458984,
                    27.184825897216797,
                    27.257482528686523,
                    24.209747314453125,
                    -91.19151306152344,
                    2.5431430339813232,
                    23.763031005859375,
                    18.233985900878906,
                    -49.53144836425781,
                    30.60360336303711,
                    74.3929672241211,
                    -82.80540466308594,
                    -39.86305618286133,
                    -41.051490783691406,
                    16.54898452758789,
                    76.82025146484375,
                    -75.35237884521484,
                    4.044264793395996,
                    -23.162599563598633,
                    -70.59651947021484,
                    9.703097343444824,
                    63.70451354980469,
                    15.782594680786133,
                    -12.207226753234863,
                    -34.59455490112305,
                    2.8224434852600098,
                    -1.6522070169448853,
                    -93.93889617919922,
                    10.314154624938965,
                    -61.03517150878906,
                    -82.82473754882812,
                    -6.450567722320557,
                    -89.03942108154297,
                    -69.66276550292969,
                    7.425785064697266,
                    -67.26832580566406,
                    -71.44574737548828,
                    22.64293670654297,
                    -9.540517807006836,
                    35.223968505859375,
                    32.53517150878906,
                    26.60733985900879,
                    22.178462982177734,
                    -59.32727813720703,
                    18.708742141723633,
                    -60.12431716918945,
                    11.962733268737793,
                    26.45439910888672,
                    -106.4546890258789,
                    6.670957565307617,
                    9.815476417541504,
                    47.270729064941406,
                    -24.98419761657715,
                    -16.09331703186035,
                    -91.16355895996094,
                    -60.92848587036133,
                    23.134902954101562,
                    -0.9372824430465698,
                    -75.84656524658203,
                    46.48186111450195,
                    64.79408264160156,
                    11.563907623291016,
                    -32.87057876586914,
                    -51.583580017089844,
                    -53.15100860595703,
                    -71.7759017944336,
                    61.385292053222656,
                    -25.02354621887207,
                    14.061223983764648,
                    -96.87907409667969,
                    -65.6221923828125,
                    -24.632448196411133,
                    -51.91811752319336,
                    -9.847750663757324,
                    -70.47429656982422,
                    6.212540626525879,
                    -4.9109907150268555,
                    -18.02536964416504,
                    7.312166690826416,
                    41.57745361328125,
                    -32.484683990478516,
                    -5.795595169067383,
                    73.11909484863281,
                    -79.52887725830078,
                    -40.06414794921875,
                    -58.084590911865234,
                    -0.303254634141922,
                    17.06797981262207,
                    -1.4717780351638794,
                    0.6886882185935974,
                    -85.1437759399414,
                    29.419910430908203,
                    -92.73921966552734,
                    39.238861083984375,
                    -19.859848022460938,
                    23.49013900756836,
                    -82.41851806640625,
                    -106.01566314697266,
                    4.151414394378662,
                    -24.944568634033203,
                    -37.961219787597656,
                    17.606895446777344,
                    13.21419620513916,
                    7.9721174240112305,
                    68.01296997070312,
                    32.414974212646484,
                    -76.27958679199219,
                    77.83124542236328,
                    -72.73870086669922,
                    66.62620544433594,
                    -47.30031967163086,
                    45.25165939331055,
                    9.828262329101562,
                    68.28657531738281,
                    -59.171077728271484,
                    -54.95399856567383,
                    -15.734577178955078,
                    -25.757822036743164,
                    16.21160888671875,
                    -67.20152282714844,
                    36.33709716796875,
                    21.32027244567871,
                    10.97450065612793,
                    -64.0699462890625,
                    61.40332794189453,
                    5.1448774337768555
                  ],
                  "type": "scatter3d"
                },
                {
                  "hovertemplate": "Cluster=Cluster 3<br>0=%{x}<br>1=%{y}<br>2=%{z}<br>Feature=%{customdata[0]}",
                  "showlegend": true,
                  "legendgroup": "Cluster=Cluster 3",
                  "name": "Cluster=Cluster 3",
                  "customdata": [
                    [
                      37
                    ],
                    [
                      65
                    ],
                    [
                      90
                    ],
                    [
                      59
                    ],
                    [
                      29
                    ],
                    [
                      58
                    ],
                    [
                      88
                    ],
                    [
                      63
                    ],
                    [
                      92
                    ],
                    [
                      17
                    ],
                    [
                      34
                    ],
                    [
                      22
                    ],
                    [
                      24
                    ],
                    [
                      36
                    ],
                    [
                      34
                    ],
                    [
                      87
                    ],
                    [
                      85
                    ],
                    [
                      61
                    ],
                    [
                      27
                    ],
                    [
                      59
                    ],
                    [
                      31
                    ],
                    [
                      31
                    ],
                    [
                      93
                    ],
                    [
                      17
                    ],
                    [
                      35
                    ],
                    [
                      28
                    ],
                    [
                      94
                    ],
                    [
                      28
                    ],
                    [
                      33
                    ],
                    [
                      56
                    ],
                    [
                      28
                    ],
                    [
                      86
                    ],
                    [
                      92
                    ],
                    [
                      18
                    ],
                    [
                      61
                    ],
                    [
                      32
                    ],
                    [
                      63
                    ],
                    [
                      58
                    ],
                    [
                      31
                    ],
                    [
                      62
                    ],
                    [
                      60
                    ],
                    [
                      62
                    ],
                    [
                      90
                    ],
                    [
                      33
                    ],
                    [
                      33
                    ],
                    [
                      65
                    ],
                    [
                      59
                    ],
                    [
                      65
                    ],
                    [
                      86
                    ],
                    [
                      32
                    ],
                    [
                      84
                    ],
                    [
                      84
                    ],
                    [
                      90
                    ],
                    [
                      91
                    ],
                    [
                      26
                    ],
                    [
                      92
                    ],
                    [
                      97
                    ],
                    [
                      84
                    ],
                    [
                      58
                    ],
                    [
                      61
                    ],
                    [
                      92
                    ],
                    [
                      87
                    ],
                    [
                      66
                    ],
                    [
                      22
                    ],
                    [
                      91
                    ],
                    [
                      30
                    ],
                    [
                      25
                    ],
                    [
                      28
                    ],
                    [
                      93
                    ],
                    [
                      90
                    ],
                    [
                      91
                    ],
                    [
                      89
                    ]
                  ],
                  "scene": "scene",
                  "y": [
                    3.780871629714966,
                    50.25434875488281,
                    36.620391845703125,
                    -7.779627323150635,
                    46.5850830078125,
                    22.493642807006836,
                    -21.26862144470215,
                    37.48295593261719,
                    -18.210956573486328,
                    28.890865325927734,
                    4.970180988311768,
                    27.552555084228516,
                    15.060906410217285,
                    66.06190490722656,
                    19.66018295288086,
                    -0.3348616659641266,
                    -13.042878150939941,
                    -9.279176712036133,
                    24.560409545898438,
                    16.34834861755371,
                    18.401107788085938,
                    44.084716796875,
                    27.686328887939453,
                    15.36860179901123,
                    53.00635528564453,
                    26.919700622558594,
                    51.39339065551758,
                    41.90008544921875,
                    15.151944160461426,
                    31.46714973449707,
                    -4.156571865081787,
                    4.571094989776611,
                    -0.4614693522453308,
                    3.108112096786499,
                    4.891897201538086,
                    17.419902801513672,
                    5.627233505249023,
                    10.964473724365234,
                    10.62621021270752,
                    27.018482208251953,
                    -0.7243200540542603,
                    26.45341682434082,
                    1.3537209033966064,
                    35.24938201904297,
                    28.580413818359375,
                    17.00397300720215,
                    59.206207275390625,
                    11.501612663269043,
                    40.114051818847656,
                    40.144561767578125,
                    62.723731994628906,
                    51.05290222167969,
                    46.21577453613281,
                    -13.291487693786621,
                    61.41722869873047,
                    13.622373580932617,
                    10.064620018005371,
                    27.40852928161621,
                    17.591453552246094,
                    30.894012451171875,
                    6.1961517333984375,
                    57.57721710205078,
                    45.77542495727539,
                    14.053654670715332,
                    71.95762634277344,
                    -10.9581937789917,
                    31.466588973999023,
                    39.857357025146484,
                    5.347281455993652,
                    54.295562744140625,
                    -5.607242584228516,
                    39.07260513305664
                  ],
                  "hoverlabel": {
                    "namelength": 0
                  },
                  "mode": "markers",
                  "marker": {
                    "color": "#ab63fa",
                    "opacity": 0.7,
                    "symbol": "circle"
                  },
                  "x": [
                    60.770999908447266,
                    39.286903381347656,
                    44.25997543334961,
                    53.00551986694336,
                    48.07294464111328,
                    45.817893981933594,
                    52.885860443115234,
                    56.85425567626953,
                    54.52527618408203,
                    54.81732940673828,
                    63.550228118896484,
                    -20.255598068237305,
                    68.56233978271484,
                    57.47723388671875,
                    42.559906005859375,
                    43.502323150634766,
                    43.695098876953125,
                    44.87575912475586,
                    -23.804920196533203,
                    59.37830352783203,
                    61.886749267578125,
                    70.59148406982422,
                    60.91975784301758,
                    53.142452239990234,
                    47.78133773803711,
                    58.29063034057617,
                    73.19731140136719,
                    40.489990234375,
                    55.81082534790039,
                    47.428470611572266,
                    56.33826446533203,
                    61.193321228027344,
                    69.34586334228516,
                    45.57583236694336,
                    49.895572662353516,
                    44.294559478759766,
                    63.23605728149414,
                    73.62662506103516,
                    50.47968292236328,
                    68.01062774658203,
                    72.70072937011719,
                    67.41840362548828,
                    63.43806838989258,
                    42.17961883544922,
                    47.77599334716797,
                    57.325172424316406,
                    60.54913330078125,
                    63.376129150390625,
                    53.176483154296875,
                    59.34910202026367,
                    44.1180419921875,
                    59.857688903808594,
                    51.05968475341797,
                    63.9693603515625,
                    69.79518127441406,
                    70.27596282958984,
                    53.40421676635742,
                    61.11759948730469,
                    51.143131256103516,
                    67.41384887695312,
                    57.41185760498047,
                    47.81199264526367,
                    50.72499084472656,
                    67.5486068725586,
                    59.41139602661133,
                    65.85612487792969,
                    54.145381927490234,
                    61.852027893066406,
                    46.83937072753906,
                    61.16095733642578,
                    54.61343002319336,
                    63.87644958496094
                  ],
                  "z": [
                    61.22270202636719,
                    51.2786750793457,
                    1.2046775817871094,
                    -47.089168548583984,
                    -8.203126907348633,
                    0.03707053139805794,
                    -43.50209045410156,
                    -1.641165852546692,
                    -29.247819900512695,
                    8.483284950256348,
                    32.98760223388672,
                    56.531410217285156,
                    57.96514129638672,
                    -3.3648180961608887,
                    -19.142892837524414,
                    -41.00799560546875,
                    -36.76942443847656,
                    -23.02079963684082,
                    71.47113800048828,
                    1.1314929723739624,
                    38.50644302368164,
                    -3.276313066482544,
                    61.25053787231445,
                    62.91874694824219,
                    59.70663070678711,
                    -24.60141944885254,
                    9.667288780212402,
                    61.70402908325195,
                    -22.8233585357666,
                    -11.906991004943848,
                    -19.20375633239746,
                    -28.88038444519043,
                    -18.431886672973633,
                    -27.972963333129883,
                    52.321311950683594,
                    50.39271926879883,
                    47.920841217041016,
                    42.464691162109375,
                    36.22277069091797,
                    2.7781689167022705,
                    -33.02084732055664,
                    49.15300750732422,
                    -43.38423538208008,
                    50.32954025268555,
                    60.1992301940918,
                    50.525177001953125,
                    13.4518404006958,
                    -12.807480812072754,
                    63.565311431884766,
                    -14.573586463928223,
                    6.948814392089844,
                    1.8196135759353638,
                    10.792590141296387,
                    -40.02838897705078,
                    0.8309887647628784,
                    -24.62794303894043,
                    -38.416168212890625,
                    -8.956655502319336,
                    -10.088221549987793,
                    -11.965410232543945,
                    84.69310760498047,
                    3.174616575241089,
                    49.784976959228516,
                    -38.8939208984375,
                    9.122544288635254,
                    -26.385831832885742,
                    48.110939025878906,
                    54.01345443725586,
                    -13.158343315124512,
                    -10.910431861877441,
                    -33.7952880859375,
                    9.736044883728027
                  ],
                  "type": "scatter3d"
                }
              ],
              "config": {
                "plotlyServerURL": "https://plot.ly"
              },
              "layout": {
                "title": {
                  "text": "3d TSNE Plot for Clusters"
                },
                "scene": {
                  "domain": {
                    "y": [
                      0,
                      1
                    ],
                    "x": [
                      0,
                      1
                    ]
                  },
                  "zaxis": {
                    "title": {
                      "text": "2"
                    }
                  },
                  "xaxis": {
                    "title": {
                      "text": "0"
                    }
                  },
                  "yaxis": {
                    "title": {
                      "text": "1"
                    }
                  }
                },
                "height": 800,
                "width": 900,
                "template": {
                  "layout": {
                    "shapedefaults": {
                      "line": {
                        "color": "#2a3f5f"
                      }
                    },
                    "polar": {
                      "radialaxis": {
                        "ticks": "",
                        "gridcolor": "white",
                        "linecolor": "white"
                      },
                      "bgcolor": "#E5ECF6",
                      "angularaxis": {
                        "ticks": "",
                        "gridcolor": "white",
                        "linecolor": "white"
                      }
                    },
                    "colorway": [
                      "#636efa",
                      "#EF553B",
                      "#00cc96",
                      "#ab63fa",
                      "#FFA15A",
                      "#19d3f3",
                      "#FF6692",
                      "#B6E880",
                      "#FF97FF",
                      "#FECB52"
                    ],
                    "xaxis": {
                      "automargin": true,
                      "title": {
                        "standoff": 15
                      },
                      "zerolinewidth": 2,
                      "ticks": "",
                      "zerolinecolor": "white",
                      "gridcolor": "white",
                      "linecolor": "white"
                    },
                    "colorscale": {
                      "diverging": [
                        [
                          0,
                          "#8e0152"
                        ],
                        [
                          0.1,
                          "#c51b7d"
                        ],
                        [
                          0.2,
                          "#de77ae"
                        ],
                        [
                          0.3,
                          "#f1b6da"
                        ],
                        [
                          0.4,
                          "#fde0ef"
                        ],
                        [
                          0.5,
                          "#f7f7f7"
                        ],
                        [
                          0.6,
                          "#e6f5d0"
                        ],
                        [
                          0.7,
                          "#b8e186"
                        ],
                        [
                          0.8,
                          "#7fbc41"
                        ],
                        [
                          0.9,
                          "#4d9221"
                        ],
                        [
                          1,
                          "#276419"
                        ]
                      ],
                      "sequential": [
                        [
                          0,
                          "#0d0887"
                        ],
                        [
                          0.1111111111111111,
                          "#46039f"
                        ],
                        [
                          0.2222222222222222,
                          "#7201a8"
                        ],
                        [
                          0.3333333333333333,
                          "#9c179e"
                        ],
                        [
                          0.4444444444444444,
                          "#bd3786"
                        ],
                        [
                          0.5555555555555556,
                          "#d8576b"
                        ],
                        [
                          0.6666666666666666,
                          "#ed7953"
                        ],
                        [
                          0.7777777777777778,
                          "#fb9f3a"
                        ],
                        [
                          0.8888888888888888,
                          "#fdca26"
                        ],
                        [
                          1,
                          "#f0f921"
                        ]
                      ],
                      "sequentialminus": [
                        [
                          0,
                          "#0d0887"
                        ],
                        [
                          0.1111111111111111,
                          "#46039f"
                        ],
                        [
                          0.2222222222222222,
                          "#7201a8"
                        ],
                        [
                          0.3333333333333333,
                          "#9c179e"
                        ],
                        [
                          0.4444444444444444,
                          "#bd3786"
                        ],
                        [
                          0.5555555555555556,
                          "#d8576b"
                        ],
                        [
                          0.6666666666666666,
                          "#ed7953"
                        ],
                        [
                          0.7777777777777778,
                          "#fb9f3a"
                        ],
                        [
                          0.8888888888888888,
                          "#fdca26"
                        ],
                        [
                          1,
                          "#f0f921"
                        ]
                      ]
                    },
                    "paper_bgcolor": "white",
                    "plot_bgcolor": "#E5ECF6",
                    "title": {
                      "x": 0.05
                    },
                    "scene": {
                      "zaxis": {
                        "backgroundcolor": "#E5ECF6",
                        "ticks": "",
                        "gridwidth": 2,
                        "showbackground": true,
                        "zerolinecolor": "white",
                        "gridcolor": "white",
                        "linecolor": "white"
                      },
                      "xaxis": {
                        "backgroundcolor": "#E5ECF6",
                        "ticks": "",
                        "gridwidth": 2,
                        "showbackground": true,
                        "zerolinecolor": "white",
                        "gridcolor": "white",
                        "linecolor": "white"
                      },
                      "yaxis": {
                        "backgroundcolor": "#E5ECF6",
                        "ticks": "",
                        "gridwidth": 2,
                        "showbackground": true,
                        "zerolinecolor": "white",
                        "gridcolor": "white",
                        "linecolor": "white"
                      }
                    },
                    "yaxis": {
                      "automargin": true,
                      "title": {
                        "standoff": 15
                      },
                      "zerolinewidth": 2,
                      "ticks": "",
                      "zerolinecolor": "white",
                      "gridcolor": "white",
                      "linecolor": "white"
                    },
                    "annotationdefaults": {
                      "arrowwidth": 1,
                      "arrowhead": 0,
                      "arrowcolor": "#2a3f5f"
                    },
                    "hoverlabel": {
                      "align": "left"
                    },
                    "ternary": {
                      "bgcolor": "#E5ECF6",
                      "baxis": {
                        "ticks": "",
                        "gridcolor": "white",
                        "linecolor": "white"
                      },
                      "caxis": {
                        "ticks": "",
                        "gridcolor": "white",
                        "linecolor": "white"
                      },
                      "aaxis": {
                        "ticks": "",
                        "gridcolor": "white",
                        "linecolor": "white"
                      }
                    },
                    "mapbox": {
                      "style": "light"
                    },
                    "hovermode": "closest",
                    "font": {
                      "color": "#2a3f5f"
                    },
                    "geo": {
                      "showland": true,
                      "landcolor": "#E5ECF6",
                      "showlakes": true,
                      "bgcolor": "white",
                      "subunitcolor": "white",
                      "lakecolor": "white"
                    },
                    "coloraxis": {
                      "colorbar": {
                        "outlinewidth": 0,
                        "ticks": ""
                      }
                    }
                  },
                  "data": {
                    "mesh3d": [
                      {
                        "colorbar": {
                          "outlinewidth": 0,
                          "ticks": ""
                        },
                        "type": "mesh3d"
                      }
                    ],
                    "scattercarpet": [
                      {
                        "marker": {
                          "colorbar": {
                            "outlinewidth": 0,
                            "ticks": ""
                          }
                        },
                        "type": "scattercarpet"
                      }
                    ],
                    "pie": [
                      {
                        "automargin": true,
                        "type": "pie"
                      }
                    ],
                    "surface": [
                      {
                        "colorbar": {
                          "outlinewidth": 0,
                          "ticks": ""
                        },
                        "type": "surface",
                        "colorscale": [
                          [
                            0,
                            "#0d0887"
                          ],
                          [
                            0.1111111111111111,
                            "#46039f"
                          ],
                          [
                            0.2222222222222222,
                            "#7201a8"
                          ],
                          [
                            0.3333333333333333,
                            "#9c179e"
                          ],
                          [
                            0.4444444444444444,
                            "#bd3786"
                          ],
                          [
                            0.5555555555555556,
                            "#d8576b"
                          ],
                          [
                            0.6666666666666666,
                            "#ed7953"
                          ],
                          [
                            0.7777777777777778,
                            "#fb9f3a"
                          ],
                          [
                            0.8888888888888888,
                            "#fdca26"
                          ],
                          [
                            1,
                            "#f0f921"
                          ]
                        ]
                      }
                    ],
                    "table": [
                      {
                        "header": {
                          "line": {
                            "color": "white"
                          },
                          "fill": {
                            "color": "#C8D4E3"
                          }
                        },
                        "cells": {
                          "line": {
                            "color": "white"
                          },
                          "fill": {
                            "color": "#EBF0F8"
                          }
                        },
                        "type": "table"
                      }
                    ],
                    "scatterpolargl": [
                      {
                        "marker": {
                          "colorbar": {
                            "outlinewidth": 0,
                            "ticks": ""
                          }
                        },
                        "type": "scatterpolargl"
                      }
                    ],
                    "contour": [
                      {
                        "colorbar": {
                          "outlinewidth": 0,
                          "ticks": ""
                        },
                        "type": "contour",
                        "colorscale": [
                          [
                            0,
                            "#0d0887"
                          ],
                          [
                            0.1111111111111111,
                            "#46039f"
                          ],
                          [
                            0.2222222222222222,
                            "#7201a8"
                          ],
                          [
                            0.3333333333333333,
                            "#9c179e"
                          ],
                          [
                            0.4444444444444444,
                            "#bd3786"
                          ],
                          [
                            0.5555555555555556,
                            "#d8576b"
                          ],
                          [
                            0.6666666666666666,
                            "#ed7953"
                          ],
                          [
                            0.7777777777777778,
                            "#fb9f3a"
                          ],
                          [
                            0.8888888888888888,
                            "#fdca26"
                          ],
                          [
                            1,
                            "#f0f921"
                          ]
                        ]
                      }
                    ],
                    "carpet": [
                      {
                        "type": "carpet",
                        "baxis": {
                          "minorgridcolor": "white",
                          "gridcolor": "white",
                          "linecolor": "white",
                          "endlinecolor": "#2a3f5f",
                          "startlinecolor": "#2a3f5f"
                        },
                        "aaxis": {
                          "minorgridcolor": "white",
                          "gridcolor": "white",
                          "linecolor": "white",
                          "endlinecolor": "#2a3f5f",
                          "startlinecolor": "#2a3f5f"
                        }
                      }
                    ],
                    "contourcarpet": [
                      {
                        "colorbar": {
                          "outlinewidth": 0,
                          "ticks": ""
                        },
                        "type": "contourcarpet"
                      }
                    ],
                    "heatmap": [
                      {
                        "colorbar": {
                          "outlinewidth": 0,
                          "ticks": ""
                        },
                        "type": "heatmap",
                        "colorscale": [
                          [
                            0,
                            "#0d0887"
                          ],
                          [
                            0.1111111111111111,
                            "#46039f"
                          ],
                          [
                            0.2222222222222222,
                            "#7201a8"
                          ],
                          [
                            0.3333333333333333,
                            "#9c179e"
                          ],
                          [
                            0.4444444444444444,
                            "#bd3786"
                          ],
                          [
                            0.5555555555555556,
                            "#d8576b"
                          ],
                          [
                            0.6666666666666666,
                            "#ed7953"
                          ],
                          [
                            0.7777777777777778,
                            "#fb9f3a"
                          ],
                          [
                            0.8888888888888888,
                            "#fdca26"
                          ],
                          [
                            1,
                            "#f0f921"
                          ]
                        ]
                      }
                    ],
                    "scattermapbox": [
                      {
                        "marker": {
                          "colorbar": {
                            "outlinewidth": 0,
                            "ticks": ""
                          }
                        },
                        "type": "scattermapbox"
                      }
                    ],
                    "scatter3d": [
                      {
                        "marker": {
                          "colorbar": {
                            "outlinewidth": 0,
                            "ticks": ""
                          }
                        },
                        "line": {
                          "colorbar": {
                            "outlinewidth": 0,
                            "ticks": ""
                          }
                        },
                        "type": "scatter3d"
                      }
                    ],
                    "scattergl": [
                      {
                        "marker": {
                          "colorbar": {
                            "outlinewidth": 0,
                            "ticks": ""
                          }
                        },
                        "type": "scattergl"
                      }
                    ],
                    "scatterternary": [
                      {
                        "marker": {
                          "colorbar": {
                            "outlinewidth": 0,
                            "ticks": ""
                          }
                        },
                        "type": "scatterternary"
                      }
                    ],
                    "histogram": [
                      {
                        "marker": {
                          "colorbar": {
                            "outlinewidth": 0,
                            "ticks": ""
                          }
                        },
                        "type": "histogram"
                      }
                    ],
                    "heatmapgl": [
                      {
                        "colorbar": {
                          "outlinewidth": 0,
                          "ticks": ""
                        },
                        "type": "heatmapgl",
                        "colorscale": [
                          [
                            0,
                            "#0d0887"
                          ],
                          [
                            0.1111111111111111,
                            "#46039f"
                          ],
                          [
                            0.2222222222222222,
                            "#7201a8"
                          ],
                          [
                            0.3333333333333333,
                            "#9c179e"
                          ],
                          [
                            0.4444444444444444,
                            "#bd3786"
                          ],
                          [
                            0.5555555555555556,
                            "#d8576b"
                          ],
                          [
                            0.6666666666666666,
                            "#ed7953"
                          ],
                          [
                            0.7777777777777778,
                            "#fb9f3a"
                          ],
                          [
                            0.8888888888888888,
                            "#fdca26"
                          ],
                          [
                            1,
                            "#f0f921"
                          ]
                        ]
                      }
                    ],
                    "scatterpolar": [
                      {
                        "marker": {
                          "colorbar": {
                            "outlinewidth": 0,
                            "ticks": ""
                          }
                        },
                        "type": "scatterpolar"
                      }
                    ],
                    "histogram2d": [
                      {
                        "colorbar": {
                          "outlinewidth": 0,
                          "ticks": ""
                        },
                        "type": "histogram2d",
                        "colorscale": [
                          [
                            0,
                            "#0d0887"
                          ],
                          [
                            0.1111111111111111,
                            "#46039f"
                          ],
                          [
                            0.2222222222222222,
                            "#7201a8"
                          ],
                          [
                            0.3333333333333333,
                            "#9c179e"
                          ],
                          [
                            0.4444444444444444,
                            "#bd3786"
                          ],
                          [
                            0.5555555555555556,
                            "#d8576b"
                          ],
                          [
                            0.6666666666666666,
                            "#ed7953"
                          ],
                          [
                            0.7777777777777778,
                            "#fb9f3a"
                          ],
                          [
                            0.8888888888888888,
                            "#fdca26"
                          ],
                          [
                            1,
                            "#f0f921"
                          ]
                        ]
                      }
                    ],
                    "scattergeo": [
                      {
                        "marker": {
                          "colorbar": {
                            "outlinewidth": 0,
                            "ticks": ""
                          }
                        },
                        "type": "scattergeo"
                      }
                    ],
                    "bar": [
                      {
                        "marker": {
                          "line": {
                            "color": "#E5ECF6",
                            "width": 0.5
                          }
                        },
                        "type": "bar",
                        "error_x": {
                          "color": "#2a3f5f"
                        },
                        "error_y": {
                          "color": "#2a3f5f"
                        }
                      }
                    ],
                    "choropleth": [
                      {
                        "colorbar": {
                          "outlinewidth": 0,
                          "ticks": ""
                        },
                        "type": "choropleth"
                      }
                    ],
                    "parcoords": [
                      {
                        "line": {
                          "colorbar": {
                            "outlinewidth": 0,
                            "ticks": ""
                          }
                        },
                        "type": "parcoords"
                      }
                    ],
                    "barpolar": [
                      {
                        "marker": {
                          "line": {
                            "color": "#E5ECF6",
                            "width": 0.5
                          }
                        },
                        "type": "barpolar"
                      }
                    ],
                    "histogram2dcontour": [
                      {
                        "colorbar": {
                          "outlinewidth": 0,
                          "ticks": ""
                        },
                        "type": "histogram2dcontour",
                        "colorscale": [
                          [
                            0,
                            "#0d0887"
                          ],
                          [
                            0.1111111111111111,
                            "#46039f"
                          ],
                          [
                            0.2222222222222222,
                            "#7201a8"
                          ],
                          [
                            0.3333333333333333,
                            "#9c179e"
                          ],
                          [
                            0.4444444444444444,
                            "#bd3786"
                          ],
                          [
                            0.5555555555555556,
                            "#d8576b"
                          ],
                          [
                            0.6666666666666666,
                            "#ed7953"
                          ],
                          [
                            0.7777777777777778,
                            "#fb9f3a"
                          ],
                          [
                            0.8888888888888888,
                            "#fdca26"
                          ],
                          [
                            1,
                            "#f0f921"
                          ]
                        ]
                      }
                    ],
                    "scatter": [
                      {
                        "marker": {
                          "colorbar": {
                            "outlinewidth": 0,
                            "ticks": ""
                          }
                        },
                        "type": "scatter"
                      }
                    ]
                  }
                },
                "legend": {
                  "tracegroupgap": 0
                }
              }
            }
          },
          "metadata": {
            "tags": []
          }
        }
      ]
    },
    {
      "cell_type": "code",
      "metadata": {
        "id": "A7R3mpPZVwFu",
        "colab_type": "code",
        "colab": {
          "base_uri": "https://localhost:8080/",
          "height": 988
        },
        "outputId": "f9571fa0-c6fb-45d6-ed79-d3bc9d7e130b"
      },
      "source": [
        "\n",
        "from pycaret.datasets import get_data\n",
        "diabetes = get_data('diabetes')\n",
        "\n",
        "from pycaret.classification import *\n",
        "clf1 = setup(data = diabetes, target = 'Class variable')\n",
        "\n",
        "xgboost = create_model('xgboost')\n",
        "\n",
        "interpret_model(xgboost)"
      ],
      "execution_count": 63,
      "outputs": [
        {
          "output_type": "display_data",
          "data": {
            "text/html": [
              "<div>\n",
              "<style scoped>\n",
              "    .dataframe tbody tr th:only-of-type {\n",
              "        vertical-align: middle;\n",
              "    }\n",
              "\n",
              "    .dataframe tbody tr th {\n",
              "        vertical-align: top;\n",
              "    }\n",
              "\n",
              "    .dataframe thead th {\n",
              "        text-align: right;\n",
              "    }\n",
              "</style>\n",
              "<table border=\"1\" class=\"dataframe\">\n",
              "  <thead>\n",
              "    <tr style=\"text-align: right;\">\n",
              "      <th></th>\n",
              "      <th>Accuracy</th>\n",
              "      <th>AUC</th>\n",
              "      <th>Recall</th>\n",
              "      <th>Prec.</th>\n",
              "      <th>F1</th>\n",
              "      <th>Kappa</th>\n",
              "    </tr>\n",
              "  </thead>\n",
              "  <tbody>\n",
              "    <tr>\n",
              "      <th>0</th>\n",
              "      <td>0.8148</td>\n",
              "      <td>0.8887</td>\n",
              "      <td>0.5789</td>\n",
              "      <td>0.8462</td>\n",
              "      <td>0.6875</td>\n",
              "      <td>0.5624</td>\n",
              "    </tr>\n",
              "    <tr>\n",
              "      <th>1</th>\n",
              "      <td>0.7037</td>\n",
              "      <td>0.7429</td>\n",
              "      <td>0.6316</td>\n",
              "      <td>0.5714</td>\n",
              "      <td>0.6000</td>\n",
              "      <td>0.3656</td>\n",
              "    </tr>\n",
              "    <tr>\n",
              "      <th>2</th>\n",
              "      <td>0.7222</td>\n",
              "      <td>0.7774</td>\n",
              "      <td>0.4737</td>\n",
              "      <td>0.6429</td>\n",
              "      <td>0.5455</td>\n",
              "      <td>0.3520</td>\n",
              "    </tr>\n",
              "    <tr>\n",
              "      <th>3</th>\n",
              "      <td>0.8148</td>\n",
              "      <td>0.8571</td>\n",
              "      <td>0.7368</td>\n",
              "      <td>0.7368</td>\n",
              "      <td>0.7368</td>\n",
              "      <td>0.5940</td>\n",
              "    </tr>\n",
              "    <tr>\n",
              "      <th>4</th>\n",
              "      <td>0.7407</td>\n",
              "      <td>0.8391</td>\n",
              "      <td>0.6842</td>\n",
              "      <td>0.6190</td>\n",
              "      <td>0.6500</td>\n",
              "      <td>0.4449</td>\n",
              "    </tr>\n",
              "    <tr>\n",
              "      <th>5</th>\n",
              "      <td>0.7963</td>\n",
              "      <td>0.8481</td>\n",
              "      <td>0.5789</td>\n",
              "      <td>0.7857</td>\n",
              "      <td>0.6667</td>\n",
              "      <td>0.5248</td>\n",
              "    </tr>\n",
              "    <tr>\n",
              "      <th>6</th>\n",
              "      <td>0.7593</td>\n",
              "      <td>0.8331</td>\n",
              "      <td>0.5789</td>\n",
              "      <td>0.6875</td>\n",
              "      <td>0.6286</td>\n",
              "      <td>0.4524</td>\n",
              "    </tr>\n",
              "    <tr>\n",
              "      <th>7</th>\n",
              "      <td>0.8113</td>\n",
              "      <td>0.9175</td>\n",
              "      <td>0.7222</td>\n",
              "      <td>0.7222</td>\n",
              "      <td>0.7222</td>\n",
              "      <td>0.5794</td>\n",
              "    </tr>\n",
              "    <tr>\n",
              "      <th>8</th>\n",
              "      <td>0.6981</td>\n",
              "      <td>0.7619</td>\n",
              "      <td>0.5000</td>\n",
              "      <td>0.5625</td>\n",
              "      <td>0.5294</td>\n",
              "      <td>0.3083</td>\n",
              "    </tr>\n",
              "    <tr>\n",
              "      <th>9</th>\n",
              "      <td>0.7358</td>\n",
              "      <td>0.8349</td>\n",
              "      <td>0.6111</td>\n",
              "      <td>0.6111</td>\n",
              "      <td>0.6111</td>\n",
              "      <td>0.4111</td>\n",
              "    </tr>\n",
              "    <tr>\n",
              "      <th>Mean</th>\n",
              "      <td>0.7597</td>\n",
              "      <td>0.8301</td>\n",
              "      <td>0.6096</td>\n",
              "      <td>0.6785</td>\n",
              "      <td>0.6378</td>\n",
              "      <td>0.4595</td>\n",
              "    </tr>\n",
              "    <tr>\n",
              "      <th>SD</th>\n",
              "      <td>0.0440</td>\n",
              "      <td>0.0522</td>\n",
              "      <td>0.0826</td>\n",
              "      <td>0.0890</td>\n",
              "      <td>0.0655</td>\n",
              "      <td>0.0965</td>\n",
              "    </tr>\n",
              "  </tbody>\n",
              "</table>\n",
              "</div>"
            ],
            "text/plain": [
              "      Accuracy     AUC  Recall   Prec.      F1   Kappa\n",
              "0       0.8148  0.8887  0.5789  0.8462  0.6875  0.5624\n",
              "1       0.7037  0.7429  0.6316  0.5714  0.6000  0.3656\n",
              "2       0.7222  0.7774  0.4737  0.6429  0.5455  0.3520\n",
              "3       0.8148  0.8571  0.7368  0.7368  0.7368  0.5940\n",
              "4       0.7407  0.8391  0.6842  0.6190  0.6500  0.4449\n",
              "5       0.7963  0.8481  0.5789  0.7857  0.6667  0.5248\n",
              "6       0.7593  0.8331  0.5789  0.6875  0.6286  0.4524\n",
              "7       0.8113  0.9175  0.7222  0.7222  0.7222  0.5794\n",
              "8       0.6981  0.7619  0.5000  0.5625  0.5294  0.3083\n",
              "9       0.7358  0.8349  0.6111  0.6111  0.6111  0.4111\n",
              "Mean    0.7597  0.8301  0.6096  0.6785  0.6378  0.4595\n",
              "SD      0.0440  0.0522  0.0826  0.0890  0.0655  0.0965"
            ]
          },
          "metadata": {
            "tags": []
          }
        },
        {
          "output_type": "display_data",
          "data": {
            "image/png": "[encoded data removed]",
            "text/plain": [
              "<Figure size 576x684 with 2 Axes>"
            ]
          },
          "metadata": {
            "tags": []
          }
        }
      ]
    },
    {
      "cell_type": "code",
      "metadata": {
        "id": "8mfBCvHhXG-7",
        "colab_type": "code",
        "colab": {
          "base_uri": "https://localhost:8080/",
          "height": 421
        },
        "outputId": "7aa21e35-8aa9-48ae-b889-0743d5649fb1"
      },
      "source": [
        "from pycaret.datasets import get_data\n",
        "diabetes = get_data('diabetes')\n",
        "\n",
        "from pycaret.classification import *\n",
        "clf1 = setup(data = diabetes, target = 'Class variable')\n",
        "\n",
        "dt = create_model('dt')\n",
        "\n",
        "calibrated_dt = calibrate_model(dt)"
      ],
      "execution_count": 64,
      "outputs": [
        {
          "output_type": "display_data",
          "data": {
            "text/html": [
              "<div>\n",
              "<style scoped>\n",
              "    .dataframe tbody tr th:only-of-type {\n",
              "        vertical-align: middle;\n",
              "    }\n",
              "\n",
              "    .dataframe tbody tr th {\n",
              "        vertical-align: top;\n",
              "    }\n",
              "\n",
              "    .dataframe thead th {\n",
              "        text-align: right;\n",
              "    }\n",
              "</style>\n",
              "<table border=\"1\" class=\"dataframe\">\n",
              "  <thead>\n",
              "    <tr style=\"text-align: right;\">\n",
              "      <th></th>\n",
              "      <th>Accuracy</th>\n",
              "      <th>AUC</th>\n",
              "      <th>Recall</th>\n",
              "      <th>Prec.</th>\n",
              "      <th>F1</th>\n",
              "      <th>Kappa</th>\n",
              "    </tr>\n",
              "  </thead>\n",
              "  <tbody>\n",
              "    <tr>\n",
              "      <th>0</th>\n",
              "      <td>0.7407</td>\n",
              "      <td>0.7406</td>\n",
              "      <td>0.2632</td>\n",
              "      <td>1.0000</td>\n",
              "      <td>0.4167</td>\n",
              "      <td>0.3165</td>\n",
              "    </tr>\n",
              "    <tr>\n",
              "      <th>1</th>\n",
              "      <td>0.6667</td>\n",
              "      <td>0.8541</td>\n",
              "      <td>0.1053</td>\n",
              "      <td>0.6667</td>\n",
              "      <td>0.1818</td>\n",
              "      <td>0.0950</td>\n",
              "    </tr>\n",
              "    <tr>\n",
              "      <th>2</th>\n",
              "      <td>0.6481</td>\n",
              "      <td>0.8233</td>\n",
              "      <td>0.2632</td>\n",
              "      <td>0.5000</td>\n",
              "      <td>0.3448</td>\n",
              "      <td>0.1349</td>\n",
              "    </tr>\n",
              "    <tr>\n",
              "      <th>3</th>\n",
              "      <td>0.6852</td>\n",
              "      <td>0.6857</td>\n",
              "      <td>0.4737</td>\n",
              "      <td>0.5625</td>\n",
              "      <td>0.5143</td>\n",
              "      <td>0.2839</td>\n",
              "    </tr>\n",
              "    <tr>\n",
              "      <th>4</th>\n",
              "      <td>0.7593</td>\n",
              "      <td>0.7850</td>\n",
              "      <td>0.4211</td>\n",
              "      <td>0.8000</td>\n",
              "      <td>0.5517</td>\n",
              "      <td>0.4081</td>\n",
              "    </tr>\n",
              "    <tr>\n",
              "      <th>5</th>\n",
              "      <td>0.7222</td>\n",
              "      <td>0.7782</td>\n",
              "      <td>0.4737</td>\n",
              "      <td>0.6429</td>\n",
              "      <td>0.5455</td>\n",
              "      <td>0.3520</td>\n",
              "    </tr>\n",
              "    <tr>\n",
              "      <th>6</th>\n",
              "      <td>0.6667</td>\n",
              "      <td>0.6639</td>\n",
              "      <td>0.1053</td>\n",
              "      <td>0.6667</td>\n",
              "      <td>0.1818</td>\n",
              "      <td>0.0950</td>\n",
              "    </tr>\n",
              "    <tr>\n",
              "      <th>7</th>\n",
              "      <td>0.6981</td>\n",
              "      <td>0.7778</td>\n",
              "      <td>0.1667</td>\n",
              "      <td>0.7500</td>\n",
              "      <td>0.2727</td>\n",
              "      <td>0.1703</td>\n",
              "    </tr>\n",
              "    <tr>\n",
              "      <th>8</th>\n",
              "      <td>0.6604</td>\n",
              "      <td>0.7746</td>\n",
              "      <td>0.1111</td>\n",
              "      <td>0.5000</td>\n",
              "      <td>0.1818</td>\n",
              "      <td>0.0665</td>\n",
              "    </tr>\n",
              "    <tr>\n",
              "      <th>9</th>\n",
              "      <td>0.6792</td>\n",
              "      <td>0.8183</td>\n",
              "      <td>0.1111</td>\n",
              "      <td>0.6667</td>\n",
              "      <td>0.1905</td>\n",
              "      <td>0.1035</td>\n",
              "    </tr>\n",
              "    <tr>\n",
              "      <th>Mean</th>\n",
              "      <td>0.6927</td>\n",
              "      <td>0.7701</td>\n",
              "      <td>0.2494</td>\n",
              "      <td>0.6755</td>\n",
              "      <td>0.3382</td>\n",
              "      <td>0.2026</td>\n",
              "    </tr>\n",
              "    <tr>\n",
              "      <th>SD</th>\n",
              "      <td>0.0350</td>\n",
              "      <td>0.0564</td>\n",
              "      <td>0.1473</td>\n",
              "      <td>0.1421</td>\n",
              "      <td>0.1501</td>\n",
              "      <td>0.1189</td>\n",
              "    </tr>\n",
              "  </tbody>\n",
              "</table>\n",
              "</div>"
            ],
            "text/plain": [
              "      Accuracy     AUC  Recall   Prec.      F1   Kappa\n",
              "0       0.7407  0.7406  0.2632  1.0000  0.4167  0.3165\n",
              "1       0.6667  0.8541  0.1053  0.6667  0.1818  0.0950\n",
              "2       0.6481  0.8233  0.2632  0.5000  0.3448  0.1349\n",
              "3       0.6852  0.6857  0.4737  0.5625  0.5143  0.2839\n",
              "4       0.7593  0.7850  0.4211  0.8000  0.5517  0.4081\n",
              "5       0.7222  0.7782  0.4737  0.6429  0.5455  0.3520\n",
              "6       0.6667  0.6639  0.1053  0.6667  0.1818  0.0950\n",
              "7       0.6981  0.7778  0.1667  0.7500  0.2727  0.1703\n",
              "8       0.6604  0.7746  0.1111  0.5000  0.1818  0.0665\n",
              "9       0.6792  0.8183  0.1111  0.6667  0.1905  0.1035\n",
              "Mean    0.6927  0.7701  0.2494  0.6755  0.3382  0.2026\n",
              "SD      0.0350  0.0564  0.1473  0.1421  0.1501  0.1189"
            ]
          },
          "metadata": {
            "tags": []
          }
        }
      ]
    },
    {
      "cell_type": "code",
      "metadata": {
        "id": "JwcdGTkIXmKp",
        "colab_type": "code",
        "colab": {}
      },
      "source": [
        "## prediction"
      ],
      "execution_count": 0,
      "outputs": []
    },
    {
      "cell_type": "code",
      "metadata": {
        "id": "0R_xEd1qZS7E",
        "colab_type": "code",
        "colab": {
          "base_uri": "https://localhost:8080/",
          "height": 80
        },
        "outputId": "4b13892d-32a2-457d-c919-004b05c854a1"
      },
      "source": [
        "from pycaret.datasets import get_data\n",
        "diabetes = get_data('diabetes')\n",
        "# Importing module and initializing setup\n",
        "from pycaret.classification import *\n",
        "clf1 = setup(data = diabetes, target = 'Class variable')\n",
        "# create a model\n",
        "xgboost = create_model('xgboost')\n",
        "# predict on hold-out\n",
        "pred_holdout = predict_model(xgboost)"
      ],
      "execution_count": 66,
      "outputs": [
        {
          "output_type": "display_data",
          "data": {
            "text/html": [
              "<div>\n",
              "<style scoped>\n",
              "    .dataframe tbody tr th:only-of-type {\n",
              "        vertical-align: middle;\n",
              "    }\n",
              "\n",
              "    .dataframe tbody tr th {\n",
              "        vertical-align: top;\n",
              "    }\n",
              "\n",
              "    .dataframe thead th {\n",
              "        text-align: right;\n",
              "    }\n",
              "</style>\n",
              "<table border=\"1\" class=\"dataframe\">\n",
              "  <thead>\n",
              "    <tr style=\"text-align: right;\">\n",
              "      <th></th>\n",
              "      <th>Model</th>\n",
              "      <th>Accuracy</th>\n",
              "      <th>AUC</th>\n",
              "      <th>Recall</th>\n",
              "      <th>Prec.</th>\n",
              "      <th>F1</th>\n",
              "      <th>Kappa</th>\n",
              "    </tr>\n",
              "  </thead>\n",
              "  <tbody>\n",
              "    <tr>\n",
              "      <th>0</th>\n",
              "      <td>Extreme Gradient Boosting</td>\n",
              "      <td>0.7446</td>\n",
              "      <td>0.8226</td>\n",
              "      <td>0.642</td>\n",
              "      <td>0.6341</td>\n",
              "      <td>0.638</td>\n",
              "      <td>0.4407</td>\n",
              "    </tr>\n",
              "  </tbody>\n",
              "</table>\n",
              "</div>"
            ],
            "text/plain": [
              "                       Model  Accuracy     AUC  Recall   Prec.     F1   Kappa\n",
              "0  Extreme Gradient Boosting    0.7446  0.8226   0.642  0.6341  0.638  0.4407"
            ]
          },
          "metadata": {
            "tags": []
          }
        }
      ]
    },
    {
      "cell_type": "code",
      "metadata": {
        "id": "NMTYPcPjZVY9",
        "colab_type": "code",
        "colab": {}
      },
      "source": [
        "#3 prediciton on unseen data"
      ],
      "execution_count": 0,
      "outputs": []
    },
    {
      "cell_type": "code",
      "metadata": {
        "id": "jL2oI7vuZZcE",
        "colab_type": "code",
        "colab": {
          "base_uri": "https://localhost:8080/",
          "height": 444
        },
        "outputId": "c3aba319-b077-4dc8-a20d-6c464e5b5086"
      },
      "source": [
        "from pycaret.datasets import get_data\n",
        "boston = get_data('boston')\n",
        "# Importing module and initializing setup\n",
        "from pycaret.regression import *\n",
        "reg1 = setup(data = boston, target = 'medv')\n",
        "# create a model\n",
        "lr = create_model('lr')\n",
        "# finalize a model\n",
        "lr_final = finalize_model(lr)\n",
        "# importing unseen data \n",
        "import pandas as pd\n",
        "data_unseen = pd.read_csv('data_unseen.csv') \n",
        "# generate predictions on unseen data\n",
        "predictions = predict_model(lr_final, data = data_unseen)\n",
        "\n",
        "#i don't have the dataunseen.csv file but this should work"
      ],
      "execution_count": 69,
      "outputs": [
        {
          "output_type": "error",
          "ename": "FileNotFoundError",
          "evalue": "ignored",
          "traceback": [
            "\u001b[0;31m---------------------------------------------------------------------------\u001b[0m",
            "\u001b[0;31mFileNotFoundError\u001b[0m                         Traceback (most recent call last)",
            "\u001b[0;32m<ipython-input-69-67a901885954>\u001b[0m in \u001b[0;36m<module>\u001b[0;34m()\u001b[0m\n\u001b[1;32m     10\u001b[0m \u001b[0;31m# importing unseen data\u001b[0m\u001b[0;34m\u001b[0m\u001b[0;34m\u001b[0m\u001b[0;34m\u001b[0m\u001b[0m\n\u001b[1;32m     11\u001b[0m \u001b[0;32mimport\u001b[0m \u001b[0mpandas\u001b[0m \u001b[0;32mas\u001b[0m \u001b[0mpd\u001b[0m\u001b[0;34m\u001b[0m\u001b[0;34m\u001b[0m\u001b[0m\n\u001b[0;32m---> 12\u001b[0;31m \u001b[0mdata_unseen\u001b[0m \u001b[0;34m=\u001b[0m \u001b[0mpd\u001b[0m\u001b[0;34m.\u001b[0m\u001b[0mread_csv\u001b[0m\u001b[0;34m(\u001b[0m\u001b[0;34m'data_unseen.csv'\u001b[0m\u001b[0;34m)\u001b[0m\u001b[0;34m\u001b[0m\u001b[0;34m\u001b[0m\u001b[0m\n\u001b[0m\u001b[1;32m     13\u001b[0m \u001b[0;31m# generate predictions on unseen data\u001b[0m\u001b[0;34m\u001b[0m\u001b[0;34m\u001b[0m\u001b[0;34m\u001b[0m\u001b[0m\n\u001b[1;32m     14\u001b[0m \u001b[0mpredictions\u001b[0m \u001b[0;34m=\u001b[0m \u001b[0mpredict_model\u001b[0m\u001b[0;34m(\u001b[0m\u001b[0mlr_final\u001b[0m\u001b[0;34m,\u001b[0m \u001b[0mdata\u001b[0m \u001b[0;34m=\u001b[0m \u001b[0mdata_unseen\u001b[0m\u001b[0;34m)\u001b[0m\u001b[0;34m\u001b[0m\u001b[0;34m\u001b[0m\u001b[0m\n",
            "\u001b[0;32m/usr/local/lib/python3.6/dist-packages/pandas/io/parsers.py\u001b[0m in \u001b[0;36mparser_f\u001b[0;34m(filepath_or_buffer, sep, delimiter, header, names, index_col, usecols, squeeze, prefix, mangle_dupe_cols, dtype, engine, converters, true_values, false_values, skipinitialspace, skiprows, skipfooter, nrows, na_values, keep_default_na, na_filter, verbose, skip_blank_lines, parse_dates, infer_datetime_format, keep_date_col, date_parser, dayfirst, cache_dates, iterator, chunksize, compression, thousands, decimal, lineterminator, quotechar, quoting, doublequote, escapechar, comment, encoding, dialect, error_bad_lines, warn_bad_lines, delim_whitespace, low_memory, memory_map, float_precision)\u001b[0m\n\u001b[1;32m    674\u001b[0m         )\n\u001b[1;32m    675\u001b[0m \u001b[0;34m\u001b[0m\u001b[0m\n\u001b[0;32m--> 676\u001b[0;31m         \u001b[0;32mreturn\u001b[0m \u001b[0m_read\u001b[0m\u001b[0;34m(\u001b[0m\u001b[0mfilepath_or_buffer\u001b[0m\u001b[0;34m,\u001b[0m \u001b[0mkwds\u001b[0m\u001b[0;34m)\u001b[0m\u001b[0;34m\u001b[0m\u001b[0;34m\u001b[0m\u001b[0m\n\u001b[0m\u001b[1;32m    677\u001b[0m \u001b[0;34m\u001b[0m\u001b[0m\n\u001b[1;32m    678\u001b[0m     \u001b[0mparser_f\u001b[0m\u001b[0;34m.\u001b[0m\u001b[0m__name__\u001b[0m \u001b[0;34m=\u001b[0m \u001b[0mname\u001b[0m\u001b[0;34m\u001b[0m\u001b[0;34m\u001b[0m\u001b[0m\n",
            "\u001b[0;32m/usr/local/lib/python3.6/dist-packages/pandas/io/parsers.py\u001b[0m in \u001b[0;36m_read\u001b[0;34m(filepath_or_buffer, kwds)\u001b[0m\n\u001b[1;32m    446\u001b[0m \u001b[0;34m\u001b[0m\u001b[0m\n\u001b[1;32m    447\u001b[0m     \u001b[0;31m# Create the parser.\u001b[0m\u001b[0;34m\u001b[0m\u001b[0;34m\u001b[0m\u001b[0;34m\u001b[0m\u001b[0m\n\u001b[0;32m--> 448\u001b[0;31m     \u001b[0mparser\u001b[0m \u001b[0;34m=\u001b[0m \u001b[0mTextFileReader\u001b[0m\u001b[0;34m(\u001b[0m\u001b[0mfp_or_buf\u001b[0m\u001b[0;34m,\u001b[0m \u001b[0;34m**\u001b[0m\u001b[0mkwds\u001b[0m\u001b[0;34m)\u001b[0m\u001b[0;34m\u001b[0m\u001b[0;34m\u001b[0m\u001b[0m\n\u001b[0m\u001b[1;32m    449\u001b[0m \u001b[0;34m\u001b[0m\u001b[0m\n\u001b[1;32m    450\u001b[0m     \u001b[0;32mif\u001b[0m \u001b[0mchunksize\u001b[0m \u001b[0;32mor\u001b[0m \u001b[0miterator\u001b[0m\u001b[0;34m:\u001b[0m\u001b[0;34m\u001b[0m\u001b[0;34m\u001b[0m\u001b[0m\n",
            "\u001b[0;32m/usr/local/lib/python3.6/dist-packages/pandas/io/parsers.py\u001b[0m in \u001b[0;36m__init__\u001b[0;34m(self, f, engine, **kwds)\u001b[0m\n\u001b[1;32m    878\u001b[0m             \u001b[0mself\u001b[0m\u001b[0;34m.\u001b[0m\u001b[0moptions\u001b[0m\u001b[0;34m[\u001b[0m\u001b[0;34m\"has_index_names\"\u001b[0m\u001b[0;34m]\u001b[0m \u001b[0;34m=\u001b[0m \u001b[0mkwds\u001b[0m\u001b[0;34m[\u001b[0m\u001b[0;34m\"has_index_names\"\u001b[0m\u001b[0;34m]\u001b[0m\u001b[0;34m\u001b[0m\u001b[0;34m\u001b[0m\u001b[0m\n\u001b[1;32m    879\u001b[0m \u001b[0;34m\u001b[0m\u001b[0m\n\u001b[0;32m--> 880\u001b[0;31m         \u001b[0mself\u001b[0m\u001b[0;34m.\u001b[0m\u001b[0m_make_engine\u001b[0m\u001b[0;34m(\u001b[0m\u001b[0mself\u001b[0m\u001b[0;34m.\u001b[0m\u001b[0mengine\u001b[0m\u001b[0;34m)\u001b[0m\u001b[0;34m\u001b[0m\u001b[0;34m\u001b[0m\u001b[0m\n\u001b[0m\u001b[1;32m    881\u001b[0m \u001b[0;34m\u001b[0m\u001b[0m\n\u001b[1;32m    882\u001b[0m     \u001b[0;32mdef\u001b[0m \u001b[0mclose\u001b[0m\u001b[0;34m(\u001b[0m\u001b[0mself\u001b[0m\u001b[0;34m)\u001b[0m\u001b[0;34m:\u001b[0m\u001b[0;34m\u001b[0m\u001b[0;34m\u001b[0m\u001b[0m\n",
            "\u001b[0;32m/usr/local/lib/python3.6/dist-packages/pandas/io/parsers.py\u001b[0m in \u001b[0;36m_make_engine\u001b[0;34m(self, engine)\u001b[0m\n\u001b[1;32m   1112\u001b[0m     \u001b[0;32mdef\u001b[0m \u001b[0m_make_engine\u001b[0m\u001b[0;34m(\u001b[0m\u001b[0mself\u001b[0m\u001b[0;34m,\u001b[0m \u001b[0mengine\u001b[0m\u001b[0;34m=\u001b[0m\u001b[0;34m\"c\"\u001b[0m\u001b[0;34m)\u001b[0m\u001b[0;34m:\u001b[0m\u001b[0;34m\u001b[0m\u001b[0;34m\u001b[0m\u001b[0m\n\u001b[1;32m   1113\u001b[0m         \u001b[0;32mif\u001b[0m \u001b[0mengine\u001b[0m \u001b[0;34m==\u001b[0m \u001b[0;34m\"c\"\u001b[0m\u001b[0;34m:\u001b[0m\u001b[0;34m\u001b[0m\u001b[0;34m\u001b[0m\u001b[0m\n\u001b[0;32m-> 1114\u001b[0;31m             \u001b[0mself\u001b[0m\u001b[0;34m.\u001b[0m\u001b[0m_engine\u001b[0m \u001b[0;34m=\u001b[0m \u001b[0mCParserWrapper\u001b[0m\u001b[0;34m(\u001b[0m\u001b[0mself\u001b[0m\u001b[0;34m.\u001b[0m\u001b[0mf\u001b[0m\u001b[0;34m,\u001b[0m \u001b[0;34m**\u001b[0m\u001b[0mself\u001b[0m\u001b[0;34m.\u001b[0m\u001b[0moptions\u001b[0m\u001b[0;34m)\u001b[0m\u001b[0;34m\u001b[0m\u001b[0;34m\u001b[0m\u001b[0m\n\u001b[0m\u001b[1;32m   1115\u001b[0m         \u001b[0;32melse\u001b[0m\u001b[0;34m:\u001b[0m\u001b[0;34m\u001b[0m\u001b[0;34m\u001b[0m\u001b[0m\n\u001b[1;32m   1116\u001b[0m             \u001b[0;32mif\u001b[0m \u001b[0mengine\u001b[0m \u001b[0;34m==\u001b[0m \u001b[0;34m\"python\"\u001b[0m\u001b[0;34m:\u001b[0m\u001b[0;34m\u001b[0m\u001b[0;34m\u001b[0m\u001b[0m\n",
            "\u001b[0;32m/usr/local/lib/python3.6/dist-packages/pandas/io/parsers.py\u001b[0m in \u001b[0;36m__init__\u001b[0;34m(self, src, **kwds)\u001b[0m\n\u001b[1;32m   1889\u001b[0m         \u001b[0mkwds\u001b[0m\u001b[0;34m[\u001b[0m\u001b[0;34m\"usecols\"\u001b[0m\u001b[0;34m]\u001b[0m \u001b[0;34m=\u001b[0m \u001b[0mself\u001b[0m\u001b[0;34m.\u001b[0m\u001b[0musecols\u001b[0m\u001b[0;34m\u001b[0m\u001b[0;34m\u001b[0m\u001b[0m\n\u001b[1;32m   1890\u001b[0m \u001b[0;34m\u001b[0m\u001b[0m\n\u001b[0;32m-> 1891\u001b[0;31m         \u001b[0mself\u001b[0m\u001b[0;34m.\u001b[0m\u001b[0m_reader\u001b[0m \u001b[0;34m=\u001b[0m \u001b[0mparsers\u001b[0m\u001b[0;34m.\u001b[0m\u001b[0mTextReader\u001b[0m\u001b[0;34m(\u001b[0m\u001b[0msrc\u001b[0m\u001b[0;34m,\u001b[0m \u001b[0;34m**\u001b[0m\u001b[0mkwds\u001b[0m\u001b[0;34m)\u001b[0m\u001b[0;34m\u001b[0m\u001b[0;34m\u001b[0m\u001b[0m\n\u001b[0m\u001b[1;32m   1892\u001b[0m         \u001b[0mself\u001b[0m\u001b[0;34m.\u001b[0m\u001b[0munnamed_cols\u001b[0m \u001b[0;34m=\u001b[0m \u001b[0mself\u001b[0m\u001b[0;34m.\u001b[0m\u001b[0m_reader\u001b[0m\u001b[0;34m.\u001b[0m\u001b[0munnamed_cols\u001b[0m\u001b[0;34m\u001b[0m\u001b[0;34m\u001b[0m\u001b[0m\n\u001b[1;32m   1893\u001b[0m \u001b[0;34m\u001b[0m\u001b[0m\n",
            "\u001b[0;32mpandas/_libs/parsers.pyx\u001b[0m in \u001b[0;36mpandas._libs.parsers.TextReader.__cinit__\u001b[0;34m()\u001b[0m\n",
            "\u001b[0;32mpandas/_libs/parsers.pyx\u001b[0m in \u001b[0;36mpandas._libs.parsers.TextReader._setup_parser_source\u001b[0;34m()\u001b[0m\n",
            "\u001b[0;31mFileNotFoundError\u001b[0m: [Errno 2] File data_unseen.csv does not exist: 'data_unseen.csv'"
          ]
        }
      ]
    },
    {
      "cell_type": "code",
      "metadata": {
        "id": "XaaF4bFLZbhC",
        "colab_type": "code",
        "colab": {}
      },
      "source": [
        "## prediction on new data from cloud"
      ],
      "execution_count": 0,
      "outputs": []
    },
    {
      "cell_type": "code",
      "metadata": {
        "id": "R5N3TEciZtmH",
        "colab_type": "code",
        "colab": {
          "base_uri": "https://localhost:8080/",
          "height": 376
        },
        "outputId": "598e13a8-5950-4d0d-80ad-b635d9669e4a"
      },
      "source": [
        "from pycaret.datasets import get_data\n",
        "boston = get_data('boston')\n",
        "# Importing module and initializing setup\n",
        "from pycaret.regression import *\n",
        "reg1 = setup(data = boston, target = 'medv')\n",
        "# create a model\n",
        "lr = create_model('lr')\n",
        "# finalize a model\n",
        "lr_final = finalize_model(lr)\n",
        "# deploy a model\n",
        "deploy_model(lr_final, model_name = 'lr_aws', platform = 'aws',\n",
        "             authentication = {'bucket' : 'pycaret-test'})\n",
        "# importing unseen data \n",
        "import pandas as pd\n",
        "data_unseen = pd.read_csv('data_unseen.csv') \n",
        "# generate predictions directly from AWS\n",
        "predictions = predict_model('lr_aws', data = data_unseen, platform = 'aws', authentication = {'bucket' : 'pycaret-test'})"
      ],
      "execution_count": 71,
      "outputs": [
        {
          "output_type": "error",
          "ename": "NoCredentialsError",
          "evalue": "ignored",
          "traceback": [
            "\u001b[0;31m---------------------------------------------------------------------------\u001b[0m",
            "\u001b[0;31mNoCredentialsError\u001b[0m                        Traceback (most recent call last)",
            "\u001b[0;32m<ipython-input-71-12e7b3ff2ac2>\u001b[0m in \u001b[0;36m<module>\u001b[0;34m()\u001b[0m\n\u001b[1;32m     10\u001b[0m \u001b[0;31m# deploy a model\u001b[0m\u001b[0;34m\u001b[0m\u001b[0;34m\u001b[0m\u001b[0;34m\u001b[0m\u001b[0m\n\u001b[1;32m     11\u001b[0m deploy_model(lr_final, model_name = 'lr_aws', platform = 'aws',\n\u001b[0;32m---> 12\u001b[0;31m              authentication = {'bucket' : 'pycaret-test'})\n\u001b[0m\u001b[1;32m     13\u001b[0m \u001b[0;31m# importing unseen data\u001b[0m\u001b[0;34m\u001b[0m\u001b[0;34m\u001b[0m\u001b[0;34m\u001b[0m\u001b[0m\n\u001b[1;32m     14\u001b[0m \u001b[0;32mimport\u001b[0m \u001b[0mpandas\u001b[0m \u001b[0;32mas\u001b[0m \u001b[0mpd\u001b[0m\u001b[0;34m\u001b[0m\u001b[0;34m\u001b[0m\u001b[0m\n",
            "\u001b[0;32m/usr/local/lib/python3.6/dist-packages/pycaret/regression.py\u001b[0m in \u001b[0;36mdeploy_model\u001b[0;34m(model, model_name, authentication, platform)\u001b[0m\n\u001b[1;32m   7170\u001b[0m         \u001b[0mkey\u001b[0m \u001b[0;34m=\u001b[0m \u001b[0mstr\u001b[0m\u001b[0;34m(\u001b[0m\u001b[0mmodel_name\u001b[0m\u001b[0;34m)\u001b[0m\u001b[0;34m+\u001b[0m\u001b[0;34m'.pkl'\u001b[0m\u001b[0;34m\u001b[0m\u001b[0;34m\u001b[0m\u001b[0m\n\u001b[1;32m   7171\u001b[0m         \u001b[0mbucket_name\u001b[0m \u001b[0;34m=\u001b[0m \u001b[0mauthentication\u001b[0m\u001b[0;34m.\u001b[0m\u001b[0mget\u001b[0m\u001b[0;34m(\u001b[0m\u001b[0;34m'bucket'\u001b[0m\u001b[0;34m)\u001b[0m\u001b[0;34m\u001b[0m\u001b[0;34m\u001b[0m\u001b[0m\n\u001b[0;32m-> 7172\u001b[0;31m         \u001b[0ms3\u001b[0m\u001b[0;34m.\u001b[0m\u001b[0mupload_file\u001b[0m\u001b[0;34m(\u001b[0m\u001b[0mfilename\u001b[0m\u001b[0;34m,\u001b[0m\u001b[0mbucket_name\u001b[0m\u001b[0;34m,\u001b[0m\u001b[0mkey\u001b[0m\u001b[0;34m)\u001b[0m\u001b[0;34m\u001b[0m\u001b[0;34m\u001b[0m\u001b[0m\n\u001b[0m\u001b[1;32m   7173\u001b[0m         \u001b[0mclear_output\u001b[0m\u001b[0;34m(\u001b[0m\u001b[0;34m)\u001b[0m\u001b[0;34m\u001b[0m\u001b[0;34m\u001b[0m\u001b[0m\n\u001b[1;32m   7174\u001b[0m         \u001b[0mprint\u001b[0m\u001b[0;34m(\u001b[0m\u001b[0;34m\"Model Succesfully Deployed on AWS S3\"\u001b[0m\u001b[0;34m)\u001b[0m\u001b[0;34m\u001b[0m\u001b[0;34m\u001b[0m\u001b[0m\n",
            "\u001b[0;32m/usr/local/lib/python3.6/dist-packages/boto3/s3/inject.py\u001b[0m in \u001b[0;36mupload_file\u001b[0;34m(self, Filename, Bucket, Key, ExtraArgs, Callback, Config)\u001b[0m\n\u001b[1;32m    129\u001b[0m         return transfer.upload_file(\n\u001b[1;32m    130\u001b[0m             \u001b[0mfilename\u001b[0m\u001b[0;34m=\u001b[0m\u001b[0mFilename\u001b[0m\u001b[0;34m,\u001b[0m \u001b[0mbucket\u001b[0m\u001b[0;34m=\u001b[0m\u001b[0mBucket\u001b[0m\u001b[0;34m,\u001b[0m \u001b[0mkey\u001b[0m\u001b[0;34m=\u001b[0m\u001b[0mKey\u001b[0m\u001b[0;34m,\u001b[0m\u001b[0;34m\u001b[0m\u001b[0;34m\u001b[0m\u001b[0m\n\u001b[0;32m--> 131\u001b[0;31m             extra_args=ExtraArgs, callback=Callback)\n\u001b[0m\u001b[1;32m    132\u001b[0m \u001b[0;34m\u001b[0m\u001b[0m\n\u001b[1;32m    133\u001b[0m \u001b[0;34m\u001b[0m\u001b[0m\n",
            "\u001b[0;32m/usr/local/lib/python3.6/dist-packages/boto3/s3/transfer.py\u001b[0m in \u001b[0;36mupload_file\u001b[0;34m(self, filename, bucket, key, callback, extra_args)\u001b[0m\n\u001b[1;32m    277\u001b[0m             filename, bucket, key, extra_args, subscribers)\n\u001b[1;32m    278\u001b[0m         \u001b[0;32mtry\u001b[0m\u001b[0;34m:\u001b[0m\u001b[0;34m\u001b[0m\u001b[0;34m\u001b[0m\u001b[0m\n\u001b[0;32m--> 279\u001b[0;31m             \u001b[0mfuture\u001b[0m\u001b[0;34m.\u001b[0m\u001b[0mresult\u001b[0m\u001b[0;34m(\u001b[0m\u001b[0;34m)\u001b[0m\u001b[0;34m\u001b[0m\u001b[0;34m\u001b[0m\u001b[0m\n\u001b[0m\u001b[1;32m    280\u001b[0m         \u001b[0;31m# If a client error was raised, add the backwards compatibility layer\u001b[0m\u001b[0;34m\u001b[0m\u001b[0;34m\u001b[0m\u001b[0;34m\u001b[0m\u001b[0m\n\u001b[1;32m    281\u001b[0m         \u001b[0;31m# that raises a S3UploadFailedError. These specific errors were only\u001b[0m\u001b[0;34m\u001b[0m\u001b[0;34m\u001b[0m\u001b[0;34m\u001b[0m\u001b[0m\n",
            "\u001b[0;32m/usr/local/lib/python3.6/dist-packages/s3transfer/futures.py\u001b[0m in \u001b[0;36mresult\u001b[0;34m(self)\u001b[0m\n\u001b[1;32m    104\u001b[0m             \u001b[0;31m# however if a KeyboardInterrupt is raised we want want to exit\u001b[0m\u001b[0;34m\u001b[0m\u001b[0;34m\u001b[0m\u001b[0;34m\u001b[0m\u001b[0m\n\u001b[1;32m    105\u001b[0m             \u001b[0;31m# out of this and propogate the exception.\u001b[0m\u001b[0;34m\u001b[0m\u001b[0;34m\u001b[0m\u001b[0;34m\u001b[0m\u001b[0m\n\u001b[0;32m--> 106\u001b[0;31m             \u001b[0;32mreturn\u001b[0m \u001b[0mself\u001b[0m\u001b[0;34m.\u001b[0m\u001b[0m_coordinator\u001b[0m\u001b[0;34m.\u001b[0m\u001b[0mresult\u001b[0m\u001b[0;34m(\u001b[0m\u001b[0;34m)\u001b[0m\u001b[0;34m\u001b[0m\u001b[0;34m\u001b[0m\u001b[0m\n\u001b[0m\u001b[1;32m    107\u001b[0m         \u001b[0;32mexcept\u001b[0m \u001b[0mKeyboardInterrupt\u001b[0m \u001b[0;32mas\u001b[0m \u001b[0me\u001b[0m\u001b[0;34m:\u001b[0m\u001b[0;34m\u001b[0m\u001b[0;34m\u001b[0m\u001b[0m\n\u001b[1;32m    108\u001b[0m             \u001b[0mself\u001b[0m\u001b[0;34m.\u001b[0m\u001b[0mcancel\u001b[0m\u001b[0;34m(\u001b[0m\u001b[0;34m)\u001b[0m\u001b[0;34m\u001b[0m\u001b[0;34m\u001b[0m\u001b[0m\n",
            "\u001b[0;32m/usr/local/lib/python3.6/dist-packages/s3transfer/futures.py\u001b[0m in \u001b[0;36mresult\u001b[0;34m(self)\u001b[0m\n\u001b[1;32m    263\u001b[0m         \u001b[0;31m# final result.\u001b[0m\u001b[0;34m\u001b[0m\u001b[0;34m\u001b[0m\u001b[0;34m\u001b[0m\u001b[0m\n\u001b[1;32m    264\u001b[0m         \u001b[0;32mif\u001b[0m \u001b[0mself\u001b[0m\u001b[0;34m.\u001b[0m\u001b[0m_exception\u001b[0m\u001b[0;34m:\u001b[0m\u001b[0;34m\u001b[0m\u001b[0;34m\u001b[0m\u001b[0m\n\u001b[0;32m--> 265\u001b[0;31m             \u001b[0;32mraise\u001b[0m \u001b[0mself\u001b[0m\u001b[0;34m.\u001b[0m\u001b[0m_exception\u001b[0m\u001b[0;34m\u001b[0m\u001b[0;34m\u001b[0m\u001b[0m\n\u001b[0m\u001b[1;32m    266\u001b[0m         \u001b[0;32mreturn\u001b[0m \u001b[0mself\u001b[0m\u001b[0;34m.\u001b[0m\u001b[0m_result\u001b[0m\u001b[0;34m\u001b[0m\u001b[0;34m\u001b[0m\u001b[0m\n\u001b[1;32m    267\u001b[0m \u001b[0;34m\u001b[0m\u001b[0m\n",
            "\u001b[0;32m/usr/local/lib/python3.6/dist-packages/s3transfer/tasks.py\u001b[0m in \u001b[0;36m__call__\u001b[0;34m(self)\u001b[0m\n\u001b[1;32m    124\u001b[0m             \u001b[0;31m# main() method.\u001b[0m\u001b[0;34m\u001b[0m\u001b[0;34m\u001b[0m\u001b[0;34m\u001b[0m\u001b[0m\n\u001b[1;32m    125\u001b[0m             \u001b[0;32mif\u001b[0m \u001b[0;32mnot\u001b[0m \u001b[0mself\u001b[0m\u001b[0;34m.\u001b[0m\u001b[0m_transfer_coordinator\u001b[0m\u001b[0;34m.\u001b[0m\u001b[0mdone\u001b[0m\u001b[0;34m(\u001b[0m\u001b[0;34m)\u001b[0m\u001b[0;34m:\u001b[0m\u001b[0;34m\u001b[0m\u001b[0;34m\u001b[0m\u001b[0m\n\u001b[0;32m--> 126\u001b[0;31m                 \u001b[0;32mreturn\u001b[0m \u001b[0mself\u001b[0m\u001b[0;34m.\u001b[0m\u001b[0m_execute_main\u001b[0m\u001b[0;34m(\u001b[0m\u001b[0mkwargs\u001b[0m\u001b[0;34m)\u001b[0m\u001b[0;34m\u001b[0m\u001b[0;34m\u001b[0m\u001b[0m\n\u001b[0m\u001b[1;32m    127\u001b[0m         \u001b[0;32mexcept\u001b[0m \u001b[0mException\u001b[0m \u001b[0;32mas\u001b[0m \u001b[0me\u001b[0m\u001b[0;34m:\u001b[0m\u001b[0;34m\u001b[0m\u001b[0;34m\u001b[0m\u001b[0m\n\u001b[1;32m    128\u001b[0m             \u001b[0mself\u001b[0m\u001b[0;34m.\u001b[0m\u001b[0m_log_and_set_exception\u001b[0m\u001b[0;34m(\u001b[0m\u001b[0me\u001b[0m\u001b[0;34m)\u001b[0m\u001b[0;34m\u001b[0m\u001b[0;34m\u001b[0m\u001b[0m\n",
            "\u001b[0;32m/usr/local/lib/python3.6/dist-packages/s3transfer/tasks.py\u001b[0m in \u001b[0;36m_execute_main\u001b[0;34m(self, kwargs)\u001b[0m\n\u001b[1;32m    148\u001b[0m         )\n\u001b[1;32m    149\u001b[0m \u001b[0;34m\u001b[0m\u001b[0m\n\u001b[0;32m--> 150\u001b[0;31m         \u001b[0mreturn_value\u001b[0m \u001b[0;34m=\u001b[0m \u001b[0mself\u001b[0m\u001b[0;34m.\u001b[0m\u001b[0m_main\u001b[0m\u001b[0;34m(\u001b[0m\u001b[0;34m**\u001b[0m\u001b[0mkwargs\u001b[0m\u001b[0;34m)\u001b[0m\u001b[0;34m\u001b[0m\u001b[0;34m\u001b[0m\u001b[0m\n\u001b[0m\u001b[1;32m    151\u001b[0m         \u001b[0;31m# If the task is the final task, then set the TransferFuture's\u001b[0m\u001b[0;34m\u001b[0m\u001b[0;34m\u001b[0m\u001b[0;34m\u001b[0m\u001b[0m\n\u001b[1;32m    152\u001b[0m         \u001b[0;31m# value to the return value from main().\u001b[0m\u001b[0;34m\u001b[0m\u001b[0;34m\u001b[0m\u001b[0;34m\u001b[0m\u001b[0m\n",
            "\u001b[0;32m/usr/local/lib/python3.6/dist-packages/s3transfer/upload.py\u001b[0m in \u001b[0;36m_main\u001b[0;34m(self, client, fileobj, bucket, key, extra_args)\u001b[0m\n\u001b[1;32m    690\u001b[0m         \"\"\"\n\u001b[1;32m    691\u001b[0m         \u001b[0;32mwith\u001b[0m \u001b[0mfileobj\u001b[0m \u001b[0;32mas\u001b[0m \u001b[0mbody\u001b[0m\u001b[0;34m:\u001b[0m\u001b[0;34m\u001b[0m\u001b[0;34m\u001b[0m\u001b[0m\n\u001b[0;32m--> 692\u001b[0;31m             \u001b[0mclient\u001b[0m\u001b[0;34m.\u001b[0m\u001b[0mput_object\u001b[0m\u001b[0;34m(\u001b[0m\u001b[0mBucket\u001b[0m\u001b[0;34m=\u001b[0m\u001b[0mbucket\u001b[0m\u001b[0;34m,\u001b[0m \u001b[0mKey\u001b[0m\u001b[0;34m=\u001b[0m\u001b[0mkey\u001b[0m\u001b[0;34m,\u001b[0m \u001b[0mBody\u001b[0m\u001b[0;34m=\u001b[0m\u001b[0mbody\u001b[0m\u001b[0;34m,\u001b[0m \u001b[0;34m**\u001b[0m\u001b[0mextra_args\u001b[0m\u001b[0;34m)\u001b[0m\u001b[0;34m\u001b[0m\u001b[0;34m\u001b[0m\u001b[0m\n\u001b[0m\u001b[1;32m    693\u001b[0m \u001b[0;34m\u001b[0m\u001b[0m\n\u001b[1;32m    694\u001b[0m \u001b[0;34m\u001b[0m\u001b[0m\n",
            "\u001b[0;32m/usr/local/lib/python3.6/dist-packages/botocore/client.py\u001b[0m in \u001b[0;36m_api_call\u001b[0;34m(self, *args, **kwargs)\u001b[0m\n\u001b[1;32m    314\u001b[0m                     \"%s() only accepts keyword arguments.\" % py_operation_name)\n\u001b[1;32m    315\u001b[0m             \u001b[0;31m# The \"self\" in this scope is referring to the BaseClient.\u001b[0m\u001b[0;34m\u001b[0m\u001b[0;34m\u001b[0m\u001b[0;34m\u001b[0m\u001b[0m\n\u001b[0;32m--> 316\u001b[0;31m             \u001b[0;32mreturn\u001b[0m \u001b[0mself\u001b[0m\u001b[0;34m.\u001b[0m\u001b[0m_make_api_call\u001b[0m\u001b[0;34m(\u001b[0m\u001b[0moperation_name\u001b[0m\u001b[0;34m,\u001b[0m \u001b[0mkwargs\u001b[0m\u001b[0;34m)\u001b[0m\u001b[0;34m\u001b[0m\u001b[0;34m\u001b[0m\u001b[0m\n\u001b[0m\u001b[1;32m    317\u001b[0m \u001b[0;34m\u001b[0m\u001b[0m\n\u001b[1;32m    318\u001b[0m         \u001b[0m_api_call\u001b[0m\u001b[0;34m.\u001b[0m\u001b[0m__name__\u001b[0m \u001b[0;34m=\u001b[0m \u001b[0mstr\u001b[0m\u001b[0;34m(\u001b[0m\u001b[0mpy_operation_name\u001b[0m\u001b[0;34m)\u001b[0m\u001b[0;34m\u001b[0m\u001b[0;34m\u001b[0m\u001b[0m\n",
            "\u001b[0;32m/usr/local/lib/python3.6/dist-packages/botocore/client.py\u001b[0m in \u001b[0;36m_make_api_call\u001b[0;34m(self, operation_name, api_params)\u001b[0m\n\u001b[1;32m    611\u001b[0m         \u001b[0;32melse\u001b[0m\u001b[0;34m:\u001b[0m\u001b[0;34m\u001b[0m\u001b[0;34m\u001b[0m\u001b[0m\n\u001b[1;32m    612\u001b[0m             http, parsed_response = self._make_request(\n\u001b[0;32m--> 613\u001b[0;31m                 operation_model, request_dict, request_context)\n\u001b[0m\u001b[1;32m    614\u001b[0m \u001b[0;34m\u001b[0m\u001b[0m\n\u001b[1;32m    615\u001b[0m         self.meta.events.emit(\n",
            "\u001b[0;32m/usr/local/lib/python3.6/dist-packages/botocore/client.py\u001b[0m in \u001b[0;36m_make_request\u001b[0;34m(self, operation_model, request_dict, request_context)\u001b[0m\n\u001b[1;32m    630\u001b[0m     \u001b[0;32mdef\u001b[0m \u001b[0m_make_request\u001b[0m\u001b[0;34m(\u001b[0m\u001b[0mself\u001b[0m\u001b[0;34m,\u001b[0m \u001b[0moperation_model\u001b[0m\u001b[0;34m,\u001b[0m \u001b[0mrequest_dict\u001b[0m\u001b[0;34m,\u001b[0m \u001b[0mrequest_context\u001b[0m\u001b[0;34m)\u001b[0m\u001b[0;34m:\u001b[0m\u001b[0;34m\u001b[0m\u001b[0;34m\u001b[0m\u001b[0m\n\u001b[1;32m    631\u001b[0m         \u001b[0;32mtry\u001b[0m\u001b[0;34m:\u001b[0m\u001b[0;34m\u001b[0m\u001b[0;34m\u001b[0m\u001b[0m\n\u001b[0;32m--> 632\u001b[0;31m             \u001b[0;32mreturn\u001b[0m \u001b[0mself\u001b[0m\u001b[0;34m.\u001b[0m\u001b[0m_endpoint\u001b[0m\u001b[0;34m.\u001b[0m\u001b[0mmake_request\u001b[0m\u001b[0;34m(\u001b[0m\u001b[0moperation_model\u001b[0m\u001b[0;34m,\u001b[0m \u001b[0mrequest_dict\u001b[0m\u001b[0;34m)\u001b[0m\u001b[0;34m\u001b[0m\u001b[0;34m\u001b[0m\u001b[0m\n\u001b[0m\u001b[1;32m    633\u001b[0m         \u001b[0;32mexcept\u001b[0m \u001b[0mException\u001b[0m \u001b[0;32mas\u001b[0m \u001b[0me\u001b[0m\u001b[0;34m:\u001b[0m\u001b[0;34m\u001b[0m\u001b[0;34m\u001b[0m\u001b[0m\n\u001b[1;32m    634\u001b[0m             self.meta.events.emit(\n",
            "\u001b[0;32m/usr/local/lib/python3.6/dist-packages/botocore/endpoint.py\u001b[0m in \u001b[0;36mmake_request\u001b[0;34m(self, operation_model, request_dict)\u001b[0m\n\u001b[1;32m    100\u001b[0m         logger.debug(\"Making request for %s with params: %s\",\n\u001b[1;32m    101\u001b[0m                      operation_model, request_dict)\n\u001b[0;32m--> 102\u001b[0;31m         \u001b[0;32mreturn\u001b[0m \u001b[0mself\u001b[0m\u001b[0;34m.\u001b[0m\u001b[0m_send_request\u001b[0m\u001b[0;34m(\u001b[0m\u001b[0mrequest_dict\u001b[0m\u001b[0;34m,\u001b[0m \u001b[0moperation_model\u001b[0m\u001b[0;34m)\u001b[0m\u001b[0;34m\u001b[0m\u001b[0;34m\u001b[0m\u001b[0m\n\u001b[0m\u001b[1;32m    103\u001b[0m \u001b[0;34m\u001b[0m\u001b[0m\n\u001b[1;32m    104\u001b[0m     \u001b[0;32mdef\u001b[0m \u001b[0mcreate_request\u001b[0m\u001b[0;34m(\u001b[0m\u001b[0mself\u001b[0m\u001b[0;34m,\u001b[0m \u001b[0mparams\u001b[0m\u001b[0;34m,\u001b[0m \u001b[0moperation_model\u001b[0m\u001b[0;34m=\u001b[0m\u001b[0;32mNone\u001b[0m\u001b[0;34m)\u001b[0m\u001b[0;34m:\u001b[0m\u001b[0;34m\u001b[0m\u001b[0;34m\u001b[0m\u001b[0m\n",
            "\u001b[0;32m/usr/local/lib/python3.6/dist-packages/botocore/endpoint.py\u001b[0m in \u001b[0;36m_send_request\u001b[0;34m(self, request_dict, operation_model)\u001b[0m\n\u001b[1;32m    130\u001b[0m     \u001b[0;32mdef\u001b[0m \u001b[0m_send_request\u001b[0m\u001b[0;34m(\u001b[0m\u001b[0mself\u001b[0m\u001b[0;34m,\u001b[0m \u001b[0mrequest_dict\u001b[0m\u001b[0;34m,\u001b[0m \u001b[0moperation_model\u001b[0m\u001b[0;34m)\u001b[0m\u001b[0;34m:\u001b[0m\u001b[0;34m\u001b[0m\u001b[0;34m\u001b[0m\u001b[0m\n\u001b[1;32m    131\u001b[0m         \u001b[0mattempts\u001b[0m \u001b[0;34m=\u001b[0m \u001b[0;36m1\u001b[0m\u001b[0;34m\u001b[0m\u001b[0;34m\u001b[0m\u001b[0m\n\u001b[0;32m--> 132\u001b[0;31m         \u001b[0mrequest\u001b[0m \u001b[0;34m=\u001b[0m \u001b[0mself\u001b[0m\u001b[0;34m.\u001b[0m\u001b[0mcreate_request\u001b[0m\u001b[0;34m(\u001b[0m\u001b[0mrequest_dict\u001b[0m\u001b[0;34m,\u001b[0m \u001b[0moperation_model\u001b[0m\u001b[0;34m)\u001b[0m\u001b[0;34m\u001b[0m\u001b[0;34m\u001b[0m\u001b[0m\n\u001b[0m\u001b[1;32m    133\u001b[0m         \u001b[0mcontext\u001b[0m \u001b[0;34m=\u001b[0m \u001b[0mrequest_dict\u001b[0m\u001b[0;34m[\u001b[0m\u001b[0;34m'context'\u001b[0m\u001b[0;34m]\u001b[0m\u001b[0;34m\u001b[0m\u001b[0;34m\u001b[0m\u001b[0m\n\u001b[1;32m    134\u001b[0m         success_response, exception = self._get_response(\n",
            "\u001b[0;32m/usr/local/lib/python3.6/dist-packages/botocore/endpoint.py\u001b[0m in \u001b[0;36mcreate_request\u001b[0;34m(self, params, operation_model)\u001b[0m\n\u001b[1;32m    114\u001b[0m                 op_name=operation_model.name)\n\u001b[1;32m    115\u001b[0m             self._event_emitter.emit(event_name, request=request,\n\u001b[0;32m--> 116\u001b[0;31m                                      operation_name=operation_model.name)\n\u001b[0m\u001b[1;32m    117\u001b[0m         \u001b[0mprepared_request\u001b[0m \u001b[0;34m=\u001b[0m \u001b[0mself\u001b[0m\u001b[0;34m.\u001b[0m\u001b[0mprepare_request\u001b[0m\u001b[0;34m(\u001b[0m\u001b[0mrequest\u001b[0m\u001b[0;34m)\u001b[0m\u001b[0;34m\u001b[0m\u001b[0;34m\u001b[0m\u001b[0m\n\u001b[1;32m    118\u001b[0m         \u001b[0;32mreturn\u001b[0m \u001b[0mprepared_request\u001b[0m\u001b[0;34m\u001b[0m\u001b[0;34m\u001b[0m\u001b[0m\n",
            "\u001b[0;32m/usr/local/lib/python3.6/dist-packages/botocore/hooks.py\u001b[0m in \u001b[0;36memit\u001b[0;34m(self, event_name, **kwargs)\u001b[0m\n\u001b[1;32m    354\u001b[0m     \u001b[0;32mdef\u001b[0m \u001b[0memit\u001b[0m\u001b[0;34m(\u001b[0m\u001b[0mself\u001b[0m\u001b[0;34m,\u001b[0m \u001b[0mevent_name\u001b[0m\u001b[0;34m,\u001b[0m \u001b[0;34m**\u001b[0m\u001b[0mkwargs\u001b[0m\u001b[0;34m)\u001b[0m\u001b[0;34m:\u001b[0m\u001b[0;34m\u001b[0m\u001b[0;34m\u001b[0m\u001b[0m\n\u001b[1;32m    355\u001b[0m         \u001b[0maliased_event_name\u001b[0m \u001b[0;34m=\u001b[0m \u001b[0mself\u001b[0m\u001b[0;34m.\u001b[0m\u001b[0m_alias_event_name\u001b[0m\u001b[0;34m(\u001b[0m\u001b[0mevent_name\u001b[0m\u001b[0;34m)\u001b[0m\u001b[0;34m\u001b[0m\u001b[0;34m\u001b[0m\u001b[0m\n\u001b[0;32m--> 356\u001b[0;31m         \u001b[0;32mreturn\u001b[0m \u001b[0mself\u001b[0m\u001b[0;34m.\u001b[0m\u001b[0m_emitter\u001b[0m\u001b[0;34m.\u001b[0m\u001b[0memit\u001b[0m\u001b[0;34m(\u001b[0m\u001b[0maliased_event_name\u001b[0m\u001b[0;34m,\u001b[0m \u001b[0;34m**\u001b[0m\u001b[0mkwargs\u001b[0m\u001b[0;34m)\u001b[0m\u001b[0;34m\u001b[0m\u001b[0;34m\u001b[0m\u001b[0m\n\u001b[0m\u001b[1;32m    357\u001b[0m \u001b[0;34m\u001b[0m\u001b[0m\n\u001b[1;32m    358\u001b[0m     \u001b[0;32mdef\u001b[0m \u001b[0memit_until_response\u001b[0m\u001b[0;34m(\u001b[0m\u001b[0mself\u001b[0m\u001b[0;34m,\u001b[0m \u001b[0mevent_name\u001b[0m\u001b[0;34m,\u001b[0m \u001b[0;34m**\u001b[0m\u001b[0mkwargs\u001b[0m\u001b[0;34m)\u001b[0m\u001b[0;34m:\u001b[0m\u001b[0;34m\u001b[0m\u001b[0;34m\u001b[0m\u001b[0m\n",
            "\u001b[0;32m/usr/local/lib/python3.6/dist-packages/botocore/hooks.py\u001b[0m in \u001b[0;36memit\u001b[0;34m(self, event_name, **kwargs)\u001b[0m\n\u001b[1;32m    226\u001b[0m                  \u001b[0mhandlers\u001b[0m\u001b[0;34m.\u001b[0m\u001b[0;34m\u001b[0m\u001b[0;34m\u001b[0m\u001b[0m\n\u001b[1;32m    227\u001b[0m         \"\"\"\n\u001b[0;32m--> 228\u001b[0;31m         \u001b[0;32mreturn\u001b[0m \u001b[0mself\u001b[0m\u001b[0;34m.\u001b[0m\u001b[0m_emit\u001b[0m\u001b[0;34m(\u001b[0m\u001b[0mevent_name\u001b[0m\u001b[0;34m,\u001b[0m \u001b[0mkwargs\u001b[0m\u001b[0;34m)\u001b[0m\u001b[0;34m\u001b[0m\u001b[0;34m\u001b[0m\u001b[0m\n\u001b[0m\u001b[1;32m    229\u001b[0m \u001b[0;34m\u001b[0m\u001b[0m\n\u001b[1;32m    230\u001b[0m     \u001b[0;32mdef\u001b[0m \u001b[0memit_until_response\u001b[0m\u001b[0;34m(\u001b[0m\u001b[0mself\u001b[0m\u001b[0;34m,\u001b[0m \u001b[0mevent_name\u001b[0m\u001b[0;34m,\u001b[0m \u001b[0;34m**\u001b[0m\u001b[0mkwargs\u001b[0m\u001b[0;34m)\u001b[0m\u001b[0;34m:\u001b[0m\u001b[0;34m\u001b[0m\u001b[0;34m\u001b[0m\u001b[0m\n",
            "\u001b[0;32m/usr/local/lib/python3.6/dist-packages/botocore/hooks.py\u001b[0m in \u001b[0;36m_emit\u001b[0;34m(self, event_name, kwargs, stop_on_response)\u001b[0m\n\u001b[1;32m    209\u001b[0m         \u001b[0;32mfor\u001b[0m \u001b[0mhandler\u001b[0m \u001b[0;32min\u001b[0m \u001b[0mhandlers_to_call\u001b[0m\u001b[0;34m:\u001b[0m\u001b[0;34m\u001b[0m\u001b[0;34m\u001b[0m\u001b[0m\n\u001b[1;32m    210\u001b[0m             \u001b[0mlogger\u001b[0m\u001b[0;34m.\u001b[0m\u001b[0mdebug\u001b[0m\u001b[0;34m(\u001b[0m\u001b[0;34m'Event %s: calling handler %s'\u001b[0m\u001b[0;34m,\u001b[0m \u001b[0mevent_name\u001b[0m\u001b[0;34m,\u001b[0m \u001b[0mhandler\u001b[0m\u001b[0;34m)\u001b[0m\u001b[0;34m\u001b[0m\u001b[0;34m\u001b[0m\u001b[0m\n\u001b[0;32m--> 211\u001b[0;31m             \u001b[0mresponse\u001b[0m \u001b[0;34m=\u001b[0m \u001b[0mhandler\u001b[0m\u001b[0;34m(\u001b[0m\u001b[0;34m**\u001b[0m\u001b[0mkwargs\u001b[0m\u001b[0;34m)\u001b[0m\u001b[0;34m\u001b[0m\u001b[0;34m\u001b[0m\u001b[0m\n\u001b[0m\u001b[1;32m    212\u001b[0m             \u001b[0mresponses\u001b[0m\u001b[0;34m.\u001b[0m\u001b[0mappend\u001b[0m\u001b[0;34m(\u001b[0m\u001b[0;34m(\u001b[0m\u001b[0mhandler\u001b[0m\u001b[0;34m,\u001b[0m \u001b[0mresponse\u001b[0m\u001b[0;34m)\u001b[0m\u001b[0;34m)\u001b[0m\u001b[0;34m\u001b[0m\u001b[0;34m\u001b[0m\u001b[0m\n\u001b[1;32m    213\u001b[0m             \u001b[0;32mif\u001b[0m \u001b[0mstop_on_response\u001b[0m \u001b[0;32mand\u001b[0m \u001b[0mresponse\u001b[0m \u001b[0;32mis\u001b[0m \u001b[0;32mnot\u001b[0m \u001b[0;32mNone\u001b[0m\u001b[0;34m:\u001b[0m\u001b[0;34m\u001b[0m\u001b[0;34m\u001b[0m\u001b[0m\n",
            "\u001b[0;32m/usr/local/lib/python3.6/dist-packages/botocore/signers.py\u001b[0m in \u001b[0;36mhandler\u001b[0;34m(self, operation_name, request, **kwargs)\u001b[0m\n\u001b[1;32m     88\u001b[0m         \u001b[0;31m# this method is invoked to sign the request.\u001b[0m\u001b[0;34m\u001b[0m\u001b[0;34m\u001b[0m\u001b[0;34m\u001b[0m\u001b[0m\n\u001b[1;32m     89\u001b[0m         \u001b[0;31m# Don't call this method directly.\u001b[0m\u001b[0;34m\u001b[0m\u001b[0;34m\u001b[0m\u001b[0;34m\u001b[0m\u001b[0m\n\u001b[0;32m---> 90\u001b[0;31m         \u001b[0;32mreturn\u001b[0m \u001b[0mself\u001b[0m\u001b[0;34m.\u001b[0m\u001b[0msign\u001b[0m\u001b[0;34m(\u001b[0m\u001b[0moperation_name\u001b[0m\u001b[0;34m,\u001b[0m \u001b[0mrequest\u001b[0m\u001b[0;34m)\u001b[0m\u001b[0;34m\u001b[0m\u001b[0;34m\u001b[0m\u001b[0m\n\u001b[0m\u001b[1;32m     91\u001b[0m \u001b[0;34m\u001b[0m\u001b[0m\n\u001b[1;32m     92\u001b[0m     def sign(self, operation_name, request, region_name=None,\n",
            "\u001b[0;32m/usr/local/lib/python3.6/dist-packages/botocore/signers.py\u001b[0m in \u001b[0;36msign\u001b[0;34m(self, operation_name, request, region_name, signing_type, expires_in, signing_name)\u001b[0m\n\u001b[1;32m    158\u001b[0m                     \u001b[0;32mraise\u001b[0m \u001b[0me\u001b[0m\u001b[0;34m\u001b[0m\u001b[0;34m\u001b[0m\u001b[0m\n\u001b[1;32m    159\u001b[0m \u001b[0;34m\u001b[0m\u001b[0m\n\u001b[0;32m--> 160\u001b[0;31m             \u001b[0mauth\u001b[0m\u001b[0;34m.\u001b[0m\u001b[0madd_auth\u001b[0m\u001b[0;34m(\u001b[0m\u001b[0mrequest\u001b[0m\u001b[0;34m)\u001b[0m\u001b[0;34m\u001b[0m\u001b[0;34m\u001b[0m\u001b[0m\n\u001b[0m\u001b[1;32m    161\u001b[0m \u001b[0;34m\u001b[0m\u001b[0m\n\u001b[1;32m    162\u001b[0m     \u001b[0;32mdef\u001b[0m \u001b[0m_choose_signer\u001b[0m\u001b[0;34m(\u001b[0m\u001b[0mself\u001b[0m\u001b[0;34m,\u001b[0m \u001b[0moperation_name\u001b[0m\u001b[0;34m,\u001b[0m \u001b[0msigning_type\u001b[0m\u001b[0;34m,\u001b[0m \u001b[0mcontext\u001b[0m\u001b[0;34m)\u001b[0m\u001b[0;34m:\u001b[0m\u001b[0;34m\u001b[0m\u001b[0;34m\u001b[0m\u001b[0m\n",
            "\u001b[0;32m/usr/local/lib/python3.6/dist-packages/botocore/auth.py\u001b[0m in \u001b[0;36madd_auth\u001b[0;34m(self, request)\u001b[0m\n\u001b[1;32m    355\u001b[0m     \u001b[0;32mdef\u001b[0m \u001b[0madd_auth\u001b[0m\u001b[0;34m(\u001b[0m\u001b[0mself\u001b[0m\u001b[0;34m,\u001b[0m \u001b[0mrequest\u001b[0m\u001b[0;34m)\u001b[0m\u001b[0;34m:\u001b[0m\u001b[0;34m\u001b[0m\u001b[0;34m\u001b[0m\u001b[0m\n\u001b[1;32m    356\u001b[0m         \u001b[0;32mif\u001b[0m \u001b[0mself\u001b[0m\u001b[0;34m.\u001b[0m\u001b[0mcredentials\u001b[0m \u001b[0;32mis\u001b[0m \u001b[0;32mNone\u001b[0m\u001b[0;34m:\u001b[0m\u001b[0;34m\u001b[0m\u001b[0;34m\u001b[0m\u001b[0m\n\u001b[0;32m--> 357\u001b[0;31m             \u001b[0;32mraise\u001b[0m \u001b[0mNoCredentialsError\u001b[0m\u001b[0;34m\u001b[0m\u001b[0;34m\u001b[0m\u001b[0m\n\u001b[0m\u001b[1;32m    358\u001b[0m         \u001b[0mdatetime_now\u001b[0m \u001b[0;34m=\u001b[0m \u001b[0mdatetime\u001b[0m\u001b[0;34m.\u001b[0m\u001b[0mdatetime\u001b[0m\u001b[0;34m.\u001b[0m\u001b[0mutcnow\u001b[0m\u001b[0;34m(\u001b[0m\u001b[0;34m)\u001b[0m\u001b[0;34m\u001b[0m\u001b[0;34m\u001b[0m\u001b[0m\n\u001b[1;32m    359\u001b[0m         \u001b[0mrequest\u001b[0m\u001b[0;34m.\u001b[0m\u001b[0mcontext\u001b[0m\u001b[0;34m[\u001b[0m\u001b[0;34m'timestamp'\u001b[0m\u001b[0;34m]\u001b[0m \u001b[0;34m=\u001b[0m \u001b[0mdatetime_now\u001b[0m\u001b[0;34m.\u001b[0m\u001b[0mstrftime\u001b[0m\u001b[0;34m(\u001b[0m\u001b[0mSIGV4_TIMESTAMP\u001b[0m\u001b[0;34m)\u001b[0m\u001b[0;34m\u001b[0m\u001b[0;34m\u001b[0m\u001b[0m\n",
            "\u001b[0;31mNoCredentialsError\u001b[0m: Unable to locate credentials"
          ]
        }
      ]
    },
    {
      "cell_type": "code",
      "metadata": {
        "id": "pZXS82n-ZwTH",
        "colab_type": "code",
        "colab": {}
      },
      "source": [
        "## deploying model on AWS"
      ],
      "execution_count": 0,
      "outputs": []
    },
    {
      "cell_type": "code",
      "metadata": {
        "id": "iWN2e1HbZ-Q-",
        "colab_type": "code",
        "colab": {
          "base_uri": "https://localhost:8080/",
          "height": 342
        },
        "outputId": "705c089f-9580-4475-9294-cb2598748d43"
      },
      "source": [
        "from pycaret.datasets import get_data\n",
        "diabetes = get_data('diabetes')\n",
        "# Importing module and initializing setup\n",
        "from pycaret.classification import *\n",
        "clf1 = setup(data = diabetes, target = 'Class variable')\n",
        "# create a model\n",
        "lr = create_model('lr')\n",
        "# finalize a model\n",
        "final_lr = finalize_model(lr)\n",
        "# Deploy a model\n",
        "deploy_model(final_lr, model_name = 'lr_aws', platform = 'aws', authentication = { 'bucket'  : 'pycaret-test' })"
      ],
      "execution_count": 73,
      "outputs": [
        {
          "output_type": "error",
          "ename": "NoCredentialsError",
          "evalue": "ignored",
          "traceback": [
            "\u001b[0;31m---------------------------------------------------------------------------\u001b[0m",
            "\u001b[0;31mNoCredentialsError\u001b[0m                        Traceback (most recent call last)",
            "\u001b[0;32m<ipython-input-73-633cabfdadbf>\u001b[0m in \u001b[0;36m<module>\u001b[0;34m()\u001b[0m\n\u001b[1;32m      9\u001b[0m \u001b[0mfinal_lr\u001b[0m \u001b[0;34m=\u001b[0m \u001b[0mfinalize_model\u001b[0m\u001b[0;34m(\u001b[0m\u001b[0mlr\u001b[0m\u001b[0;34m)\u001b[0m\u001b[0;34m\u001b[0m\u001b[0;34m\u001b[0m\u001b[0m\n\u001b[1;32m     10\u001b[0m \u001b[0;31m# Deploy a model\u001b[0m\u001b[0;34m\u001b[0m\u001b[0;34m\u001b[0m\u001b[0;34m\u001b[0m\u001b[0m\n\u001b[0;32m---> 11\u001b[0;31m \u001b[0mdeploy_model\u001b[0m\u001b[0;34m(\u001b[0m\u001b[0mfinal_lr\u001b[0m\u001b[0;34m,\u001b[0m \u001b[0mmodel_name\u001b[0m \u001b[0;34m=\u001b[0m \u001b[0;34m'lr_aws'\u001b[0m\u001b[0;34m,\u001b[0m \u001b[0mplatform\u001b[0m \u001b[0;34m=\u001b[0m \u001b[0;34m'aws'\u001b[0m\u001b[0;34m,\u001b[0m \u001b[0mauthentication\u001b[0m \u001b[0;34m=\u001b[0m \u001b[0;34m{\u001b[0m \u001b[0;34m'bucket'\u001b[0m  \u001b[0;34m:\u001b[0m \u001b[0;34m'pycaret-test'\u001b[0m \u001b[0;34m}\u001b[0m\u001b[0;34m)\u001b[0m\u001b[0;34m\u001b[0m\u001b[0;34m\u001b[0m\u001b[0m\n\u001b[0m",
            "\u001b[0;32m/usr/local/lib/python3.6/dist-packages/pycaret/classification.py\u001b[0m in \u001b[0;36mdeploy_model\u001b[0;34m(model, model_name, authentication, platform)\u001b[0m\n\u001b[1;32m   8142\u001b[0m         \u001b[0mkey\u001b[0m \u001b[0;34m=\u001b[0m \u001b[0mstr\u001b[0m\u001b[0;34m(\u001b[0m\u001b[0mmodel_name\u001b[0m\u001b[0;34m)\u001b[0m\u001b[0;34m+\u001b[0m\u001b[0;34m'.pkl'\u001b[0m\u001b[0;34m\u001b[0m\u001b[0;34m\u001b[0m\u001b[0m\n\u001b[1;32m   8143\u001b[0m         \u001b[0mbucket_name\u001b[0m \u001b[0;34m=\u001b[0m \u001b[0mauthentication\u001b[0m\u001b[0;34m.\u001b[0m\u001b[0mget\u001b[0m\u001b[0;34m(\u001b[0m\u001b[0;34m'bucket'\u001b[0m\u001b[0;34m)\u001b[0m\u001b[0;34m\u001b[0m\u001b[0;34m\u001b[0m\u001b[0m\n\u001b[0;32m-> 8144\u001b[0;31m         \u001b[0ms3\u001b[0m\u001b[0;34m.\u001b[0m\u001b[0mupload_file\u001b[0m\u001b[0;34m(\u001b[0m\u001b[0mfilename\u001b[0m\u001b[0;34m,\u001b[0m\u001b[0mbucket_name\u001b[0m\u001b[0;34m,\u001b[0m\u001b[0mkey\u001b[0m\u001b[0;34m)\u001b[0m\u001b[0;34m\u001b[0m\u001b[0;34m\u001b[0m\u001b[0m\n\u001b[0m\u001b[1;32m   8145\u001b[0m         \u001b[0mclear_output\u001b[0m\u001b[0;34m(\u001b[0m\u001b[0;34m)\u001b[0m\u001b[0;34m\u001b[0m\u001b[0;34m\u001b[0m\u001b[0m\n\u001b[1;32m   8146\u001b[0m         \u001b[0mprint\u001b[0m\u001b[0;34m(\u001b[0m\u001b[0;34m\"Model Succesfully Deployed on AWS S3\"\u001b[0m\u001b[0;34m)\u001b[0m\u001b[0;34m\u001b[0m\u001b[0;34m\u001b[0m\u001b[0m\n",
            "\u001b[0;32m/usr/local/lib/python3.6/dist-packages/boto3/s3/inject.py\u001b[0m in \u001b[0;36mupload_file\u001b[0;34m(self, Filename, Bucket, Key, ExtraArgs, Callback, Config)\u001b[0m\n\u001b[1;32m    129\u001b[0m         return transfer.upload_file(\n\u001b[1;32m    130\u001b[0m             \u001b[0mfilename\u001b[0m\u001b[0;34m=\u001b[0m\u001b[0mFilename\u001b[0m\u001b[0;34m,\u001b[0m \u001b[0mbucket\u001b[0m\u001b[0;34m=\u001b[0m\u001b[0mBucket\u001b[0m\u001b[0;34m,\u001b[0m \u001b[0mkey\u001b[0m\u001b[0;34m=\u001b[0m\u001b[0mKey\u001b[0m\u001b[0;34m,\u001b[0m\u001b[0;34m\u001b[0m\u001b[0;34m\u001b[0m\u001b[0m\n\u001b[0;32m--> 131\u001b[0;31m             extra_args=ExtraArgs, callback=Callback)\n\u001b[0m\u001b[1;32m    132\u001b[0m \u001b[0;34m\u001b[0m\u001b[0m\n\u001b[1;32m    133\u001b[0m \u001b[0;34m\u001b[0m\u001b[0m\n",
            "\u001b[0;32m/usr/local/lib/python3.6/dist-packages/boto3/s3/transfer.py\u001b[0m in \u001b[0;36mupload_file\u001b[0;34m(self, filename, bucket, key, callback, extra_args)\u001b[0m\n\u001b[1;32m    277\u001b[0m             filename, bucket, key, extra_args, subscribers)\n\u001b[1;32m    278\u001b[0m         \u001b[0;32mtry\u001b[0m\u001b[0;34m:\u001b[0m\u001b[0;34m\u001b[0m\u001b[0;34m\u001b[0m\u001b[0m\n\u001b[0;32m--> 279\u001b[0;31m             \u001b[0mfuture\u001b[0m\u001b[0;34m.\u001b[0m\u001b[0mresult\u001b[0m\u001b[0;34m(\u001b[0m\u001b[0;34m)\u001b[0m\u001b[0;34m\u001b[0m\u001b[0;34m\u001b[0m\u001b[0m\n\u001b[0m\u001b[1;32m    280\u001b[0m         \u001b[0;31m# If a client error was raised, add the backwards compatibility layer\u001b[0m\u001b[0;34m\u001b[0m\u001b[0;34m\u001b[0m\u001b[0;34m\u001b[0m\u001b[0m\n\u001b[1;32m    281\u001b[0m         \u001b[0;31m# that raises a S3UploadFailedError. These specific errors were only\u001b[0m\u001b[0;34m\u001b[0m\u001b[0;34m\u001b[0m\u001b[0;34m\u001b[0m\u001b[0m\n",
            "\u001b[0;32m/usr/local/lib/python3.6/dist-packages/s3transfer/futures.py\u001b[0m in \u001b[0;36mresult\u001b[0;34m(self)\u001b[0m\n\u001b[1;32m    104\u001b[0m             \u001b[0;31m# however if a KeyboardInterrupt is raised we want want to exit\u001b[0m\u001b[0;34m\u001b[0m\u001b[0;34m\u001b[0m\u001b[0;34m\u001b[0m\u001b[0m\n\u001b[1;32m    105\u001b[0m             \u001b[0;31m# out of this and propogate the exception.\u001b[0m\u001b[0;34m\u001b[0m\u001b[0;34m\u001b[0m\u001b[0;34m\u001b[0m\u001b[0m\n\u001b[0;32m--> 106\u001b[0;31m             \u001b[0;32mreturn\u001b[0m \u001b[0mself\u001b[0m\u001b[0;34m.\u001b[0m\u001b[0m_coordinator\u001b[0m\u001b[0;34m.\u001b[0m\u001b[0mresult\u001b[0m\u001b[0;34m(\u001b[0m\u001b[0;34m)\u001b[0m\u001b[0;34m\u001b[0m\u001b[0;34m\u001b[0m\u001b[0m\n\u001b[0m\u001b[1;32m    107\u001b[0m         \u001b[0;32mexcept\u001b[0m \u001b[0mKeyboardInterrupt\u001b[0m \u001b[0;32mas\u001b[0m \u001b[0me\u001b[0m\u001b[0;34m:\u001b[0m\u001b[0;34m\u001b[0m\u001b[0;34m\u001b[0m\u001b[0m\n\u001b[1;32m    108\u001b[0m             \u001b[0mself\u001b[0m\u001b[0;34m.\u001b[0m\u001b[0mcancel\u001b[0m\u001b[0;34m(\u001b[0m\u001b[0;34m)\u001b[0m\u001b[0;34m\u001b[0m\u001b[0;34m\u001b[0m\u001b[0m\n",
            "\u001b[0;32m/usr/local/lib/python3.6/dist-packages/s3transfer/futures.py\u001b[0m in \u001b[0;36mresult\u001b[0;34m(self)\u001b[0m\n\u001b[1;32m    263\u001b[0m         \u001b[0;31m# final result.\u001b[0m\u001b[0;34m\u001b[0m\u001b[0;34m\u001b[0m\u001b[0;34m\u001b[0m\u001b[0m\n\u001b[1;32m    264\u001b[0m         \u001b[0;32mif\u001b[0m \u001b[0mself\u001b[0m\u001b[0;34m.\u001b[0m\u001b[0m_exception\u001b[0m\u001b[0;34m:\u001b[0m\u001b[0;34m\u001b[0m\u001b[0;34m\u001b[0m\u001b[0m\n\u001b[0;32m--> 265\u001b[0;31m             \u001b[0;32mraise\u001b[0m \u001b[0mself\u001b[0m\u001b[0;34m.\u001b[0m\u001b[0m_exception\u001b[0m\u001b[0;34m\u001b[0m\u001b[0;34m\u001b[0m\u001b[0m\n\u001b[0m\u001b[1;32m    266\u001b[0m         \u001b[0;32mreturn\u001b[0m \u001b[0mself\u001b[0m\u001b[0;34m.\u001b[0m\u001b[0m_result\u001b[0m\u001b[0;34m\u001b[0m\u001b[0;34m\u001b[0m\u001b[0m\n\u001b[1;32m    267\u001b[0m \u001b[0;34m\u001b[0m\u001b[0m\n",
            "\u001b[0;32m/usr/local/lib/python3.6/dist-packages/s3transfer/tasks.py\u001b[0m in \u001b[0;36m__call__\u001b[0;34m(self)\u001b[0m\n\u001b[1;32m    124\u001b[0m             \u001b[0;31m# main() method.\u001b[0m\u001b[0;34m\u001b[0m\u001b[0;34m\u001b[0m\u001b[0;34m\u001b[0m\u001b[0m\n\u001b[1;32m    125\u001b[0m             \u001b[0;32mif\u001b[0m \u001b[0;32mnot\u001b[0m \u001b[0mself\u001b[0m\u001b[0;34m.\u001b[0m\u001b[0m_transfer_coordinator\u001b[0m\u001b[0;34m.\u001b[0m\u001b[0mdone\u001b[0m\u001b[0;34m(\u001b[0m\u001b[0;34m)\u001b[0m\u001b[0;34m:\u001b[0m\u001b[0;34m\u001b[0m\u001b[0;34m\u001b[0m\u001b[0m\n\u001b[0;32m--> 126\u001b[0;31m                 \u001b[0;32mreturn\u001b[0m \u001b[0mself\u001b[0m\u001b[0;34m.\u001b[0m\u001b[0m_execute_main\u001b[0m\u001b[0;34m(\u001b[0m\u001b[0mkwargs\u001b[0m\u001b[0;34m)\u001b[0m\u001b[0;34m\u001b[0m\u001b[0;34m\u001b[0m\u001b[0m\n\u001b[0m\u001b[1;32m    127\u001b[0m         \u001b[0;32mexcept\u001b[0m \u001b[0mException\u001b[0m \u001b[0;32mas\u001b[0m \u001b[0me\u001b[0m\u001b[0;34m:\u001b[0m\u001b[0;34m\u001b[0m\u001b[0;34m\u001b[0m\u001b[0m\n\u001b[1;32m    128\u001b[0m             \u001b[0mself\u001b[0m\u001b[0;34m.\u001b[0m\u001b[0m_log_and_set_exception\u001b[0m\u001b[0;34m(\u001b[0m\u001b[0me\u001b[0m\u001b[0;34m)\u001b[0m\u001b[0;34m\u001b[0m\u001b[0;34m\u001b[0m\u001b[0m\n",
            "\u001b[0;32m/usr/local/lib/python3.6/dist-packages/s3transfer/tasks.py\u001b[0m in \u001b[0;36m_execute_main\u001b[0;34m(self, kwargs)\u001b[0m\n\u001b[1;32m    148\u001b[0m         )\n\u001b[1;32m    149\u001b[0m \u001b[0;34m\u001b[0m\u001b[0m\n\u001b[0;32m--> 150\u001b[0;31m         \u001b[0mreturn_value\u001b[0m \u001b[0;34m=\u001b[0m \u001b[0mself\u001b[0m\u001b[0;34m.\u001b[0m\u001b[0m_main\u001b[0m\u001b[0;34m(\u001b[0m\u001b[0;34m**\u001b[0m\u001b[0mkwargs\u001b[0m\u001b[0;34m)\u001b[0m\u001b[0;34m\u001b[0m\u001b[0;34m\u001b[0m\u001b[0m\n\u001b[0m\u001b[1;32m    151\u001b[0m         \u001b[0;31m# If the task is the final task, then set the TransferFuture's\u001b[0m\u001b[0;34m\u001b[0m\u001b[0;34m\u001b[0m\u001b[0;34m\u001b[0m\u001b[0m\n\u001b[1;32m    152\u001b[0m         \u001b[0;31m# value to the return value from main().\u001b[0m\u001b[0;34m\u001b[0m\u001b[0;34m\u001b[0m\u001b[0;34m\u001b[0m\u001b[0m\n",
            "\u001b[0;32m/usr/local/lib/python3.6/dist-packages/s3transfer/upload.py\u001b[0m in \u001b[0;36m_main\u001b[0;34m(self, client, fileobj, bucket, key, extra_args)\u001b[0m\n\u001b[1;32m    690\u001b[0m         \"\"\"\n\u001b[1;32m    691\u001b[0m         \u001b[0;32mwith\u001b[0m \u001b[0mfileobj\u001b[0m \u001b[0;32mas\u001b[0m \u001b[0mbody\u001b[0m\u001b[0;34m:\u001b[0m\u001b[0;34m\u001b[0m\u001b[0;34m\u001b[0m\u001b[0m\n\u001b[0;32m--> 692\u001b[0;31m             \u001b[0mclient\u001b[0m\u001b[0;34m.\u001b[0m\u001b[0mput_object\u001b[0m\u001b[0;34m(\u001b[0m\u001b[0mBucket\u001b[0m\u001b[0;34m=\u001b[0m\u001b[0mbucket\u001b[0m\u001b[0;34m,\u001b[0m \u001b[0mKey\u001b[0m\u001b[0;34m=\u001b[0m\u001b[0mkey\u001b[0m\u001b[0;34m,\u001b[0m \u001b[0mBody\u001b[0m\u001b[0;34m=\u001b[0m\u001b[0mbody\u001b[0m\u001b[0;34m,\u001b[0m \u001b[0;34m**\u001b[0m\u001b[0mextra_args\u001b[0m\u001b[0;34m)\u001b[0m\u001b[0;34m\u001b[0m\u001b[0;34m\u001b[0m\u001b[0m\n\u001b[0m\u001b[1;32m    693\u001b[0m \u001b[0;34m\u001b[0m\u001b[0m\n\u001b[1;32m    694\u001b[0m \u001b[0;34m\u001b[0m\u001b[0m\n",
            "\u001b[0;32m/usr/local/lib/python3.6/dist-packages/botocore/client.py\u001b[0m in \u001b[0;36m_api_call\u001b[0;34m(self, *args, **kwargs)\u001b[0m\n\u001b[1;32m    314\u001b[0m                     \"%s() only accepts keyword arguments.\" % py_operation_name)\n\u001b[1;32m    315\u001b[0m             \u001b[0;31m# The \"self\" in this scope is referring to the BaseClient.\u001b[0m\u001b[0;34m\u001b[0m\u001b[0;34m\u001b[0m\u001b[0;34m\u001b[0m\u001b[0m\n\u001b[0;32m--> 316\u001b[0;31m             \u001b[0;32mreturn\u001b[0m \u001b[0mself\u001b[0m\u001b[0;34m.\u001b[0m\u001b[0m_make_api_call\u001b[0m\u001b[0;34m(\u001b[0m\u001b[0moperation_name\u001b[0m\u001b[0;34m,\u001b[0m \u001b[0mkwargs\u001b[0m\u001b[0;34m)\u001b[0m\u001b[0;34m\u001b[0m\u001b[0;34m\u001b[0m\u001b[0m\n\u001b[0m\u001b[1;32m    317\u001b[0m \u001b[0;34m\u001b[0m\u001b[0m\n\u001b[1;32m    318\u001b[0m         \u001b[0m_api_call\u001b[0m\u001b[0;34m.\u001b[0m\u001b[0m__name__\u001b[0m \u001b[0;34m=\u001b[0m \u001b[0mstr\u001b[0m\u001b[0;34m(\u001b[0m\u001b[0mpy_operation_name\u001b[0m\u001b[0;34m)\u001b[0m\u001b[0;34m\u001b[0m\u001b[0;34m\u001b[0m\u001b[0m\n",
            "\u001b[0;32m/usr/local/lib/python3.6/dist-packages/botocore/client.py\u001b[0m in \u001b[0;36m_make_api_call\u001b[0;34m(self, operation_name, api_params)\u001b[0m\n\u001b[1;32m    611\u001b[0m         \u001b[0;32melse\u001b[0m\u001b[0;34m:\u001b[0m\u001b[0;34m\u001b[0m\u001b[0;34m\u001b[0m\u001b[0m\n\u001b[1;32m    612\u001b[0m             http, parsed_response = self._make_request(\n\u001b[0;32m--> 613\u001b[0;31m                 operation_model, request_dict, request_context)\n\u001b[0m\u001b[1;32m    614\u001b[0m \u001b[0;34m\u001b[0m\u001b[0m\n\u001b[1;32m    615\u001b[0m         self.meta.events.emit(\n",
            "\u001b[0;32m/usr/local/lib/python3.6/dist-packages/botocore/client.py\u001b[0m in \u001b[0;36m_make_request\u001b[0;34m(self, operation_model, request_dict, request_context)\u001b[0m\n\u001b[1;32m    630\u001b[0m     \u001b[0;32mdef\u001b[0m \u001b[0m_make_request\u001b[0m\u001b[0;34m(\u001b[0m\u001b[0mself\u001b[0m\u001b[0;34m,\u001b[0m \u001b[0moperation_model\u001b[0m\u001b[0;34m,\u001b[0m \u001b[0mrequest_dict\u001b[0m\u001b[0;34m,\u001b[0m \u001b[0mrequest_context\u001b[0m\u001b[0;34m)\u001b[0m\u001b[0;34m:\u001b[0m\u001b[0;34m\u001b[0m\u001b[0;34m\u001b[0m\u001b[0m\n\u001b[1;32m    631\u001b[0m         \u001b[0;32mtry\u001b[0m\u001b[0;34m:\u001b[0m\u001b[0;34m\u001b[0m\u001b[0;34m\u001b[0m\u001b[0m\n\u001b[0;32m--> 632\u001b[0;31m             \u001b[0;32mreturn\u001b[0m \u001b[0mself\u001b[0m\u001b[0;34m.\u001b[0m\u001b[0m_endpoint\u001b[0m\u001b[0;34m.\u001b[0m\u001b[0mmake_request\u001b[0m\u001b[0;34m(\u001b[0m\u001b[0moperation_model\u001b[0m\u001b[0;34m,\u001b[0m \u001b[0mrequest_dict\u001b[0m\u001b[0;34m)\u001b[0m\u001b[0;34m\u001b[0m\u001b[0;34m\u001b[0m\u001b[0m\n\u001b[0m\u001b[1;32m    633\u001b[0m         \u001b[0;32mexcept\u001b[0m \u001b[0mException\u001b[0m \u001b[0;32mas\u001b[0m \u001b[0me\u001b[0m\u001b[0;34m:\u001b[0m\u001b[0;34m\u001b[0m\u001b[0;34m\u001b[0m\u001b[0m\n\u001b[1;32m    634\u001b[0m             self.meta.events.emit(\n",
            "\u001b[0;32m/usr/local/lib/python3.6/dist-packages/botocore/endpoint.py\u001b[0m in \u001b[0;36mmake_request\u001b[0;34m(self, operation_model, request_dict)\u001b[0m\n\u001b[1;32m    100\u001b[0m         logger.debug(\"Making request for %s with params: %s\",\n\u001b[1;32m    101\u001b[0m                      operation_model, request_dict)\n\u001b[0;32m--> 102\u001b[0;31m         \u001b[0;32mreturn\u001b[0m \u001b[0mself\u001b[0m\u001b[0;34m.\u001b[0m\u001b[0m_send_request\u001b[0m\u001b[0;34m(\u001b[0m\u001b[0mrequest_dict\u001b[0m\u001b[0;34m,\u001b[0m \u001b[0moperation_model\u001b[0m\u001b[0;34m)\u001b[0m\u001b[0;34m\u001b[0m\u001b[0;34m\u001b[0m\u001b[0m\n\u001b[0m\u001b[1;32m    103\u001b[0m \u001b[0;34m\u001b[0m\u001b[0m\n\u001b[1;32m    104\u001b[0m     \u001b[0;32mdef\u001b[0m \u001b[0mcreate_request\u001b[0m\u001b[0;34m(\u001b[0m\u001b[0mself\u001b[0m\u001b[0;34m,\u001b[0m \u001b[0mparams\u001b[0m\u001b[0;34m,\u001b[0m \u001b[0moperation_model\u001b[0m\u001b[0;34m=\u001b[0m\u001b[0;32mNone\u001b[0m\u001b[0;34m)\u001b[0m\u001b[0;34m:\u001b[0m\u001b[0;34m\u001b[0m\u001b[0;34m\u001b[0m\u001b[0m\n",
            "\u001b[0;32m/usr/local/lib/python3.6/dist-packages/botocore/endpoint.py\u001b[0m in \u001b[0;36m_send_request\u001b[0;34m(self, request_dict, operation_model)\u001b[0m\n\u001b[1;32m    130\u001b[0m     \u001b[0;32mdef\u001b[0m \u001b[0m_send_request\u001b[0m\u001b[0;34m(\u001b[0m\u001b[0mself\u001b[0m\u001b[0;34m,\u001b[0m \u001b[0mrequest_dict\u001b[0m\u001b[0;34m,\u001b[0m \u001b[0moperation_model\u001b[0m\u001b[0;34m)\u001b[0m\u001b[0;34m:\u001b[0m\u001b[0;34m\u001b[0m\u001b[0;34m\u001b[0m\u001b[0m\n\u001b[1;32m    131\u001b[0m         \u001b[0mattempts\u001b[0m \u001b[0;34m=\u001b[0m \u001b[0;36m1\u001b[0m\u001b[0;34m\u001b[0m\u001b[0;34m\u001b[0m\u001b[0m\n\u001b[0;32m--> 132\u001b[0;31m         \u001b[0mrequest\u001b[0m \u001b[0;34m=\u001b[0m \u001b[0mself\u001b[0m\u001b[0;34m.\u001b[0m\u001b[0mcreate_request\u001b[0m\u001b[0;34m(\u001b[0m\u001b[0mrequest_dict\u001b[0m\u001b[0;34m,\u001b[0m \u001b[0moperation_model\u001b[0m\u001b[0;34m)\u001b[0m\u001b[0;34m\u001b[0m\u001b[0;34m\u001b[0m\u001b[0m\n\u001b[0m\u001b[1;32m    133\u001b[0m         \u001b[0mcontext\u001b[0m \u001b[0;34m=\u001b[0m \u001b[0mrequest_dict\u001b[0m\u001b[0;34m[\u001b[0m\u001b[0;34m'context'\u001b[0m\u001b[0;34m]\u001b[0m\u001b[0;34m\u001b[0m\u001b[0;34m\u001b[0m\u001b[0m\n\u001b[1;32m    134\u001b[0m         success_response, exception = self._get_response(\n",
            "\u001b[0;32m/usr/local/lib/python3.6/dist-packages/botocore/endpoint.py\u001b[0m in \u001b[0;36mcreate_request\u001b[0;34m(self, params, operation_model)\u001b[0m\n\u001b[1;32m    114\u001b[0m                 op_name=operation_model.name)\n\u001b[1;32m    115\u001b[0m             self._event_emitter.emit(event_name, request=request,\n\u001b[0;32m--> 116\u001b[0;31m                                      operation_name=operation_model.name)\n\u001b[0m\u001b[1;32m    117\u001b[0m         \u001b[0mprepared_request\u001b[0m \u001b[0;34m=\u001b[0m \u001b[0mself\u001b[0m\u001b[0;34m.\u001b[0m\u001b[0mprepare_request\u001b[0m\u001b[0;34m(\u001b[0m\u001b[0mrequest\u001b[0m\u001b[0;34m)\u001b[0m\u001b[0;34m\u001b[0m\u001b[0;34m\u001b[0m\u001b[0m\n\u001b[1;32m    118\u001b[0m         \u001b[0;32mreturn\u001b[0m \u001b[0mprepared_request\u001b[0m\u001b[0;34m\u001b[0m\u001b[0;34m\u001b[0m\u001b[0m\n",
            "\u001b[0;32m/usr/local/lib/python3.6/dist-packages/botocore/hooks.py\u001b[0m in \u001b[0;36memit\u001b[0;34m(self, event_name, **kwargs)\u001b[0m\n\u001b[1;32m    354\u001b[0m     \u001b[0;32mdef\u001b[0m \u001b[0memit\u001b[0m\u001b[0;34m(\u001b[0m\u001b[0mself\u001b[0m\u001b[0;34m,\u001b[0m \u001b[0mevent_name\u001b[0m\u001b[0;34m,\u001b[0m \u001b[0;34m**\u001b[0m\u001b[0mkwargs\u001b[0m\u001b[0;34m)\u001b[0m\u001b[0;34m:\u001b[0m\u001b[0;34m\u001b[0m\u001b[0;34m\u001b[0m\u001b[0m\n\u001b[1;32m    355\u001b[0m         \u001b[0maliased_event_name\u001b[0m \u001b[0;34m=\u001b[0m \u001b[0mself\u001b[0m\u001b[0;34m.\u001b[0m\u001b[0m_alias_event_name\u001b[0m\u001b[0;34m(\u001b[0m\u001b[0mevent_name\u001b[0m\u001b[0;34m)\u001b[0m\u001b[0;34m\u001b[0m\u001b[0;34m\u001b[0m\u001b[0m\n\u001b[0;32m--> 356\u001b[0;31m         \u001b[0;32mreturn\u001b[0m \u001b[0mself\u001b[0m\u001b[0;34m.\u001b[0m\u001b[0m_emitter\u001b[0m\u001b[0;34m.\u001b[0m\u001b[0memit\u001b[0m\u001b[0;34m(\u001b[0m\u001b[0maliased_event_name\u001b[0m\u001b[0;34m,\u001b[0m \u001b[0;34m**\u001b[0m\u001b[0mkwargs\u001b[0m\u001b[0;34m)\u001b[0m\u001b[0;34m\u001b[0m\u001b[0;34m\u001b[0m\u001b[0m\n\u001b[0m\u001b[1;32m    357\u001b[0m \u001b[0;34m\u001b[0m\u001b[0m\n\u001b[1;32m    358\u001b[0m     \u001b[0;32mdef\u001b[0m \u001b[0memit_until_response\u001b[0m\u001b[0;34m(\u001b[0m\u001b[0mself\u001b[0m\u001b[0;34m,\u001b[0m \u001b[0mevent_name\u001b[0m\u001b[0;34m,\u001b[0m \u001b[0;34m**\u001b[0m\u001b[0mkwargs\u001b[0m\u001b[0;34m)\u001b[0m\u001b[0;34m:\u001b[0m\u001b[0;34m\u001b[0m\u001b[0;34m\u001b[0m\u001b[0m\n",
            "\u001b[0;32m/usr/local/lib/python3.6/dist-packages/botocore/hooks.py\u001b[0m in \u001b[0;36memit\u001b[0;34m(self, event_name, **kwargs)\u001b[0m\n\u001b[1;32m    226\u001b[0m                  \u001b[0mhandlers\u001b[0m\u001b[0;34m.\u001b[0m\u001b[0;34m\u001b[0m\u001b[0;34m\u001b[0m\u001b[0m\n\u001b[1;32m    227\u001b[0m         \"\"\"\n\u001b[0;32m--> 228\u001b[0;31m         \u001b[0;32mreturn\u001b[0m \u001b[0mself\u001b[0m\u001b[0;34m.\u001b[0m\u001b[0m_emit\u001b[0m\u001b[0;34m(\u001b[0m\u001b[0mevent_name\u001b[0m\u001b[0;34m,\u001b[0m \u001b[0mkwargs\u001b[0m\u001b[0;34m)\u001b[0m\u001b[0;34m\u001b[0m\u001b[0;34m\u001b[0m\u001b[0m\n\u001b[0m\u001b[1;32m    229\u001b[0m \u001b[0;34m\u001b[0m\u001b[0m\n\u001b[1;32m    230\u001b[0m     \u001b[0;32mdef\u001b[0m \u001b[0memit_until_response\u001b[0m\u001b[0;34m(\u001b[0m\u001b[0mself\u001b[0m\u001b[0;34m,\u001b[0m \u001b[0mevent_name\u001b[0m\u001b[0;34m,\u001b[0m \u001b[0;34m**\u001b[0m\u001b[0mkwargs\u001b[0m\u001b[0;34m)\u001b[0m\u001b[0;34m:\u001b[0m\u001b[0;34m\u001b[0m\u001b[0;34m\u001b[0m\u001b[0m\n",
            "\u001b[0;32m/usr/local/lib/python3.6/dist-packages/botocore/hooks.py\u001b[0m in \u001b[0;36m_emit\u001b[0;34m(self, event_name, kwargs, stop_on_response)\u001b[0m\n\u001b[1;32m    209\u001b[0m         \u001b[0;32mfor\u001b[0m \u001b[0mhandler\u001b[0m \u001b[0;32min\u001b[0m \u001b[0mhandlers_to_call\u001b[0m\u001b[0;34m:\u001b[0m\u001b[0;34m\u001b[0m\u001b[0;34m\u001b[0m\u001b[0m\n\u001b[1;32m    210\u001b[0m             \u001b[0mlogger\u001b[0m\u001b[0;34m.\u001b[0m\u001b[0mdebug\u001b[0m\u001b[0;34m(\u001b[0m\u001b[0;34m'Event %s: calling handler %s'\u001b[0m\u001b[0;34m,\u001b[0m \u001b[0mevent_name\u001b[0m\u001b[0;34m,\u001b[0m \u001b[0mhandler\u001b[0m\u001b[0;34m)\u001b[0m\u001b[0;34m\u001b[0m\u001b[0;34m\u001b[0m\u001b[0m\n\u001b[0;32m--> 211\u001b[0;31m             \u001b[0mresponse\u001b[0m \u001b[0;34m=\u001b[0m \u001b[0mhandler\u001b[0m\u001b[0;34m(\u001b[0m\u001b[0;34m**\u001b[0m\u001b[0mkwargs\u001b[0m\u001b[0;34m)\u001b[0m\u001b[0;34m\u001b[0m\u001b[0;34m\u001b[0m\u001b[0m\n\u001b[0m\u001b[1;32m    212\u001b[0m             \u001b[0mresponses\u001b[0m\u001b[0;34m.\u001b[0m\u001b[0mappend\u001b[0m\u001b[0;34m(\u001b[0m\u001b[0;34m(\u001b[0m\u001b[0mhandler\u001b[0m\u001b[0;34m,\u001b[0m \u001b[0mresponse\u001b[0m\u001b[0;34m)\u001b[0m\u001b[0;34m)\u001b[0m\u001b[0;34m\u001b[0m\u001b[0;34m\u001b[0m\u001b[0m\n\u001b[1;32m    213\u001b[0m             \u001b[0;32mif\u001b[0m \u001b[0mstop_on_response\u001b[0m \u001b[0;32mand\u001b[0m \u001b[0mresponse\u001b[0m \u001b[0;32mis\u001b[0m \u001b[0;32mnot\u001b[0m \u001b[0;32mNone\u001b[0m\u001b[0;34m:\u001b[0m\u001b[0;34m\u001b[0m\u001b[0;34m\u001b[0m\u001b[0m\n",
            "\u001b[0;32m/usr/local/lib/python3.6/dist-packages/botocore/signers.py\u001b[0m in \u001b[0;36mhandler\u001b[0;34m(self, operation_name, request, **kwargs)\u001b[0m\n\u001b[1;32m     88\u001b[0m         \u001b[0;31m# this method is invoked to sign the request.\u001b[0m\u001b[0;34m\u001b[0m\u001b[0;34m\u001b[0m\u001b[0;34m\u001b[0m\u001b[0m\n\u001b[1;32m     89\u001b[0m         \u001b[0;31m# Don't call this method directly.\u001b[0m\u001b[0;34m\u001b[0m\u001b[0;34m\u001b[0m\u001b[0;34m\u001b[0m\u001b[0m\n\u001b[0;32m---> 90\u001b[0;31m         \u001b[0;32mreturn\u001b[0m \u001b[0mself\u001b[0m\u001b[0;34m.\u001b[0m\u001b[0msign\u001b[0m\u001b[0;34m(\u001b[0m\u001b[0moperation_name\u001b[0m\u001b[0;34m,\u001b[0m \u001b[0mrequest\u001b[0m\u001b[0;34m)\u001b[0m\u001b[0;34m\u001b[0m\u001b[0;34m\u001b[0m\u001b[0m\n\u001b[0m\u001b[1;32m     91\u001b[0m \u001b[0;34m\u001b[0m\u001b[0m\n\u001b[1;32m     92\u001b[0m     def sign(self, operation_name, request, region_name=None,\n",
            "\u001b[0;32m/usr/local/lib/python3.6/dist-packages/botocore/signers.py\u001b[0m in \u001b[0;36msign\u001b[0;34m(self, operation_name, request, region_name, signing_type, expires_in, signing_name)\u001b[0m\n\u001b[1;32m    158\u001b[0m                     \u001b[0;32mraise\u001b[0m \u001b[0me\u001b[0m\u001b[0;34m\u001b[0m\u001b[0;34m\u001b[0m\u001b[0m\n\u001b[1;32m    159\u001b[0m \u001b[0;34m\u001b[0m\u001b[0m\n\u001b[0;32m--> 160\u001b[0;31m             \u001b[0mauth\u001b[0m\u001b[0;34m.\u001b[0m\u001b[0madd_auth\u001b[0m\u001b[0;34m(\u001b[0m\u001b[0mrequest\u001b[0m\u001b[0;34m)\u001b[0m\u001b[0;34m\u001b[0m\u001b[0;34m\u001b[0m\u001b[0m\n\u001b[0m\u001b[1;32m    161\u001b[0m \u001b[0;34m\u001b[0m\u001b[0m\n\u001b[1;32m    162\u001b[0m     \u001b[0;32mdef\u001b[0m \u001b[0m_choose_signer\u001b[0m\u001b[0;34m(\u001b[0m\u001b[0mself\u001b[0m\u001b[0;34m,\u001b[0m \u001b[0moperation_name\u001b[0m\u001b[0;34m,\u001b[0m \u001b[0msigning_type\u001b[0m\u001b[0;34m,\u001b[0m \u001b[0mcontext\u001b[0m\u001b[0;34m)\u001b[0m\u001b[0;34m:\u001b[0m\u001b[0;34m\u001b[0m\u001b[0;34m\u001b[0m\u001b[0m\n",
            "\u001b[0;32m/usr/local/lib/python3.6/dist-packages/botocore/auth.py\u001b[0m in \u001b[0;36madd_auth\u001b[0;34m(self, request)\u001b[0m\n\u001b[1;32m    355\u001b[0m     \u001b[0;32mdef\u001b[0m \u001b[0madd_auth\u001b[0m\u001b[0;34m(\u001b[0m\u001b[0mself\u001b[0m\u001b[0;34m,\u001b[0m \u001b[0mrequest\u001b[0m\u001b[0;34m)\u001b[0m\u001b[0;34m:\u001b[0m\u001b[0;34m\u001b[0m\u001b[0;34m\u001b[0m\u001b[0m\n\u001b[1;32m    356\u001b[0m         \u001b[0;32mif\u001b[0m \u001b[0mself\u001b[0m\u001b[0;34m.\u001b[0m\u001b[0mcredentials\u001b[0m \u001b[0;32mis\u001b[0m \u001b[0;32mNone\u001b[0m\u001b[0;34m:\u001b[0m\u001b[0;34m\u001b[0m\u001b[0;34m\u001b[0m\u001b[0m\n\u001b[0;32m--> 357\u001b[0;31m             \u001b[0;32mraise\u001b[0m \u001b[0mNoCredentialsError\u001b[0m\u001b[0;34m\u001b[0m\u001b[0;34m\u001b[0m\u001b[0m\n\u001b[0m\u001b[1;32m    358\u001b[0m         \u001b[0mdatetime_now\u001b[0m \u001b[0;34m=\u001b[0m \u001b[0mdatetime\u001b[0m\u001b[0;34m.\u001b[0m\u001b[0mdatetime\u001b[0m\u001b[0;34m.\u001b[0m\u001b[0mutcnow\u001b[0m\u001b[0;34m(\u001b[0m\u001b[0;34m)\u001b[0m\u001b[0;34m\u001b[0m\u001b[0;34m\u001b[0m\u001b[0m\n\u001b[1;32m    359\u001b[0m         \u001b[0mrequest\u001b[0m\u001b[0;34m.\u001b[0m\u001b[0mcontext\u001b[0m\u001b[0;34m[\u001b[0m\u001b[0;34m'timestamp'\u001b[0m\u001b[0;34m]\u001b[0m \u001b[0;34m=\u001b[0m \u001b[0mdatetime_now\u001b[0m\u001b[0;34m.\u001b[0m\u001b[0mstrftime\u001b[0m\u001b[0;34m(\u001b[0m\u001b[0mSIGV4_TIMESTAMP\u001b[0m\u001b[0;34m)\u001b[0m\u001b[0;34m\u001b[0m\u001b[0;34m\u001b[0m\u001b[0m\n",
            "\u001b[0;31mNoCredentialsError\u001b[0m: Unable to locate credentials"
          ]
        }
      ]
    },
    {
      "cell_type": "code",
      "metadata": {
        "id": "tZE3FO8mZ_vE",
        "colab_type": "code",
        "colab": {}
      },
      "source": [
        "## saving model"
      ],
      "execution_count": 0,
      "outputs": []
    },
    {
      "cell_type": "code",
      "metadata": {
        "id": "wvEJFi-UaECn",
        "colab_type": "code",
        "colab": {
          "base_uri": "https://localhost:8080/",
          "height": 438
        },
        "outputId": "468ff96d-000b-4548-c51a-75d6d7abb6d6"
      },
      "source": [
        "# Importing dataset\n",
        "from pycaret.datasets import get_data\n",
        "diabetes = get_data('diabetes')\n",
        "# Importing module and initializing setup\n",
        "from pycaret.classification import *\n",
        "clf1 = setup(data = diabetes, target = 'Class variable')\n",
        "# create a model\n",
        "dt = create_model('dt')\n",
        "# save a model\n",
        "save_model(dt, 'dt_saved_07032020')"
      ],
      "execution_count": 75,
      "outputs": [
        {
          "output_type": "display_data",
          "data": {
            "text/html": [
              "<div>\n",
              "<style scoped>\n",
              "    .dataframe tbody tr th:only-of-type {\n",
              "        vertical-align: middle;\n",
              "    }\n",
              "\n",
              "    .dataframe tbody tr th {\n",
              "        vertical-align: top;\n",
              "    }\n",
              "\n",
              "    .dataframe thead th {\n",
              "        text-align: right;\n",
              "    }\n",
              "</style>\n",
              "<table border=\"1\" class=\"dataframe\">\n",
              "  <thead>\n",
              "    <tr style=\"text-align: right;\">\n",
              "      <th></th>\n",
              "      <th>Accuracy</th>\n",
              "      <th>AUC</th>\n",
              "      <th>Recall</th>\n",
              "      <th>Prec.</th>\n",
              "      <th>F1</th>\n",
              "      <th>Kappa</th>\n",
              "    </tr>\n",
              "  </thead>\n",
              "  <tbody>\n",
              "    <tr>\n",
              "      <th>0</th>\n",
              "      <td>0.7593</td>\n",
              "      <td>0.6940</td>\n",
              "      <td>0.4737</td>\n",
              "      <td>0.7500</td>\n",
              "      <td>0.5806</td>\n",
              "      <td>0.4236</td>\n",
              "    </tr>\n",
              "    <tr>\n",
              "      <th>1</th>\n",
              "      <td>0.5741</td>\n",
              "      <td>0.5511</td>\n",
              "      <td>0.4737</td>\n",
              "      <td>0.4091</td>\n",
              "      <td>0.4390</td>\n",
              "      <td>0.0987</td>\n",
              "    </tr>\n",
              "    <tr>\n",
              "      <th>2</th>\n",
              "      <td>0.5926</td>\n",
              "      <td>0.5774</td>\n",
              "      <td>0.5263</td>\n",
              "      <td>0.4348</td>\n",
              "      <td>0.4762</td>\n",
              "      <td>0.1478</td>\n",
              "    </tr>\n",
              "    <tr>\n",
              "      <th>3</th>\n",
              "      <td>0.6111</td>\n",
              "      <td>0.5797</td>\n",
              "      <td>0.4737</td>\n",
              "      <td>0.4500</td>\n",
              "      <td>0.4615</td>\n",
              "      <td>0.1575</td>\n",
              "    </tr>\n",
              "    <tr>\n",
              "      <th>4</th>\n",
              "      <td>0.6296</td>\n",
              "      <td>0.5820</td>\n",
              "      <td>0.4211</td>\n",
              "      <td>0.4706</td>\n",
              "      <td>0.4444</td>\n",
              "      <td>0.1680</td>\n",
              "    </tr>\n",
              "    <tr>\n",
              "      <th>5</th>\n",
              "      <td>0.6296</td>\n",
              "      <td>0.5820</td>\n",
              "      <td>0.4211</td>\n",
              "      <td>0.4706</td>\n",
              "      <td>0.4444</td>\n",
              "      <td>0.1680</td>\n",
              "    </tr>\n",
              "    <tr>\n",
              "      <th>6</th>\n",
              "      <td>0.6852</td>\n",
              "      <td>0.6729</td>\n",
              "      <td>0.6316</td>\n",
              "      <td>0.5455</td>\n",
              "      <td>0.5854</td>\n",
              "      <td>0.3338</td>\n",
              "    </tr>\n",
              "    <tr>\n",
              "      <th>7</th>\n",
              "      <td>0.8113</td>\n",
              "      <td>0.7762</td>\n",
              "      <td>0.6667</td>\n",
              "      <td>0.7500</td>\n",
              "      <td>0.7059</td>\n",
              "      <td>0.5677</td>\n",
              "    </tr>\n",
              "    <tr>\n",
              "      <th>8</th>\n",
              "      <td>0.6415</td>\n",
              "      <td>0.6476</td>\n",
              "      <td>0.6667</td>\n",
              "      <td>0.4800</td>\n",
              "      <td>0.5581</td>\n",
              "      <td>0.2698</td>\n",
              "    </tr>\n",
              "    <tr>\n",
              "      <th>9</th>\n",
              "      <td>0.7170</td>\n",
              "      <td>0.6778</td>\n",
              "      <td>0.5556</td>\n",
              "      <td>0.5882</td>\n",
              "      <td>0.5714</td>\n",
              "      <td>0.3604</td>\n",
              "    </tr>\n",
              "    <tr>\n",
              "      <th>Mean</th>\n",
              "      <td>0.6651</td>\n",
              "      <td>0.6341</td>\n",
              "      <td>0.5310</td>\n",
              "      <td>0.5349</td>\n",
              "      <td>0.5267</td>\n",
              "      <td>0.2695</td>\n",
              "    </tr>\n",
              "    <tr>\n",
              "      <th>SD</th>\n",
              "      <td>0.0727</td>\n",
              "      <td>0.0677</td>\n",
              "      <td>0.0903</td>\n",
              "      <td>0.1183</td>\n",
              "      <td>0.0833</td>\n",
              "      <td>0.1422</td>\n",
              "    </tr>\n",
              "  </tbody>\n",
              "</table>\n",
              "</div>"
            ],
            "text/plain": [
              "      Accuracy     AUC  Recall   Prec.      F1   Kappa\n",
              "0       0.7593  0.6940  0.4737  0.7500  0.5806  0.4236\n",
              "1       0.5741  0.5511  0.4737  0.4091  0.4390  0.0987\n",
              "2       0.5926  0.5774  0.5263  0.4348  0.4762  0.1478\n",
              "3       0.6111  0.5797  0.4737  0.4500  0.4615  0.1575\n",
              "4       0.6296  0.5820  0.4211  0.4706  0.4444  0.1680\n",
              "5       0.6296  0.5820  0.4211  0.4706  0.4444  0.1680\n",
              "6       0.6852  0.6729  0.6316  0.5455  0.5854  0.3338\n",
              "7       0.8113  0.7762  0.6667  0.7500  0.7059  0.5677\n",
              "8       0.6415  0.6476  0.6667  0.4800  0.5581  0.2698\n",
              "9       0.7170  0.6778  0.5556  0.5882  0.5714  0.3604\n",
              "Mean    0.6651  0.6341  0.5310  0.5349  0.5267  0.2695\n",
              "SD      0.0727  0.0677  0.0903  0.1183  0.0833  0.1422"
            ]
          },
          "metadata": {
            "tags": []
          }
        },
        {
          "output_type": "stream",
          "text": [
            "Transformation Pipeline and Model Succesfully Saved\n"
          ],
          "name": "stdout"
        }
      ]
    },
    {
      "cell_type": "code",
      "metadata": {
        "id": "RmpwgOddaGUO",
        "colab_type": "code",
        "colab": {}
      },
      "source": [
        "## loading saved data"
      ],
      "execution_count": 0,
      "outputs": []
    },
    {
      "cell_type": "code",
      "metadata": {
        "id": "hGp874m4aKgJ",
        "colab_type": "code",
        "colab": {
          "base_uri": "https://localhost:8080/",
          "height": 34
        },
        "outputId": "e2742bcd-5f82-4eef-9787-df6ec125907e"
      },
      "source": [
        "dt_saved = load_model('dt_saved_07032020')\n"
      ],
      "execution_count": 77,
      "outputs": [
        {
          "output_type": "stream",
          "text": [
            "Transformation Pipeline and Model Sucessfully Loaded\n"
          ],
          "name": "stdout"
        }
      ]
    },
    {
      "cell_type": "code",
      "metadata": {
        "id": "IC0XYqZ3aMId",
        "colab_type": "code",
        "colab": {}
      },
      "source": [
        "## saving experiment"
      ],
      "execution_count": 0,
      "outputs": []
    },
    {
      "cell_type": "code",
      "metadata": {
        "id": "7zvcJUtWaRix",
        "colab_type": "code",
        "colab": {
          "base_uri": "https://localhost:8080/",
          "height": 438
        },
        "outputId": "379998f6-d228-4a71-d604-585e6499d069"
      },
      "source": [
        "from pycaret.datasets import get_data\n",
        "boston = get_data('boston')\n",
        "# Importing module and initializing setup\n",
        "from pycaret.regression import *\n",
        "reg1 = setup(data = boston, target = 'medv')\n",
        "# compare models\n",
        "compare_models()\n",
        "# create a model\n",
        "xgboost = create_model('xgboost')\n",
        "# blend models\n",
        "blend_models()\n",
        "#saving an experiment\n",
        "save_experiment('experiment_07032020')"
      ],
      "execution_count": 79,
      "outputs": [
        {
          "output_type": "display_data",
          "data": {
            "text/html": [
              "<div>\n",
              "<style scoped>\n",
              "    .dataframe tbody tr th:only-of-type {\n",
              "        vertical-align: middle;\n",
              "    }\n",
              "\n",
              "    .dataframe tbody tr th {\n",
              "        vertical-align: top;\n",
              "    }\n",
              "\n",
              "    .dataframe thead th {\n",
              "        text-align: right;\n",
              "    }\n",
              "</style>\n",
              "<table border=\"1\" class=\"dataframe\">\n",
              "  <thead>\n",
              "    <tr style=\"text-align: right;\">\n",
              "      <th></th>\n",
              "      <th>MAE</th>\n",
              "      <th>MSE</th>\n",
              "      <th>RMSE</th>\n",
              "      <th>R2</th>\n",
              "      <th>RMSLE</th>\n",
              "      <th>MAPE</th>\n",
              "    </tr>\n",
              "  </thead>\n",
              "  <tbody>\n",
              "    <tr>\n",
              "      <th>0</th>\n",
              "      <td>2.8051</td>\n",
              "      <td>15.3725</td>\n",
              "      <td>3.9208</td>\n",
              "      <td>0.7703</td>\n",
              "      <td>0.2212</td>\n",
              "      <td>0.1976</td>\n",
              "    </tr>\n",
              "    <tr>\n",
              "      <th>1</th>\n",
              "      <td>2.9257</td>\n",
              "      <td>15.6296</td>\n",
              "      <td>3.9534</td>\n",
              "      <td>0.7426</td>\n",
              "      <td>0.2435</td>\n",
              "      <td>0.1510</td>\n",
              "    </tr>\n",
              "    <tr>\n",
              "      <th>2</th>\n",
              "      <td>1.9144</td>\n",
              "      <td>8.5122</td>\n",
              "      <td>2.9176</td>\n",
              "      <td>0.8331</td>\n",
              "      <td>0.1029</td>\n",
              "      <td>0.0770</td>\n",
              "    </tr>\n",
              "    <tr>\n",
              "      <th>3</th>\n",
              "      <td>2.8188</td>\n",
              "      <td>15.7578</td>\n",
              "      <td>3.9696</td>\n",
              "      <td>0.8137</td>\n",
              "      <td>0.1461</td>\n",
              "      <td>0.1259</td>\n",
              "    </tr>\n",
              "    <tr>\n",
              "      <th>4</th>\n",
              "      <td>4.0288</td>\n",
              "      <td>56.7559</td>\n",
              "      <td>7.5337</td>\n",
              "      <td>0.4719</td>\n",
              "      <td>0.2722</td>\n",
              "      <td>0.1663</td>\n",
              "    </tr>\n",
              "    <tr>\n",
              "      <th>5</th>\n",
              "      <td>2.7734</td>\n",
              "      <td>14.0639</td>\n",
              "      <td>3.7502</td>\n",
              "      <td>0.8158</td>\n",
              "      <td>0.1739</td>\n",
              "      <td>0.1563</td>\n",
              "    </tr>\n",
              "    <tr>\n",
              "      <th>6</th>\n",
              "      <td>2.9874</td>\n",
              "      <td>16.2265</td>\n",
              "      <td>4.0282</td>\n",
              "      <td>0.8407</td>\n",
              "      <td>0.1474</td>\n",
              "      <td>0.1317</td>\n",
              "    </tr>\n",
              "    <tr>\n",
              "      <th>7</th>\n",
              "      <td>3.0440</td>\n",
              "      <td>18.9757</td>\n",
              "      <td>4.3561</td>\n",
              "      <td>0.8121</td>\n",
              "      <td>0.1964</td>\n",
              "      <td>0.1612</td>\n",
              "    </tr>\n",
              "    <tr>\n",
              "      <th>8</th>\n",
              "      <td>2.4893</td>\n",
              "      <td>10.3755</td>\n",
              "      <td>3.2211</td>\n",
              "      <td>0.8674</td>\n",
              "      <td>0.1544</td>\n",
              "      <td>0.1284</td>\n",
              "    </tr>\n",
              "    <tr>\n",
              "      <th>9</th>\n",
              "      <td>2.4448</td>\n",
              "      <td>13.2322</td>\n",
              "      <td>3.6376</td>\n",
              "      <td>0.8346</td>\n",
              "      <td>0.1471</td>\n",
              "      <td>0.0958</td>\n",
              "    </tr>\n",
              "    <tr>\n",
              "      <th>Mean</th>\n",
              "      <td>2.8232</td>\n",
              "      <td>18.4902</td>\n",
              "      <td>4.1288</td>\n",
              "      <td>0.7802</td>\n",
              "      <td>0.1805</td>\n",
              "      <td>0.1391</td>\n",
              "    </tr>\n",
              "    <tr>\n",
              "      <th>SD</th>\n",
              "      <td>0.5122</td>\n",
              "      <td>13.0677</td>\n",
              "      <td>1.2012</td>\n",
              "      <td>0.1081</td>\n",
              "      <td>0.0494</td>\n",
              "      <td>0.0334</td>\n",
              "    </tr>\n",
              "  </tbody>\n",
              "</table>\n",
              "</div>"
            ],
            "text/plain": [
              "         MAE      MSE    RMSE      R2   RMSLE    MAPE\n",
              "0     2.8051  15.3725  3.9208  0.7703  0.2212  0.1976\n",
              "1     2.9257  15.6296  3.9534  0.7426  0.2435  0.1510\n",
              "2     1.9144   8.5122  2.9176  0.8331  0.1029  0.0770\n",
              "3     2.8188  15.7578  3.9696  0.8137  0.1461  0.1259\n",
              "4     4.0288  56.7559  7.5337  0.4719  0.2722  0.1663\n",
              "5     2.7734  14.0639  3.7502  0.8158  0.1739  0.1563\n",
              "6     2.9874  16.2265  4.0282  0.8407  0.1474  0.1317\n",
              "7     3.0440  18.9757  4.3561  0.8121  0.1964  0.1612\n",
              "8     2.4893  10.3755  3.2211  0.8674  0.1544  0.1284\n",
              "9     2.4448  13.2322  3.6376  0.8346  0.1471  0.0958\n",
              "Mean  2.8232  18.4902  4.1288  0.7802  0.1805  0.1391\n",
              "SD    0.5122  13.0677  1.2012  0.1081  0.0494  0.0334"
            ]
          },
          "metadata": {
            "tags": []
          }
        },
        {
          "output_type": "stream",
          "text": [
            "Experiment Succesfully Saved\n"
          ],
          "name": "stdout"
        }
      ]
    },
    {
      "cell_type": "code",
      "metadata": {
        "id": "DIbQT6hzaS_T",
        "colab_type": "code",
        "colab": {}
      },
      "source": [
        "## loading saved experiment "
      ],
      "execution_count": 0,
      "outputs": []
    },
    {
      "cell_type": "code",
      "metadata": {
        "id": "YXeEeo8daWxk",
        "colab_type": "code",
        "colab": {}
      },
      "source": [
        "experiment_saved = load_experiment('experiment_07032020')"
      ],
      "execution_count": 0,
      "outputs": []
    }
  ]
}